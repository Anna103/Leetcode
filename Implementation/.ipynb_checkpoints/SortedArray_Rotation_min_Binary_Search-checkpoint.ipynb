{
 "cells": [
  {
   "cell_type": "code",
   "execution_count": null,
   "metadata": {},
   "outputs": [],
   "source": [
    "\"\"\"Suppose an array sorted in ascending order is rotated at some pivot unknown to you beforehand.\n",
    "\n",
    "(i.e.,  [0,1,2,4,5,6,7] might become  [4,5,6,7,0,1,2]).\n",
    "\n",
    "Find the minimum element.\n",
    "\n",
    "You may assume no duplicate exists in the array.\n",
    "\n",
    "Example 1:\n",
    "\n",
    "Input: [3,4,5,1,2] \n",
    "Output: 1\"\"\"\n",
    "\n",
    "# We make use of binary search to find the output\n",
    "# if the mid of the array is samller than the end, our min is in the first half i.e high = mid\n",
    "# else low = mid -1\n",
    "# return low"
   ]
  },
  {
   "cell_type": "code",
   "execution_count": 17,
   "metadata": {},
   "outputs": [],
   "source": [
    "class Solution:\n",
    "    def findMin(self, nums):\n",
    "        j\n",
    "        if(len(nums) == 1):\n",
    "            return nums[0]\n",
    "        elif(len(nums) == 0):\n",
    "            return None\n",
    "        else:\n",
    "            low = 0\n",
    "            high = len(nums)-1\n",
    "            while(low< high):\n",
    "                mid = (low +high)// 2           \n",
    "                if(nums[mid]< nums[high]):\n",
    "                    high = mid\n",
    "                else:\n",
    "                    low = mid+1\n",
    "            return nums[low]"
   ]
  },
  {
   "cell_type": "code",
   "execution_count": 18,
   "metadata": {},
   "outputs": [],
   "source": [
    "if __name__ == \"__main__\":\n",
    "    list_num = [3,4,5,1,2]\n",
    "    s = Solution()\n",
    "    print(s.findMin(nums))"
   ]
  }
 ],
 "metadata": {
  "kernelspec": {
   "display_name": "Python 3",
   "language": "python",
   "name": "python3"
  },
  "language_info": {
   "codemirror_mode": {
    "name": "ipython",
    "version": 3
   },
   "file_extension": ".py",
   "mimetype": "text/x-python",
   "name": "python",
   "nbconvert_exporter": "python",
   "pygments_lexer": "ipython3",
   "version": "3.6.8"
  }
 },
 "nbformat": 4,
 "nbformat_minor": 2
}

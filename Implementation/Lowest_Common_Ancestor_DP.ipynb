{
 "cells": [
  {
   "cell_type": "code",
   "execution_count": 1,
   "metadata": {},
   "outputs": [],
   "source": [
    "class Node:\n",
    "    \n",
    "    def __init__(self, val):\n",
    "        self.parent = None\n",
    "        self.val = val\n",
    "        "
   ]
  },
  {
   "cell_type": "code",
   "execution_count": 5,
   "metadata": {},
   "outputs": [],
   "source": [
    "class Solution:\n",
    "    def LCA(self, node1, node2):\n",
    "        ancestors_node1 = set()\n",
    "        ancestors_node2 = set()\n",
    "        if(node1.parent == None):\n",
    "            ancestors_node1.add(node1.val)\n",
    "        if(node2.parent == None):\n",
    "            ancestors_node2.add(node2.val)\n",
    "        while(node1.parent != None):\n",
    "            ancestors_node1.add(node1.parent.val)\n",
    "            node1 = node1.parent\n",
    "        while(node2.parent != None):\n",
    "            if(node2.parent.val in ancestors_node1):\n",
    "                return node2.parent.val\n",
    "            else:\n",
    "                ancestors_node2.add(node2.parent.val)\n",
    "                node2 = node2.parent\n",
    "        return -1"
   ]
  },
  {
   "cell_type": "code",
   "execution_count": null,
   "metadata": {},
   "outputs": [],
   "source": []
  },
  {
   "cell_type": "code",
   "execution_count": 8,
   "metadata": {},
   "outputs": [
    {
     "name": "stdout",
     "output_type": "stream",
     "text": [
      "1\n"
     ]
    }
   ],
   "source": [
    "if __name__ == \"__main__\":\n",
    "    root = Node(0)\n",
    "    node1 = Node(1)\n",
    "    node1.parent = root\n",
    "    node7 = Node(7)\n",
    "    node7.parent = root\n",
    "    node2 = Node(2)\n",
    "    node3 = Node(3)\n",
    "    node6 = Node(6)\n",
    "    node2.parent = node1\n",
    "    node3.parent = node1\n",
    "    node6.parent = node1\n",
    "    node8 = Node(8)\n",
    "    node9 = Node(9)\n",
    "    node8.parent = node7\n",
    "    node9.parent = node7\n",
    "    node4 = Node(4)\n",
    "    node5 = Node(5)\n",
    "    node4.parent = node3\n",
    "    node5.parent = node3\n",
    "    s = Solution()\n",
    "    print(s.LCA(node4, node6))\n",
    "    "
   ]
  }
 ],
 "metadata": {
  "kernelspec": {
   "display_name": "Python 3",
   "language": "python",
   "name": "python3"
  },
  "language_info": {
   "codemirror_mode": {
    "name": "ipython",
    "version": 3
   },
   "file_extension": ".py",
   "mimetype": "text/x-python",
   "name": "python",
   "nbconvert_exporter": "python",
   "pygments_lexer": "ipython3",
   "version": "3.6.8"
  }
 },
 "nbformat": 4,
 "nbformat_minor": 2
}

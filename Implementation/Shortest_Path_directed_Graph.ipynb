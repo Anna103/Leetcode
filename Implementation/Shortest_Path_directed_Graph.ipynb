{
 "cells": [
  {
   "cell_type": "code",
   "execution_count": null,
   "metadata": {},
   "outputs": [],
   "source": [
    "# Add current start node to the path\n",
    "# if start is not present in dictionary keys() i.e dead end; return None\n",
    "# for all nodes starting from start, check if it already there in path else start from begining \n",
    "# if path is present return path\n",
    "#return None otherwise"
   ]
  },
  {
   "cell_type": "code",
   "execution_count": 8,
   "metadata": {},
   "outputs": [],
   "source": [
    "# This is for directed graph\n",
    "# Complexity is O(n) where n is number of nodes\n",
    "class Solution:\n",
    "    \n",
    "    \n",
    "    #In this function we aim at only finding the path to the goal\n",
    "    #We are NOT trying to find shortest path\n",
    "    #It will return the first path it finds\n",
    "    def find_path(self, graph, start, end, path = []):\n",
    "        \n",
    "        # Add the node to our path\n",
    "        path = path + [start]\n",
    "        \n",
    "        #Check of out current node is the end goal\n",
    "        if start == end:\n",
    "            return path\n",
    "        \n",
    "        # We just check if the node is present in our graph disctionary\n",
    "        if not start in graph.keys():\n",
    "            return None\n",
    "        #For all the neighbours of our node\n",
    "        for node in graph[start]:\n",
    "            #If this node is not already visited\n",
    "            if node not in path:\n",
    "                #Find a path from current node to the goal\n",
    "                new_path = self.find_path(graph, node, end, path)\n",
    "                if new_path:\n",
    "                    return new_path\n",
    "        return None\n",
    "    \n",
    "    # In this function we aim to find all the paths that helps us to reach our destination\n",
    "    def find_all_path(self, graph, start, end, path = []):\n",
    "        \n",
    "        # Append the current node to the path which helps us to reach teh goal\n",
    "        path = path + [start]\n",
    "        \n",
    "        # Return the path list if we have reached the end goal\n",
    "        if start == end:\n",
    "            return [path]\n",
    "        # If current node is not giving any outward node\n",
    "        if start not in graph.keys():\n",
    "            return None\n",
    "        \n",
    "        # This list holds all the path which is from start and end\n",
    "        all_paths = []\n",
    "    \n",
    "        for node in graph[start]:\n",
    "            if node not in path:\n",
    "                new_paths = self.find_all_path(graph, node, end, path)\n",
    "                \n",
    "                # In the above step we get path to reach from start to end goal,\n",
    "                # This path is being appended to out path list\n",
    "                for new_path in new_paths:\n",
    "                    all_paths.append(new_path)\n",
    "        return all_paths\n",
    "    \n",
    "    \n",
    "    \n",
    "        # In this function we aim to find all the paths that helps us to reach our destination\n",
    "    def find_shortest_path(self, graph, start, end, path = []):\n",
    "        \n",
    "        # Append the current node to the path which helps us to reach teh goal\n",
    "        path = path + [start]\n",
    "        \n",
    "        # Return the path list if we have reached the end goal\n",
    "        if start == end:\n",
    "            return [path]\n",
    "        # If current node is not giving any outward node\n",
    "        if start not in graph.keys():\n",
    "            return None\n",
    "        \n",
    "        # This list holds all the path which is from start and end\n",
    "        shortest_path = []\n",
    "        \n",
    "        \n",
    "        for node in graph[start]:\n",
    "            if node not in path:\n",
    "                new_paths = self.find_all_path(graph, node, end, path)\n",
    "                \n",
    "                # In the above step we get path to reach from start to end goal,\n",
    "                # This path is being appended to out path list\n",
    "                if(shortest_path ==[] or  len(new_paths) < len(shortest_path)):\n",
    "                    shortest_path = new_paths\n",
    "        return shortest_path\n",
    "        "
   ]
  },
  {
   "cell_type": "code",
   "execution_count": 9,
   "metadata": {},
   "outputs": [
    {
     "name": "stdout",
     "output_type": "stream",
     "text": [
      "['A', 'B', 'C', 'D']\n",
      "[['A', 'B', 'C', 'D'], ['A', 'B', 'D'], ['A', 'C', 'D']]\n",
      "[['A', 'C', 'D']]\n"
     ]
    }
   ],
   "source": [
    "if __name__ == \"__main__\":\n",
    "    graph = {'A': ['B', 'C'],\n",
    "             'B': ['C', 'D'],\n",
    "             'C': ['D'],\n",
    "             'D': ['C'],\n",
    "             'E': ['F'],\n",
    "             'F': ['C']}\n",
    "    s = Solution()\n",
    "    \n",
    "    print(s.find_path(graph, 'A', 'D')) \n",
    "    print(s.find_all_path(graph, 'A', 'D'))\n",
    "    print(s.find_shortest_path(graph, 'A', 'D'))"
   ]
  },
  {
   "cell_type": "code",
   "execution_count": null,
   "metadata": {},
   "outputs": [],
   "source": []
  }
 ],
 "metadata": {
  "kernelspec": {
   "display_name": "Python 3",
   "language": "python",
   "name": "python3"
  },
  "language_info": {
   "codemirror_mode": {
    "name": "ipython",
    "version": 3
   },
   "file_extension": ".py",
   "mimetype": "text/x-python",
   "name": "python",
   "nbconvert_exporter": "python",
   "pygments_lexer": "ipython3",
   "version": "3.6.8"
  }
 },
 "nbformat": 4,
 "nbformat_minor": 2
}

{
 "cells": [
  {
   "cell_type": "code",
   "execution_count": 3,
   "metadata": {},
   "outputs": [],
   "source": [
    "# Insert into sorted link list\n",
    "\n",
    "#Display a link list\n",
    "#if head == None; then print Nothing\n",
    "#else temp = self.head while temp != None; print temp ; temp = temp.nextnode\n",
    "\n",
    "# insert in sorted link list\n",
    "# Algorithm\n",
    "# 1. Check if head is None, if yes Head is new node\n",
    "# 2. Check if new node is smaller than head, if yes then new pointer's next points to head and new head is new pointer\n",
    "# 3. Else create 2 pointer prev(None), curr(head)\n",
    "# 4. until curr is greater than new node run the loop, prev becomes curr curr becomes curr.next\n",
    "# 5. prev.next points to new node, new nodes' next points to curr\n",
    "\n",
    "\n",
    "\n",
    "#Create a node with data and next value pointer\n",
    "class Node:\n",
    "    def __init__(self, data = None):\n",
    "        self.data = data\n",
    "        self.next_node = None\n",
    "        "
   ]
  },
  {
   "cell_type": "code",
   "execution_count": 37,
   "metadata": {},
   "outputs": [],
   "source": [
    "#Holds functions for creating, displaying and inserting into a link list \n",
    "class LinkList:\n",
    "    #Constructor for linklist, initialse head of linklist to nothing\n",
    "    def __init__(self):\n",
    "        self.head = None\n",
    "    \n",
    "    def display_ll(self):\n",
    "        if(self.head == None):\n",
    "            print(\"Nothing to print\")\n",
    "        else:\n",
    "            temp = self.head\n",
    "            while(temp!=None):\n",
    "                print(temp.data)\n",
    "                temp = temp.next_node\n",
    "        \n",
    "    # Inserts nodes in sorted fashion\n",
    "    def insert_linklist(self, data):\n",
    "        \n",
    "        #If the link list doesnt contain any data, new node becomes the head\n",
    "        #If link list contains only one element, sort both and arrange the link list\n",
    "        \n",
    "        \n",
    "        new_data = Node(data)\n",
    "        #Non element in Link List\n",
    "        if(self.head == None):\n",
    "            self.head = new_data\n",
    "        elif(new_data.data < self.head.data):\n",
    "            curr = self.head\n",
    "            self.head = new_data\n",
    "            new_data.next_node = curr\n",
    "            \n",
    "        else:\n",
    "            prev, curr = None, self.head\n",
    "            while(curr!= None and new_data.data >= curr.data):\n",
    "                prev = curr\n",
    "                curr = curr.next_node\n",
    "            prev.next_node = new_data\n",
    "            new_data.next_node = curr\n",
    "            return self.head\n",
    "                \n",
    "                    \n",
    "\n",
    "        "
   ]
  },
  {
   "cell_type": "code",
   "execution_count": 39,
   "metadata": {},
   "outputs": [
    {
     "name": "stdout",
     "output_type": "stream",
     "text": [
      "0.5\n",
      "1\n",
      "1.5\n",
      "2\n",
      "3\n",
      "4\n",
      "5\n",
      "10\n"
     ]
    }
   ],
   "source": [
    "if __name__ == \"__main__\":\n",
    "    llist = LinkList()\n",
    "    llist.head = Node(1) \n",
    "    llist.insert_linklist(2)\n",
    "    llist.insert_linklist(1.5)\n",
    "    llist.insert_linklist(3)\n",
    "    llist.insert_linklist(5)\n",
    "    llist.insert_linklist(10)\n",
    "    llist.insert_linklist(4)\n",
    "    \n",
    "    llist.insert_linklist(0.5)\n",
    "    llist.display_ll()"
   ]
  },
  {
   "cell_type": "code",
   "execution_count": null,
   "metadata": {},
   "outputs": [],
   "source": []
  }
 ],
 "metadata": {
  "kernelspec": {
   "display_name": "Python 3",
   "language": "python",
   "name": "python3"
  },
  "language_info": {
   "codemirror_mode": {
    "name": "ipython",
    "version": 3
   },
   "file_extension": ".py",
   "mimetype": "text/x-python",
   "name": "python",
   "nbconvert_exporter": "python",
   "pygments_lexer": "ipython3",
   "version": "3.6.8"
  }
 },
 "nbformat": 4,
 "nbformat_minor": 2
}

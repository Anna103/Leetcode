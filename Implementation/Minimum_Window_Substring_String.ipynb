{
 "cells": [
  {
   "cell_type": "code",
   "execution_count": null,
   "metadata": {},
   "outputs": [],
   "source": [
    "\"\"\" Questions\n",
    "\n",
    "Given a string S and a string T, find the minimum window in S which will contain all the characters in \n",
    "T in complexity O(n).\n",
    "\n",
    "Example:\n",
    "\n",
    "Input: S = \"ADOBECODEBANC\", T = \"ABC\"\n",
    "Output: \"BANC\"\n",
    "Note:\n",
    "\n",
    "If there is no such window in S that covers all characters in T, return the empty string \"\".\n",
    "If there is such window, you are guaranteed that there will always be only one unique minimum window in S.\n",
    "\"\"\"\n",
    "\n",
    "\n",
    "# Algorithm\n",
    "# 1. Create a dictionary with all the letters in the target string(need)\n",
    "# 2. Get the length of the target string(missing)\n",
    "# 3. Initialise i, I, J as 0 (I, J --> start and end index of our answer)\n",
    "# 4. run the loop for all the letter(c) in our given string s, but start from number 1(i.e j = 1)\n",
    "    # 5. decrement the missing variable if that char is present in need dictionary(need[c] > 0)\n",
    "    # 6. decrement need[c] by 1\n",
    "        # 7. if missing is 0 i.e (We found our string)\n",
    "            # 8. Run loop until i < j and need[s[i]] <0\n",
    "                # 9.need[s[i]] += 1    i += 1\n",
    "            # If J is 0 or j - i <= J-I\n",
    "            # then swap I,J with i,j\n",
    "# return s[I:J]"
   ]
  },
  {
   "cell_type": "code",
   "execution_count": 6,
   "metadata": {},
   "outputs": [],
   "source": [
    "import collections\n",
    "class Solution:\n",
    "    def minWindow(self, s, t):\n",
    "        need, missing = collections.Counter(t), len(t)\n",
    "        i = I = J = 0\n",
    "        for j, c in enumerate(s, 1):\n",
    "            missing -= need[c] > 0\n",
    "            need[c] -= 1\n",
    "            if not missing:\n",
    "                while i < j and need[s[i]] < 0:\n",
    "                    need[s[i]] += 1\n",
    "                    i += 1\n",
    "                if not J or j - i <= J - I:\n",
    "                    I, J = i, j\n",
    "        return s[I:J]"
   ]
  },
  {
   "cell_type": "code",
   "execution_count": 7,
   "metadata": {},
   "outputs": [
    {
     "name": "stdout",
     "output_type": "stream",
     "text": [
      "BANC\n"
     ]
    }
   ],
   "source": [
    "if __name__ == \"__main__\":\n",
    "    S = \"ADOBECODEBANC\"\n",
    "    T = \"ABC\"\n",
    "    s = Solution()\n",
    "    print(s.minWindow(S, T))"
   ]
  }
 ],
 "metadata": {
  "kernelspec": {
   "display_name": "Python 3",
   "language": "python",
   "name": "python3"
  },
  "language_info": {
   "codemirror_mode": {
    "name": "ipython",
    "version": 3
   },
   "file_extension": ".py",
   "mimetype": "text/x-python",
   "name": "python",
   "nbconvert_exporter": "python",
   "pygments_lexer": "ipython3",
   "version": "3.6.8"
  }
 },
 "nbformat": 4,
 "nbformat_minor": 2
}

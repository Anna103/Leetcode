{
 "cells": [
  {
   "cell_type": "code",
   "execution_count": null,
   "metadata": {},
   "outputs": [],
   "source": [
    "\"\"\"Given a non-negative integer num represented as a string, remove k digits from the number \n",
    "so that the new number is the smallest possible.\n",
    "\n",
    "Note:\n",
    "The length of num is less than 10002 and will be ≥ k.\n",
    "The given num does not contain any leading zero.\n",
    "Example 1:\n",
    "\n",
    "Input: num = \"1432219\", k = 3\n",
    "Output: \"1219\"\n",
    "Explanation: Remove the three digits 4, 3, and 2 to form the new number 1219 which is the smallest.\"\"\"\n",
    "\n",
    "\n",
    "# Algorithm\n",
    "# 1. create a numberstack\n",
    "# 2. take leftmost digit from number\n",
    "# 3. while k is greater than 0 and you have any number in numberstack , check if top most number in numberstack\n",
    "#    is greater than digit\n",
    "#       if yes pop that number and reduce k by 1\n",
    "# 3. add that digit to numberstack\n",
    "# 4. return the stack a joined string leaving k elements from last"
   ]
  },
  {
   "cell_type": "code",
   "execution_count": null,
   "metadata": {},
   "outputs": [],
   "source": [
    "class Solution:\n",
    "    def removeKdigits(self, num: str, k: int) -> str:\n",
    "        numstack = []\n",
    "        for digit in num:\n",
    "            while k and numstack and numstack[-1] > digit:\n",
    "                numstack.pop()\n",
    "                k -= 1\n",
    "            numstack.append(digit)\n",
    "        fstack = numstack[:-k] if k else numstack\n",
    "        return \"\".join(fstack).lstrip(\"0\") or \"0\""
   ]
  }
 ],
 "metadata": {
  "kernelspec": {
   "display_name": "Python 3",
   "language": "python",
   "name": "python3"
  },
  "language_info": {
   "codemirror_mode": {
    "name": "ipython",
    "version": 3
   },
   "file_extension": ".py",
   "mimetype": "text/x-python",
   "name": "python",
   "nbconvert_exporter": "python",
   "pygments_lexer": "ipython3",
   "version": "3.6.8"
  }
 },
 "nbformat": 4,
 "nbformat_minor": 2
}

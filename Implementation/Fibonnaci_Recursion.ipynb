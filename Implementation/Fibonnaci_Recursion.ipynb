{
 "cells": [
  {
   "cell_type": "code",
   "execution_count": 11,
   "metadata": {},
   "outputs": [],
   "source": [
    "def fibo(n):\n",
    "    if(n == 1):\n",
    "        return 1\n",
    "    elif(n == 0):\n",
    "        return 0\n",
    "    else:\n",
    "        return fibo(n-1) + fibo(n-2)"
   ]
  },
  {
   "cell_type": "code",
   "execution_count": null,
   "metadata": {},
   "outputs": [],
   "source": [
    "# Using Memoization\n",
    "class Solution:\n",
    "    def __init__(self):\n",
    "        self.fibDict = dict()\n",
    "        self.fibDict[0] = 0\n",
    "        self.fibDict[1] = 1\n",
    "        \n",
    "    def fib(self, N: int) -> int:\n",
    "        \n",
    "        if(N in self.fibDict.keys()):\n",
    "            return self.fibDict[N]\n",
    "        else:\n",
    "            self.fibDict[N] = self.fib(N-1) + self.fib(N-2)\n",
    "            return self.fibDict[N]"
   ]
  },
  {
   "cell_type": "code",
   "execution_count": 20,
   "metadata": {},
   "outputs": [
    {
     "name": "stdout",
     "output_type": "stream",
     "text": [
      "55\n"
     ]
    }
   ],
   "source": [
    "n = 5\n",
    "x = (fibo())\n",
    "print(x)"
   ]
  }
 ],
 "metadata": {
  "kernelspec": {
   "display_name": "Python 3",
   "language": "python",
   "name": "python3"
  },
  "language_info": {
   "codemirror_mode": {
    "name": "ipython",
    "version": 3
   },
   "file_extension": ".py",
   "mimetype": "text/x-python",
   "name": "python",
   "nbconvert_exporter": "python",
   "pygments_lexer": "ipython3",
   "version": "3.6.8"
  }
 },
 "nbformat": 4,
 "nbformat_minor": 2
}

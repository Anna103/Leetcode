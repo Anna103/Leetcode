{
 "cells": [
  {
   "cell_type": "code",
   "execution_count": null,
   "metadata": {},
   "outputs": [],
   "source": []
  },
  {
   "cell_type": "code",
   "execution_count": null,
   "metadata": {},
   "outputs": [],
   "source": [
    "class Shortest_Path_Finder:\n",
    "    def init(self, V):\n",
    "        self.V = V\n",
    "        self.graph = [[0 for row in range(V)] for col in range(V)]\n",
    "    \n",
    "    def print_sol(self, distance_list):\n",
    "        for node in range(len(distance_list)):\n",
    "            print(\"Distance from source is\",distance[node])\n",
    "    \n",
    "    \n",
    "    \n",
    "    \n",
    "    def min_distance(self, distance_list, visited):\n",
    "        min_val = float('inf')\n",
    "        for v in range(self.V):\n",
    "            if visited[v] == False and distance[v]<min_val:\n",
    "                min_val = distance[v]\n",
    "                min_index = v\n",
    "        return min_index\n",
    "    \n",
    "    def dijikshtra(self, src):\n",
    "        distance_list = [float('inf') for i in range(self.V)]\n",
    "        distance_list[src] = 0\n",
    "        visited = [False for i in range(self.V)]\n",
    "        for node in self.V:\n",
    "            u = self.min_distance(distance_list, visited)\n",
    "            visited[u] = True\n",
    "            \n",
    "            for v in range(self.V):\n",
    "                if self.graph[u][v] > 0 and visited[v] == False and distance[v] > self.graph[u][v]+ distance_list[u]:\n",
    "                    distance[v] > self.graph[u][v]+ distance_list[u]"
   ]
  }
 ],
 "metadata": {
  "kernelspec": {
   "display_name": "Python 3",
   "language": "python",
   "name": "python3"
  },
  "language_info": {
   "codemirror_mode": {
    "name": "ipython",
    "version": 3
   },
   "file_extension": ".py",
   "mimetype": "text/x-python",
   "name": "python",
   "nbconvert_exporter": "python",
   "pygments_lexer": "ipython3",
   "version": "3.6.8"
  }
 },
 "nbformat": 4,
 "nbformat_minor": 2
}

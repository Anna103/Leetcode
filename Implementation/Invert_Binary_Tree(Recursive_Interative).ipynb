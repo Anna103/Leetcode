{
 "cells": [
  {
   "cell_type": "code",
   "execution_count": null,
   "metadata": {},
   "outputs": [],
   "source": [
    "\"\"\"Invert a binary tree.\n",
    "\n",
    "Example:\n",
    "\n",
    "Input:\n",
    "\n",
    "     4\n",
    "   /   \\\n",
    "  2     7\n",
    " / \\   / \\\n",
    "1   3 6   9\n",
    "Output:\n",
    "\n",
    "     4\n",
    "   /   \\\n",
    "  7     2\n",
    " / \\   / \\\n",
    "9   6 3   1\"\"\"\n",
    "# Algorithm\n",
    "\n",
    "# Our catch is to make left as right node and right as left node\n",
    "\n",
    "# Iterative Approach\n",
    "\n",
    "# 1. make a stack with root in it\n",
    "# 2. Run the loop while stack is empty\n",
    "    # 3. Pop the first element from the stack, check if it is empty\n",
    "        # 4. If not out.left, out.right = out.right, out.left\n",
    "        # 5. stack.append(left and right of the out)\n",
    "# 6. Return the root\n",
    "\n",
    "# Recursive approach\n",
    "# 1. if root is not null\n",
    "# 2. root.left, root.right = invertree(root.right), invertree(root.right)\n",
    "# return root\n"
   ]
  },
  {
   "cell_type": "code",
   "execution_count": 1,
   "metadata": {},
   "outputs": [],
   "source": [
    "class Solution:\n",
    "    def invertTree(self, root):\n",
    "        if root:\n",
    "            root.left, root.right = self.invertTree(root.right), self.invertTree(root.left)\n",
    "            return root"
   ]
  },
  {
   "cell_type": "code",
   "execution_count": 2,
   "metadata": {},
   "outputs": [
    {
     "ename": "IndentationError",
     "evalue": "unexpected indent (<ipython-input-2-9952aef9bd77>, line 3)",
     "output_type": "error",
     "traceback": [
      "\u001b[0;36m  File \u001b[0;32m\"<ipython-input-2-9952aef9bd77>\"\u001b[0;36m, line \u001b[0;32m3\u001b[0m\n\u001b[0;31m    while(stack):\u001b[0m\n\u001b[0m    ^\u001b[0m\n\u001b[0;31mIndentationError\u001b[0m\u001b[0;31m:\u001b[0m unexpected indent\n"
     ]
    }
   ],
   "source": [
    "class Solution1:\n",
    "    stack = [root]\n",
    "    while(stack):\n",
    "        out = stack.pop(0)\n",
    "        if out:\n",
    "            out.left, out.right = out.right, out.left\n",
    "            stack += out.left, out.right\n",
    "    return root\n",
    "            "
   ]
  }
 ],
 "metadata": {
  "kernelspec": {
   "display_name": "Python 3",
   "language": "python",
   "name": "python3"
  },
  "language_info": {
   "codemirror_mode": {
    "name": "ipython",
    "version": 3
   },
   "file_extension": ".py",
   "mimetype": "text/x-python",
   "name": "python",
   "nbconvert_exporter": "python",
   "pygments_lexer": "ipython3",
   "version": "3.6.8"
  }
 },
 "nbformat": 4,
 "nbformat_minor": 2
}

{
 "cells": [
  {
   "cell_type": "code",
   "execution_count": null,
   "metadata": {},
   "outputs": [],
   "source": [
    "# check if given point is equal to end;; if yes return true\n",
    "# else change position to -1\n",
    "# make list of valid moves\n",
    "# run for looop across this valid moves\n",
    "    # Create a functione to check if the given move is valid or not \n",
    "            #(is i,j within boundary and is that position having a path)\n",
    "    # if it is safe then change the position to -1\n",
    "        # run recursively this\n",
    "            # return true\n",
    "        # else change to old value (i. e 1)\n",
    "# return false (coz u dint find the path)"
   ]
  },
  {
   "cell_type": "code",
   "execution_count": 30,
   "metadata": {},
   "outputs": [],
   "source": [
    "\n",
    "class PointCoordinates(object):\n",
    "    x,y = 0,0\n",
    "    def __init__(self, x, y):\n",
    "        self.x = x\n",
    "        self.y = y\n",
    "    \n",
    "\n",
    "class Solution:\n",
    "    def isSafe(self, new_start_coordinate, maze):\n",
    "        i = new_start_coordinate.x\n",
    "        j = new_start_coordinate.y\n",
    "        return ( (i>=0 and i < len(maze)) and (j>=0 and j < len(maze[i])) and (maze[i][j] == 1) )\n",
    "    \n",
    "    def backtracking(self, start_coordinates, end_coordinates, maze):\n",
    "        start_x = start_coordinates.x\n",
    "        start_y = start_coordinates.y \n",
    "        end_x = end_coordinates.x\n",
    "        end_y = end_coordinates.y\n",
    "        \n",
    "        valid_x = [1, 0]\n",
    "        valid_y = [0, 1]\n",
    "        if(start_x == end_x and start_y == end_y):\n",
    "            return True\n",
    "        for k in range(len(valid_x)):\n",
    "            new_start_coordinate = PointCoordinates(start_x+valid_x[k], start_y+valid_y[k])\n",
    "            if(self.isSafe(new_start_coordinate, maze)):\n",
    "                maze[new_start_coordinate.x][new_start_coordinate.y] = -1\n",
    "                if(self.backtracking(new_start_coordinate, end_coordinates,maze)):\n",
    "                    return True\n",
    "                maze[start_x+valid_x[k]][start_y+valid_y[k]] = 1\n",
    "        return False\n",
    "    "
   ]
  },
  {
   "cell_type": "code",
   "execution_count": 31,
   "metadata": {},
   "outputs": [
    {
     "name": "stdout",
     "output_type": "stream",
     "text": [
      "[[-1, 0, 0, 0], [-1, -1, 0, 1], [0, -1, 0, 0], [1, -1, -1, -1]]\n"
     ]
    }
   ],
   "source": [
    "if __name__ == \"__main__\":\n",
    "    s = Solution()\n",
    "    maze = [ [1, 0, 0, 0], \n",
    "             [1, 1, 0, 1], \n",
    "             [0, 1, 0, 0], \n",
    "             [1, 1, 1, 1] ] \n",
    "    maze[0][0] = -1\n",
    "    start_coordinates = PointCoordinates(0,0)\n",
    "    end_coordinates = PointCoordinates(3,3)\n",
    "\n",
    "    if(s.backtracking(start_coordinates, end_coordinates,maze)):\n",
    "        print(maze)\n",
    "    else:\n",
    "        print(\"Solution does not exist\")"
   ]
  },
  {
   "cell_type": "code",
   "execution_count": null,
   "metadata": {},
   "outputs": [],
   "source": []
  }
 ],
 "metadata": {
  "kernelspec": {
   "display_name": "Python 3",
   "language": "python",
   "name": "python3"
  },
  "language_info": {
   "codemirror_mode": {
    "name": "ipython",
    "version": 3
   },
   "file_extension": ".py",
   "mimetype": "text/x-python",
   "name": "python",
   "nbconvert_exporter": "python",
   "pygments_lexer": "ipython3",
   "version": "3.6.8"
  }
 },
 "nbformat": 4,
 "nbformat_minor": 2
}

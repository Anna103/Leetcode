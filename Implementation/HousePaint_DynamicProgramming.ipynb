{
 "cells": [
  {
   "cell_type": "code",
   "execution_count": null,
   "metadata": {},
   "outputs": [],
   "source": [
    "\"\"\"Question \n",
    "There are a row of n houses, each house can be painted with one of the three colors: red, blue or green. The cost of painting each house with a certain color is different. You have to paint all the houses such that no two adjacent houses have the same color.\n",
    "\n",
    "The cost of painting each house with a certain color is represented by a n x 3 cost matrix. For example, costs[0][0] is the cost of painting house 0 with color red; costs[1][2] is the cost of painting house 1 with color green, and so on... Find the minimum cost to paint all houses.\n",
    "\n",
    "Note:\n",
    "All costs are positive integers.\n",
    "\n",
    "Example:\n",
    "\n",
    "Input: [[17,2,17],[16,16,5],[14,3,19]]\n",
    "Output: 10\n",
    "Explanation: Paint house 0 into blue, paint house 1 into green, paint house 2 into blue. \"\"\"\n",
    "\n",
    "\n",
    "# Algorithm\n",
    "# 1. Start from the second house, calculate the minimum cost from previous house except for current color\n",
    "# 2. Do this until you reach the end.\n",
    "# In the end return the minimum of the last house."
   ]
  },
  {
   "cell_type": "code",
   "execution_count": 3,
   "metadata": {},
   "outputs": [],
   "source": [
    "class Solution:\n",
    "    def minCost(self, costs):\n",
    "        if(costs == []):\n",
    "            return 0\n",
    "        for i in range(1, len(costs)):\n",
    "            costs[i][0] += min(costs[i-1][1], costs[i-1][2])\n",
    "            costs[i][1] += min(costs[i-1][0], costs[i-1][2])\n",
    "            costs[i][2] += min(costs[i-1][0], costs[i-1][1])\n",
    "        return min(costs[len(costs) - 1])\n",
    "            "
   ]
  },
  {
   "cell_type": "code",
   "execution_count": 4,
   "metadata": {},
   "outputs": [
    {
     "name": "stdout",
     "output_type": "stream",
     "text": [
      "10\n"
     ]
    }
   ],
   "source": [
    "if __name__ == \"__main__\":\n",
    "    costs = [[17,2,17],[16,16,5],[14,3,19]]\n",
    "    s = Solution()\n",
    "    print(s.minCost(costs))"
   ]
  }
 ],
 "metadata": {
  "kernelspec": {
   "display_name": "Python 3",
   "language": "python",
   "name": "python3"
  },
  "language_info": {
   "codemirror_mode": {
    "name": "ipython",
    "version": 3
   },
   "file_extension": ".py",
   "mimetype": "text/x-python",
   "name": "python",
   "nbconvert_exporter": "python",
   "pygments_lexer": "ipython3",
   "version": "3.6.8"
  }
 },
 "nbformat": 4,
 "nbformat_minor": 2
}

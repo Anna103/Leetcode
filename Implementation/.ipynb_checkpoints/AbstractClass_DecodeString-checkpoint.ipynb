{
 "cells": [
  {
   "cell_type": "code",
   "execution_count": 35,
   "metadata": {},
   "outputs": [],
   "source": [
    "from abc import ABC, abstractmethod\n",
    "\n",
    "class Rule:\n",
    "    def string_decoder(self, encoded_string):\n",
    "        raise IllegalArgumentException(ValueError)"
   ]
  },
  {
   "cell_type": "code",
   "execution_count": 36,
   "metadata": {},
   "outputs": [],
   "source": [
    "class KDecodeString(Rule):\n",
    "    def string_decoder(self, encoded_string):\n",
    "        count_stack = []\n",
    "        char_stack = []\n",
    "        count = \"\"\n",
    "        char = \"\"\n",
    "        for each_char in encoded_string:\n",
    "            if each_char.isdigit():\n",
    "                count += each_char\n",
    "            elif each_char == \"[\":\n",
    "                count_stack.append(int(count))\n",
    "                char_stack.append(char)\n",
    "                count = \"\"\n",
    "                char = \"\"\n",
    "            elif each_char == \"]\":\n",
    "                char = char_stack.pop() + char * count_stack.pop()\n",
    "            else:\n",
    "                char += each_char\n",
    "        return char"
   ]
  },
  {
   "cell_type": "code",
   "execution_count": 37,
   "metadata": {},
   "outputs": [],
   "source": [
    "class KKDecodeString:\n",
    "    def string_decoder(self, encoded_string):\n",
    "        count_stack = []\n",
    "        char_stack = []\n",
    "        count = \"\"\n",
    "        char = \"\"\n",
    "        for each_char in encoded_string:\n",
    "            if each_char.isdigit():\n",
    "                count += each_char\n",
    "            elif each_char == \"[\":\n",
    "                count_stack.append(int(count) * int (count))\n",
    "                char_stack.append(char)\n",
    "                count = \"\"\n",
    "                char = \"\"\n",
    "            elif each_char == \"]\":\n",
    "                char = char_stack.pop() + char * count_stack.pop()\n",
    "            else:\n",
    "                char += each_char\n",
    "        return char"
   ]
  },
  {
   "cell_type": "code",
   "execution_count": 38,
   "metadata": {},
   "outputs": [],
   "source": [
    "class Decode:\n",
    "    def decoder(self, Rule, encoded_string):\n",
    "        return Rule.string_decoder(encoded_string)"
   ]
  },
  {
   "cell_type": "code",
   "execution_count": 40,
   "metadata": {},
   "outputs": [
    {
     "name": "stdout",
     "output_type": "stream",
     "text": [
      "aaaaaaaaabcbcbcbc\n"
     ]
    }
   ],
   "source": [
    "if __name__ == \"__main__\":\n",
    "    encoded_string = \"3[a]2[bc]\"\n",
    "    kdecodestring = KDecodeString()\n",
    "    kkdecodestring = KKDecodeString()\n",
    "    decode = Decode()\n",
    "    print(decode.decoder(kkdecodestring, encoded_string))"
   ]
  }
 ],
 "metadata": {
  "kernelspec": {
   "display_name": "Python 3",
   "language": "python",
   "name": "python3"
  },
  "language_info": {
   "codemirror_mode": {
    "name": "ipython",
    "version": 3
   },
   "file_extension": ".py",
   "mimetype": "text/x-python",
   "name": "python",
   "nbconvert_exporter": "python",
   "pygments_lexer": "ipython3",
   "version": "3.6.8"
  }
 },
 "nbformat": 4,
 "nbformat_minor": 2
}

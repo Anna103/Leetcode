{
 "cells": [
  {
   "cell_type": "code",
   "execution_count": null,
   "metadata": {},
   "outputs": [],
   "source": [
    "\"\"\"Given m arrays, and each array is sorted in ascending order. Now you can pick up two integers from two different arrays \n",
    "(each array picks one) and calculate the distance. \n",
    "We define the distance between two integers a and b to be their absolute difference |a-b|. \n",
    "Your task is to find the maximum distance.\n",
    "\n",
    "Example 1:\n",
    "Input: \n",
    "[[1,2,3],\n",
    " [4,5],\n",
    " [1,2,3]]\n",
    "Output: 4\n",
    "Explanation: \n",
    "One way to reach the maximum distance 4 is to pick 1 in the first or third array and pick 5 in the second array.\n",
    "Note:\n",
    "Each given array will have at least 1 number. There will be at least two non-empty arrays.\n",
    "The total number of the integers in all the m arrays will be in the range of [2, 10000].\n",
    "The integers in the m arrays will be in the range of [-10000, 10000].\"\"\""
   ]
  },
  {
   "cell_type": "markdown",
   "metadata": {},
   "source": [
    "Thought Process:\n",
    "\n",
    "    One way to solve it is taking first list take first lists first number and find difference with other lists.\n",
    "    Continue doing it until you reach end of the main list.\n",
    "    Return the max diff\n",
    "    \n",
    "    The above solution will take O(n^2) time.\n",
    "    \n",
    "    We need to bring down the time complexity.\n",
    "    \n",
    "    "
   ]
  }
 ],
 "metadata": {
  "kernelspec": {
   "display_name": "Python 3",
   "language": "python",
   "name": "python3"
  },
  "language_info": {
   "codemirror_mode": {
    "name": "ipython",
    "version": 3
   },
   "file_extension": ".py",
   "mimetype": "text/x-python",
   "name": "python",
   "nbconvert_exporter": "python",
   "pygments_lexer": "ipython3",
   "version": "3.6.8"
  }
 },
 "nbformat": 4,
 "nbformat_minor": 2
}

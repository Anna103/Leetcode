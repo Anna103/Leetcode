{
 "cells": [
  {
   "cell_type": "code",
   "execution_count": 59,
   "metadata": {},
   "outputs": [],
   "source": [
    "class Node:\n",
    "    def __init__(self, data ):\n",
    "        #Initialise the node for link list creation\n",
    "        self.data = data\n",
    "        self.nextnode = None"
   ]
  },
  {
   "cell_type": "code",
   "execution_count": 170,
   "metadata": {
    "collapsed": true
   },
   "outputs": [],
   "source": [
    "\n",
    "class LinkList:\n",
    "    def __init__(self):\n",
    "        #defining the head\n",
    "        self.head = None\n",
    "        \n",
    "    def printll(self):# kuruvm : print_ll(self)\n",
    "        #printing the link list elements\n",
    "        temp = self.head\n",
    "        while(temp!=None):\n",
    "            print(temp.data)\n",
    "            temp = temp.nextnode\n",
    "            \n",
    "    def insertAtBeg(self, newdata):# kuruvm : insert_at_beg(self, newdata)\n",
    "        newdataNode = Node(newdata)\n",
    "        newdataNode.nextnode = self.head\n",
    "        self.head=newdataNode\n",
    "        \n",
    "    def insertAtMid(self,newdata, position):# kuruvm : insert_at_mid(self, newdata, position)\n",
    "        newdataNode = Node(newdata)\n",
    "        if self.head == None:\n",
    "            self.head = newdataNode\n",
    "            return\n",
    "        print(\"Position\",position)\n",
    "        temp = self.head\n",
    "        i = 0 # kuruvm : better namings\n",
    "        while i < position - 2 and temp != None: # what is the significance of sub with 2? if that is the position u wanna c, then add it to a variable with better name suggesting it or add a comment here on why u are considering 2\n",
    "            temp = temp.nextnode\n",
    "            i += 1\n",
    "        newdataNode.nextnode = temp.nextnode\n",
    "        temp.nextnode = newdataNode\n",
    "            "
   ]
  },
  {
   "cell_type": "code",
   "execution_count": 178,
   "metadata": {},
   "outputs": [
    {
     "name": "stdout",
     "output_type": "stream",
     "text": [
      "Position 4\n",
      "1\n",
      "2\n",
      "3\n",
      "3.5\n",
      "4\n"
     ]
    }
   ],
   "source": [
    "if __name__=='__main__': \n",
    "    llist = LinkList()   \n",
    "    llist.head = Node(1) \n",
    "    second = Node(2) \n",
    "    third = Node(3)\n",
    "    four = Node(4)\n",
    "    llist.head.nextnode = second\n",
    "    second.nextnode = third\n",
    "    third.nextnode = four\n",
    "    llist.insertAtMid(3.5,4)\n",
    "    llist.printll()"
   ]
  },
  {
   "cell_type": "code",
   "execution_count": null,
   "metadata": {},
   "outputs": [],
   "source": []
  }
 ],
 "metadata": {
  "kernelspec": {
   "display_name": "Python 3",
   "language": "python",
   "name": "python3"
  },
  "language_info": {
   "codemirror_mode": {
    "name": "ipython",
    "version": 3
   },
   "file_extension": ".py",
   "mimetype": "text/x-python",
   "name": "python",
   "nbconvert_exporter": "python",
   "pygments_lexer": "ipython3",
   "version": "3.6.8"
  }
 },
 "nbformat": 4,
 "nbformat_minor": 2
}

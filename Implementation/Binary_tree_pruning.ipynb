{
 "cells": [
  {
   "cell_type": "markdown",
   "metadata": {},
   "source": [
    "Thought process, here we need to Go to the deppest node check if its left and right is None if yes check if that node is equal\n",
    "to 0 if yes return 0"
   ]
  },
  {
   "cell_type": "code",
   "execution_count": null,
   "metadata": {},
   "outputs": [],
   "source": [
    "\"\"\"We are given the head node root of a binary tree, where additionally every node's value is either a 0 or a 1.\n",
    "\n",
    "Return the same tree where every subtree (of the given tree) not containing a 1 has been removed.\n",
    "\n",
    "(Recall that the subtree of a node X is X, plus every node that is a descendant of X.)\n",
    "\n",
    "Example 1:\n",
    "Input: [1,null,0,0,1]\n",
    "Output: [1,null,0,null,1]\n",
    " \n",
    "Explanation: \n",
    "Only the red nodes satisfy the property \"every subtree not containing a 1\".\n",
    "\n",
    "\"\"\"\n",
    "\n",
    "\n",
    "# Algorithm\n",
    "# if the root is empty we return None\n",
    "# else we need to go deepest node recursively  both left and right\n",
    "    # if root value == 0 and left and right child is None\n",
    "    # we return None\n",
    "# return the root\n",
    "    "
   ]
  },
  {
   "cell_type": "code",
   "execution_count": 2,
   "metadata": {},
   "outputs": [],
   "source": [
    "class Node:\n",
    "    \n",
    "    def __init__(self, data):\n",
    "        self.data = data \n",
    "        self.left = None\n",
    "        self.right = None\n",
    "        "
   ]
  },
  {
   "cell_type": "code",
   "execution_count": 3,
   "metadata": {},
   "outputs": [],
   "source": [
    "def prune(root):\n",
    "    if root == None:\n",
    "        return None\n",
    "    root.left = prune(root.left)\n",
    "    root.right = prune(root.right)\n",
    "    if(root.data == 0 and root.left == None and root.right == None):\n",
    "        return None\n",
    "    return root\n",
    "\n",
    "\n",
    "def inorder(root):\n",
    "    if root:\n",
    "        if root.left: \n",
    "            inorder(root.left) \n",
    "        print(root.data) \n",
    "        if root.right:\n",
    "            inorder(root.right)"
   ]
  },
  {
   "cell_type": "code",
   "execution_count": 4,
   "metadata": {},
   "outputs": [
    {
     "name": "stdout",
     "output_type": "stream",
     "text": [
      "1\n",
      "1\n",
      "0\n",
      "1\n"
     ]
    }
   ],
   "source": [
    "if __name__ == '__main__':\n",
    "    root = Node(1)\n",
    "    root.left = Node(1)\n",
    "    root.right = Node(0)\n",
    "    root.right.left = Node(0)\n",
    "    root.right.right = Node(1)\n",
    "    x = prune(root)\n",
    "    inorder(x)"
   ]
  }
 ],
 "metadata": {
  "kernelspec": {
   "display_name": "Python 3",
   "language": "python",
   "name": "python3"
  },
  "language_info": {
   "codemirror_mode": {
    "name": "ipython",
    "version": 3
   },
   "file_extension": ".py",
   "mimetype": "text/x-python",
   "name": "python",
   "nbconvert_exporter": "python",
   "pygments_lexer": "ipython3",
   "version": "3.6.8"
  }
 },
 "nbformat": 4,
 "nbformat_minor": 2
}

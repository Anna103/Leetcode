{
 "cells": [
  {
   "cell_type": "code",
   "execution_count": 1,
   "metadata": {},
   "outputs": [],
   "source": [
    "#Program to check if 2 trees are mirrired image of each other\n",
    "#Check if Inorder traversal i.e. L Ro R is equal to Reverse inorder traversal\n",
    "#R Ro L\n",
    "class Tree:\n",
    "    def __init__(self, data):\n",
    "        self.left = None\n",
    "        self.data = data\n",
    "        self.right = None\n",
    "        \n",
    "    def inorder(self, inorder_list):\n",
    "        if(self.left):\n",
    "            self.left.inorder(inorder_list)\n",
    "        inorder_list.append(self.data)\n",
    "        if(self.right):\n",
    "            self.right.inorder(inorder_list)\n",
    "        return(inorder_list)\n",
    "\n",
    "    def revInorder(self,rev_inorder_list):\n",
    "        if(self.right):\n",
    "            self.right.revInorder(rev_inorder_list)\n",
    "        rev_inorder_list.append(self.data)\n",
    "        if(self.left):\n",
    "            self.left.revInorder(rev_inorder_list)\n",
    "        return (rev_inorder_list)"
   ]
  },
  {
   "cell_type": "code",
   "execution_count": 6,
   "metadata": {},
   "outputs": [
    {
     "name": "stdout",
     "output_type": "stream",
     "text": [
      "[4, 2, 5, 1, 3]\n",
      "[2, 1, 4, 3, 5]\n",
      "Not MIrror\n"
     ]
    }
   ],
   "source": [
    "if __name__ == \"__main__\":\n",
    "    root = Tree(1)\n",
    "    root.left = Tree(2)\n",
    "    root.right = Tree(3)\n",
    "    root.left.left = Tree(4)\n",
    "    root.left.right = Tree(5)\n",
    "    \n",
    "    mirrorRoot = Tree (1)\n",
    "    mirrorRoot.left = Tree(3)\n",
    "    mirrorRoot.right = Tree(2)\n",
    "    mirrorRoot.left.left = Tree(5)\n",
    "    mirrorRoot.left.right = Tree(4)\n",
    "    \n",
    "    inorderList = []\n",
    "    inorderList = root.inorder(inorderList)\n",
    "    print(inorderList)\n",
    "    \n",
    "    \n",
    "    revInorderList = []\n",
    "    revInorderList = mirrorRoot.revInorder(revInorderList)\n",
    "    print(revInorderList)\n",
    "    \n",
    "    if(inorderList == revInorderList):\n",
    "        print(\"Mirrored Tree\")\n",
    "    else:\n",
    "        print(\"Not Mirror\")"
   ]
  }
 ],
 "metadata": {
  "kernelspec": {
   "display_name": "Python 3",
   "language": "python",
   "name": "python3"
  },
  "language_info": {
   "codemirror_mode": {
    "name": "ipython",
    "version": 3
   },
   "file_extension": ".py",
   "mimetype": "text/x-python",
   "name": "python",
   "nbconvert_exporter": "python",
   "pygments_lexer": "ipython3",
   "version": "3.6.8"
  }
 },
 "nbformat": 4,
 "nbformat_minor": 2
}

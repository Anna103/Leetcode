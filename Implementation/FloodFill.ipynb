{
 "cells": [
  {
   "cell_type": "code",
   "execution_count": 5,
   "metadata": {},
   "outputs": [
    {
     "data": {
      "text/plain": [
       "'Example 1:\\nInput: \\nimage = [[1,1,1],[1,1,0],[1,0,1]]\\nsr = 1, sc = 1, newColor = 2\\nOutput: [[2,2,2],[2,2,0],[2,0,1]]\\nExplanation: \\nFrom the center of the image (with position (sr, sc) = (1, 1)), all pixels connected \\nby a path of the same color as the starting pixel are colored with the new color.\\nNote the bottom corner is not colored 2, because it is not 4-directionally connected\\nto the starting pixel.'"
      ]
     },
     "execution_count": 5,
     "metadata": {},
     "output_type": "execute_result"
    }
   ],
   "source": [
    "\"\"\"An image is represented by a 2-D array of integers, each integer representing the pixel value of the image (from 0 to 65535).\n",
    "\n",
    "Given a coordinate (sr, sc) representing the starting pixel (row and column) of the flood fill, and a pixel value newColor, \"flood fill\" the image.\n",
    "\n",
    "To perform a \"flood fill\", consider the starting pixel, plus any pixels connected 4-directionally to the starting pixel of the same color as the starting pixel, plus any pixels connected 4-directionally to those pixels (also with the same color as the starting pixel), and so on. Replace the color of all of the aforementioned pixels with the newColor.\n",
    "\n",
    "At the end, return the modified image.\"\"\"\n",
    "\n",
    "\n",
    "\"\"\"Example 1:\n",
    "Input: \n",
    "image = [[1,1,1],[1,1,0],[1,0,1]]\n",
    "sr = 1, sc = 1, newColor = 2\n",
    "Output: [[2,2,2],[2,2,0],[2,0,1]]\n",
    "Explanation: \n",
    "From the center of the image (with position (sr, sc) = (1, 1)), all pixels connected \n",
    "by a path of the same color as the starting pixel are colored with the new color.\n",
    "Note the bottom corner is not colored 2, because it is not 4-directionally connected\n",
    "to the starting pixel.\"\"\"\n",
    "\n",
    "\n",
    "\n",
    "\n",
    "#Algorithm\n",
    "#We need to change the color of our neighbouring pixels\n",
    "# For that we will use dfs\n",
    "\n",
    "\n",
    "# Make list of our neightbouring rows and columns\n",
    "# Check if the neighbouring rows and columns are valid, check if its a safe option \n",
    "    #i.e within boundary and the color in that pixel is same as the old one\n",
    "#if yes change its color to new one and then go deep repeating the above steps.\n",
    "# return the image\n",
    "\n",
    "# If old color is same as new color return the image as it is"
   ]
  },
  {
   "cell_type": "code",
   "execution_count": 6,
   "metadata": {},
   "outputs": [],
   "source": [
    "class Solution:\n",
    "    #check for boundary conditions and check if current pixels's color is same as d start one\n",
    "    def isSafe(self, i, j, image, ocolor):\n",
    "        return(0<=i<len(image) and\n",
    "              0<=j<len(image[i]) and\n",
    "              image[i][j] == ocolor)\n",
    "    \n",
    "    def dfs(self, i, j, image, ocolor, newcolor):\n",
    "        \n",
    "        valid_rows = [-1, 0, 0, 1 ]\n",
    "        valid_cols = [0, -1, 1, 0 ]\n",
    "        for k in range(len(valid_rows)):\n",
    "            if(self.isSafe(i+valid_rows[k],j+valid_cols[k], image, ocolor)):\n",
    "                image[i+valid_rows[k]][j+valid_cols[k]] = newcolor\n",
    "                self.dfs(i+valid_rows[k], j+valid_cols[k], image, ocolor, newcolor)\n",
    "        return image\n",
    "        \n",
    "    def floodFill(self, image, sr, sc, newColor):\n",
    "        ocolor = image[sr][sc]\n",
    "        if(ocolor == newColor):\n",
    "            return image\n",
    "        image[sr][sc] = newColor\n",
    "        return self.dfs(sr, sc, image, ocolor, newColor)"
   ]
  },
  {
   "cell_type": "code",
   "execution_count": 7,
   "metadata": {},
   "outputs": [
    {
     "name": "stdout",
     "output_type": "stream",
     "text": [
      "[[2, 2, 2], [2, 2, 0], [2, 0, 1]]\n"
     ]
    }
   ],
   "source": [
    "if __name__ == \"__main__\":\n",
    "    s = Solution()\n",
    "    image = [[1,1,1],[1,1,0],[1,0,1]]\n",
    "    sr = 1\n",
    "    sc = 1\n",
    "    newColor = 2\n",
    "    print(s.floodFill(image, sr, sc, newColor))"
   ]
  }
 ],
 "metadata": {
  "kernelspec": {
   "display_name": "Python 3",
   "language": "python",
   "name": "python3"
  },
  "language_info": {
   "codemirror_mode": {
    "name": "ipython",
    "version": 3
   },
   "file_extension": ".py",
   "mimetype": "text/x-python",
   "name": "python",
   "nbconvert_exporter": "python",
   "pygments_lexer": "ipython3",
   "version": "3.6.8"
  }
 },
 "nbformat": 4,
 "nbformat_minor": 2
}

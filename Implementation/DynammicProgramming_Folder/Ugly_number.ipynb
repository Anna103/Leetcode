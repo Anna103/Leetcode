{
 "cells": [
  {
   "cell_type": "code",
   "execution_count": 1,
   "metadata": {},
   "outputs": [
    {
     "data": {
      "text/plain": [
       "'Ugly numbers are numbers whose only prime factors are 2, 3 or 5. The sequence 1, 2, 3, 4, 5, 6, 8, 9, 10, 12, 15, … shows the first 11 ugly numbers. By convention, 1 is included.\\n\\nGiven a number n, the task is to find n’th Ugly number.\\n\\nInput  : n = 7\\nExplanation : 1, 2, 3, 4, 5, 6, 8\\nOutput : 8\\n\\nInput  : n = 10\\nExplanation : 1, 2, 3, 4, 5, 6, 8, 9, 10, 12\\nOutput : 12\\n\\nInput  : n = 15\\nOutput : 24\\n\\n'"
      ]
     },
     "execution_count": 1,
     "metadata": {},
     "output_type": "execute_result"
    }
   ],
   "source": [
    "\"\"\"Ugly numbers are numbers whose only prime factors are 2, 3 or 5. The sequence 1, 2, 3, 4, 5, 6, 8, 9, 10, 12, 15, … shows the first 11 ugly numbers. By convention, 1 is included.\n",
    "\n",
    "Given a number n, the task is to find n’th Ugly number.\n",
    "\n",
    "Input  : n = 7\n",
    "Explanation : 1, 2, 3, 4, 5, 6, 8\n",
    "Output : 8\n",
    "\n",
    "Input  : n = 10\n",
    "Explanation : 1, 2, 3, 4, 5, 6, 8, 9, 10, 12\n",
    "Output : 12\n",
    "\n",
    "Input  : n = 15\n",
    "Output : 24\n",
    "\n",
    "\"\"\""
   ]
  },
  {
   "cell_type": "code",
   "execution_count": 20,
   "metadata": {},
   "outputs": [],
   "source": [
    "class Solution:\n",
    "    \n",
    "    def getUgly(self, n):\n",
    "        ugly_array = [0] * n\n",
    "        i2 = 0\n",
    "        i3 = 0\n",
    "        i5 = 0\n",
    "        ugly_array[0] = 1\n",
    "        next_i2 = 2\n",
    "        next_i3 = 3\n",
    "        next_i5 = 5\n",
    "        for l in range(1, n):\n",
    "            ugly_array[l] = min(next_i2, next_i3, next_i5)\n",
    "            if(ugly_array[l] == next_i2):\n",
    "                i2 += 1\n",
    "                next_i2 = ugly_array[i2]*2\n",
    "            if(ugly_array[l] == next_i3):\n",
    "                i3 += 1\n",
    "                next_i3 = ugly_array[i3]*3\n",
    "            if(ugly_array[l] == next_i5):\n",
    "                i5 += 1\n",
    "                next_i5 = ugly_array[i5]*5\n",
    "        \n",
    "        return ugly_array     \n",
    "        "
   ]
  },
  {
   "cell_type": "code",
   "execution_count": 21,
   "metadata": {},
   "outputs": [
    {
     "name": "stdout",
     "output_type": "stream",
     "text": [
      "[1, 2, 3, 4, 5, 6, 8, 9, 10, 12, 15, 16, 18, 20, 24]\n"
     ]
    }
   ],
   "source": [
    "if __name__ == \"__main__\":\n",
    "    s = Solution()\n",
    "    print(s.getUgly(15))"
   ]
  }
 ],
 "metadata": {
  "kernelspec": {
   "display_name": "Python 3",
   "language": "python",
   "name": "python3"
  },
  "language_info": {
   "codemirror_mode": {
    "name": "ipython",
    "version": 3
   },
   "file_extension": ".py",
   "mimetype": "text/x-python",
   "name": "python",
   "nbconvert_exporter": "python",
   "pygments_lexer": "ipython3",
   "version": "3.6.8"
  }
 },
 "nbformat": 4,
 "nbformat_minor": 2
}

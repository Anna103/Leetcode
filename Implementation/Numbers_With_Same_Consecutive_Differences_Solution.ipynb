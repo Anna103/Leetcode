{
 "cells": [
  {
   "cell_type": "code",
   "execution_count": 30,
   "metadata": {},
   "outputs": [],
   "source": [
    "class Solution:\n",
    "    def numsSameConsecDiff(self, N: int, K: int):\n",
    "        output = list()\n",
    "        \n",
    "        def dfs(tmp):\n",
    "            if len(str(tmp)) == N:\n",
    "                output.append(tmp)\n",
    "                return\n",
    "            if (tmp%10) + K < 10:\n",
    "                tmp = tmp*10 + (tmp%10 + K)\n",
    "                return dfs(tmp)\n",
    "            if (tmp%10) - K >= 1:\n",
    "                tmp = tmp*10 + (tmp%10 - K)\n",
    "                return dfs(tmp)\n",
    "            \n",
    "            \n",
    "        for i in range(1,10):\n",
    "            dfs(i)\n",
    "        return output\n",
    "                \n",
    "                \n",
    "                \n",
    "            "
   ]
  },
  {
   "cell_type": "code",
   "execution_count": 31,
   "metadata": {},
   "outputs": [
    {
     "name": "stdout",
     "output_type": "stream",
     "text": [
      "[181, 292, 818, 929]\n"
     ]
    }
   ],
   "source": [
    "if __name__ == \"__main__\":\n",
    "    s = Solution()\n",
    "    print(s.numsSameConsecDiff(3,7))"
   ]
  }
 ],
 "metadata": {
  "kernelspec": {
   "display_name": "Python 3",
   "language": "python",
   "name": "python3"
  },
  "language_info": {
   "codemirror_mode": {
    "name": "ipython",
    "version": 3
   },
   "file_extension": ".py",
   "mimetype": "text/x-python",
   "name": "python",
   "nbconvert_exporter": "python",
   "pygments_lexer": "ipython3",
   "version": "3.6.8"
  }
 },
 "nbformat": 4,
 "nbformat_minor": 2
}

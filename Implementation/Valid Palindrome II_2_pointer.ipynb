{
 "cells": [
  {
   "cell_type": "markdown",
   "metadata": {},
   "source": [
    "Given a non-empty string s, you may delete at most one character. Judge whether you can make it a palindrome.\n",
    "\n",
    "Example 1:\n",
    "Input: \"aba\"\n",
    "Output: True\n",
    "Example 2:\n",
    "Input: \"abca\"\n",
    "Output: True\n",
    "Explanation: You could delete the character 'c'.\n",
    "Note:\n",
    "The string will only contain lowercase characters a-z. The maximum length of the string is 50000."
   ]
  },
  {
   "cell_type": "markdown",
   "metadata": {},
   "source": [
    "Thought Process <br>\n",
    "We need to check if the first character and last character is same the increase/decrease the pointer<br>\n",
    "\n",
    "case 1: increase the left side pointer and continue the process\n",
    "case 2: decrease the right side pointer and continue the process\n",
    "    \n",
    "    Complexity\n",
    "    Time Complexity = O(N)\n",
    "    Space Complexity = O(1)\n"
   ]
  },
  {
   "cell_type": "code",
   "execution_count": null,
   "metadata": {},
   "outputs": [],
   "source": [
    "Algorithm\n",
    "1. left = 0, right = len(string)\n",
    "2. Perform the following steps until left is less than right\n",
    "    3. if sring[left] == string[right]\n",
    "        4.Increase left by 1 and right by 1\n",
    "    5. create a function which will do the below steps\n",
    "        {\n",
    "            6. if sring[left] == string[right]\n",
    "            7.Increase left by 1 and right by 1\n",
    "            8. else return False\n",
    "            9. return True\n",
    "        }\n",
    "    10. else if run the above function increameanting left by 1 and right same, if this is true return True\n",
    "    11. else if run the above function decrementing right by 1 and left same, if this is true return True\n",
    "    12. else return False\n",
    "13. return True."
   ]
  },
  {
   "cell_type": "code",
   "execution_count": 2,
   "metadata": {},
   "outputs": [],
   "source": [
    "class Solution:   \n",
    "    def validPalindrome(self, s: str) -> bool:\n",
    "        def checkPalindromeAfterDeleting(left, right):\n",
    "            while(left <= right):\n",
    "                if s[left] == s[right]:\n",
    "                    left += 1\n",
    "                    right -= 1\n",
    "                else:\n",
    "                    return False\n",
    "            return True \n",
    "        left = 0\n",
    "        right = len(s)-1\n",
    "        \n",
    "        while(left <= right):\n",
    "            if s[left] == s[right]:\n",
    "                left += 1\n",
    "                right -= 1\n",
    "            else:\n",
    "                if(checkPalindromeAfterDeleting(left+1, right)):\n",
    "                    return True\n",
    "                elif(checkPalindromeAfterDeleting(left, right-1)):\n",
    "                    return True\n",
    "                else:\n",
    "                    return False\n",
    "        return True"
   ]
  },
  {
   "cell_type": "code",
   "execution_count": 7,
   "metadata": {},
   "outputs": [
    {
     "name": "stdout",
     "output_type": "stream",
     "text": [
      "False\n"
     ]
    }
   ],
   "source": [
    "if __name__ == \"__main__\":\n",
    "    S = Solution()\n",
    "    s = \"abcbvcbaw\"\n",
    "    print(S.validPalindrome(s))"
   ]
  }
 ],
 "metadata": {
  "kernelspec": {
   "display_name": "Python 3",
   "language": "python",
   "name": "python3"
  },
  "language_info": {
   "codemirror_mode": {
    "name": "ipython",
    "version": 3
   },
   "file_extension": ".py",
   "mimetype": "text/x-python",
   "name": "python",
   "nbconvert_exporter": "python",
   "pygments_lexer": "ipython3",
   "version": "3.6.8"
  }
 },
 "nbformat": 4,
 "nbformat_minor": 2
}

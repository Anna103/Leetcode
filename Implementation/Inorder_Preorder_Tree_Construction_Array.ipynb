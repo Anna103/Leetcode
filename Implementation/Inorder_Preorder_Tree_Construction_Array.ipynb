{
 "cells": [
  {
   "cell_type": "code",
   "execution_count": 1,
   "metadata": {},
   "outputs": [
    {
     "data": {
      "text/plain": [
       "'Given preorder and inorder traversal of a tree, construct the binary tree.\\n\\nNote:\\nYou may assume that duplicates do not exist in the tree.\\n\\nFor example, given\\n\\npreorder = [3,9,20,15,7]\\ninorder = [9,3,15,20,7]\\nReturn the following binary tree:\\n\\n    3\\n   /   9  20\\n    /     15   7\\n'"
      ]
     },
     "execution_count": 1,
     "metadata": {},
     "output_type": "execute_result"
    }
   ],
   "source": [
    "\"\"\"Given preorder and inorder traversal of a tree, construct the binary tree.\n",
    "\n",
    "Note:\n",
    "You may assume that duplicates do not exist in the tree.\n",
    "\n",
    "For example, given\n",
    "\n",
    "preorder = [3,9,20,15,7]\n",
    "inorder = [9,3,15,20,7]\n",
    "Return the following binary tree:\n",
    "\n",
    "    3\n",
    "   / \\\n",
    "  9  20\n",
    "    /  \\\n",
    "   15   7\n",
    "\"\"\"\n",
    "\n",
    "# Algorithm\n",
    "\n",
    "# We are given preorder(RoLR) and inorder(LRoR)\n",
    "# It means root will always be at the start for preorder traversal, while root will somewhat be at the mid forinorder\n",
    "# 1. Pop the first element from preorder, check where its index is in inorder (ind)\n",
    "# 2. root will be inorder[ind]\n",
    "# 3. everything to the left of this ind will be root.left and everything to the right is root.right"
   ]
  },
  {
   "cell_type": "code",
   "execution_count": 2,
   "metadata": {},
   "outputs": [],
   "source": [
    "import pprint"
   ]
  },
  {
   "cell_type": "code",
   "execution_count": 3,
   "metadata": {},
   "outputs": [],
   "source": [
    "# Definition for a binary tree node.\n",
    "class TreeNode:\n",
    "    def __init__(self, x):\n",
    "        self.val = x\n",
    "        self.left = None\n",
    "        self.right = None"
   ]
  },
  {
   "cell_type": "code",
   "execution_count": 4,
   "metadata": {},
   "outputs": [],
   "source": [
    "class Solution:\n",
    "    def buildTree(self, preorder, inorder):\n",
    "        if inorder == []:\n",
    "            return None\n",
    "        ind = inorder.index(preorder.pop(0))\n",
    "        root = TreeNode(inorder[ind])\n",
    "        root.left = self.buildTree(preorder, inorder[:ind])\n",
    "        root.right = self.buildTree(preorder, inorder[ind+1:])\n",
    "        return root"
   ]
  },
  {
   "cell_type": "code",
   "execution_count": 5,
   "metadata": {},
   "outputs": [
    {
     "name": "stdout",
     "output_type": "stream",
     "text": [
      "<__main__.TreeNode object at 0x10e835e10>\n"
     ]
    }
   ],
   "source": [
    "if __name__ == \"__main__\":\n",
    "    s = Solution()\n",
    "    preorder = [3,9,20,15,7]\n",
    "    inorder = [9,3,15,20,7]\n",
    "    root = s.buildTree(preorder, inorder)\n",
    "    pprint.pprint(root, width=60)\n",
    "\n",
    "\n",
    "        "
   ]
  }
 ],
 "metadata": {
  "kernelspec": {
   "display_name": "Python 3",
   "language": "python",
   "name": "python3"
  },
  "language_info": {
   "codemirror_mode": {
    "name": "ipython",
    "version": 3
   },
   "file_extension": ".py",
   "mimetype": "text/x-python",
   "name": "python",
   "nbconvert_exporter": "python",
   "pygments_lexer": "ipython3",
   "version": "3.6.8"
  }
 },
 "nbformat": 4,
 "nbformat_minor": 2
}

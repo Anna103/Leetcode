{
 "cells": [
  {
   "cell_type": "code",
   "execution_count": null,
   "metadata": {},
   "outputs": [],
   "source": [
    "\"\"\"Count of subsets with sum equal to X\n",
    "Last Updated: 05-11-2019\n",
    "Given an array arr[] of length N and an integer X, the task is to find the number of subsets with sum equal to X.\n",
    "\n",
    "Examples:\n",
    "\n",
    "Input: arr[] = {1, 2, 3, 3}, X = 6\n",
    "Output: 3\n",
    "All the possible subsets are {1, 2, 3},\n",
    "{1, 2, 3} and {3, 3}\n",
    "\n",
    "Input: arr[] = {1, 1, 1, 1}, X = 1\n",
    "Output: 4\"\"\""
   ]
  },
  {
   "cell_type": "code",
   "execution_count": null,
   "metadata": {},
   "outputs": [],
   "source": []
  },
  {
   "cell_type": "code",
   "execution_count": 30,
   "metadata": {},
   "outputs": [],
   "source": [
    "class SolutionR:\n",
    "    def subset_count(self, arr, k):\n",
    "        def count_subset(arr, required_sum, ind):\n",
    "            if required_sum == 0:\n",
    "                return 1\n",
    "            if  ind < 0:\n",
    "                return 0\n",
    "            if arr[ind] <= required_sum:\n",
    "                return count_subset(arr, required_sum-arr[ind], ind-1) + count_subset(arr, required_sum, ind-1) \n",
    "            else:\n",
    "                return count_subset(arr, required_sum, ind-1) \n",
    "        return count_subset(arr, k, len(arr)-1)"
   ]
  },
  {
   "cell_type": "code",
   "execution_count": 31,
   "metadata": {},
   "outputs": [],
   "source": [
    "class SolutionM:\n",
    "    def subset_count(self, arr, k):\n",
    "        memo = [[0 for col in range(k+1)]for row in range(len(arr)+1)]\n",
    "        visited = [[False for col in range(k+1)]for row in range(len(arr)+1)]\n",
    "        def count_subset(arr, required_sum, ind):\n",
    "            if required_sum == 0:\n",
    "                return 1\n",
    "            if  ind < 0:\n",
    "                return 0\n",
    "            if visited[ind][required_sum]:\n",
    "                return memo[ind][required_sum]\n",
    "            if arr[ind] <= required_sum:\n",
    "                memo[ind][required_sum] = count_subset(arr, required_sum-arr[ind], ind-1) + count_subset(arr, required_sum, ind-1)\n",
    "                visited[ind][required_sum] = True\n",
    "                return memo[ind][required_sum]\n",
    "            else:\n",
    "                memo[ind][required_sum] = count_subset(arr, required_sum, ind-1)\n",
    "                visited[ind][required_sum] = True\n",
    "                return memo[ind][required_sum]\n",
    "        return count_subset(arr, k, len(arr)-1)"
   ]
  },
  {
   "cell_type": "code",
   "execution_count": 51,
   "metadata": {},
   "outputs": [],
   "source": [
    "class SolutionT:\n",
    "    def subset_count(self, arr, k):\n",
    "        memo = [[0 for col in range(k+1)]for row in range(len(arr)+1)]\n",
    "        \n",
    "        for i in range(len(memo[0])):\n",
    "            memo[0][i] = 0\n",
    "            \n",
    "        for i in range(len(memo)):\n",
    "            memo[i][0] = 1\n",
    "            \n",
    "        for i in range(1,len(memo)):\n",
    "            for j in range(1,len(memo[0])):\n",
    "                if arr[i-1] <= j:\n",
    "                    memo[i][j] = memo[i-1][j-arr[i-1]] + memo[i-1][j]\n",
    "                else:\n",
    "                    memo[i][j] = memo[i-1][j]\n",
    "        return memo[-1][-1]"
   ]
  },
  {
   "cell_type": "code",
   "execution_count": 54,
   "metadata": {},
   "outputs": [
    {
     "name": "stdout",
     "output_type": "stream",
     "text": [
      "6\n",
      "6\n",
      "6\n"
     ]
    }
   ],
   "source": [
    "if __name__ == \"__main__\":\n",
    "    arr = [2, 3, 5, 5, 6, 8, 10, 10]\n",
    "    k = 10\n",
    "    sr = SolutionR()\n",
    "    print(sr.subset_count(arr, k))\n",
    "    \n",
    "    sm = SolutionM()\n",
    "    print(sm.subset_count(arr, k))\n",
    "    \n",
    "    st = SolutionT()\n",
    "    print(st.subset_count(arr, k))"
   ]
  },
  {
   "cell_type": "code",
   "execution_count": null,
   "metadata": {},
   "outputs": [],
   "source": []
  }
 ],
 "metadata": {
  "kernelspec": {
   "display_name": "Python 3",
   "language": "python",
   "name": "python3"
  },
  "language_info": {
   "codemirror_mode": {
    "name": "ipython",
    "version": 3
   },
   "file_extension": ".py",
   "mimetype": "text/x-python",
   "name": "python",
   "nbconvert_exporter": "python",
   "pygments_lexer": "ipython3",
   "version": "3.6.8"
  }
 },
 "nbformat": 4,
 "nbformat_minor": 2
}

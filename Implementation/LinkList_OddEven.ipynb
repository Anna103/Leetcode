{
 "cells": [
  {
   "cell_type": "code",
   "execution_count": null,
   "metadata": {},
   "outputs": [],
   "source": [
    "# Algorithm\n",
    "# we need 2 pointers one for odd, one for even\n",
    "# even = self.head.next\n",
    "# i = self.head\n",
    "# j = i.next\n",
    "# while i.next and j.next:\n",
    "#  i.next = j.next\n",
    "#  i = i.next\n",
    "#  j.next = i.next\n",
    "#  j = j.next\n",
    "# i.next = even\n",
    "# return self"
   ]
  },
  {
   "cell_type": "code",
   "execution_count": 4,
   "metadata": {},
   "outputs": [],
   "source": [
    "class Node:\n",
    "    \n",
    "    def __init__(self, data):\n",
    "        self.data = data\n",
    "        self.next = None\n",
    "    "
   ]
  },
  {
   "cell_type": "code",
   "execution_count": 29,
   "metadata": {},
   "outputs": [],
   "source": [
    "class LinkList:\n",
    "    \n",
    "    def __init__(self):\n",
    "        self.head = None\n",
    "    \n",
    "    def insert(self, new_node):\n",
    "        if(self.head == None):\n",
    "            self.head = new_node\n",
    "        else:\n",
    "            temp = self.head\n",
    "            while(temp.next):\n",
    "                temp = temp.next\n",
    "            temp.next = new_node\n",
    "            \n",
    "    def display_ll(self):\n",
    "        if(self.head == None):\n",
    "            print(\"Nothing to print\")\n",
    "        else:\n",
    "            temp = self.head\n",
    "            while(temp!=None):\n",
    "                print(temp.data)\n",
    "                temp = temp.next  \n",
    "                \n",
    "    def oddeven(self, head):\n",
    "        if self.head == None:\n",
    "            return None\n",
    "        else:\n",
    "            even = self.head.next\n",
    "            i = self.head\n",
    "            j = i.next\n",
    "            while i.next and j.next:\n",
    "                i.next = j.next\n",
    "                i = i.next\n",
    "                j.next = i.next\n",
    "                j = j.next\n",
    "            i.next = even\n",
    "            return self\n",
    "        "
   ]
  },
  {
   "cell_type": "code",
   "execution_count": 31,
   "metadata": {},
   "outputs": [
    {
     "name": "stdout",
     "output_type": "stream",
     "text": [
      "1\n",
      "2\n",
      "3\n",
      "4\n",
      "5\n",
      "6\n",
      "7\n",
      "***************\n",
      "1\n",
      "3\n",
      "5\n",
      "7\n",
      "2\n",
      "4\n",
      "6\n"
     ]
    }
   ],
   "source": [
    "if __name__ == '__main__':\n",
    "    llist = LinkList()\n",
    "    llist.head = Node(1)  \n",
    "    llist.insert(Node(2))\n",
    "    llist.insert(Node(3))\n",
    "    llist.insert(Node(4))\n",
    "    llist.insert(Node(5))\n",
    "    llist.insert(Node(6))\n",
    "    llist.insert(Node(7))\n",
    "    llist.display_ll()\n",
    "    print(\"***************\")\n",
    "    x = (llist.oddeven(llist.head))\n",
    "    x.display_ll()"
   ]
  }
 ],
 "metadata": {
  "kernelspec": {
   "display_name": "Python 3",
   "language": "python",
   "name": "python3"
  },
  "language_info": {
   "codemirror_mode": {
    "name": "ipython",
    "version": 3
   },
   "file_extension": ".py",
   "mimetype": "text/x-python",
   "name": "python",
   "nbconvert_exporter": "python",
   "pygments_lexer": "ipython3",
   "version": "3.6.8"
  }
 },
 "nbformat": 4,
 "nbformat_minor": 2
}

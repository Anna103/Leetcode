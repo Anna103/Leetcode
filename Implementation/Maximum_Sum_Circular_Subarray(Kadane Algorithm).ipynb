{
 "cells": [
  {
   "cell_type": "code",
   "execution_count": null,
   "metadata": {},
   "outputs": [],
   "source": [
    "\"\"\"Given a circular array C of integers represented by A, find the maximum possible sum of a non-empty subarray of C.\n",
    "\n",
    "Here, a circular array means the end of the array connects to the beginning of the array.  (Formally, C[i] = A[i] when 0 <= i < A.length, and C[i+A.length] = C[i] when i >= 0.)\n",
    "\n",
    "Also, a subarray may only include each element of the fixed buffer A at most once.  (Formally, for a subarray C[i], C[i+1], ..., C[j], there does not exist i <= k1, k2 <= j with k1 % A.length = k2 % A.length.)\n",
    "\n",
    " \n",
    "\n",
    "Example 1:\n",
    "\n",
    "Input: [1,-2,3,-2]\n",
    "Output: 3\n",
    "Explanation: Subarray [3] has maximum sum 3\"\"\"\n",
    "\n",
    "\n",
    "\"\"\" Algorithm\n",
    "\n",
    "\n",
    "1. If our max is between the array, then we would just directly use Kadane's algorithm.\n",
    "[_____Max in the Subarray___________]\n",
    "\n",
    "2. If our max uses a wrap around\n",
    "\n",
    "[max________max]  \n",
    "\n",
    " In the above case our middle portion becomes min subarray\n",
    " \n",
    " Reasoning:\n",
    " if our middle portion isnt min.. then we can minimize it further by including numbers from max subarray, which means\n",
    " our max reduces. Which implies our current max subarray is not true max\n",
    " \n",
    " \n",
    " So we need to use kadanes algorithm to fine max sub array and min sub array\n",
    " \n",
    " GOTCHA\n",
    " if all our elements are negative, then we include our largest single element\n",
    " \n",
    "\n",
    "\"\"\"\n",
    "\n",
    "\n",
    "# Algorithm\n",
    "# initialise max_Sum , min_sum, total sum as 1st element\n",
    "# run a loop from 2nd element to the end\n",
    "# total sum adds current element to total\n",
    "# current sum is max of current_element and current_sum+current_element\n",
    "# max_sum is max of current_sum and max_sum\n",
    "\n",
    "# Similarly for min\n",
    "\n",
    "\n",
    "# if our max_sum > 0:\n",
    "# return max(max_sum, total_sum-min_sum)\n",
    "# else return max_sum(All our elements are negative in our list)"
   ]
  },
  {
   "cell_type": "code",
   "execution_count": 2,
   "metadata": {},
   "outputs": [],
   "source": [
    "class Solution:\n",
    "    \n",
    "    def maxSubarraySumCircular(self, A):\n",
    "        max_sum = A[0]\n",
    "        total_sum = A[0]\n",
    "        current_sum = max_sum\n",
    "        \n",
    "        min_sum = A[0]\n",
    "        current_min = min_sum\n",
    "        for i in range(1, len(A)):\n",
    "            total_sum += A[i]\n",
    "            current_sum = max(A[i], A[i]+current_sum)\n",
    "            max_sum = max(current_sum , max_sum)\n",
    "            current_min = min(A[i], A[i]+current_min)\n",
    "            min_sum = min(current_min , min_sum)\n",
    "        if(max_sum > 0):\n",
    "            return max(max_sum, total_sum-min_sum)\n",
    "        return max_sum"
   ]
  },
  {
   "cell_type": "code",
   "execution_count": 3,
   "metadata": {},
   "outputs": [
    {
     "name": "stdout",
     "output_type": "stream",
     "text": [
      "12\n"
     ]
    }
   ],
   "source": [
    "if __name__ == \"__main__\":\n",
    "    s = Solution()\n",
    "    x = [1,2,-3,4,5]\n",
    "    print(s.maxSubarraySumCircular(x))"
   ]
  }
 ],
 "metadata": {
  "kernelspec": {
   "display_name": "Python 3",
   "language": "python",
   "name": "python3"
  },
  "language_info": {
   "codemirror_mode": {
    "name": "ipython",
    "version": 3
   },
   "file_extension": ".py",
   "mimetype": "text/x-python",
   "name": "python",
   "nbconvert_exporter": "python",
   "pygments_lexer": "ipython3",
   "version": "3.6.8"
  }
 },
 "nbformat": 4,
 "nbformat_minor": 2
}

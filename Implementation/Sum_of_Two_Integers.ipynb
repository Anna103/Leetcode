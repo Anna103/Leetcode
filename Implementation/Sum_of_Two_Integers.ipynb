{
 "cells": [
  {
   "cell_type": "markdown",
   "metadata": {},
   "source": [
    "Calculate the sum of two integers a and b, but you are not allowed to use the operator + and -.\n",
    "\n",
    "Example 1:\n",
    "\n",
    "Input: a = 1, b = 2\n",
    "Output: 3\n",
    "Example 2:\n",
    "\n",
    "Input: a = -2, b = 3\n",
    "Output: 1"
   ]
  },
  {
   "cell_type": "code",
   "execution_count": null,
   "metadata": {},
   "outputs": [],
   "source": [
    "Steps:\n",
    "    We are required to find the sum of 2 numbers without using + or - operator\n",
    "    During such case we need to consider bit manipulation\n",
    "    We will be using XOR,AND and Left shift in order to perform addition\n",
    "    \n",
    "    Let x,y be absolute value of given input numbers.\n",
    "    x should always be greater than y else call the functiona again interchanging input values\n",
    "    if 1st number is greater than 0 then result is positive else negative\n",
    "    \n",
    "    if a*b >=0 then\n",
    "      until y is present:\n",
    "            answer = x xor y\n",
    "            carry = x and y left shift by 1 [(x&y )<<1]\n",
    "            x,y = answer, carry\n",
    "    else:\n",
    "        until y is present:\n",
    "            answer = x xor y\n",
    "            borrow = complement (x) and y left shift by 1 [((~x)&y )<<1]\n",
    "            x,y = answer, borrow\n",
    "    return x*sign\n",
    "        \n",
    "    "
   ]
  },
  {
   "cell_type": "code",
   "execution_count": null,
   "metadata": {},
   "outputs": [],
   "source": [
    "class Solution:\n",
    "    def getSum(self, a: int, b: int) -> int:\n",
    "        x, y = abs(a) , abs(b)\n",
    "        if x < y:\n",
    "            return self.getSum(b, a)\n",
    "        if a > 0:\n",
    "            sign = 1\n",
    "        else:\n",
    "            sign = -1\n",
    "        \n",
    "        if a * b >= 0:\n",
    "            # sum of two positive integers x + y\n",
    "            # where x > y\n",
    "            while y:\n",
    "                answer = x ^ y\n",
    "                \n",
    "                carry = (x & y) << 1\n",
    "                \n",
    "                x, y = answer, carry\n",
    "        else:\n",
    "            # difference of two integers x - y\n",
    "            # where x > y\n",
    "            while y:\n",
    "                answer = x ^ y\n",
    "                \n",
    "                borrow = ((~x) & y) << 1\n",
    "                x, y = answer, borrow\n",
    "        \n",
    "        return x * sign"
   ]
  }
 ],
 "metadata": {
  "kernelspec": {
   "display_name": "Python 3",
   "language": "python",
   "name": "python3"
  },
  "language_info": {
   "codemirror_mode": {
    "name": "ipython",
    "version": 3
   },
   "file_extension": ".py",
   "mimetype": "text/x-python",
   "name": "python",
   "nbconvert_exporter": "python",
   "pygments_lexer": "ipython3",
   "version": "3.6.8"
  }
 },
 "nbformat": 4,
 "nbformat_minor": 2
}

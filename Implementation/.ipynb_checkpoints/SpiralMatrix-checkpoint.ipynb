{
 "cells": [
  {
   "cell_type": "code",
   "execution_count": 2,
   "metadata": {},
   "outputs": [
    {
     "data": {
      "text/plain": [
       "'Given a matrix of m x n elements (m rows, n columns), return all elements of the matrix in spiral order.\\n\\nExample 1:\\n\\nInput:\\n[\\n [ 1, 2, 3 ],\\n [ 4, 5, 6 ],\\n [ 7, 8, 9 ]\\n]\\nOutput: [1,2,3,6,9,8,7,4,5]'"
      ]
     },
     "execution_count": 2,
     "metadata": {},
     "output_type": "execute_result"
    }
   ],
   "source": [
    "\"\"\"Given a matrix of m x n elements (m rows, n columns), return all elements of the matrix in spiral order.\n",
    "\n",
    "Example 1:\n",
    "\n",
    "Input:\n",
    "[\n",
    " [ 1, 2, 3 ],\n",
    " [ 4, 5, 6 ],\n",
    " [ 7, 8, 9 ]\n",
    "]\n",
    "Output: [1,2,3,6,9,8,7,4,5]\"\"\"\n",
    "\n",
    "# Algorithm\n",
    "# We will have to traverse from left to right, then top to bottom, right to left, bottom to top,\n",
    "# When each time you reach end of the the row or col, reduce/increase the length to avoid duplication"
   ]
  },
  {
   "cell_type": "code",
   "execution_count": 3,
   "metadata": {},
   "outputs": [],
   "source": [
    "class Solution:\n",
    "    def spiralOrder(self, matrix):\n",
    "        nums = []\n",
    "        if(len(matrix) == 0):\n",
    "            return nums\n",
    "        else:\n",
    "            top = 0\n",
    "            bottom = len(matrix) - 1\n",
    "            left = 0\n",
    "            right = len(matrix[0]) - 1\n",
    "            total_nums = len(matrix) * len(matrix[0])\n",
    "            while(len(nums) < total_nums):\n",
    "                for i in range(left,right+1):\n",
    "                    if(len(nums) < total_nums):\n",
    "                        nums.append(matrix[top][i])\n",
    "                top += 1\n",
    "                for i in range(top, bottom+1):\n",
    "                    if(len(nums) < total_nums):\n",
    "                        nums.append(matrix[i][right])\n",
    "                right -= 1\n",
    "                for i in range(right, left-1, -1):\n",
    "                    if(len(nums) < total_nums):\n",
    "                        nums.append(matrix[bottom][i])\n",
    "                bottom -= 1\n",
    "                for i in range(bottom, top-1, -1):\n",
    "                    if(len(nums) < total_nums):\n",
    "                        nums.append(matrix[i][left])\n",
    "                left += 1\n",
    "            \n",
    "            return(nums)\n",
    "            \n",
    "            \n",
    "        "
   ]
  },
  {
   "cell_type": "code",
   "execution_count": 4,
   "metadata": {},
   "outputs": [
    {
     "name": "stdout",
     "output_type": "stream",
     "text": [
      "[1, 2, 3, 6, 9, 8, 7, 4, 5]\n"
     ]
    }
   ],
   "source": [
    "if __name__ == \"__main__\":\n",
    "    s = Solution()\n",
    "    nums =[[ 1, 2, 3 ],\n",
    "           [ 4, 5, 6 ],\n",
    "           [ 7, 8, 9 ]\n",
    "          ]\n",
    "    print(s.spiralOrder(nums))"
   ]
  }
 ],
 "metadata": {
  "kernelspec": {
   "display_name": "Python 3",
   "language": "python",
   "name": "python3"
  },
  "language_info": {
   "codemirror_mode": {
    "name": "ipython",
    "version": 3
   },
   "file_extension": ".py",
   "mimetype": "text/x-python",
   "name": "python",
   "nbconvert_exporter": "python",
   "pygments_lexer": "ipython3",
   "version": "3.6.8"
  }
 },
 "nbformat": 4,
 "nbformat_minor": 2
}

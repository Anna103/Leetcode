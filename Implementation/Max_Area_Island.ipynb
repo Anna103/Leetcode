{
 "cells": [
  {
   "cell_type": "code",
   "execution_count": null,
   "metadata": {},
   "outputs": [],
   "source": [
    "\"\"\"Given a non-empty 2D array grid of 0's and 1's, an island is a group of 1's (representing land) \n",
    "connected 4-directionally (horizontal or vertical.) You may assume all four edges of the grid are surrounded by water.\n",
    "\n",
    "Find the maximum area of an island in the given 2D array. (If there is no island, the maximum area is 0.)\n",
    "\n",
    "Example 1:\n",
    "\n",
    "[[0,0,1,0,0,0,0,1,0,0,0,0,0],\n",
    " [0,0,0,0,0,0,0,1,1,1,0,0,0],\n",
    " [0,1,1,0,1,0,0,0,0,0,0,0,0],\n",
    " [0,1,0,0,1,1,0,0,1,0,1,0,0],\n",
    " [0,1,0,0,1,1,0,0,1,1,1,0,0],\n",
    " [0,0,0,0,0,0,0,0,0,0,1,0,0],\n",
    " [0,0,0,0,0,0,0,1,1,1,0,0,0],\n",
    " [0,0,0,0,0,0,0,1,1,0,0,0,0]]\n",
    "Given the above grid, return 6. Note the answer is not 11, because the island must be connected 4-directionally.\n",
    "Example 2:\n",
    "\n",
    "[[0,0,0,0,0,0,0,0]]\n",
    "Given the above grid, return 0.\n",
    "Note: The length of each dimension in the given grid does not exceed 50.\n",
    "\"\"\"\n",
    "\n",
    "\n",
    "# Algorithm\n",
    "\n",
    "# 1. Concept is similar to Island problem\n",
    "# 2. define area = 1\n",
    "# 3 . when calling is safe function increment the value area withthe recursive call"
   ]
  },
  {
   "cell_type": "code",
   "execution_count": 13,
   "metadata": {},
   "outputs": [],
   "source": [
    "class Solution:\n",
    "    \n",
    "    def is_safe(self, row, col, visited, grid):\n",
    "        return (0 <= row < len(grid) and\n",
    "               0 <= col < len(grid[0]) and\n",
    "               grid[row][col] == 1 and\n",
    "               visited[row][col] == False)\n",
    "    \n",
    "    def traverse(self, row, col, visited, grid):\n",
    "        visited[row][col] = True\n",
    "        area = 1\n",
    "        valid_row = [-1, 0, 0, 1]\n",
    "        valid_col = [0, -1, 1, 0]\n",
    "        for neigh in range(len(valid_row)):\n",
    "            if(self.is_safe(row+valid_row[neigh], col+valid_col[neigh], visited, grid)):\n",
    "                area += self.traverse(row+valid_row[neigh], col+valid_col[neigh], visited, grid)\n",
    "        return area\n",
    "    \n",
    "    def maxAreaOfIsland(self, grid):\n",
    "        area_list = []\n",
    "        visited = [[False for col in range(len(grid[0]))] for row in range(len(grid))]\n",
    "        for row in range(len(grid)):\n",
    "            for col in range(len(grid[0])):\n",
    "                if visited[row][col] == False and grid[row][col] == 1:\n",
    "                    area_list.append(self.traverse(row, col, visited, grid))\n",
    "        \n",
    "        return max(area_list) if area_list else 0\n",
    "    "
   ]
  },
  {
   "cell_type": "code",
   "execution_count": 14,
   "metadata": {},
   "outputs": [
    {
     "name": "stdout",
     "output_type": "stream",
     "text": [
      "4\n"
     ]
    }
   ],
   "source": [
    "if __name__ == \"__main__\":\n",
    "    s = Solution()\n",
    "    grid = [[1,1,0,0,0],[1,1,0,0,0],[0,0,0,1,1],[0,0,0,1,1]]\n",
    "    print(s.maxAreaOfIsland(grid))"
   ]
  }
 ],
 "metadata": {
  "kernelspec": {
   "display_name": "Python 3",
   "language": "python",
   "name": "python3"
  },
  "language_info": {
   "codemirror_mode": {
    "name": "ipython",
    "version": 3
   },
   "file_extension": ".py",
   "mimetype": "text/x-python",
   "name": "python",
   "nbconvert_exporter": "python",
   "pygments_lexer": "ipython3",
   "version": "3.6.8"
  }
 },
 "nbformat": 4,
 "nbformat_minor": 2
}

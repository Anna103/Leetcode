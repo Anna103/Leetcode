{
 "cells": [
  {
   "cell_type": "code",
   "execution_count": null,
   "metadata": {},
   "outputs": [],
   "source": [
    "\"\"\"A message containing letters from A-Z is being encoded to numbers using the following mapping:\n",
    "\n",
    "'A' -> 1\n",
    "'B' -> 2\n",
    "...\n",
    "'Z' -> 26\n",
    "Given a non-empty string containing only digits, determine the total number of ways to decode it.\n",
    "\n",
    "Example 1:\n",
    "\n",
    "Input: \"12\"\n",
    "Output: 2\n",
    "Explanation: It could be decoded as \"AB\" (1 2) or \"L\" (12).\n",
    "Example 2:\n",
    "\n",
    "Input: \"226\"\n",
    "Output: 3\n",
    "Explanation: It could be decoded as \"BZ\" (2 26), \"VF\" (22 6), or \"BBF\" (2 2 6).\"\"\""
   ]
  },
  {
   "cell_type": "code",
   "execution_count": null,
   "metadata": {},
   "outputs": [],
   "source": [
    "class Solution:\n",
    "    def __init__(self):\n",
    "        self.memo = dict()\n",
    "    \n",
    "    def recursive_dp(self,ind,s):\n",
    "        if ind == len(s):\n",
    "            return 1\n",
    "        if s[ind] == \"0\":\n",
    "            return 0\n",
    "        if ind == len(s)-1:\n",
    "            return 1\n",
    "        if ind in self.memo:\n",
    "            return self.memo[ind]\n",
    "        ans = self.recursive_dp(ind+1,s) + (self.recursive_dp(ind+2,s) if (int(s[ind:ind+2]) <= 26) else 0)\n",
    "        self.memo[ind] = ans\n",
    "        return ans\n",
    "    \n",
    "    def numDecodings(self, s: str) -> int:\n",
    "        if not s:\n",
    "            return 0\n",
    "        else:\n",
    "            return self.recursive_dp(0,s)"
   ]
  }
 ],
 "metadata": {
  "kernelspec": {
   "display_name": "Python 3",
   "language": "python",
   "name": "python3"
  },
  "language_info": {
   "codemirror_mode": {
    "name": "ipython",
    "version": 3
   },
   "file_extension": ".py",
   "mimetype": "text/x-python",
   "name": "python",
   "nbconvert_exporter": "python",
   "pygments_lexer": "ipython3",
   "version": "3.6.8"
  }
 },
 "nbformat": 4,
 "nbformat_minor": 2
}

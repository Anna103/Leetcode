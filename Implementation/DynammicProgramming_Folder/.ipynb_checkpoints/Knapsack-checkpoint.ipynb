{
 "cells": [
  {
   "cell_type": "code",
   "execution_count": null,
   "metadata": {},
   "outputs": [],
   "source": [
    "\"\"\"Given weights and values of n items, put these items in a knapsack of capacity W \n",
    "to get the maximum total value in the knapsack. In other words, given two integer arrays val[0..n-1]\n",
    "and wt[0..n-1] which represent values and weights associated with n items respectively. \n",
    "Also given an integer W which represents knapsack capacity, find out the maximum value subset of val[] \n",
    "such that sum of the weights of this subset is smaller than or equal to W.\n",
    "You cannot break an item, either pick the complete item or don’t pick it (0-1 property).\"\"\"\n",
    "\n",
    "# I create a dp array \n",
    "# my rows will be each item's weight that needs to be added in my bag\n",
    "# my columns are the weight until i reach my desired weight\n",
    "\n",
    "# my first row is equal to zero because if my (row = 0) I dont have any item to be added in my basket, so profit is 0\n",
    "# my first column is zero, I dont get any profit since my weight allowed in the bag is zero\n",
    "\n",
    "# In subsequenct cells, if the desred weight is greater than the item's weight, then the celll value will be equal to \n",
    "# max of (profit  without adding that element i.e (dp[i-1][j]) and profit after adding curreent items value and profit \n",
    "# obtained after considering weights removing the current element\n",
    "\n",
    "# else dp[i][j-1]"
   ]
  },
  {
   "cell_type": "code",
   "execution_count": 38,
   "metadata": {},
   "outputs": [],
   "source": [
    "class solveKnapsack:\n",
    "    \n",
    "    def knapsack_solver(self, weights, value, total_weight):\n",
    "        dp =[[0 for weight in range(total_weight+1)] for single_weight in range(len(weights)+1)]\n",
    "        \n",
    "        for i in range(len(dp)):\n",
    "            for j in range(len(dp[0])):\n",
    "                if(i ==0 or j == 0):\n",
    "                    dp[i][j] = 0\n",
    "                elif(weights[i-1] <= j):\n",
    "                    dp[i][j] = max(dp[i-1][j], value[i-1]+dp[i-1][j-weights[i-1]])\n",
    "                else:\n",
    "                    dp[i][j] = dp[i][j-1]\n",
    "  \n",
    "        return dp[len(dp)-1][len(dp[0])-1]\n",
    "\n"
   ]
  },
  {
   "cell_type": "code",
   "execution_count": 39,
   "metadata": {},
   "outputs": [
    {
     "name": "stdout",
     "output_type": "stream",
     "text": [
      "90\n"
     ]
    }
   ],
   "source": [
    "if __name__ == \"__main__\":\n",
    "    \n",
    "    s = solveKnapsack()\n",
    "    weights = [5, 4, 6, 3]\n",
    "    value = [10, 40, 30, 50]\n",
    "    total_weight = 10\n",
    "    print(s.knapsack_solver(weights, value, total_weight))"
   ]
  }
 ],
 "metadata": {
  "kernelspec": {
   "display_name": "Python 3",
   "language": "python",
   "name": "python3"
  },
  "language_info": {
   "codemirror_mode": {
    "name": "ipython",
    "version": 3
   },
   "file_extension": ".py",
   "mimetype": "text/x-python",
   "name": "python",
   "nbconvert_exporter": "python",
   "pygments_lexer": "ipython3",
   "version": "3.6.8"
  }
 },
 "nbformat": 4,
 "nbformat_minor": 2
}

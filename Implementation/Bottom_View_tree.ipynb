{
 "cells": [
  {
   "cell_type": "code",
   "execution_count": 1,
   "metadata": {},
   "outputs": [],
   "source": [
    "class TreeNode:\n",
    "    def __init__(self, data):\n",
    "        self.data = data\n",
    "        self.left = None\n",
    "        self.right = None\n",
    "        "
   ]
  },
  {
   "cell_type": "code",
   "execution_count": 36,
   "metadata": {},
   "outputs": [],
   "source": [
    "import collections\n",
    "class BottomViewFinder:\n",
    "    def find_bottomview(self, root):\n",
    "        dict_nodes = collections.defaultdict(list)\n",
    "        bfs_q = [(root, 0)]\n",
    "        while(bfs_q):\n",
    "            node, val = bfs_q.pop(0)\n",
    "            if node:\n",
    "                dict_nodes[val].append(node.data)\n",
    "                bfs_q += [(node.left, val-1), (node.right, val+1)]\n",
    "        sorted_list = sorted(dict_nodes.items())\n",
    "        output = []\n",
    "        for lists in sorted_list:\n",
    "            print(lists)\n",
    "            if len(lists[1]) > 2:\n",
    "                output.append(lists[1][-2])\n",
    "                output.append(lists[1][-1])\n",
    "            else:\n",
    "                output.append(lists[1][-1])\n",
    "        return output\n",
    "            "
   ]
  },
  {
   "cell_type": "code",
   "execution_count": 39,
   "metadata": {},
   "outputs": [
    {
     "name": "stdout",
     "output_type": "stream",
     "text": [
      "(-1, [2])\n",
      "(0, [1])\n",
      "(1, [3])\n",
      "[2, 1, 3]\n"
     ]
    }
   ],
   "source": [
    "if __name__ == \"__main__\":\n",
    "    root = TreeNode(1)\n",
    "    root.left = TreeNode(2)\n",
    "    root.right = TreeNode(3)\n",
    "    \"\"\"root = TreeNode(20)\n",
    "    root.left = TreeNode(8)\n",
    "    root.right = TreeNode(22)\n",
    "    root.left.left = TreeNode(5)\n",
    "    root.left.right = TreeNode(3)\n",
    "    #root.right.left = TreeNode(4)\n",
    "    root.right.right = TreeNode(25)\n",
    "    root.left.right.left = TreeNode(10)\n",
    "    root.left.right.right = TreeNode(14)\"\"\"\n",
    "    bvf = BottomViewFinder()\n",
    "    print(bvf.find_bottomview(root))"
   ]
  },
  {
   "cell_type": "code",
   "execution_count": 13,
   "metadata": {},
   "outputs": [
    {
     "name": "stdout",
     "output_type": "stream",
     "text": [
      "[1, 2, 3]\n",
      "[1, 2, 3, 2, 3]\n"
     ]
    }
   ],
   "source": [
    "x = [1, 2, 3]\n",
    "print(x)\n",
    "x += (2, 3)\n",
    "print(x)"
   ]
  }
 ],
 "metadata": {
  "kernelspec": {
   "display_name": "Python 3",
   "language": "python",
   "name": "python3"
  },
  "language_info": {
   "codemirror_mode": {
    "name": "ipython",
    "version": 3
   },
   "file_extension": ".py",
   "mimetype": "text/x-python",
   "name": "python",
   "nbconvert_exporter": "python",
   "pygments_lexer": "ipython3",
   "version": "3.6.8"
  }
 },
 "nbformat": 4,
 "nbformat_minor": 2
}

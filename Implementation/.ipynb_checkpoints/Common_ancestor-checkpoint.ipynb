{
 "cells": [
  {
   "cell_type": "code",
   "execution_count": 2,
   "metadata": {},
   "outputs": [],
   "source": [
    "# Pick Common Ancestors of 2 nodes.\n",
    "# Assume both the nodes are present\n",
    "# \n",
    "\n",
    "# Algorithm:\n",
    "# 1. if the root node is empty, return empty Nothing\n",
    "# 2. if the root node is equal to either of the search_node return that root node\n",
    "# 3. else recursively follow step 1 and 2 by moving to left and right.\n",
    "# 4.if roots for both the search_node is same, print root\n",
    "# 5. if left or right not none then return left or right\n",
    "\n",
    "\n",
    "\n",
    "class Tree:\n",
    "    \n",
    "    def __init__(self, data):\n",
    "        self.left = None\n",
    "        self.data = data\n",
    "        self.right = None\n",
    "    \n",
    "def path(root, node1, node2):\n",
    "    if root == None:\n",
    "        return None\n",
    "    if root.data == node1 or root.data == node2:\n",
    "        return root.data\n",
    "    left = path(root.left, node1, node2)\n",
    "    right = path(root.right, node1, node2)\n",
    "    if left and right:\n",
    "        return root.data\n",
    "    return left or right"
   ]
  },
  {
   "cell_type": "code",
   "execution_count": 3,
   "metadata": {},
   "outputs": [
    {
     "name": "stdout",
     "output_type": "stream",
     "text": [
      "2\n"
     ]
    }
   ],
   "source": [
    "if __name__ == \"__main__\":\n",
    "    root = Tree(1)\n",
    "    root.left = Tree(2)\n",
    "    root.right = Tree(3)\n",
    "    root.left.left = Tree(4)\n",
    "    root.left.right = Tree(5)\n",
    "    root.right.left = Tree(6)\n",
    "    root.right.right = Tree(7)\n",
    "    print(path(root, 2, 4))\n",
    "    "
   ]
  }
 ],
 "metadata": {
  "kernelspec": {
   "display_name": "Python 3",
   "language": "python",
   "name": "python3"
  },
  "language_info": {
   "codemirror_mode": {
    "name": "ipython",
    "version": 3
   },
   "file_extension": ".py",
   "mimetype": "text/x-python",
   "name": "python",
   "nbconvert_exporter": "python",
   "pygments_lexer": "ipython3",
   "version": "3.6.8"
  }
 },
 "nbformat": 4,
 "nbformat_minor": 2
}

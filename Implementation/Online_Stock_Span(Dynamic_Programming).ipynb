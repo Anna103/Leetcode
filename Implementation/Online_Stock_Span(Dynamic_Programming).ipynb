{
 "cells": [
  {
   "cell_type": "code",
   "execution_count": null,
   "metadata": {},
   "outputs": [],
   "source": [
    "\"\"\"Write a class StockSpanner which collects daily price quotes for some stock, and returns the span of \n",
    "that stock's price for the current day.\n",
    "\n",
    "The span of the stock's price today is defined as the maximum number of consecutive days \n",
    "(starting from today and going backwards) for which the price of the stock was less than or equal to today's price.\n",
    "\n",
    "For example, if the price of a stock over the next 7 days were [100, 80, 60, 70, 60, 75, 85], \n",
    "then the stock spans would be [1, 1, 1, 2, 1, 4, 6].\n",
    "\n",
    "\"\"\"\n",
    "\n",
    "# Algorithm\n",
    "# We need a stack that hold values in decreasing fashion, when ever new value comes, it has to be lesser than the top element\n",
    "# else we will pop the stack until we find such element\n",
    "# if stack is empty then we will push the new value and return the index + 1\n",
    "# else result is current index - topmost index "
   ]
  },
  {
   "cell_type": "code",
   "execution_count": null,
   "metadata": {},
   "outputs": [],
   "source": [
    "class StockSpanner:\n",
    "\n",
    "    def __init__(self):\n",
    "        self.priceList = []\n",
    "        self.indexList = []\n",
    "        self.index = -1\n",
    "\n",
    "    def next(self, price: int) -> int:\n",
    "        self.index += 1\n",
    "        while(self.priceList != [] and self.priceList[-1] <= price):\n",
    "            self.priceList.pop()\n",
    "            self.indexList.pop()\n",
    "        \n",
    "        if(self.priceList == []):\n",
    "            self.priceList.append(price)\n",
    "            self.indexList.append(self.index)\n",
    "            return (self.index + 1)\n",
    "        \n",
    "        result = self.indexList[-1]\n",
    "        \n",
    "        self.priceList.append(price)\n",
    "        self.indexList.append(self.index)\n",
    "        \n",
    "        return self.index - result\n"
   ]
  }
 ],
 "metadata": {
  "kernelspec": {
   "display_name": "Python 3",
   "language": "python",
   "name": "python3"
  },
  "language_info": {
   "codemirror_mode": {
    "name": "ipython",
    "version": 3
   },
   "file_extension": ".py",
   "mimetype": "text/x-python",
   "name": "python",
   "nbconvert_exporter": "python",
   "pygments_lexer": "ipython3",
   "version": "3.6.8"
  }
 },
 "nbformat": 4,
 "nbformat_minor": 2
}

{
 "cells": [
  {
   "cell_type": "code",
   "execution_count": null,
   "metadata": {},
   "outputs": [],
   "source": [
    "\"\"\"Given a binary tree, return all duplicate subtrees. For each kind of duplicate subtrees, you only need to return the root node of any one of them.\n",
    "\n",
    "Two trees are duplicate if they have the same structure with same node values.\"\"\"\n",
    "\n",
    "\n",
    "# Algorithm\n",
    "# We create a dictionary which hold the root value, its left and right child\n",
    "# whenever we encounter it again we increment it by 1\n",
    "# if the value of key turn out to be 2\n",
    "## then we append the root to the answer list\n",
    "\n",
    "\n",
    "\n",
    "## Please check the code(this code uses defaultdict, default_factory)"
   ]
  },
  {
   "cell_type": "code",
   "execution_count": 6,
   "metadata": {},
   "outputs": [],
   "source": [
    "import collections\n",
    "# Definition for a binary tree node.\n",
    "class Tree:\n",
    "    def __init__(self, val=0, left=None, right=None):\n",
    "        self.val = val\n",
    "        self.left = left\n",
    "        self.right = right\n",
    "        \n",
    "class Solution:\n",
    "\n",
    "    def findDuplicateSubtrees(self, root: TreeNode):\n",
    "        trees = collections.defaultdict()\n",
    "        trees.default_factory = trees.__len__\n",
    "        count = collections.Counter()\n",
    "        ans = []\n",
    "        \n",
    "        def lookup(node):\n",
    "            if node:\n",
    "                key = trees[node.val,lookup(node.left), lookup(node.right)]\n",
    "                count[key] += 1\n",
    "                if count[key] == 2:\n",
    "                    ans.append(node)\n",
    "                return key\n",
    "        lookup(root)\n",
    "        return ans"
   ]
  },
  {
   "cell_type": "code",
   "execution_count": 8,
   "metadata": {},
   "outputs": [
    {
     "name": "stdout",
     "output_type": "stream",
     "text": [
      "[<__main__.Tree object at 0x10bc39978>, <__main__.Tree object at 0x10bc399b0>]\n"
     ]
    }
   ],
   "source": [
    "if __name__ == \"__main__\":\n",
    "    \n",
    "    root = Tree(1)\n",
    "    root.left = Tree(2)\n",
    "    root.right = Tree(3)\n",
    "    root.left.left = Tree(4)\n",
    "    root.right.left = Tree(2)\n",
    "    root.right.right = Tree(4)\n",
    "    root.right.left.left = Tree(4)\n",
    "    s = Solution()\n",
    "    print(s.findDuplicateSubtrees(root))"
   ]
  }
 ],
 "metadata": {
  "kernelspec": {
   "display_name": "Python 3",
   "language": "python",
   "name": "python3"
  },
  "language_info": {
   "codemirror_mode": {
    "name": "ipython",
    "version": 3
   },
   "file_extension": ".py",
   "mimetype": "text/x-python",
   "name": "python",
   "nbconvert_exporter": "python",
   "pygments_lexer": "ipython3",
   "version": "3.6.8"
  }
 },
 "nbformat": 4,
 "nbformat_minor": 2
}

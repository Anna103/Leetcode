{
 "cells": [
  {
   "cell_type": "code",
   "execution_count": 1,
   "metadata": {},
   "outputs": [
    {
     "data": {
      "text/plain": [
       "'Given an integer array nums, find the sum of the elements between indices i and j (i ≤ j), inclusive.\\n\\nExample:\\nGiven nums = [-2, 0, 3, -5, 2, -1]\\n\\nsumRange(0, 2) -> 1\\nsumRange(2, 5) -> -1\\nsumRange(0, 5) -> -3'"
      ]
     },
     "execution_count": 1,
     "metadata": {},
     "output_type": "execute_result"
    }
   ],
   "source": [
    "\"\"\"Given an integer array nums, find the sum of the elements between indices i and j (i ≤ j), inclusive.\n",
    "\n",
    "Example:\n",
    "Given nums = [-2, 0, 3, -5, 2, -1]\n",
    "\n",
    "sumRange(0, 2) -> 1\n",
    "sumRange(2, 5) -> -1\n",
    "sumRange(0, 5) -> -3\"\"\"\n",
    "\n",
    "# Algorithm\n",
    "# We create an array of size of nums list + 1\n",
    "# then leaving the 0th index we create sum until ith position until end of array\n",
    "# in the output we return value at j+1(inclusive of j, hence j+1) - i"
   ]
  },
  {
   "cell_type": "code",
   "execution_count": 3,
   "metadata": {},
   "outputs": [],
   "source": [
    "class NumArray:\n",
    "\n",
    "    def __init__(self, nums):\n",
    "        self.nums = nums\n",
    "        self.total = [0 for i in range(len(nums)+1)]\n",
    "        for i in range(len(nums)):\n",
    "            self.total[i+1] = self.total[i] + self.nums[i]\n",
    "\n",
    "    def sumRange(self, i: int, j: int) -> int:\n",
    "        return self.total[j+1] - self.total[i]"
   ]
  },
  {
   "cell_type": "code",
   "execution_count": 6,
   "metadata": {},
   "outputs": [
    {
     "name": "stdout",
     "output_type": "stream",
     "text": [
      "1\n"
     ]
    }
   ],
   "source": [
    "if __name__ == \"__main__\":\n",
    "    \n",
    "    nums = [-2, 0, 3, -5, 2, -1]\n",
    "    s = NumArray(nums)\n",
    "    print(s.sumRange(0, 2))"
   ]
  }
 ],
 "metadata": {
  "kernelspec": {
   "display_name": "Python 3",
   "language": "python",
   "name": "python3"
  },
  "language_info": {
   "codemirror_mode": {
    "name": "ipython",
    "version": 3
   },
   "file_extension": ".py",
   "mimetype": "text/x-python",
   "name": "python",
   "nbconvert_exporter": "python",
   "pygments_lexer": "ipython3",
   "version": "3.6.8"
  }
 },
 "nbformat": 4,
 "nbformat_minor": 2
}

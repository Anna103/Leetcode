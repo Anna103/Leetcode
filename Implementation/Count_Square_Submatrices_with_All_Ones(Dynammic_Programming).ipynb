{
 "cells": [
  {
   "cell_type": "code",
   "execution_count": null,
   "metadata": {},
   "outputs": [],
   "source": [
    "\"\"\"Given a m * n matrix of ones and zeros, return how many square submatrices have all ones.\n",
    "\n",
    " \n",
    "\n",
    "Example 1:\n",
    "\n",
    "Input: matrix =\n",
    "[\n",
    "  [0,1,1,1],\n",
    "  [1,1,1,1],\n",
    "  [0,1,1,1]\n",
    "]\n",
    "Output: 15\n",
    "Explanation: \n",
    "There are 10 squares of side 1.\n",
    "There are 4 squares of side 2.\n",
    "There is  1 square of side 3.\n",
    "Total number of squares = 10 + 4 + 1 = 15.\n",
    "Example 2:\n",
    "\n",
    "Input: matrix = \n",
    "[\n",
    "  [1,0,1],\n",
    "  [1,1,0],\n",
    "  [1,1,0]\n",
    "]\n",
    "Output: 7\n",
    "Explanation: \n",
    "There are 6 squares of side 1.  \n",
    "There is 1 square of side 2. \n",
    "Total number of squares = 6 + 1 = 7.\"\"\"\n",
    "\n",
    "\n",
    "# Algorithm\n",
    "# We will use Dynammic programming to solve this question\n",
    "# We ignore 1st row and 1st column in our matrix\n",
    "# If current cell is 1\n",
    "    # We take a cell, check its left, top, top-left get the minimum value among these 3 and add 1(for current cell)\n",
    "    # change current cell to above calculation\n",
    "# Run through the matrix adding all the values\n",
    "# This is the output\n"
   ]
  },
  {
   "cell_type": "code",
   "execution_count": 3,
   "metadata": {},
   "outputs": [],
   "source": [
    "class Solution:\n",
    "    def countSquares(self, matrix):\n",
    "        if(matrix == [] or len(matrix) == 0 or matrix == [[]]):\n",
    "            return 0\n",
    "        result = 0\n",
    "        for i in range(1,len(matrix)):\n",
    "            for j in range(1,len(matrix[i])):\n",
    "                if(matrix[i][j] == 0):\n",
    "                    continue\n",
    "                matrix[i][j] = min(matrix[i-1][j-1], matrix[i-1][j], matrix[i][j-1])+1\n",
    "        for i in matrix:\n",
    "            print(i, sum(i))\n",
    "            result += sum(i)\n",
    "        return result"
   ]
  },
  {
   "cell_type": "code",
   "execution_count": 4,
   "metadata": {},
   "outputs": [
    {
     "name": "stdout",
     "output_type": "stream",
     "text": [
      "[0, 1, 1, 1] 3\n",
      "[1, 1, 2, 2] 6\n",
      "[0, 1, 2, 3] 6\n",
      "15\n"
     ]
    }
   ],
   "source": [
    "if __name__ == \"__main__\":\n",
    "    matrix = [\n",
    "  [0,1,1,1],\n",
    "  [1,1,1,1],\n",
    "  [0,1,1,1]\n",
    "]\n",
    "    s = Solution()\n",
    "    print(s.countSquares(matrix))"
   ]
  }
 ],
 "metadata": {
  "kernelspec": {
   "display_name": "Python 3",
   "language": "python",
   "name": "python3"
  },
  "language_info": {
   "codemirror_mode": {
    "name": "ipython",
    "version": 3
   },
   "file_extension": ".py",
   "mimetype": "text/x-python",
   "name": "python",
   "nbconvert_exporter": "python",
   "pygments_lexer": "ipython3",
   "version": "3.6.8"
  }
 },
 "nbformat": 4,
 "nbformat_minor": 2
}

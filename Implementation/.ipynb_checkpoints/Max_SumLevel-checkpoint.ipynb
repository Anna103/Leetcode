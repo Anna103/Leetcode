{
 "cells": [
  {
   "cell_type": "code",
   "execution_count": 1,
   "metadata": {},
   "outputs": [],
   "source": [
    "#Program to find the level at which sum of the nodes is maximum\n",
    "#find the sum of nodes at each level and store in a llist and return the max values index\n",
    "\n",
    "class Tree:\n",
    "    #ini\n",
    "    def __init__(self, data):\n",
    "        self.data = data\n",
    "        self.left = None\n",
    "        self.right = None\n",
    "        "
   ]
  },
  {
   "cell_type": "code",
   "execution_count": 33,
   "metadata": {},
   "outputs": [],
   "source": [
    "class MaxLevel:\n",
    "    def maxLevelSum(root):\n",
    "        sum_per_level = []\n",
    "        elements_level = []\n",
    "        nodes_visited = [root]\n",
    "        next_nodes_visit = []\n",
    "\n",
    "        while (len(nodes_visited) > 0):\n",
    "            root = nodes_visited.pop()\n",
    "            print(root.data)\n",
    "            elements_level.append(root)\n",
    "            if(root.left):\n",
    "                next_nodes_visit.append(root.left)\n",
    "            if(root.right):\n",
    "                next_nodes_visit.append(root.right)\n",
    "            if(len(nodes_visited) == 0):\n",
    "                s = 0\n",
    "                for i in range(len(elements_level)):\n",
    "                    s += elements_level[i].data\n",
    "                sum_per_level.append(s)\n",
    "                elements_level = []\n",
    "                next_nodes_visit, nodes_visited = nodes_visited, next_nodes_visit\n",
    "        print(sum_per_level)\n",
    "        idx = sum_per_level.index(max(sum_per_level))\n",
    "        return idx+1"
   ]
  },
  {
   "cell_type": "code",
   "execution_count": 36,
   "metadata": {},
   "outputs": [
    {
     "name": "stdout",
     "output_type": "stream",
     "text": [
      "1\n",
      "3\n",
      "2\n",
      "4\n",
      "7\n",
      "6\n",
      "[1, 5, 17]\n",
      "Max Level 3\n"
     ]
    }
   ],
   "source": [
    "if __name__ == \"__main__\":\n",
    "    root = Tree(1)\n",
    "    root.left = Tree(2)\n",
    "    root.right = Tree(3)\n",
    "    root.left.left = Tree(4)\n",
    "    #root.left.right = Tree(5)\n",
    "    root.right.left = Tree(6)\n",
    "    root.right.right = Tree(7)\n",
    "    idx = MaxLevel.maxLevelSum(root) \n",
    "    print(\"Max Level\", idx)"
   ]
  }
 ],
 "metadata": {
  "kernelspec": {
   "display_name": "Python 3",
   "language": "python",
   "name": "python3"
  },
  "language_info": {
   "codemirror_mode": {
    "name": "ipython",
    "version": 3
   },
   "file_extension": ".py",
   "mimetype": "text/x-python",
   "name": "python",
   "nbconvert_exporter": "python",
   "pygments_lexer": "ipython3",
   "version": "3.6.8"
  }
 },
 "nbformat": 4,
 "nbformat_minor": 2
}

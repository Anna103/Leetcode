{
 "cells": [
  {
   "cell_type": "code",
   "execution_count": 40,
   "metadata": {},
   "outputs": [],
   "source": [
    "class maxApplesFinder:\n",
    "    def find_max_apple(self, orchid):\n",
    "        apple_counter = []\n",
    "        max_apple = 0\n",
    "        count = 0\n",
    "        if(len(orchid)  == 1):\n",
    "            return orchid[0]\n",
    "        for i in range(len(orchid)):\n",
    "            if (apple_counter == [] or orchid[apple_counter[-1]] <= orchid[i]):\n",
    "                apple_counter.append(i)\n",
    "            elif (orchid[i] < orchid[apple_counter[-1]]):\n",
    "                while(apple_counter != [] and orchid[i] < orchid[apple_counter[-1]]):\n",
    "                    out = apple_counter.pop()\n",
    "                    if (apple_counter == []):\n",
    "                        count = (i)*orchid[out]\n",
    "                    else:\n",
    "                        count = (i-apple_counter[-1]-1)*orchid[out]\n",
    "                    max_apple = max(max_apple, count)\n",
    "                apple_counter.append(i)\n",
    "        if apple_counter:\n",
    "            i = len(orchid)\n",
    "            while(len(apple_counter) > 1):\n",
    "                out = apple_counter.pop()\n",
    "                count = (i - apple_counter[-1]-1)*orchid[out]\n",
    "                max_apple = max(max_apple, count)\n",
    "            if(len(apple_counter) == 1):\n",
    "                out = apple_counter.pop()\n",
    "                count = (i)*orchid[out]\n",
    "                max_apple = max(max_apple, count)\n",
    "        return max_apple\n",
    "                \n",
    "                \n",
    "            \n",
    "                "
   ]
  },
  {
   "cell_type": "code",
   "execution_count": 41,
   "metadata": {},
   "outputs": [
    {
     "name": "stdout",
     "output_type": "stream",
     "text": [
      "20\n"
     ]
    }
   ],
   "source": [
    "if __name__ == \"__main__\":\n",
    "    orchid = [3,6,5,7,4,8,1,0]\n",
    "    maf = maxApplesFinder()\n",
    "    print(maf.find_max_apple(orchid))"
   ]
  }
 ],
 "metadata": {
  "kernelspec": {
   "display_name": "Python 3",
   "language": "python",
   "name": "python3"
  },
  "language_info": {
   "codemirror_mode": {
    "name": "ipython",
    "version": 3
   },
   "file_extension": ".py",
   "mimetype": "text/x-python",
   "name": "python",
   "nbconvert_exporter": "python",
   "pygments_lexer": "ipython3",
   "version": "3.6.8"
  }
 },
 "nbformat": 4,
 "nbformat_minor": 2
}

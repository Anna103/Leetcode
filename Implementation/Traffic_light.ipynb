{
 "cells": [
  {
   "cell_type": "code",
   "execution_count": 1,
   "metadata": {},
   "outputs": [],
   "source": [
    "class State:\n",
    "    \n",
    "    def change(self):\n",
    "        self.time += 1\n",
    "        if self.time == self.total_time:\n",
    "            self.time = 0\n",
    "        print(\"Color %s Time %d\"%(self.color, self.time))    "
   ]
  },
  {
   "cell_type": "code",
   "execution_count": 2,
   "metadata": {},
   "outputs": [],
   "source": [
    "class Red(State):\n",
    "    \n",
    "    \"\"\"constructor for AM state class\"\"\"\n",
    "    def __init__(self, traffic): \n",
    "          \n",
    "        self.traffic = traffic \n",
    "        self.total_time =  10\n",
    "        self.pos = 0\n",
    "        self.color = \"Red\"\n",
    "  \n",
    "    \"\"\"method for toggling the state\"\"\"\n",
    "    def toggle_redgreen(self): \n",
    "        print(\"Switching to Green\") \n",
    "        self.traffic.state = self.traffic.green "
   ]
  },
  {
   "cell_type": "code",
   "execution_count": 3,
   "metadata": {},
   "outputs": [],
   "source": [
    "class Green(State):\n",
    "    \n",
    "    \"\"\"constructor for AM state class\"\"\"\n",
    "    def __init__(self, traffic): \n",
    "          \n",
    "        self.traffic = traffic \n",
    "        self.total_time =  15\n",
    "        self.pos = 0\n",
    "        self.color = \"Green\"\n",
    "  \n",
    "    \"\"\"method for toggling the state\"\"\"\n",
    "    def toggle_greenyellow(self): \n",
    "        print(\"Switching to Yellow\") \n",
    "        self.traffic.state = self.traffic.yellow "
   ]
  },
  {
   "cell_type": "code",
   "execution_count": 4,
   "metadata": {},
   "outputs": [],
   "source": [
    "class Yellow(State):\n",
    "    \n",
    "    \"\"\"constructor for AM state class\"\"\"\n",
    "    def __init__(self, traffic): \n",
    "          \n",
    "        self.traffic = traffic \n",
    "        self.total_time =  5\n",
    "        self.pos = 0\n",
    "        self.color = \"Yellow\"\n",
    "  \n",
    "    \"\"\"method for toggling the state\"\"\"\n",
    "    def toggle_yellowred(self): \n",
    "        print(\"Switching to Red\") \n",
    "        self.traffic.state = self.traffic.red "
   ]
  },
  {
   "cell_type": "code",
   "execution_count": 5,
   "metadata": {},
   "outputs": [],
   "source": [
    "class Traffic:\n",
    "    \n",
    "    def __init__(self):\n",
    "        self.red = Red(self)\n",
    "        self.green = Green(self)\n",
    "        self.yellow = Yellow(self)\n",
    "        self.state = self.green\n",
    "    \n",
    "    \"\"\"method to toggle the switch\"\"\"\n",
    "    def toggle_yellowred(self): \n",
    "        self.state.toggle_yellowred() \n",
    "        \n",
    "    def toggle_redgreen(self): \n",
    "        self.state.toggle_redgreen() \n",
    "  \n",
    "    \"\"\"method to scan \"\"\"\n",
    "    def change(self): \n",
    "        self.state.change() "
   ]
  },
  {
   "cell_type": "code",
   "execution_count": null,
   "metadata": {},
   "outputs": [],
   "source": [
    "\"\"\" main method \"\"\"\n",
    "if __name__ == \"__main__\": \n",
    "  \n",
    "    \"\"\" create radio object\"\"\"\n",
    "    traffic = Traffic() \n",
    "    actions = [radio.scan] * 3 + [radio.toggle_amfm] + [radio.scan] * 3\n",
    "    actions *= 2\n",
    "  \n",
    "    for action in actions: \n",
    "        action() "
   ]
  },
  {
   "cell_type": "code",
   "execution_count": null,
   "metadata": {},
   "outputs": [],
   "source": []
  },
  {
   "cell_type": "code",
   "execution_count": null,
   "metadata": {},
   "outputs": [],
   "source": []
  },
  {
   "cell_type": "code",
   "execution_count": null,
   "metadata": {},
   "outputs": [],
   "source": []
  },
  {
   "cell_type": "code",
   "execution_count": null,
   "metadata": {},
   "outputs": [],
   "source": [
    "from abc import ABC, abstractmethod\n",
    "import time\n",
    "\n",
    "class TrafficController:\n",
    "    def showLight(self):\n",
    "        \n",
    "\n",
    "class Yellow(TrafficController):\n",
    "    def showLight(self):\n",
    "        system.out.println(\"It is Yellow\")\n",
    "        time.sleep(2.4)   \n",
    "        \n",
    "class Red(TrafficController):\n",
    "    def showLight(self):\n",
    "        system.out.println(\"It is Red\")\n",
    "        time.sleep(2.4)\n",
    "\n",
    "class Green(TrafficController):\n",
    "    def showLight(self):\n",
    "        system.out.println(\"It is Green\")\n",
    "        time.sleep(2.4)      \n"
   ]
  }
 ],
 "metadata": {
  "kernelspec": {
   "display_name": "Python 3",
   "language": "python",
   "name": "python3"
  },
  "language_info": {
   "codemirror_mode": {
    "name": "ipython",
    "version": 3
   },
   "file_extension": ".py",
   "mimetype": "text/x-python",
   "name": "python",
   "nbconvert_exporter": "python",
   "pygments_lexer": "ipython3",
   "version": "3.6.8"
  }
 },
 "nbformat": 4,
 "nbformat_minor": 2
}

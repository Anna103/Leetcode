{
 "cells": [
  {
   "cell_type": "code",
   "execution_count": null,
   "metadata": {},
   "outputs": [],
   "source": [
    "\"\"\"There is a fence with n posts, each post can be painted with one of the k colors.\n",
    "\n",
    "You have to paint all the posts such that no more than two adjacent fence posts have the same color.\n",
    "\n",
    "Return the total number of ways you can paint the fence.\n",
    "\n",
    "Note:\n",
    "n and k are non-negative integers.\n",
    "\n",
    "\"\"\"\n",
    "# Algorithm\n",
    "\n",
    "#1. we need to know the formuale that #of ways = (k-1)* (dp[i-1] + dp[i-2])\n",
    "#2. dp[0] = k (1st house will have k number of ways to paint)\n",
    "#3. dp[1] = k*k( Adjacent houses can be painted same hence K*K instead of K*(k-1))\n",
    "#4. run a for loop upto n wih formual dp[i] = k - 1 (dp [i-1] + dp[i-2])\n",
    "# return the last value\n"
   ]
  },
  {
   "cell_type": "code",
   "execution_count": null,
   "metadata": {},
   "outputs": [],
   "source": [
    "class Solution:\n",
    "    def numWays(self, n: int, k: int) -> int:\n",
    "        if(n == 0 or k ==0):\n",
    "            return 0\n",
    "        elif(n==1):\n",
    "            return k\n",
    "        dp = [0 for i in range(n)]\n",
    "        dp[0] = k\n",
    "        dp[1] = k*k\n",
    "        for i in range(2, n):\n",
    "            dp[i] = (k-1) * (dp[i-1]+ dp[i-2])\n",
    "        return dp[n-1]"
   ]
  }
 ],
 "metadata": {
  "kernelspec": {
   "display_name": "Python 3",
   "language": "python",
   "name": "python3"
  },
  "language_info": {
   "codemirror_mode": {
    "name": "ipython",
    "version": 3
   },
   "file_extension": ".py",
   "mimetype": "text/x-python",
   "name": "python",
   "nbconvert_exporter": "python",
   "pygments_lexer": "ipython3",
   "version": "3.6.8"
  }
 },
 "nbformat": 4,
 "nbformat_minor": 2
}

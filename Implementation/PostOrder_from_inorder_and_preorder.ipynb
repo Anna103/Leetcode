{
 "cells": [
  {
   "cell_type": "code",
   "execution_count": 21,
   "metadata": {},
   "outputs": [],
   "source": [
    "class GetPostOrder:\n",
    "    def postorder_finder(self, inorder, preorder, n):\n",
    "        if preorder[0] in inorder:\n",
    "            root = inorder.index(preorder[0])\n",
    "        if root != 0:\n",
    "            self.postorder_finder(inorder[:root], preorder[1: root+1], len(inorder[:root]))\n",
    "        if root != n-1:\n",
    "            self.postorder_finder(inorder[root+1:], preorder[root+1:], len(inorder[root+1:]))\n",
    "        print(preorder[0])"
   ]
  },
  {
   "cell_type": "code",
   "execution_count": 41,
   "metadata": {},
   "outputs": [],
   "source": [
    "from collections import deque\n",
    "class GetPreOrder:\n",
    "    \n",
    "\n",
    "\n",
    "# Recursive function to find preorder traversal of a binary tree\n",
    "# from its inorder and postorder sequence.\n",
    "    def printPreorder(self, start, end, postorder, pIndex, dict, stack):\n",
    "\n",
    "        # base case\n",
    "        if start > end:\n",
    "            return pIndex\n",
    "\n",
    "        # The next element in postorder sequence from the end will be the root node\n",
    "        # of subtree formed by inorder[start, end]\n",
    "        value = postorder[pIndex]\n",
    "        pIndex = pIndex - 1\n",
    "        print(\"Value\",value, \"pIndex\",pIndex)\n",
    "        # get the index of current node in inorder sequence to determine the\n",
    "        # boundary of its left and right subtree\n",
    "        index = dict[value]\n",
    "        \n",
    "        # recur for right subtree\n",
    "        pIndex = self.printPreorder(index + 1, end, postorder, pIndex, dict, stack)\n",
    "\n",
    "        # recur for left subtree\n",
    "        pIndex = self.printPreorder(start, index - 1, postorder, pIndex, dict, stack)\n",
    "\n",
    "        # push the value of current node into the stack\n",
    "        stack.append(value)\n",
    "\n",
    "        return pIndex\n",
    "\n",
    "\n",
    "    # Find preorder traversal of a binary tree from its inorder and\n",
    "    # postorder sequence. This function assumes that the input is valid\n",
    "    # i.e. given inorder and postorder sequence forms a binary tree\n",
    "    def findPreorder(self, inorder, postorder):\n",
    "\n",
    "        # dict is used to efficiently find the index of any element in\n",
    "        # given inorder sequence\n",
    "        dict = {}\n",
    "\n",
    "        # fill the dictionary\n",
    "        for i, e in enumerate(inorder):\n",
    "            dict[e] = i\n",
    "\n",
    "        # lastIndex stores the index of next unprocessed node from the end\n",
    "        # of postorder sequence\n",
    "        lastIndex = len(inorder) - 1\n",
    "\n",
    "        # construct a stack to store the preorder sequence\n",
    "        stack = deque()\n",
    "\n",
    "        # fill the stack\n",
    "        self.printPreorder(0, lastIndex, postorder, lastIndex, dict, stack)\n",
    "\n",
    "        # print stack\n",
    "        print(\"Preorder Traversal is: \", end='')\n",
    "        while stack:\n",
    "            print(stack.pop(), end=' ')"
   ]
  },
  {
   "cell_type": "code",
   "execution_count": 42,
   "metadata": {},
   "outputs": [
    {
     "name": "stdout",
     "output_type": "stream",
     "text": [
      "A\n",
      "C\n",
      "E\n",
      "D\n",
      "B\n",
      "H\n",
      "I\n",
      "G\n",
      "F\n",
      "None\n"
     ]
    }
   ],
   "source": [
    "if __name__ == \"__main__\":\n",
    "    gpo = GetPostOrder()\n",
    "    inorder = ['A', 'B', 'C', 'D', 'E', 'F', 'G', 'H', 'I']\n",
    "    preorder = ['F', 'B', 'A', 'D', 'C', 'E', 'G', 'I', 'H']\n",
    "    print(gpo.postorder_finder(inorder, preorder,len(inorder)))"
   ]
  },
  {
   "cell_type": "code",
   "execution_count": 43,
   "metadata": {},
   "outputs": [
    {
     "name": "stdout",
     "output_type": "stream",
     "text": [
      "Value F pIndex 7\n",
      "Value G pIndex 6\n",
      "Value I pIndex 5\n",
      "Value H pIndex 4\n",
      "Value B pIndex 3\n",
      "Value D pIndex 2\n",
      "Value E pIndex 1\n",
      "Value C pIndex 0\n",
      "Value A pIndex -1\n",
      "Preorder Traversal is: F B A D C E G I H None\n"
     ]
    }
   ],
   "source": [
    "if __name__ == \"__main__\":\n",
    "    gpo = GetPreOrder()\n",
    "    inorder = ['A', 'B', 'C', 'D', 'E', 'F', 'G', 'H', 'I']\n",
    "    postorder=['A', 'C', 'E', 'D', 'B', 'H', 'I', 'G', 'F']\n",
    "    print(gpo.findPreorder(inorder, postorder))"
   ]
  }
 ],
 "metadata": {
  "kernelspec": {
   "display_name": "Python 3",
   "language": "python",
   "name": "python3"
  },
  "language_info": {
   "codemirror_mode": {
    "name": "ipython",
    "version": 3
   },
   "file_extension": ".py",
   "mimetype": "text/x-python",
   "name": "python",
   "nbconvert_exporter": "python",
   "pygments_lexer": "ipython3",
   "version": "3.6.8"
  }
 },
 "nbformat": 4,
 "nbformat_minor": 2
}

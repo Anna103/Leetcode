{
 "cells": [
  {
   "cell_type": "code",
   "execution_count": null,
   "metadata": {},
   "outputs": [],
   "source": [
    "\"\"\"Given an array nums of n integers, are there elements a, b, c in nums such that a + b + c = 0? \n",
    "Find all unique triplets in the array which gives the sum of zero.\n",
    "\n",
    "Note:\n",
    "\n",
    "The solution set must not contain duplicate triplets.\n",
    "\n",
    "Example:\n",
    "\n",
    "Given array nums = [-1, 0, 1, 2, -1, -4],\n",
    "\n",
    "A solution set is:\n",
    "[\n",
    "  [-1, 0, 1],\n",
    "  [-1, -1, 2]\n",
    "]\"\"\"\n",
    "  "
   ]
  },
  {
   "cell_type": "markdown",
   "metadata": {},
   "source": [
    "Thought process \n",
    "\n",
    "n^3 - We need to find 3 numbers, take number one by one and check if its sum is giving us 0,\n",
    "      if yes then add it to output <br>\n",
    "n^2(using dictionary) - We will try shifting 'c' to other side, now the equation is a+b = -c, have a dictionary that holds the value of each element \n",
    "      as key and value as the index, run 2 for loops for a,b and find the additions such that we find the value of c\n",
    "      remeber not to repeat the number<br>\n",
    "n^2(using 2 pointer) - below algorithm"
   ]
  },
  {
   "cell_type": "code",
   "execution_count": 1,
   "metadata": {},
   "outputs": [
    {
     "data": {
      "text/plain": [
       "'Given an array nums of n integers, are there elements a, b, c in nums such that a + b + c = 0? Find all unique triplets in the array which gives the sum of zero.\\n\\nNote:\\n\\nThe solution set must not contain duplicate triplets.\\n\\nExample:\\n\\nGiven array nums = [-1, 0, 1, 2, -1, -4],\\n\\nA solution set is:\\n[\\n  [-1, 0, 1],\\n  [-1, -1, 2]\\n]'"
      ]
     },
     "execution_count": 1,
     "metadata": {},
     "output_type": "execute_result"
    }
   ],
   "source": [
    "  \n",
    "    \n",
    "    # Algorithm\n",
    "    # 1. Sort the numbers\n",
    "    # 2. Run the loop until last 2 elements are remaining(i)\n",
    "        # 3. if i == 0 or i> 0 and nums[i] != nums[i-1] (elements to the side are not same)\n",
    "            # 4. low = i+1\n",
    "            # 5. high = len(nums) -1\n",
    "            # 6. sum = 0 - nums[i]\n",
    "                # 7. run loop until low is less than high\n",
    "                    # 8. if (nums[low] + nums[high] == sum)\n",
    "                        # 9. add all three elements to our output(nums[i], nums[low], nums[high])\n",
    "                        # 10. while(low< high and nums[low]== nums[low+1]) then low ++ \n",
    "                        # 11. while(low< high and nums[high]== nums[high-1]) then high --\n",
    "                        # 12. low ++ ; high --\n",
    "                    # 13. else if (nums[low] + nums[high] > sum) then high--\n",
    "                    # 14. else low ++\n",
    "    # return the output array\n",
    "    "
   ]
  },
  {
   "cell_type": "code",
   "execution_count": 1,
   "metadata": {},
   "outputs": [],
   "source": [
    "class Solution:\n",
    "    def threeSum(self, num):\n",
    "        num.sort()\n",
    "        output = []\n",
    "        for i in range(len(num)-2):\n",
    "            if(i ==0 or i > 0 and num[i] != num[i-1]):\n",
    "                low = i+1\n",
    "                high = len(num)-1\n",
    "                sums = 0 - num[i]\n",
    "                while(low < high):\n",
    "                    if(num[low] + num[high] == sums):\n",
    "                        output.append([num[i], num[low], num[high]])\n",
    "                        while(low < high and num[low] == num[low+1]):\n",
    "                            low += 1\n",
    "                        while(low < high and num[high] == num[high-1]):\n",
    "                            high -= 1\n",
    "                        low += 1\n",
    "                        high -= 1\n",
    "                    elif (num[low]+num[high] > sums):\n",
    "                        high -= 1\n",
    "                    else:\n",
    "                        low += 1\n",
    "        return output"
   ]
  },
  {
   "cell_type": "code",
   "execution_count": 2,
   "metadata": {},
   "outputs": [
    {
     "name": "stdout",
     "output_type": "stream",
     "text": [
      "[[-1, -1, 2], [-1, 0, 1]]\n"
     ]
    }
   ],
   "source": [
    "if __name__ == \"__main__\":\n",
    "    s = Solution()\n",
    "    nums = [-1, 0, 1, 2, -1, -4]\n",
    "    print(s.threeSum(nums))"
   ]
  },
  {
   "cell_type": "code",
   "execution_count": 1,
   "metadata": {},
   "outputs": [
    {
     "name": "stdout",
     "output_type": "stream",
     "text": [
      "0.0\n"
     ]
    }
   ],
   "source": [
    "print(100/100-1)"
   ]
  }
 ],
 "metadata": {
  "kernelspec": {
   "display_name": "Python 3",
   "language": "python",
   "name": "python3"
  },
  "language_info": {
   "codemirror_mode": {
    "name": "ipython",
    "version": 3
   },
   "file_extension": ".py",
   "mimetype": "text/x-python",
   "name": "python",
   "nbconvert_exporter": "python",
   "pygments_lexer": "ipython3",
   "version": "3.6.8"
  }
 },
 "nbformat": 4,
 "nbformat_minor": 2
}

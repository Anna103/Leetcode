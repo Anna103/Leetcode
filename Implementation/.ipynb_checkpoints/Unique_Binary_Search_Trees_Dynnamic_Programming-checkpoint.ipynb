{
 "cells": [
  {
   "cell_type": "code",
   "execution_count": null,
   "metadata": {},
   "outputs": [],
   "source": [
    "\"\"\"Question\n",
    "\n",
    "Given n, how many structurally unique BST's (binary search trees) that store values 1 ... n?\n",
    "\n",
    "Example:\n",
    "\n",
    "Input: 3\n",
    "Output: 5\n",
    "Explanation:\n",
    "Given n = 3, there are a total of 5 unique BST's:\n",
    "\n",
    "   1         3     3      2      1\n",
    "    \\       /     /      / \\      \\\n",
    "     3     2     1      1   3      2\n",
    "    /     /       \\                 \\\n",
    "   2     1         2                 3\n",
    "\n",
    "\"\"\"\n",
    "# Algorithm\n",
    "# We need to use Dynammic Programming to solve this question\n",
    "# Create a dp array of size n+1 (because we start with number 1)\n",
    "# initialise 0 and 1 index as 1 (coz we can create only 1 tree when n = 0 or 1)\n",
    "# run loop from 2 to n+1 (coz we need to find answers from index 2 o when we have 2 numbers)\n",
    "    # run loop from 1 to i\n",
    "        #G[i] += G[j-1 ] *G[i-j] (left and right section from root)\n",
    "    # return G[n]\n",
    "    \n",
    "    \n",
    "    "
   ]
  },
  {
   "cell_type": "code",
   "execution_count": 2,
   "metadata": {},
   "outputs": [],
   "source": [
    "class Solution:\n",
    "    def numTrees(self, n: int) -> int:\n",
    "        G = [0]*(n+1)\n",
    "        G[0] = 1\n",
    "        G[1] = 1\n",
    "        for i in range(2, n+1):\n",
    "            for j in range(1, i+1):\n",
    "                G[i] += G[j-1] *G[i-j]\n",
    "        return G[n]  "
   ]
  },
  {
   "cell_type": "code",
   "execution_count": 3,
   "metadata": {},
   "outputs": [
    {
     "name": "stdout",
     "output_type": "stream",
     "text": [
      "5\n"
     ]
    }
   ],
   "source": [
    "if __name__== \"__main__\":\n",
    "    s = Solution()\n",
    "    print(s.numTrees(3))"
   ]
  }
 ],
 "metadata": {
  "kernelspec": {
   "display_name": "Python 3",
   "language": "python",
   "name": "python3"
  },
  "language_info": {
   "codemirror_mode": {
    "name": "ipython",
    "version": 3
   },
   "file_extension": ".py",
   "mimetype": "text/x-python",
   "name": "python",
   "nbconvert_exporter": "python",
   "pygments_lexer": "ipython3",
   "version": "3.6.8"
  }
 },
 "nbformat": 4,
 "nbformat_minor": 2
}

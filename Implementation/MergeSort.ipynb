{
 "cells": [
  {
   "cell_type": "code",
   "execution_count": 12,
   "metadata": {},
   "outputs": [],
   "source": [
    "# Time complexity is nlogn\n",
    "class Solution:\n",
    "    \n",
    "    def mergesort(self, array, low, high):\n",
    "        if low < high:\n",
    "            mid = int((low + high) / 2)\n",
    "            self.mergesort(array, low, mid )\n",
    "            self.mergesort(array, mid+1, high)\n",
    "            return (self.merge(array, low, mid, high ))\n",
    "    \n",
    "    def merge(self, array, low, mid, high):\n",
    "        n1 = mid - low + 1\n",
    "        n2 = high - mid \n",
    "\n",
    "        # create temp arrays \n",
    "        left = [0] * (n1) \n",
    "        right = [0] * (n2) \n",
    "\n",
    "        # Copy data to temp arrays L[] and R[] \n",
    "        for i in range(0 , n1): \n",
    "            left[i] = array[low + i] \n",
    "\n",
    "        for j in range(0 , n2): \n",
    "            right[j] = array[mid + 1 + j] \n",
    "        \n",
    "        i, j = 0, 0\n",
    "        k = low\n",
    "        \n",
    "        while((i < n1) and (j < n2)):\n",
    "            \n",
    "            if(left[i] <= right[j]):\n",
    "                array[k] = left[i]\n",
    "                i += 1\n",
    "            else:\n",
    "                array[k] = right[j]\n",
    "                j += 1\n",
    "            k += 1\n",
    "        \n",
    "        while(i < n1):\n",
    "            array[k] = left[i]\n",
    "            i += 1\n",
    "            k += 1\n",
    "        while(j < n2):\n",
    "            array[k] = right[j]\n",
    "            j += 1\n",
    "            k += 1\n",
    "        return array"
   ]
  },
  {
   "cell_type": "code",
   "execution_count": 15,
   "metadata": {},
   "outputs": [
    {
     "name": "stdout",
     "output_type": "stream",
     "text": [
      "[-1, 2, 4, 5, 10, 20, 56]\n"
     ]
    }
   ],
   "source": [
    "if __name__ == \"__main__\":\n",
    "    array = [10,2, 4, 5 , 20, -1, 56]\n",
    "    s = Solution()\n",
    "    print(s.mergesort(array, 0, len(array)-1))"
   ]
  }
 ],
 "metadata": {
  "kernelspec": {
   "display_name": "Python 3",
   "language": "python",
   "name": "python3"
  },
  "language_info": {
   "codemirror_mode": {
    "name": "ipython",
    "version": 3
   },
   "file_extension": ".py",
   "mimetype": "text/x-python",
   "name": "python",
   "nbconvert_exporter": "python",
   "pygments_lexer": "ipython3",
   "version": "3.6.8"
  }
 },
 "nbformat": 4,
 "nbformat_minor": 2
}

{
 "cells": [
  {
   "cell_type": "code",
   "execution_count": 35,
   "metadata": {},
   "outputs": [],
   "source": [
    "# This problem is used to count the number of islands in given 2-D array\n",
    "# In gist we use DFS to solve \n",
    "# We have a 2-D array of similar dimension as the graph which contains just boolean values\n",
    "# that tells us if we have visited the cell already\n",
    "# We take a cell check its neighbours if there is presence of land, then the boolean array is changed to True\n",
    "# We take a count \n",
    "\n",
    "\n",
    "class Solution:\n",
    "    \n",
    "    \n",
    "    # This module check if the given row and column are valid and also if they have already been visited and it is \n",
    "    # land in given cell\n",
    "    def isSafe(self, i, j, end_row, end_col, graph, visited_graph):\n",
    "        return((i >= 0 and i < end_row) and (j>=0 and j < end_col) and  visited_graph[i][j] == False and graph[i][j] == 1)\n",
    "    \n",
    "    # Have a list of possible neighbouring rows and columns,\n",
    "    # check if its a valid cell\n",
    "    # Recursively do this until all the neighbours has been visited.\n",
    "    def DFS(self, i, j, graph, visited_graph):\n",
    "        \n",
    "        # This includes diagonals\n",
    "        \n",
    "        #neighbour_rows = [-1,-1,-1,0,0,0,1,1,1]\n",
    "        #neighbour_cols  = [-1,0,1,-1,0,1,-1,0,1]\n",
    "        \n",
    "        # This excludes diagonals\n",
    "        neighbour_rows = [-1,0,0,1]\n",
    "        neighbour_cols  = [0,-1,1,0]\n",
    "        \n",
    "        visited_graph[i][j] = True\n",
    "        for k in range(len(neighbour_rows)):\n",
    "            if(self.isSafe(i+neighbour_rows[k] , j+neighbour_cols[k], len(graph), len(graph[0]),graph, visited_graph)):\n",
    "                self.DFS(i+neighbour_rows[k] , j+neighbour_cols[k], graph, visited_graph)\n",
    "    \n",
    "    # Run through all cells in the graph\n",
    "    def countIsland(self, graph):\n",
    "        island_count = 0\n",
    "        visited_graph = [[False for cols in range(len(graph[rows]))] for rows in range(len(graph))]\n",
    "        for i in range(len(graph)):\n",
    "            for j in range(len(graph[i])):\n",
    "                if(visited_graph[i][j]== False and graph[i][j] == 1):\n",
    "                    self.DFS(i, j, graph, visited_graph)\n",
    "                    island_count += 1\n",
    "        print(island_count)\n",
    "        "
   ]
  },
  {
   "cell_type": "code",
   "execution_count": 36,
   "metadata": {},
   "outputs": [
    {
     "name": "stdout",
     "output_type": "stream",
     "text": [
      "6\n"
     ]
    }
   ],
   "source": [
    "if __name__ == \"__main__\":\n",
    "    s = Solution()\n",
    "    graph = [[1, 1, 0, 0, 0], \n",
    "            [0, 1, 0, 0, 1], \n",
    "            [1, 0, 0, 1, 1], \n",
    "            [0, 0, 0, 0, 0], \n",
    "            [1, 0, 1, 0, 1]] \n",
    "    s.countIsland(graph)"
   ]
  }
 ],
 "metadata": {
  "kernelspec": {
   "display_name": "Python 3",
   "language": "python",
   "name": "python3"
  },
  "language_info": {
   "codemirror_mode": {
    "name": "ipython",
    "version": 3
   },
   "file_extension": ".py",
   "mimetype": "text/x-python",
   "name": "python",
   "nbconvert_exporter": "python",
   "pygments_lexer": "ipython3",
   "version": "3.6.8"
  }
 },
 "nbformat": 4,
 "nbformat_minor": 2
}

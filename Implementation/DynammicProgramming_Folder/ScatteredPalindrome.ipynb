{
 "cells": [
  {
   "cell_type": "code",
   "execution_count": 8,
   "metadata": {},
   "outputs": [],
   "source": [
    "import collections\n",
    "class Solution:\n",
    "    def check_palindrome(self, word):\n",
    "        dict_w = collections.Counter(word)\n",
    "        odd = 0\n",
    "        for k, v in dict_w.items():\n",
    "            if v%2== 0:\n",
    "                continue\n",
    "            else:\n",
    "                if odd == 0:\n",
    "                    odd = 1\n",
    "                else:\n",
    "                    return False\n",
    "        return True\n",
    "    def find_count(self, s):\n",
    "        counter = 0\n",
    "        for words in s:\n",
    "            x = 0 \n",
    "            for start in range(len(words)):\n",
    "                for end in range(start, len(words)):\n",
    "                    w = words[start:end+1]\n",
    "                    if self.check_palindrome(w):\n",
    "                        x += 1\n",
    "            counter += x\n",
    "        return counter\n",
    "\n"
   ]
  },
  {
   "cell_type": "code",
   "execution_count": 10,
   "metadata": {},
   "outputs": [
    {
     "name": "stdout",
     "output_type": "stream",
     "text": [
      "15\n"
     ]
    }
   ],
   "source": [
    "if __name__ == \"__main__\":\n",
    "    s = Solution()\n",
    "    my_list = ['bbrrg','abc']\n",
    "    print(s.find_count(my_list))"
   ]
  }
 ],
 "metadata": {
  "kernelspec": {
   "display_name": "Python 3",
   "language": "python",
   "name": "python3"
  },
  "language_info": {
   "codemirror_mode": {
    "name": "ipython",
    "version": 3
   },
   "file_extension": ".py",
   "mimetype": "text/x-python",
   "name": "python",
   "nbconvert_exporter": "python",
   "pygments_lexer": "ipython3",
   "version": "3.6.8"
  }
 },
 "nbformat": 4,
 "nbformat_minor": 2
}

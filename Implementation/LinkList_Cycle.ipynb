{
 "cells": [
  {
   "cell_type": "code",
   "execution_count": 20,
   "metadata": {},
   "outputs": [],
   "source": [
    "# Floyds Cycle detection algorithm\n",
    "# Make use of 2 pointers; one fast and one slow; if at any point they met, it means there is a\n",
    "# presence of cycle.\n",
    "\n",
    "#Algorithm:\n",
    "#1. s = self.head ; f =self.head.next.next\n",
    "#2. Repeat until f is none or if f == s\n",
    "\n",
    "import random"
   ]
  },
  {
   "cell_type": "code",
   "execution_count": 2,
   "metadata": {},
   "outputs": [],
   "source": [
    "class Node:\n",
    "    def __init__(self,data):\n",
    "        self.data = data\n",
    "        self.nextnode = None"
   ]
  },
  {
   "cell_type": "code",
   "execution_count": 8,
   "metadata": {},
   "outputs": [],
   "source": [
    "class linkList:\n",
    "    def __init__(self):\n",
    "        self.head = None\n",
    "    def insert(self, data):\n",
    "        newdata = Node(data)\n",
    "        if self.head == None :\n",
    "            self.head = newdata.data\n",
    "        else:\n",
    "            temp = self.head\n",
    "            while(temp.nextnode != None):\n",
    "                temp = temp.nextnode\n",
    "            temp.nextnode = newdata\n",
    "            \n",
    "    def printll(self):\n",
    "        if(self.head == None):\n",
    "            print(\"Nothing to print\")\n",
    "        else:\n",
    "            temp = self.head\n",
    "            while(temp):\n",
    "                print(temp.data)\n",
    "                temp = temp.nextnode\n",
    "                \n",
    "    def createCycle(self):\n",
    "        totalElements = 0\n",
    "        temp = self.head\n",
    "        while(temp.nextnode != None):\n",
    "            temp = temp.nextnode\n",
    "            totalElements += 1\n",
    "        cyclePos = random.randint(0,totalElements-1)\n",
    "        newTemp =self.head\n",
    "        while(cyclePos < 0):\n",
    "            newTemp = newTemp.nextnode\n",
    "            cyclePos -= 1\n",
    "        print(cyclePos)\n",
    "        temp.nextnode = newTemp\n",
    "        \n",
    "    def detectCycle(self):\n",
    "        s_temp = self.head\n",
    "        f_temp = self.head.nextnode.nextnode\n",
    "        while (f_temp != None):\n",
    "            s_temp = s_temp.nextnode\n",
    "            try:\n",
    "                f_temp = f_temp.nextnode.nextnode\n",
    "            except:\n",
    "                print(\"No Cycle\")\n",
    "            if(s_temp == f_temp):\n",
    "                print(\"Cycle Detected\")\n",
    "                return\n",
    "    "
   ]
  },
  {
   "cell_type": "code",
   "execution_count": 9,
   "metadata": {},
   "outputs": [
    {
     "name": "stdout",
     "output_type": "stream",
     "text": [
      "1\n",
      "2\n",
      "3\n",
      "*****************\n",
      "No Cycle\n",
      "No Cycle\n",
      "Cycle Detected\n"
     ]
    }
   ],
   "source": [
    "if __name__ == \"__main__\":\n",
    "    llist = linkList()\n",
    "    llist.head = Node(1) \n",
    "    llist.insert(2)\n",
    "    llist.insert(3)\n",
    "    #llist.insert(4)\n",
    "    #llist.insert(5)\n",
    "    #llist.insert(6)\n",
    "    llist.printll()\n",
    "    print(\"*****************\")\n",
    "    \n",
    "    #llist.createCycle()\n",
    "    #llist.printll()\n",
    "    llist.detectCycle()"
   ]
  }
 ],
 "metadata": {
  "kernelspec": {
   "display_name": "Python 3",
   "language": "python",
   "name": "python3"
  },
  "language_info": {
   "codemirror_mode": {
    "name": "ipython",
    "version": 3
   },
   "file_extension": ".py",
   "mimetype": "text/x-python",
   "name": "python",
   "nbconvert_exporter": "python",
   "pygments_lexer": "ipython3",
   "version": "3.6.8"
  }
 },
 "nbformat": 4,
 "nbformat_minor": 2
}

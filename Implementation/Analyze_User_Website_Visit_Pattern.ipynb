{
 "cells": [
  {
   "cell_type": "code",
   "execution_count": null,
   "metadata": {},
   "outputs": [],
   "source": [
    "\"\"\"We are given some website visits: the user with name username[i] visited the website website[i] \n",
    "at time timestamp[i].\n",
    "\n",
    "A 3-sequence is a list of websites of length 3 sorted in ascending order by the time of their visits. \n",
    "(The websites in a 3-sequence are not necessarily distinct.)\n",
    "\n",
    "Find the 3-sequence visited by the largest number of users. If there is more than one solution, \n",
    "return the lexicographically smallest such 3-sequence.\n",
    "\n",
    " \n",
    "\n",
    "Example 1:\n",
    "\n",
    "Input: username = [\"joe\",\"joe\",\"joe\",\"james\",\"james\",\"james\",\"james\",\"mary\",\"mary\",\"mary\"], \n",
    "timestamp = [1,2,3,4,5,6,7,8,9,10], \n",
    "website = [\"home\",\"about\",\"career\",\"home\",\"cart\",\"maps\",\"home\",\"home\",\"about\",\"career\"]\n",
    "Output: [\"home\",\"about\",\"career\"]\n",
    "Explanation: \n",
    "The tuples in this example are:\n",
    "[\"joe\", 1, \"home\"]\n",
    "[\"joe\", 2, \"about\"]\n",
    "[\"joe\", 3, \"career\"]\n",
    "[\"james\", 4, \"home\"]\n",
    "[\"james\", 5, \"cart\"]\n",
    "[\"james\", 6, \"maps\"]\n",
    "[\"james\", 7, \"home\"]\n",
    "[\"mary\", 8, \"home\"]\n",
    "[\"mary\", 9, \"about\"]\n",
    "[\"mary\", 10, \"career\"]\n",
    "The 3-sequence (\"home\", \"about\", \"career\") was visited at least once by 2 users.\n",
    "The 3-sequence (\"home\", \"cart\", \"maps\") was visited at least once by 1 user.\n",
    "The 3-sequence (\"home\", \"cart\", \"home\") was visited at least once by 1 user.\n",
    "The 3-sequence (\"home\", \"maps\", \"home\") was visited at least once by 1 user.\n",
    "The 3-sequence (\"cart\", \"maps\", \"home\") was visited at least once by 1 user.\"\"\"\n",
    "\n",
    "\n",
    "# Algorithm\n",
    "# 1. Create a dictionary with key as username and value as all the sites he visisted. This has to be arranged in ascending\n",
    "#  order of timestamp\n",
    "# 2. for each user, create a combination of size 3 of the sites he has visisted and store it in dictionary\n",
    "# 3. here key is the combo and count is th value\n",
    "# 4. return the highest count \n",
    "\n",
    "# combinaions has time complexity of nCr === n!/r!(n-r)!"
   ]
  },
  {
   "cell_type": "code",
   "execution_count": 63,
   "metadata": {},
   "outputs": [],
   "source": [
    "import collections\n",
    "import itertools\n",
    "import heapq\n",
    "class Solution:\n",
    "    def mostVisitedPattern(self, username, timestamp, website):\n",
    "        user_dict = {}\n",
    "        for t, u, w in sorted(zip(timestamp,username, website)):\n",
    "            if u in user_dict:\n",
    "                user_dict[u].append(w)\n",
    "            else:\n",
    "                user_dict[u] = [w]  \n",
    "        count_dict = {}\n",
    "        for user, websites in user_dict.items():\n",
    "            for combination in set(itertools.combinations(websites, 3)):\n",
    "                if combination in count_dict:\n",
    "                    count_dict[combination] += 1\n",
    "                else:\n",
    "                    count_dict[combination] = 1\n",
    "        count_heap = [(-freq, combo) for combo, freq in count_dict.items()]\n",
    "        heapq.heapify(count_heap)\n",
    "        return(list(heapq.heappop(count_heap)[1]))\n",
    "        "
   ]
  },
  {
   "cell_type": "code",
   "execution_count": 64,
   "metadata": {},
   "outputs": [
    {
     "name": "stdout",
     "output_type": "stream",
     "text": [
      "['home', 'about', 'career']\n"
     ]
    }
   ],
   "source": [
    "if __name__ == \"__main__\":\n",
    "    username = [\"joe\",\"joe\",\"joe\",\"james\",\"james\",\"james\",\"james\",\"mary\",\"mary\",\"mary\"]\n",
    "    timestamp = [1,2,3,4,5,6,7,8,9,10]\n",
    "    website = [\"home\",\"about\",\"career\",\"home\",\"cart\",\"maps\",\"home\",\"home\",\"about\",\"career\"]\n",
    "    s = Solution()\n",
    "    print(s.mostVisitedPattern(username, timestamp, website))"
   ]
  }
 ],
 "metadata": {
  "kernelspec": {
   "display_name": "Python 3",
   "language": "python",
   "name": "python3"
  },
  "language_info": {
   "codemirror_mode": {
    "name": "ipython",
    "version": 3
   },
   "file_extension": ".py",
   "mimetype": "text/x-python",
   "name": "python",
   "nbconvert_exporter": "python",
   "pygments_lexer": "ipython3",
   "version": "3.6.8"
  }
 },
 "nbformat": 4,
 "nbformat_minor": 2
}

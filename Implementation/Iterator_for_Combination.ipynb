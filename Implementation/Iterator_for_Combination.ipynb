{
 "cells": [
  {
   "cell_type": "code",
   "execution_count": null,
   "metadata": {},
   "outputs": [],
   "source": [
    "\"\"\"Design an Iterator class, which has:\n",
    "\n",
    "A constructor that takes a string characters of sorted distinct lowercase English letters and\n",
    "a number combinationLength as arguments.\n",
    "A function next() that returns the next combination of length combinationLength in lexicographical order.\n",
    "A function hasNext() that returns True if and only if there exists a next combination.\n",
    " \n",
    "\n",
    "Example:\n",
    "\n",
    "CombinationIterator iterator = new CombinationIterator(\"abc\", 2); // creates the iterator.\n",
    "\n",
    "iterator.next(); // returns \"ab\"\n",
    "iterator.hasNext(); // returns true\n",
    "iterator.next(); // returns \"ac\"\n",
    "iterator.hasNext(); // returns true\n",
    "iterator.next(); // returns \"bc\"\n",
    "iterator.hasNext(); // returns false\n",
    "\"\"\"\n",
    "\n",
    "# Algorithm\n",
    "# 1. We need to create a combinator which creates the combination of words. DFS is used here\n",
    "# 2. To create a combinator intialise a queue\n",
    "# 3. create a temporary variable tmp which will hold the combination string\n",
    "# 4. Check if lenght of this tmp is equal to lenght of the required combination\n",
    "# 5. Else run a loop start from 0 until lenght of the string:\n",
    "    # call recursively step 3 with temp as tmp + character[i] and character string starting from i+ 1\n",
    "    "
   ]
  },
  {
   "cell_type": "code",
   "execution_count": 6,
   "metadata": {},
   "outputs": [],
   "source": [
    "import collections\n",
    "class CombinationIterator:\n",
    "\n",
    "    def __init__(self, characters: str, combinationLength: int):\n",
    "        self.combo_queue = collections.deque([])\n",
    "        def generate_combo(characters, tmp):\n",
    "            if len(tmp) <= combinationLength:\n",
    "                self.combo_queue.append(tmp)\n",
    "                return\n",
    "            for i in range(len(characters)):\n",
    "                generate_combo(characters[i+1:], tmp+characters[i])\n",
    "        generate_combo(characters, \"\")\n",
    "        print(self.combo_queue)\n",
    "\n",
    "    def next(self) -> str:\n",
    "        return (self.combo_queue.popleft())\n",
    "\n",
    "    def hasNext(self) -> bool:\n",
    "        if self.combo_queue:\n",
    "            return True\n",
    "        else:\n",
    "            return False\n",
    "        \n"
   ]
  },
  {
   "cell_type": "code",
   "execution_count": 1,
   "metadata": {},
   "outputs": [
    {
     "name": "stdout",
     "output_type": "stream",
     "text": [
      "[[[]], [[1], [2], [3]], [[1, 2], [1, 3], [2, 3]], [[1, 2, 3]]]\n"
     ]
    }
   ],
   "source": [
    "import collections\n",
    "class ComboIterator:\n",
    "    def get_comb(self, characters: str, combinationLength: int):\n",
    "        self.combo_queue = []\n",
    "        def generate_combo(characters, tmp):\n",
    "            if len(tmp) == combinationLength:\n",
    "                self.combo_queue.append(tmp)\n",
    "                return\n",
    "            for i in range(len(characters)):\n",
    "                generate_combo(characters[i+1:], tmp+[characters[i]])\n",
    "        generate_combo(characters, [])\n",
    "        return (self.combo_queue)\n",
    "        \n",
    "    def get_input(self, list_int):\n",
    "        output = []\n",
    "        for i in range(len(list_int)+1):\n",
    "            output.append(self.get_comb(list_int, i))\n",
    "        return output\n",
    "\n",
    "if __name__ == \"__main__\":\n",
    "    ci = ComboIterator()\n",
    "    list_int = [1, 2, 3]\n",
    "    print(ci.get_input(list_int))\n",
    "    \n",
    "    \n",
    "    \n",
    "    "
   ]
  }
 ],
 "metadata": {
  "kernelspec": {
   "display_name": "Python 3",
   "language": "python",
   "name": "python3"
  },
  "language_info": {
   "codemirror_mode": {
    "name": "ipython",
    "version": 3
   },
   "file_extension": ".py",
   "mimetype": "text/x-python",
   "name": "python",
   "nbconvert_exporter": "python",
   "pygments_lexer": "ipython3",
   "version": "3.6.8"
  }
 },
 "nbformat": 4,
 "nbformat_minor": 2
}

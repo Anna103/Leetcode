{
 "cells": [
  {
   "cell_type": "code",
   "execution_count": 60,
   "metadata": {},
   "outputs": [],
   "source": [
    "import collections\n",
    "\n",
    "# Create a node (dictionary)\n",
    "\n",
    "class TrieNode:\n",
    "    \n",
    "    def __init__(self):\n",
    "        self.children = collections.defaultdict(TrieNode)\n",
    "        self.isEnd = False"
   ]
  },
  {
   "cell_type": "code",
   "execution_count": 128,
   "metadata": {},
   "outputs": [],
   "source": [
    "class Trie:\n",
    "    \n",
    "    def __init__(self):\n",
    "        self.root = TrieNode()\n",
    "    \n",
    "    def insert(self, word):\n",
    "        node = self.root\n",
    "        for letter in word:\n",
    "            node = node.children[letter]\n",
    "        node.isEnd = True\n",
    "        \n",
    "    def search(self, word):\n",
    "        node = self.root\n",
    "        for letter in word:\n",
    "            node = node.children[letter]\n",
    "            if not node:\n",
    "                return False\n",
    "        return node.isEnd\n",
    "    \n",
    "    def starts_with(self, word):\n",
    "        node = self.root\n",
    "        for letter in word:\n",
    "            if letter not in node.children:\n",
    "                return False\n",
    "            node = node.children[letter]\n",
    "        return True"
   ]
  },
  {
   "cell_type": "code",
   "execution_count": 129,
   "metadata": {},
   "outputs": [],
   "source": [
    "class wordFinder:\n",
    "    \n",
    "    def is_safe(self, row, col, board):\n",
    "        return (0 <= row < len(board) and\n",
    "               0 <= col< len(board[row]))\n",
    "    \n",
    "    def findwords(self, board, words):\n",
    "        res = []\n",
    "        trie = Trie()\n",
    "        node = trie.root\n",
    "        for w in words:\n",
    "            trie.insert(w)\n",
    "        for i in range(len(board)):\n",
    "            for j in range(len(board[0])):\n",
    "                self.dfs(board, node, i, j, \"\", res)\n",
    "        return res\n",
    "                \n",
    "    def dfs(self, board, node, i, j, path, res):\n",
    "        if node.isEnd:\n",
    "            res.append(path)\n",
    "            node.isEnd = False\n",
    "        if i < 0 or i >= len(board) or j < 0 or j >= len(board[0]):\n",
    "            return \n",
    "        tmp = board[i][j]\n",
    "        node = node.children.get(tmp)\n",
    "        if not node:\n",
    "            return \n",
    "        board[i][j] = \"#\"\n",
    "        self.dfs(board, node, i+1, j, path+tmp, res)\n",
    "        self.dfs(board, node, i-1, j, path+tmp, res)\n",
    "        self.dfs(board, node, i, j-1, path+tmp, res)\n",
    "        self.dfs(board, node, i, j+1, path+tmp, res)\n",
    "        board[i][j] = tmp"
   ]
  },
  {
   "cell_type": "code",
   "execution_count": 132,
   "metadata": {},
   "outputs": [
    {
     "name": "stdout",
     "output_type": "stream",
     "text": [
      "['oath', 'eat']\n",
      "True\n",
      "True\n"
     ]
    }
   ],
   "source": [
    "if __name__ == \"__main__\":\n",
    "    board = [\n",
    "              ['o','a','a','n'],\n",
    "              ['e','t','a','e'],\n",
    "              ['i','h','k','r'],\n",
    "              ['i','f','l','v']\n",
    "            ]\n",
    "    word = [\"oath\",\"pea\",\"eat\",\"rain\"]\n",
    "    w = wordFinder()\n",
    "    print(w.findwords(board, word))\n",
    "    t = Trie()\n",
    "    t.insert(\"Hello\")\n",
    "    t.insert(\"Hell\")\n",
    "    t.insert(\"Yo\")\n",
    "    print(t.search(\"Hello\"))\n",
    "    print(t.starts_with(\"H\"))"
   ]
  },
  {
   "cell_type": "code",
   "execution_count": null,
   "metadata": {},
   "outputs": [],
   "source": []
  }
 ],
 "metadata": {
  "kernelspec": {
   "display_name": "Python 3",
   "language": "python",
   "name": "python3"
  },
  "language_info": {
   "codemirror_mode": {
    "name": "ipython",
    "version": 3
   },
   "file_extension": ".py",
   "mimetype": "text/x-python",
   "name": "python",
   "nbconvert_exporter": "python",
   "pygments_lexer": "ipython3",
   "version": "3.6.8"
  }
 },
 "nbformat": 4,
 "nbformat_minor": 2
}

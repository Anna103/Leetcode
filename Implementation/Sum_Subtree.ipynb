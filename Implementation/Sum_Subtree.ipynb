{
 "cells": [
  {
   "cell_type": "code",
   "execution_count": 1,
   "metadata": {},
   "outputs": [],
   "source": [
    "class TreeNode:\n",
    "    def __init__(self, data):\n",
    "        self.data = data\n",
    "        self.left = None\n",
    "        self.right = None\n",
    "        self.sum_of_tree = 0"
   ]
  },
  {
   "cell_type": "code",
   "execution_count": 2,
   "metadata": {},
   "outputs": [],
   "source": [
    "class SubTreeSum:\n",
    "    \n",
    "    def sum_subtree(self, root):\n",
    "        print(\"^\")\n",
    "        if root.left:\n",
    "            self.sum_subtree(root.left)\n",
    "        if root.right:\n",
    "            self.sum_subtree(root.right)\n",
    "        if root and root.left and root.right:\n",
    "            root.sum_of_tree = root.data + root.left.sum_of_tree + root.right.sum_of_tree\n",
    "        else:\n",
    "            root.sum_of_tree = root.data\n",
    "        return root\n",
    "    \n",
    "    def inorder(self, root):\n",
    "        if root.left:\n",
    "            self.inorder(root.left)\n",
    "        print(root.data,\" , \", root.sum_of_tree)\n",
    "        if root.right:\n",
    "            self.inorder(root.right)"
   ]
  },
  {
   "cell_type": "code",
   "execution_count": 3,
   "metadata": {},
   "outputs": [
    {
     "name": "stdout",
     "output_type": "stream",
     "text": [
      "8  ,  0\n",
      "4  ,  0\n",
      "9  ,  0\n",
      "2  ,  0\n",
      "5  ,  0\n",
      "1  ,  0\n",
      "6  ,  0\n",
      "3  ,  0\n",
      "7  ,  0\n",
      "^\n",
      "^\n",
      "^\n",
      "^\n",
      "^\n",
      "^\n",
      "^\n",
      "^\n",
      "^\n",
      "************\n",
      "8  ,  8\n",
      "4  ,  21\n",
      "9  ,  9\n",
      "2  ,  28\n",
      "5  ,  5\n",
      "1  ,  45\n",
      "6  ,  6\n",
      "3  ,  16\n",
      "7  ,  7\n"
     ]
    }
   ],
   "source": [
    "if __name__ == \"__main__\":\n",
    "    root = TreeNode(1)\n",
    "    root.left = TreeNode(2)\n",
    "    root.right = TreeNode(3)\n",
    "    root.left.left = TreeNode(4)\n",
    "    root.left.right = TreeNode(5)\n",
    "    root.right.left = TreeNode(6)\n",
    "    root.right.right = TreeNode(7)\n",
    "    root.left.left.left = TreeNode(8)\n",
    "    root.left.left.right = TreeNode(9)\n",
    "    s = SubTreeSum()\n",
    "    s.inorder(root)\n",
    "    new_root = s.sum_subtree(root)\n",
    "    print(\"************\")\n",
    "    s.inorder(new_root)"
   ]
  },
  {
   "cell_type": "code",
   "execution_count": null,
   "metadata": {},
   "outputs": [],
   "source": []
  }
 ],
 "metadata": {
  "kernelspec": {
   "display_name": "Python 3",
   "language": "python",
   "name": "python3"
  },
  "language_info": {
   "codemirror_mode": {
    "name": "ipython",
    "version": 3
   },
   "file_extension": ".py",
   "mimetype": "text/x-python",
   "name": "python",
   "nbconvert_exporter": "python",
   "pygments_lexer": "ipython3",
   "version": "3.6.8"
  }
 },
 "nbformat": 4,
 "nbformat_minor": 2
}

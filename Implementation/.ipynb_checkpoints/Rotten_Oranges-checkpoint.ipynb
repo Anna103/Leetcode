{
 "cells": [
  {
   "cell_type": "code",
   "execution_count": null,
   "metadata": {},
   "outputs": [],
   "source": [
    "\"\"\"In a given grid, each cell can have one of three values:\n",
    "\n",
    "the value 0 representing an empty cell;\n",
    "the value 1 representing a fresh orange;\n",
    "the value 2 representing a rotten orange.\n",
    "Every minute, any fresh orange that is adjacent (4-directionally) \n",
    "to a rotten orange becomes rotten.\n",
    "\n",
    "Return the minimum number of minutes that must elapse until no cell has a fresh orange.  \n",
    "If this is impossible, return -1 instead.\"\"\"\n",
    "\n",
    "# Algorithm\n",
    "\n",
    "# Initialise time = 0\n",
    "# 1. create a queue which holds rotten orange(rotten_Q = collections.deque) (rotten_Q.append([i, j, time]))\n",
    "# 2. create a set for fresh oranges(fresh_set =(i, j))\n",
    "\n",
    "#valid neighours\n",
    "# while any rotten oranges left\n",
    "    # i, j, time = rotten_q.popleft()\n",
    "    # if (i+valid _neighbour[row],j+valid_neighbour[col] and there is fresh orange) all this is safe(within boundaries)\n",
    "        # fresh_set.remove(i,j)\n",
    "        # rotten_q.apend((i+valid_neighbour), (j+valid_neighbour[col],time+1))\n",
    "# if(fresh_Set):\n",
    "#return False\n",
    "#return time"
   ]
  },
  {
   "cell_type": "code",
   "execution_count": 3,
   "metadata": {},
   "outputs": [],
   "source": [
    "import collections\n",
    "class Solution:\n",
    "    \n",
    "    def orangesRotting(self, grid) -> int:\n",
    "        rotten_q = collections.deque()\n",
    "        fresh_set = set()\n",
    "        time = 0\n",
    "        for i in range(len(grid)):\n",
    "            for j in range(len(grid[i])):\n",
    "                if(grid[i][j] == 2):\n",
    "                    rotten_q.append([i,j, time])\n",
    "                if(grid[i][j] == 1):\n",
    "                    fresh_set.add((i, j))\n",
    "        \n",
    "        \n",
    "        \n",
    "        valid_neighbours = [(-1,0), (0,-1), (0, 1),(1,0)]\n",
    "\n",
    "        while(rotten_q):\n",
    "            i , j , time = rotten_q.popleft()\n",
    "            for valid_i, valid_j in valid_neighbours:\n",
    "                if( (0<= i+valid_i< len(grid)) and \n",
    "                   (0<= j+valid_j< len(grid[0])) and grid[i+valid_i][j+valid_j] == 1):\n",
    "                    rotten_q.append([i+valid_i, j+valid_j , time+1])\n",
    "                    fresh_set.remove((i+valid_i,j+valid_j))\n",
    "                    grid[i+valid_i][j+valid_j] = 2\n",
    "        if(fresh_set):\n",
    "            return -1 \n",
    "        else:\n",
    "            return time"
   ]
  }
 ],
 "metadata": {
  "kernelspec": {
   "display_name": "Python 3",
   "language": "python",
   "name": "python3"
  },
  "language_info": {
   "codemirror_mode": {
    "name": "ipython",
    "version": 3
   },
   "file_extension": ".py",
   "mimetype": "text/x-python",
   "name": "python",
   "nbconvert_exporter": "python",
   "pygments_lexer": "ipython3",
   "version": "3.6.8"
  }
 },
 "nbformat": 4,
 "nbformat_minor": 2
}

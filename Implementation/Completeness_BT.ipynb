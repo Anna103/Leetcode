{
 "cells": [
  {
   "cell_type": "code",
   "execution_count": null,
   "metadata": {},
   "outputs": [],
   "source": []
  },
  {
   "cell_type": "code",
   "execution_count": 106,
   "metadata": {},
   "outputs": [],
   "source": [
    "class Node:\n",
    "    def __init__(self, data):\n",
    "        self.data = data\n",
    "        self.left = None\n",
    "        self.right = None"
   ]
  },
  {
   "cell_type": "code",
   "execution_count": 115,
   "metadata": {},
   "outputs": [],
   "source": [
    "class Tree:\n",
    "    \n",
    "    def check_completeness(self,root):\n",
    "        nodes_visited = [root]        \n",
    "        nodes_queue = []\n",
    "        while(len(nodes_visited) > 0):\n",
    "            current_node = nodes_visited.pop(0)\n",
    "            nodes_queue.append(current_node)\n",
    "            if(current_node != None):\n",
    "                nodes_visited.append(current_node.left)\n",
    "                nodes_visited.append(current_node.right)\n",
    "            else:\n",
    "                if(any(nodes_visited)):\n",
    "                    print(nodes_visited)\n",
    "                    return False\n",
    "        return True\n",
    "        \n",
    "            "
   ]
  },
  {
   "cell_type": "code",
   "execution_count": 117,
   "metadata": {},
   "outputs": [
    {
     "name": "stdout",
     "output_type": "stream",
     "text": [
      "[<__main__.Node object at 0x108a846a0>, <__main__.Node object at 0x108b76ba8>, None, None]\n",
      "False\n"
     ]
    }
   ],
   "source": [
    "if __name__ == \"__main__\":\n",
    "    root = Node(1)\n",
    "    root.left = Node(2)\n",
    "    root.right = Node(3)\n",
    "    root.left.left = Node(4)\n",
    "    #root.left.right = Node(5)\n",
    "    root.right.left = Node(6)\n",
    "    root.right.right = Node(7)\n",
    "    #root.right = Node(2)\n",
    "    t = Tree()\n",
    "    print(t.check_completeness(root))"
   ]
  }
 ],
 "metadata": {
  "kernelspec": {
   "display_name": "Python 3",
   "language": "python",
   "name": "python3"
  },
  "language_info": {
   "codemirror_mode": {
    "name": "ipython",
    "version": 3
   },
   "file_extension": ".py",
   "mimetype": "text/x-python",
   "name": "python",
   "nbconvert_exporter": "python",
   "pygments_lexer": "ipython3",
   "version": "3.6.8"
  }
 },
 "nbformat": 4,
 "nbformat_minor": 2
}

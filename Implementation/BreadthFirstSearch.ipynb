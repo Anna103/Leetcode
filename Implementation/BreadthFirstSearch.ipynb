{
 "cells": [
  {
   "cell_type": "code",
   "execution_count": 1,
   "metadata": {},
   "outputs": [],
   "source": [
    "#Breadth First Search can be solved only using iterative approach\n",
    "#need 1 stack and a queue\n",
    "# Stack 1: Contains nodes that were visited, starting with root node\n",
    "# Queue 1: Contains BFS of the nodes\n",
    "\n",
    "#Algorithm\n",
    "\"\"\"1. Start with root node in the stack. \n",
    "   2. Pop the element in the stack, and place it in queue\n",
    "   3. While popping the node, store the left and right in the stack\n",
    "   4. Repeat 2 and 3 until stack is empty.\"\"\"\n",
    "class Tree:\n",
    "    \n",
    "    def __init__(self, data):\n",
    "        self.left = None\n",
    "        self.data = data\n",
    "        self.right = None\n",
    "    "
   ]
  },
  {
   "cell_type": "code",
   "execution_count": 2,
   "metadata": {},
   "outputs": [],
   "source": [
    "class Node:\n",
    "    \n",
    "    def __init__(self, data):\n",
    "        self.data = data\n",
    "        self.next = None"
   ]
  },
  {
   "cell_type": "code",
   "execution_count": 3,
   "metadata": {},
   "outputs": [],
   "source": [
    "class Queue:\n",
    "    \n",
    "    def __init__(self):\n",
    "        self.front = None\n",
    "        self.rear = None\n",
    "    \n",
    "    def enqueue(self, data):\n",
    "        new_data = Node(data)\n",
    "        \n",
    "        if self.front == None:\n",
    "            \n",
    "            self.front = new_data\n",
    "            self.rear = new_data\n",
    "        else:\n",
    "            # first old_rear.next  is pointed to new data\n",
    "            # then point rear to new data            \n",
    "            self.rear.next = new_data\n",
    "            self.rear = new_data\n",
    "    \n",
    "    def dequeue(self):\n",
    "        if(self.front != None):\n",
    "            print(self.front)\n",
    "            self.front = self.front.next\n",
    "            \n",
    "    def peek(self):\n",
    "        front_element = self.front\n",
    "        rear_element = self.rear\n",
    "        while(front_element):\n",
    "            print(front_element.data)\n",
    "            front_element = front_element.next\n",
    "            "
   ]
  },
  {
   "cell_type": "code",
   "execution_count": 10,
   "metadata": {},
   "outputs": [],
   "source": [
    "class traverseNode:\n",
    "    \n",
    "    def breadthFirstSearch(root):\n",
    "        queue_bfs = Queue()\n",
    "        nodes_visited = [root]\n",
    "        while (len(nodes_visited) > 0):            \n",
    "            root = nodes_visited.pop(0)\n",
    "            if(root):\n",
    "                queue_bfs.enqueue(root.data)\n",
    "                nodes_visited += (root.left, root.right)\n",
    "        return queue_bfs\n",
    "        "
   ]
  },
  {
   "cell_type": "code",
   "execution_count": 11,
   "metadata": {},
   "outputs": [
    {
     "name": "stdout",
     "output_type": "stream",
     "text": [
      "1\n",
      "2\n",
      "3\n",
      "4\n",
      "5\n",
      "6\n",
      "7\n"
     ]
    }
   ],
   "source": [
    "if __name__ == \"__main__\":\n",
    "    root = Tree(1)\n",
    "    root.left = Tree(2)\n",
    "    root.right = Tree(3)\n",
    "    root.left.left = Tree(4)\n",
    "    root.left.right = Tree(5)\n",
    "    root.right.left = Tree(6)\n",
    "    root.right.right = Tree(7)\n",
    "    Q = traverseNode.breadthFirstSearch(root)\n",
    "    Q.peek()"
   ]
  }
 ],
 "metadata": {
  "kernelspec": {
   "display_name": "Python 3",
   "language": "python",
   "name": "python3"
  },
  "language_info": {
   "codemirror_mode": {
    "name": "ipython",
    "version": 3
   },
   "file_extension": ".py",
   "mimetype": "text/x-python",
   "name": "python",
   "nbconvert_exporter": "python",
   "pygments_lexer": "ipython3",
   "version": "3.6.8"
  }
 },
 "nbformat": 4,
 "nbformat_minor": 2
}

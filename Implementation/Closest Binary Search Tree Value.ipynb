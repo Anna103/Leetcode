{
 "cells": [
  {
   "cell_type": "code",
   "execution_count": null,
   "metadata": {},
   "outputs": [],
   "source": [
    "\"\"\"\n",
    "Given a non-empty binary search tree and a target value, \n",
    "find the value in the BST that is closest to the target.\n",
    "\n",
    "Note:\n",
    "\n",
    "Given target value is a floating point.\n",
    "You are guaranteed to have only one unique value in the BST that is closest to the target.\n",
    "Example:\n",
    "\n",
    "Input: root = [4,2,5,1,3], target = 3.714286\n",
    "\n",
    "    4\n",
    "   / \\\n",
    "  2   5\n",
    " / \\\n",
    "1   3\n",
    "\n",
    "Output: 4\n",
    "\"\"\"\n",
    "\n",
    "# Algorithm:\n",
    "# initialise a diff variable and list min_diff_node (list -- because I dont want to lose the value when returning)\n",
    "# Check if root is None if yes then return\n",
    "# Check if root is target then  chang value of list to root.val return \n",
    "# Check if diff of current root and target is lesser than min diff if yes save that min diff and the node value in list\n",
    "# if target is greater than root go left else right\n",
    "\n",
    "# log H is the time complexity since it is possible it is not a heigh balanced tree"
   ]
  },
  {
   "cell_type": "code",
   "execution_count": 13,
   "metadata": {},
   "outputs": [],
   "source": [
    "class TreeNode:\n",
    "    def __init__(self, val=0, left=None, right=None):\n",
    "        self.val = val\n",
    "        self.left = left\n",
    "        self.right = right"
   ]
  },
  {
   "cell_type": "code",
   "execution_count": 21,
   "metadata": {},
   "outputs": [],
   "source": [
    "class Solution:\n",
    "    def find_closest(self, root, target):\n",
    "        min_diff = float('-inf')\n",
    "        min_diff_node = [0]\n",
    "        def closest_node(root, k, min_diff, min_diff_node):\n",
    "            if root == None:\n",
    "                return \n",
    "            if root.val == k:\n",
    "                min_diff_node[0] = root.val\n",
    "                return\n",
    "            if min_diff > abs(k-root.val):\n",
    "                min_diff = abs(k-root.val)\n",
    "                min_diff_node[0] = root.val\n",
    "            if root.val > k:\n",
    "                closest_node(root.left, k, min_diff, min_diff_node)\n",
    "            else:\n",
    "                closest_node(root.right, k, min_diff, min_diff_node)\n",
    "        closest_node(root, target, min_diff, min_diff_node)\n",
    "        return min_diff_node[0]\n",
    "                \n",
    "                \n",
    "            "
   ]
  },
  {
   "cell_type": "code",
   "execution_count": 22,
   "metadata": {},
   "outputs": [
    {
     "name": "stdout",
     "output_type": "stream",
     "text": [
      "3\n"
     ]
    }
   ],
   "source": [
    "if __name__ == \"__main__\":\n",
    "    root = TreeNode(4)\n",
    "    root.left = TreeNode(2)\n",
    "    root.right = TreeNode(5)\n",
    "    root.left.left = TreeNode(1)\n",
    "    root.left.right = TreeNode(3)\n",
    "    s = Solution()\n",
    "    print(s.find_closest(root, 3))"
   ]
  },
  {
   "cell_type": "code",
   "execution_count": null,
   "metadata": {},
   "outputs": [],
   "source": []
  }
 ],
 "metadata": {
  "kernelspec": {
   "display_name": "Python 3",
   "language": "python",
   "name": "python3"
  },
  "language_info": {
   "codemirror_mode": {
    "name": "ipython",
    "version": 3
   },
   "file_extension": ".py",
   "mimetype": "text/x-python",
   "name": "python",
   "nbconvert_exporter": "python",
   "pygments_lexer": "ipython3",
   "version": "3.6.8"
  }
 },
 "nbformat": 4,
 "nbformat_minor": 2
}

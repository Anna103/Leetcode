{
 "cells": [
  {
   "cell_type": "code",
   "execution_count": null,
   "metadata": {},
   "outputs": [],
   "source": [
    "\"\"\"Given an array which consists of non-negative integers and an integer m, \n",
    "you can split the array into m non-empty continuous subarrays.\n",
    "Write an algorithm to minimize the largest sum among these m subarrays.\n",
    "\n",
    "Note:\n",
    "If n is the length of array, assume the following constraints are satisfied:\n",
    "\n",
    "1 ≤ n ≤ 1000\n",
    "1 ≤ m ≤ min(50, n)\n",
    "Examples:\n",
    "\n",
    "Input:\n",
    "nums = [7,2,5,10,8]\n",
    "m = 2\n",
    "\n",
    "Output:\n",
    "18\n",
    "\n",
    "Explanation:\n",
    "There are four ways to split nums into two subarrays.\n",
    "The best way is to split it into [7,2,5] and [10,8],\n",
    "where the largest sum among the two subarrays is only 18.\"\"\"\n",
    "\n",
    "# Algorithm\n",
    "# We will use Binary Search in this problem.\n",
    "\n",
    "# 1. Find the max of the list, this will be left\n",
    "# 2. Find the total of list, this will be right \n",
    "# 3. while left is less than right\n",
    "    # 4. mid is left + right / 2\n",
    "    # 5. Check if adding numbers until this capacity is feasible or not\n",
    "        # Function feasible (mid)\n",
    "            # total is initalised to 0, while day is 1\n",
    "            # for all weight in the weights list,\n",
    "            # add weight to total, check if this weight is above mid increament day by 1, if day is greater the m\n",
    "            # then return False\n",
    "        # return True\n",
    "# 6. if feasible is true then right is upto mid else left is mid + 1, return left\n",
    "    "
   ]
  },
  {
   "cell_type": "code",
   "execution_count": 2,
   "metadata": {},
   "outputs": [],
   "source": [
    "class Solution:\n",
    "    def splitArray(self, nums, m: int) -> int:\n",
    "        def feasible(n):\n",
    "            total = 0\n",
    "            diff = 1\n",
    "            for nu in nums:\n",
    "                total += nu\n",
    "                if total > n:\n",
    "                    total = nu\n",
    "                    diff += 1\n",
    "                    if diff > m:\n",
    "                        return False\n",
    "            return True\n",
    "        \n",
    "        left = max(nums)\n",
    "        right = sum(nums)\n",
    "        while(left < right):\n",
    "            mid = (left + right)//2\n",
    "            if feasible(mid):\n",
    "                right = mid \n",
    "            else:\n",
    "                left = mid + 1\n",
    "        return left\n",
    "        "
   ]
  },
  {
   "cell_type": "code",
   "execution_count": 3,
   "metadata": {},
   "outputs": [
    {
     "name": "stdout",
     "output_type": "stream",
     "text": [
      "18\n"
     ]
    }
   ],
   "source": [
    "if __name__ == \"__main__\":\n",
    "    s = Solution()\n",
    "    nums = [7,2,5,10,8]\n",
    "    m = 2\n",
    "    print(s.splitArray(nums, m))"
   ]
  }
 ],
 "metadata": {
  "kernelspec": {
   "display_name": "Python 3",
   "language": "python",
   "name": "python3"
  },
  "language_info": {
   "codemirror_mode": {
    "name": "ipython",
    "version": 3
   },
   "file_extension": ".py",
   "mimetype": "text/x-python",
   "name": "python",
   "nbconvert_exporter": "python",
   "pygments_lexer": "ipython3",
   "version": "3.6.8"
  }
 },
 "nbformat": 4,
 "nbformat_minor": 2
}

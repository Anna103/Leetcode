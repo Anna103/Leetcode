{
 "cells": [
  {
   "cell_type": "code",
   "execution_count": null,
   "metadata": {},
   "outputs": [],
   "source": [
    "# LIS using patience sort\n",
    "# Create a dp array of size of the array + 1\n",
    "# The first value in dp will be the first value in the array\n",
    "# Run the loop from 1 to end of the array\n",
    "    # if the current element is smaller than the 1st eleemtn in the dp array then add it to 0th positision in dp array\n",
    "    # if current elemetn in greater than last lement in dp array then append the element to last of dp array\n",
    "    # else perform binary search and find the  point where you can add to the dp array"
   ]
  },
  {
   "cell_type": "code",
   "execution_count": 3,
   "metadata": {},
   "outputs": [],
   "source": [
    "class Solution:\n",
    "    \n",
    "    def binarysearch(self, array, low, high, key):\n",
    "        while(high - low > 1):\n",
    "            mid = (low + high) // 2\n",
    "            if(array[mid] >= key):\n",
    "                high = mid\n",
    "            else:\n",
    "                low = mid\n",
    "        return high\n",
    "    \n",
    "    def findLIS(self, array, size):\n",
    "        dp = [0 for i in range (size+1)]\n",
    "        dp[0] = array[0]\n",
    "        pointer = 1\n",
    "        for i in range(1, len(array)):\n",
    "            if(dp[0] > array[i]):\n",
    "                dp[0] = array[i]\n",
    "            elif(dp[pointer-1] < array[i]):\n",
    "                dp[pointer] = array[i]\n",
    "                pointer += 1\n",
    "            else:\n",
    "                dp[self.binarysearch(dp, 0, pointer-1, array[i])] = array[i]\n",
    "        return pointer\n",
    "    "
   ]
  },
  {
   "cell_type": "code",
   "execution_count": 4,
   "metadata": {},
   "outputs": [
    {
     "name": "stdout",
     "output_type": "stream",
     "text": [
      "5\n"
     ]
    }
   ],
   "source": [
    "if __name__ == \"__main__\":\n",
    "    \n",
    "    s = Solution()\n",
    "    array = [1, 1, 1, 1, 1] \n",
    "    print(s.findLIS(array, len(array)))"
   ]
  }
 ],
 "metadata": {
  "kernelspec": {
   "display_name": "Python 3",
   "language": "python",
   "name": "python3"
  },
  "language_info": {
   "codemirror_mode": {
    "name": "ipython",
    "version": 3
   },
   "file_extension": ".py",
   "mimetype": "text/x-python",
   "name": "python",
   "nbconvert_exporter": "python",
   "pygments_lexer": "ipython3",
   "version": "3.6.8"
  }
 },
 "nbformat": 4,
 "nbformat_minor": 2
}

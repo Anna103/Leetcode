{
 "cells": [
  {
   "cell_type": "code",
   "execution_count": null,
   "metadata": {},
   "outputs": [],
   "source": [
    "\"\"\"The Longest Increasing Subsequence (LIS) problem is to find the length of the longest subsequence \n",
    "of a given sequence such that all elements of the subsequence are sorted in increasing order. \n",
    "For example, the length of LIS for {10, 22, 9, 33, 21, 50, 41, 60, 80} is 6 \n",
    "and LIS is {10, 22, 33, 50, 60, 80}.\n",
    "\n",
    "\n",
    "Solution O(n^2) Time Complexity\n",
    "\"\"\""
   ]
  },
  {
   "cell_type": "code",
   "execution_count": 51,
   "metadata": {},
   "outputs": [],
   "source": [
    "class Solution:\n",
    "    \n",
    "    def LIS(self, array):\n",
    "        increasing = [1] * len(array)\n",
    "        ans = []\n",
    "        for i in range(1, len(array)):\n",
    "            for j in range(0, i):\n",
    "                if(array[j] < array[i] and increasing[i] < increasing[j] + 1):\n",
    "                    increasing[i] = increasing[j] +1\n",
    "        for i in range(1,increasing[-1]+1):\n",
    "            idx = increasing.index(i)\n",
    "            ans.append(array[idx])\n",
    "        return ans"
   ]
  },
  {
   "cell_type": "code",
   "execution_count": 53,
   "metadata": {},
   "outputs": [
    {
     "name": "stdout",
     "output_type": "stream",
     "text": [
      "[10, 22, 33, 50, 60]\n"
     ]
    }
   ],
   "source": [
    "if __name__ == \"__main__\":\n",
    "    s = Solution()\n",
    "    array = [10, 22, 9, 33, 21, 50, 41, 60] \n",
    "    print(s.LIS(array))"
   ]
  }
 ],
 "metadata": {
  "kernelspec": {
   "display_name": "Python 3",
   "language": "python",
   "name": "python3"
  },
  "language_info": {
   "codemirror_mode": {
    "name": "ipython",
    "version": 3
   },
   "file_extension": ".py",
   "mimetype": "text/x-python",
   "name": "python",
   "nbconvert_exporter": "python",
   "pygments_lexer": "ipython3",
   "version": "3.6.8"
  }
 },
 "nbformat": 4,
 "nbformat_minor": 2
}

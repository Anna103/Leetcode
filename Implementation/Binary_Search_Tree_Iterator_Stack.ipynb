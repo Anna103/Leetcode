{
 "cells": [
  {
   "cell_type": "markdown",
   "metadata": {},
   "source": [
    "Though process, We know that the tree given BST, So if we have inorder traversal stored in a queue,\n",
    "then we can keep popping until the list is empty"
   ]
  },
  {
   "cell_type": "code",
   "execution_count": 1,
   "metadata": {},
   "outputs": [
    {
     "data": {
      "text/plain": [
       "'Implement an iterator over a binary search tree (BST). Your iterator will be initialized with the root node of a BST.\\n\\nCalling next() will return the next smallest number in the BST.\\n\\n             7\\n            /            3  15\\n              /              9  20\\n\\nExample:\\n\\n\\n\\nBSTIterator iterator = new BSTIterator(root);\\niterator.next();    // return 3\\niterator.next();    // return 7\\niterator.hasNext(); // return true\\niterator.next();    // return 9\\niterator.hasNext(); // return true\\niterator.next();    // return 15\\niterator.hasNext(); // return true\\niterator.next();    // return 20\\niterator.hasNext(); // return false'"
      ]
     },
     "execution_count": 1,
     "metadata": {},
     "output_type": "execute_result"
    }
   ],
   "source": [
    "\"\"\"Implement an iterator over a binary search tree (BST). \n",
    "Your iterator will be initialized with the root node of a BST.\n",
    "\n",
    "Calling next() will return the next smallest number in the BST.\n",
    "\n",
    "             7\n",
    "            / \\\n",
    "           3  15\n",
    "              / \\\n",
    "             9  20\n",
    "\n",
    "Example:\n",
    "\n",
    "\n",
    "\n",
    "BSTIterator iterator = new BSTIterator(root);\n",
    "iterator.next();    // return 3\n",
    "iterator.next();    // return 7\n",
    "iterator.hasNext(); // return true\n",
    "iterator.next();    // return 9\n",
    "iterator.hasNext(); // return true\n",
    "iterator.next();    // return 15\n",
    "iterator.hasNext(); // return true\n",
    "iterator.next();    // return 20\n",
    "iterator.hasNext(); // return false\"\"\"\n",
    "\n",
    "\n",
    "# Algorithm\n",
    "# Since it is a binary search tree, inorder traversal will give sorted fashion ouput, \n",
    "# store this output in a stack\n",
    "# whenever stack is called pop the first element from stack\n"
   ]
  },
  {
   "cell_type": "code",
   "execution_count": null,
   "metadata": {},
   "outputs": [],
   "source": [
    "# Definition for a binary tree node.\n",
    "# class TreeNode:\n",
    "#     def __init__(self, val=0, left=None, right=None):\n",
    "#         self.val = val\n",
    "#         self.left = left\n",
    "#         self.right = right\n",
    "class BSTIterator:\n",
    "\n",
    "    def __init__(self, root: TreeNode):\n",
    "        self.path = []\n",
    "        def inorder(root, path):\n",
    "            if(root == None):\n",
    "                return path\n",
    "            if(root.left):\n",
    "                inorder(root.left, path)\n",
    "            path.append(root.val)\n",
    "            if(root.right):\n",
    "                inorder(root.right, path)\n",
    "            return path\n",
    "        self.path = inorder(root, [])\n",
    "                \n",
    "        \n",
    "\n",
    "    def next(self) -> int:\n",
    "        \"\"\"\n",
    "        @return the next smallest number\n",
    "        \"\"\"\n",
    "        if self.path:\n",
    "            return self.path.pop(0)\n",
    "        else:\n",
    "            return None\n",
    "        \n",
    "\n",
    "    def hasNext(self) -> bool:\n",
    "        \"\"\"\n",
    "        @return whether we have a next smallest number\n",
    "        \"\"\"\n",
    "        if self.path:\n",
    "            return True\n",
    "        return False\n",
    "        \n"
   ]
  }
 ],
 "metadata": {
  "kernelspec": {
   "display_name": "Python 3",
   "language": "python",
   "name": "python3"
  },
  "language_info": {
   "codemirror_mode": {
    "name": "ipython",
    "version": 3
   },
   "file_extension": ".py",
   "mimetype": "text/x-python",
   "name": "python",
   "nbconvert_exporter": "python",
   "pygments_lexer": "ipython3",
   "version": "3.6.8"
  }
 },
 "nbformat": 4,
 "nbformat_minor": 2
}

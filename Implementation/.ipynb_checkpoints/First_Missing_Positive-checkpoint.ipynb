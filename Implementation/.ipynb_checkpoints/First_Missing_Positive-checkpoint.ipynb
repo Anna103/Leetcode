{
 "cells": [
  {
   "cell_type": "code",
   "execution_count": null,
   "metadata": {},
   "outputs": [],
   "source": [
    "# Create a Hashset of given list of number\n",
    "# then run a for loop from 1 to length of list  + 2 (since it start from 1 )\n",
    "    # check if any of number is missing in hashset, if yes that is our target\n",
    "    \n",
    "# Time Complexity O(N)\n",
    "# Space Complexity O(N)"
   ]
  },
  {
   "cell_type": "code",
   "execution_count": 2,
   "metadata": {},
   "outputs": [],
   "source": [
    "class Solution:\n",
    "    def firstMissingPositive(self, nums):\n",
    "        num_set = set(nums)\n",
    "        n = len(nums) + 2\n",
    "        for number in range(1,n):\n",
    "            if(number not in num_set):\n",
    "                return number"
   ]
  },
  {
   "cell_type": "code",
   "execution_count": 3,
   "metadata": {},
   "outputs": [
    {
     "name": "stdout",
     "output_type": "stream",
     "text": [
      "2\n"
     ]
    }
   ],
   "source": [
    "if __name__ == \"__main__\":\n",
    "    nums = [3,4,-1,1]\n",
    "    s = Solution()\n",
    "    print(s.firstMissingPositive(nums))"
   ]
  }
 ],
 "metadata": {
  "kernelspec": {
   "display_name": "Python 3",
   "language": "python",
   "name": "python3"
  },
  "language_info": {
   "codemirror_mode": {
    "name": "ipython",
    "version": 3
   },
   "file_extension": ".py",
   "mimetype": "text/x-python",
   "name": "python",
   "nbconvert_exporter": "python",
   "pygments_lexer": "ipython3",
   "version": "3.6.8"
  }
 },
 "nbformat": 4,
 "nbformat_minor": 2
}

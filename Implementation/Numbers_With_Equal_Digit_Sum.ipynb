{
 "cells": [
  {
   "cell_type": "code",
   "execution_count": null,
   "metadata": {},
   "outputs": [],
   "source": [
    "\"\"\"Description\n",
    "\n",
    "Given an array A consisting of N integers, returns the maximum sum of \n",
    "two numbers whose digits add up to an equal sum. if there are not two\n",
    "numbers whose digits have an equal sum, the function should return -1.\n",
    "\"\"\""
   ]
  },
  {
   "cell_type": "code",
   "execution_count": 33,
   "metadata": {},
   "outputs": [],
   "source": [
    "class Solution:\n",
    "    \n",
    "    def calc_sum_digits(self, number):\n",
    "        \n",
    "        sum_digit = 0\n",
    "        while(number != 0):\n",
    "            sum_digit += number%10\n",
    "            number = int(number/10)\n",
    "        return sum_digit\n",
    "    \n",
    "    def get_same_sum(self, list_num):\n",
    "        list_num = sorted(list_num)\n",
    "        dict_sum_digit = dict()\n",
    "        for i in range(len(list_num)):\n",
    "            \n",
    "            sum_digit = self.calc_sum_digits(list_num[i])\n",
    "            print(sum_digit)\n",
    "            if(sum_digit not in dict_sum_digit.keys()):\n",
    "                dict_sum_digit[sum_digit] = [list_num[i]]\n",
    "            else:\n",
    "                dict_sum_digit[sum_digit].append(list_num[i])\n",
    "        max_sum = -1\n",
    "        for keys in dict_sum_digit.keys():\n",
    "            if(len(dict_sum_digit[keys]) > 1):\n",
    "                if(max_sum < (dict_sum_digit[keys][-1] + dict_sum_digit[keys][-2])):\n",
    "                    max_sum = dict_sum_digit[keys][-1] + dict_sum_digit[keys][-2]\n",
    "        return max_sum"
   ]
  },
  {
   "cell_type": "code",
   "execution_count": 34,
   "metadata": {},
   "outputs": [
    {
     "name": "stdout",
     "output_type": "stream",
     "text": [
      "6\n",
      "6\n",
      "6\n",
      "102\n"
     ]
    }
   ],
   "source": [
    "if __name__ == \"__main__\":\n",
    "    A = [42,33,60]\n",
    "    s = Solution()\n",
    "    print(s.get_same_sum(A))"
   ]
  }
 ],
 "metadata": {
  "kernelspec": {
   "display_name": "Python 3",
   "language": "python",
   "name": "python3"
  },
  "language_info": {
   "codemirror_mode": {
    "name": "ipython",
    "version": 3
   },
   "file_extension": ".py",
   "mimetype": "text/x-python",
   "name": "python",
   "nbconvert_exporter": "python",
   "pygments_lexer": "ipython3",
   "version": "3.6.8"
  }
 },
 "nbformat": 4,
 "nbformat_minor": 2
}

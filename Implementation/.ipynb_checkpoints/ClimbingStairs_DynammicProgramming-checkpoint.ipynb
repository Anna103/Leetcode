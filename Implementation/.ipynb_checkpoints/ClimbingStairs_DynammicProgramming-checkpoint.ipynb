{
 "cells": [
  {
   "cell_type": "code",
   "execution_count": null,
   "metadata": {},
   "outputs": [],
   "source": [
    "\"\"\"You are climbing a stair case. It takes n steps to reach to the top.\n",
    "\n",
    "Each time you can either climb 1 or 2 steps. In how many distinct ways can you climb to the top?\n",
    "\n",
    "Note: Given n will be a positive integer.\n",
    "\n",
    "Example 1:\n",
    "\n",
    "Input: 2\n",
    "Output: 2\n",
    "Explanation: There are two ways to climb to the top.\n",
    "1. 1 step + 1 step\n",
    "2. 2 steps\"\"\"\n",
    "\n",
    "# Algorithm\n",
    "# 1. create a dp array of size equal to number of steps\n",
    "# 2. Inititalise 0 index to be number of menthods to climb when n== 1 ; dp[0] = 1\n",
    "# 3. Inititalise 1 index to be number of menthods to climb when n== 2 ; dp[1] = 2\n",
    "# 4. run loop that runs from 2 upto n adding previous two values \n",
    "# 5. return the last element"
   ]
  },
  {
   "cell_type": "code",
   "execution_count": 1,
   "metadata": {},
   "outputs": [],
   "source": [
    "class Solution:\n",
    "    def climbStairs(self, n: int) -> int:\n",
    "        if(n == 0):\n",
    "            return 0\n",
    "        elif(n==1):\n",
    "            return 1\n",
    "        else:\n",
    "            dp = [0 for steps in range(n)]\n",
    "            dp[0] = 1\n",
    "            dp[1] = 2\n",
    "            for i in range(2, n):\n",
    "                dp[i] = dp[i-1] + dp[i-2]\n",
    "            return dp[n-1]"
   ]
  },
  {
   "cell_type": "code",
   "execution_count": 2,
   "metadata": {},
   "outputs": [
    {
     "name": "stdout",
     "output_type": "stream",
     "text": [
      "3\n"
     ]
    }
   ],
   "source": [
    "if __name__ == \"__main__\":\n",
    "    s = Solution()\n",
    "    n = 3\n",
    "    print(s.climbStairs(n))"
   ]
  }
 ],
 "metadata": {
  "kernelspec": {
   "display_name": "Python 3",
   "language": "python",
   "name": "python3"
  },
  "language_info": {
   "codemirror_mode": {
    "name": "ipython",
    "version": 3
   },
   "file_extension": ".py",
   "mimetype": "text/x-python",
   "name": "python",
   "nbconvert_exporter": "python",
   "pygments_lexer": "ipython3",
   "version": "3.6.8"
  }
 },
 "nbformat": 4,
 "nbformat_minor": 2
}

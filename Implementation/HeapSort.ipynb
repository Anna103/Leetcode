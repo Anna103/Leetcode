{
 "cells": [
  {
   "cell_type": "code",
   "execution_count": 29,
   "metadata": {},
   "outputs": [],
   "source": [
    "#Heapsort\n",
    "#Algorithm\n",
    "#start from mid of the array until the start -> run heapify\n",
    "    # In heapify, let root be end,\n",
    "    # let largest be root, now left child of root will be 2*i+1 where i is the root index\n",
    "    # check if left is lesser than n and root, else largest is left\n",
    "    # similarly for right : 2*i + 2\n",
    "    # check if right is lesser than n and  current largest else largest is right index\n",
    "    # if initial root and largest is not equal swap and run heapify again with largest as i\n",
    "#start from end of array until 0 \n",
    "#swap i and 0 and then run heapify with i and 0\n",
    "    \n",
    "\n",
    "    \n",
    "###################################################################\n",
    "#MinHeap - when you have to sort in descending order -- coz we remove top node and place at the end of the array\n",
    "#Maxheap to sort in ascending order -- coz we remove top node and place at the end\n",
    "\n",
    "# left child = 2 * i + 1\n",
    "# right child = 2 * 2 + 1\n",
    "\n",
    "#Heapify \n",
    "# check for current node is the left and right child smaller else.. the largest will become the root.\n",
    "# run until u create a max heap\n",
    "\n",
    "#Once max heap is ccreated. remove the topmost node and swap it with the end of array. \n",
    "#run heapify again until just one element is left.\n",
    "\n",
    "\n",
    "# Time complexity is O(nlogn) - logn for heapify as we are advancing in 2n ways, n for placing the elements at the correct position\n",
    "\n",
    "\n",
    "# FOr finding kth largest element, run until u reach K =>klogn\n",
    " \n",
    "\n",
    "##############&&&&&&&& https://www.programiz.com/dsa/priority-queue ############### priority queue\n",
    "    \n",
    "class Solution:\n",
    "    \n",
    "    def heapify(self, arr, n, root_index):\n",
    "        largest = root_index\n",
    "        left = 2*root_index + 1\n",
    "        right = 2*root_index + 2\n",
    "        \n",
    "        \n",
    "        if left < n and arr[left] > arr[largest]:\n",
    "            largest = left\n",
    "        if right < n and arr[right] > arr[largest]:\n",
    "            largest = right\n",
    "        \n",
    "        if largest != root_index:\n",
    "            arr[root_index], arr[largest] = arr[largest], arr[root_index]\n",
    "            self.heapify(arr, n, largest)\n",
    "            \n",
    "    def heapSort(self, arr):\n",
    "        n = len(arr)\n",
    "        k = 2\n",
    "        for i in range(int(n*0.5-1), -1, -1):\n",
    "            self.heapify(arr, n, i)\n",
    "        # One by one extract elements \n",
    "        for i in range(n-1, 0, -1): \n",
    "            arr[i], arr[0] = arr[0], arr[i] # swap \n",
    "            if i == (n-k): \n",
    "                print(arr[i])\n",
    "                break\n",
    "            self.heapify(arr, i, 0) \n",
    "            \n",
    "        return arr"
   ]
  },
  {
   "cell_type": "code",
   "execution_count": 30,
   "metadata": {},
   "outputs": [
    {
     "name": "stdout",
     "output_type": "stream",
     "text": [
      "6\n",
      "[2, 4, 5, 1, 0, 6, 8]\n"
     ]
    }
   ],
   "source": [
    "if __name__ == \"__main__\":\n",
    "    \n",
    "    arr = [4, 0, 5, 1, 6, 2, 8]\n",
    "    s = Solution()\n",
    "    arr1 = s.heapSort(arr)\n",
    "    print(arr1)"
   ]
  }
 ],
 "metadata": {
  "kernelspec": {
   "display_name": "Python 3",
   "language": "python",
   "name": "python3"
  },
  "language_info": {
   "codemirror_mode": {
    "name": "ipython",
    "version": 3
   },
   "file_extension": ".py",
   "mimetype": "text/x-python",
   "name": "python",
   "nbconvert_exporter": "python",
   "pygments_lexer": "ipython3",
   "version": "3.6.8"
  }
 },
 "nbformat": 4,
 "nbformat_minor": 2
}

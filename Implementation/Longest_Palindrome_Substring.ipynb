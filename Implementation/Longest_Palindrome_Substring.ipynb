{
 "cells": [
  {
   "cell_type": "code",
   "execution_count": null,
   "metadata": {},
   "outputs": [],
   "source": [
    "\"\"\"Given a string s, find the longest palindromic substring in s. You may assume that the maximum length of s is 1000.\n",
    "\n",
    "Example 1:\n",
    "\n",
    "Input: \"babad\"\n",
    "Output: \"bab\"\n",
    "Note: \"aba\" is also a valid answer.\n",
    "Example 2:\n",
    "\n",
    "Input: \"cbbd\"\n",
    "Output: \"bb\"\"\"\"\n",
    "\n",
    "\n",
    "\n",
    "# This problem is solved using Dynamic Programming\n",
    "# We create a 2-D matrix of size len(string) * len(string) -- Matrix is initialised to False\n",
    "# i represents our start index, j represents our end index (i for row, j for column)\n",
    "# length_palindrom is set to 0\n",
    "# We need only those values which is above the diagonal\n",
    "# The Diagonal is marked as True - Because Single letter is also a palindrome\n",
    "# We will follow bottom -up approach i.e we start filling our bottom rows first\n",
    "# Condition for filling\n",
    "    # if char at i and j is same and if truth value at i+1 and j-1 is true then current value is changed to true\n",
    "    # len of current string is more than the ealier set palidrome then change it to current\n",
    "# Repeat until you reach the top"
   ]
  },
  {
   "cell_type": "code",
   "execution_count": 2,
   "metadata": {},
   "outputs": [],
   "source": [
    "class Solution:\n",
    "    def longestPalindrome(self, s):\n",
    "        len_palindrome = 0\n",
    "        palindrome = \"\"\n",
    "        len_s = len(s)\n",
    "        if(len_s < 2):\n",
    "            return s\n",
    "        p_table = [[False for row in range(len_s)] for col in range(len_s)]\n",
    "        for i in range(len_s):\n",
    "            p_table[i][i] = True\n",
    "            if(len(s[i:i+1]) > len_palindrome):\n",
    "                len_palindrome = len(s[i:i+1])\n",
    "                palindrome = s[i:i+1]\n",
    "        for i in range(len_s -1,-1, -1):\n",
    "            for j in range(i+1, len_s):\n",
    "                if(s[i] == s[j]):\n",
    "                    if((j - i == 1) or (p_table[i+1][j-1])):\n",
    "                        p_table[i][j] = True\n",
    "                        if len_palindrome < j - i + 1:\n",
    "                            len_palindrome = j - i + 1\n",
    "                            palindrome = s[i: j+ 1]\n",
    "        \n",
    "        return palindrome\n",
    "    \n",
    "    \n",
    "    \"\"\"\n",
    "        if not s:\n",
    "            return ''\n",
    "        max_len = 1 # the length of longest substring\n",
    "        st = 0 # start point\n",
    "        for i in range(1,len(s)):\n",
    "            if i-max_len > 0 and s[i-max_len-1:i+1] == s[i-max_len-1:i+1][::-1]:\n",
    "                st = i-max_len-1\n",
    "                max_len += 2\n",
    "                continue\n",
    "            if i-max_len >= 0 and s[i-max_len:i+1] == s[i-max_len:i+1][::-1]:\n",
    "                st = i-max_len\n",
    "                max_len += 1\n",
    "        return s[st:st+max_len]\n",
    "        \n",
    "        \n",
    "    \"\"\"    "
   ]
  },
  {
   "cell_type": "code",
   "execution_count": 3,
   "metadata": {},
   "outputs": [
    {
     "name": "stdout",
     "output_type": "stream",
     "text": [
      "abba\n"
     ]
    }
   ],
   "source": [
    "if __name__ == \"__main__\":\n",
    "    \n",
    "    s = Solution()\n",
    "    print(s.longestPalindrome(\"bdsabbajk\"))"
   ]
  }
 ],
 "metadata": {
  "kernelspec": {
   "display_name": "Python 3",
   "language": "python",
   "name": "python3"
  },
  "language_info": {
   "codemirror_mode": {
    "name": "ipython",
    "version": 3
   },
   "file_extension": ".py",
   "mimetype": "text/x-python",
   "name": "python",
   "nbconvert_exporter": "python",
   "pygments_lexer": "ipython3",
   "version": "3.6.8"
  }
 },
 "nbformat": 4,
 "nbformat_minor": 2
}

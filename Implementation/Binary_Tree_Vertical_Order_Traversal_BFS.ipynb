{
 "cells": [
  {
   "cell_type": "code",
   "execution_count": null,
   "metadata": {},
   "outputs": [],
   "source": [
    "\"\"\"Given a binary tree, return the vertical order traversal of its nodes' values. (ie, from top to bottom, \n",
    "column by column).\n",
    "\n",
    "If two nodes are in the same row and column, the order should be from left to right.\n",
    "\n",
    "Examples 1:\n",
    "\n",
    "Input: [3,9,20,null,null,15,7]\n",
    "\n",
    "   3\n",
    "  /\\\n",
    " /  \\\n",
    " 9  20\n",
    "    /\\\n",
    "   /  \\\n",
    "  15   7 \n",
    "\n",
    "Output:\n",
    "\n",
    "[\n",
    "  [9],\n",
    "  [3,15],\n",
    "  [20],\n",
    "  [7]\n",
    "]\n",
    "Examples 2:\n",
    "\n",
    "Input: [3,9,8,4,0,1,7]\n",
    "\n",
    "     3\n",
    "    /\\\n",
    "   /  \\\n",
    "   9   8\n",
    "  /\\  /\\\n",
    " /  \\/  \\\n",
    " 4  01   7 \n",
    "\n",
    "Output:\n",
    "\n",
    "[\n",
    "  [4],\n",
    "  [9],\n",
    "  [3,0,1],\n",
    "  [8],\n",
    "  [7]\n",
    "]\"\"\"\n",
    "    \n",
    "    \n",
    "    # Algorithm\n",
    "    # we need to traverse the the in level order (this is to maintain the order)\n",
    "    # 1. create a queue with root and 0 i.e queue = [(root, i)] .. create a defaultdict(list) --> this create dictionary of lists\n",
    "    # 2. then run loop until end of queue() from node, i in queue\n",
    "        # if node has some values\n",
    "        # 3. queue += (root.left, i-1), root.right , i+1\n",
    "        # 4. dict[val] = root.val\n",
    "    # 5. return (sorted(dict.items())).values()"
   ]
  },
  {
   "cell_type": "code",
   "execution_count": 1,
   "metadata": {},
   "outputs": [],
   "source": [
    "class TreeNode:\n",
    "    def __init__(self, val=0, left=None, right=None):\n",
    "        self.val = val\n",
    "        self.left = left\n",
    "        self.right = right"
   ]
  },
  {
   "cell_type": "code",
   "execution_count": 4,
   "metadata": {},
   "outputs": [],
   "source": [
    "import collections\n",
    "class Solution:\n",
    "    def verticalOrder(self, root):\n",
    "        cols = collections.defaultdict(list)\n",
    "        queue = [(root, 0)]\n",
    "        while queue:\n",
    "            node, i = queue.pop(0)\n",
    "            if node:\n",
    "                cols[i].append(node.val)\n",
    "                queue += (node.left, i - 1), (node.right, i + 1)\n",
    "        return dict(sorted(cols.items())).values()"
   ]
  },
  {
   "cell_type": "code",
   "execution_count": 5,
   "metadata": {},
   "outputs": [
    {
     "name": "stdout",
     "output_type": "stream",
     "text": [
      "{-1: [9], 0: [3, 15], 1: [20], 2: [7]}\n",
      "dict_values([[9], [3, 15], [20], [7]])\n"
     ]
    }
   ],
   "source": [
    "if __name__ == \"__main__\":\n",
    "    root = TreeNode(3)\n",
    "    root.left = TreeNode(9)\n",
    "    root.right = TreeNode(20)\n",
    "    root.right.left = TreeNode(15)\n",
    "    root.right.right = TreeNode(7)\n",
    "    s = Solution()\n",
    "    print(s.verticalOrder(root))"
   ]
  }
 ],
 "metadata": {
  "kernelspec": {
   "display_name": "Python 3",
   "language": "python",
   "name": "python3"
  },
  "language_info": {
   "codemirror_mode": {
    "name": "ipython",
    "version": 3
   },
   "file_extension": ".py",
   "mimetype": "text/x-python",
   "name": "python",
   "nbconvert_exporter": "python",
   "pygments_lexer": "ipython3",
   "version": "3.6.8"
  }
 },
 "nbformat": 4,
 "nbformat_minor": 2
}

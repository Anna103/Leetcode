{
 "cells": [
  {
   "cell_type": "code",
   "execution_count": null,
   "metadata": {},
   "outputs": [],
   "source": [
    "\"\"\"\n",
    "Given two lists of closed intervals, each list of intervals is pairwise disjoint and in sorted order.\n",
    "\n",
    "Return the intersection of these two interval lists.\n",
    "\n",
    "(Formally, a closed interval [a, b] (with a <= b) denotes the set of real numbers x with a <= x <= b.  The intersection of two closed intervals is a set of real numbers that is either empty, or can be represented as a closed interval.  For example, the intersection of [1, 3] and [2, 4] is [2, 3].)\n",
    "\n",
    " Input: A = [[0,2],[5,10],[13,23],[24,25]], B = [[1,5],[8,12],[15,24],[25,26]]\n",
    "Output: [[1,2],[5,5],[8,10],[15,23],[24,24],[25,25]]\n",
    "Reminder: The inputs and the desired output are lists of Interval objects, and not arrays or lists.\n",
    "\n",
    "\"\"\"\n",
    "# Algorithm\n",
    "# 1. Initialise 2 pointer which hold the index of A and B\n",
    "# 2. Run the loop until end of both the array\n",
    "    # 3. lo = max(A[i][0], B[j][0]) -----> get start of intersection\n",
    "    # 4. hi = min(A[i][1], B[j][1]) -----> get end of intersection\n",
    "    # 5. if lo <= hi\n",
    "        # 6. add the the answer\n",
    "    # 7. if (A[i][1] < B[j][1]) ---> which one ends first\n",
    "        # 8. then increase i\n",
    "    # 9. else increase j"
   ]
  },
  {
   "cell_type": "code",
   "execution_count": 3,
   "metadata": {},
   "outputs": [],
   "source": [
    "class Solution:\n",
    "    def intersection_list(self, A, B):\n",
    "        i = j = 0\n",
    "        ans = []\n",
    "        while(i<len(A) and j < len(B)):\n",
    "            lo = max(A[i][0], B[j][0])\n",
    "            hi = min(A[i][1], B[j][1])\n",
    "            if(lo <= hi):\n",
    "                ans.append([lo, hi])\n",
    "            if(A[i][1] < B[j][1]):\n",
    "                i += 1\n",
    "            else:\n",
    "                j += 1\n",
    "        return ans"
   ]
  },
  {
   "cell_type": "code",
   "execution_count": 4,
   "metadata": {},
   "outputs": [
    {
     "name": "stdout",
     "output_type": "stream",
     "text": [
      "[[1, 2], [5, 5], [8, 10], [15, 23], [24, 24], [25, 25]]\n"
     ]
    }
   ],
   "source": [
    "if __name__ == \"__main__\":\n",
    "    A = [[0,2],[5,10],[13,23],[24,25]]\n",
    "    B = [[1,5],[8,12],[15,24],[25,26]]\n",
    "    s = Solution()\n",
    "    print(s.intersection_list(A, B))"
   ]
  }
 ],
 "metadata": {
  "kernelspec": {
   "display_name": "Python 3",
   "language": "python",
   "name": "python3"
  },
  "language_info": {
   "codemirror_mode": {
    "name": "ipython",
    "version": 3
   },
   "file_extension": ".py",
   "mimetype": "text/x-python",
   "name": "python",
   "nbconvert_exporter": "python",
   "pygments_lexer": "ipython3",
   "version": "3.6.8"
  }
 },
 "nbformat": 4,
 "nbformat_minor": 2
}

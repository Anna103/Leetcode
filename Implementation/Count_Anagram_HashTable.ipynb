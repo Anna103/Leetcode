{
 "cells": [
  {
   "cell_type": "code",
   "execution_count": 1,
   "metadata": {},
   "outputs": [
    {
     "data": {
      "text/plain": [
       "'Given a string s and a non-empty string p, find all the start indices of p\\'s anagrams in s.\\n\\nStrings consists of lowercase English letters only and the length of both strings s and p will not be larger than 20,100.\\n\\nThe order of output does not matter.\\n\\nExample 1:\\n\\nInput:\\ns: \"cbaebabacd\" p: \"abc\"\\n\\nOutput:\\n[0, 6]\\n\\nExplanation:\\nThe substring with start index = 0 is \"cba\", which is an anagram of \"abc\".\\nThe substring with start index = 6 is \"bac\", which is an anagram of \"abc\".'"
      ]
     },
     "execution_count": 1,
     "metadata": {},
     "output_type": "execute_result"
    }
   ],
   "source": [
    "\"\"\"Given a string s and a non-empty string p, find all the start indices of p's anagrams in s.\n",
    "\n",
    "Strings consists of lowercase English letters only and the length of both \n",
    "strings s and p will not be larger than 20,100.\n",
    "\n",
    "The order of output does not matter.\n",
    "\n",
    "Example 1:\n",
    "\n",
    "Input:\n",
    "s: \"cbaebabacd\" p: \"abc\"\n",
    "\n",
    "Output:\n",
    "[0, 6]\n",
    "\n",
    "Explanation:\n",
    "The substring with start index = 0 is \"cba\", which is an anagram of \"abc\".\n",
    "The substring with start index = 6 is \"bac\", which is an anagram of \"abc\".\"\"\"\n",
    "\n",
    "\n",
    "\n",
    "# Algorithm\n",
    "#1. Take the length of both the string in len_p and len_s\n",
    "#2. If len_p > len_s: return [] (Since our pattern string cannot be bigger than original string)\n",
    "\n",
    "#3. Create a dictionary of pattern string\n",
    "#4. Run a loop for our main string s\n",
    "    #5. create a dictionary for keeping th count of the char that we encounter in the loop\n",
    "    #6. When the loop is run ensure the the size of our window is within the length of p else \n",
    "        #7. decrement or delete the key(char) if its not present in the current window\n",
    "    #8. If our current window dictionary is same as our p dictionary\n",
    "    #9. Append our start position of window to answer"
   ]
  },
  {
   "cell_type": "code",
   "execution_count": 1,
   "metadata": {},
   "outputs": [],
   "source": [
    "import collections\n",
    "class Solution:\n",
    "    def findAnagrams(self, s: str, p: str):\n",
    "        len_s = len(s)\n",
    "        len_p = len(p)\n",
    "        answer = []\n",
    "        if(len_p > len_s):\n",
    "            return answer\n",
    "        else:\n",
    "            counter_p = collections.Counter(p)\n",
    "            counter_s = collections.Counter()\n",
    "            for i in range(len_s):\n",
    "                counter_s[s[i]] +=1\n",
    "                if(i>=len_p):\n",
    "                    if(counter_s[s[i-len_p]] == 1):\n",
    "                        del counter_s[s[i-len_p]]\n",
    "                    else:\n",
    "                        counter_s[s[i-len_p]] -= 1\n",
    "                \n",
    "                if(counter_s == counter_p):\n",
    "                    answer.append(i-len_p+1)\n",
    "                \n",
    "            return answer"
   ]
  },
  {
   "cell_type": "code",
   "execution_count": 3,
   "metadata": {},
   "outputs": [
    {
     "name": "stdout",
     "output_type": "stream",
     "text": [
      "[0, 1, 3, 5]\n"
     ]
    }
   ],
   "source": [
    "if __name__ == \"__main__\":\n",
    "    s = Solution()\n",
    "    print(s.findAnagrams(\"aabababa\", \"aba\"))"
   ]
  }
 ],
 "metadata": {
  "kernelspec": {
   "display_name": "Python 3",
   "language": "python",
   "name": "python3"
  },
  "language_info": {
   "codemirror_mode": {
    "name": "ipython",
    "version": 3
   },
   "file_extension": ".py",
   "mimetype": "text/x-python",
   "name": "python",
   "nbconvert_exporter": "python",
   "pygments_lexer": "ipython3",
   "version": "3.6.8"
  }
 },
 "nbformat": 4,
 "nbformat_minor": 2
}

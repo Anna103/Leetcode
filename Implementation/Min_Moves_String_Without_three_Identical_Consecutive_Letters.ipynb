{
 "cells": [
  {
   "cell_type": "code",
   "execution_count": 5,
   "metadata": {},
   "outputs": [],
   "source": [
    "class Solution:\n",
    "    \n",
    "    def min_consec(self, mystring1):\n",
    "        ind = 0\n",
    "        mystring = list(mystring1)\n",
    "        while(ind+2 <= len(mystring)):\n",
    "            print(ind, mystring[ind-1], mystring[ind], mystring[ind+1])\n",
    "            if(mystring[ind-1]==mystring[ind] and mystring[ind]== mystring[ind+1]):\n",
    "                if(mystring[ind+1] == 'a'):\n",
    "                    mystring[ind+1] = 'b'\n",
    "                else:\n",
    "                    mystring[ind+1] = 'a'\n",
    "            ind += 2\n",
    "        print(\"\".join(mystring))\n"
   ]
  },
  {
   "cell_type": "code",
   "execution_count": 6,
   "metadata": {},
   "outputs": [
    {
     "name": "stdout",
     "output_type": "stream",
     "text": [
      "0 b b a\n",
      "2 a a a\n",
      "4 b a a\n",
      "6 a b b\n",
      "8 b b a\n",
      "10 a a a\n",
      "12 b b b\n",
      "14 a a b\n",
      "baabaabbbaabbaab\n"
     ]
    }
   ],
   "source": [
    "if __name__ == \"__main__\":\n",
    "    mystring = \"baaaaabbbaaabbab\"\n",
    "    s = Solution()\n",
    "    s.min_consec(mystring)"
   ]
  }
 ],
 "metadata": {
  "kernelspec": {
   "display_name": "Python 3",
   "language": "python",
   "name": "python3"
  },
  "language_info": {
   "codemirror_mode": {
    "name": "ipython",
    "version": 3
   },
   "file_extension": ".py",
   "mimetype": "text/x-python",
   "name": "python",
   "nbconvert_exporter": "python",
   "pygments_lexer": "ipython3",
   "version": "3.6.8"
  }
 },
 "nbformat": 4,
 "nbformat_minor": 2
}

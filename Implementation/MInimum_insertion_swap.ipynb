{
 "cells": [
  {
   "cell_type": "code",
   "execution_count": 20,
   "metadata": {},
   "outputs": [],
   "source": [
    "class Solution:\n",
    "    def __init__(self):\n",
    "        self.count = 0\n",
    "        \n",
    "    def partition(self, arr, low, high):\n",
    "        i = low\n",
    "        pivot = arr[high]\n",
    "        \n",
    "        for j in range(low, high):\n",
    "            if arr[j] <= pivot:\n",
    "                arr[i], arr[j] = arr[j], arr[i]\n",
    "                i += 1\n",
    "                self.count += 1\n",
    "                print(self.count)\n",
    "            \n",
    "        arr[i], arr[high] = arr[high], arr[i]\n",
    "        return i\n",
    "    \n",
    "    def quicksort(self, low, high, arr):\n",
    "        if(low<high):\n",
    "            pi = self.partition(arr, low, high)\n",
    "            self.quicksort(low, pi-1, arr)\n",
    "            self.quicksort(pi+1, high, arr)\n",
    "        return arr\n",
    "    \n",
    "    def count_swap(self, arr):\n",
    "        arr = self.quicksort(0, len(arr)-1, arr)\n",
    "        print(arr)\n",
    "        print(self.count)\n",
    "        \n",
    "    \n"
   ]
  },
  {
   "cell_type": "code",
   "execution_count": 22,
   "metadata": {},
   "outputs": [
    {
     "name": "stdout",
     "output_type": "stream",
     "text": [
      "1\n",
      "2\n",
      "3\n",
      "4\n",
      "5\n",
      "6\n",
      "[0, 1, 2, 3, 4, 9]\n",
      "6\n",
      "None\n"
     ]
    }
   ],
   "source": [
    "if __name__ == \"__main__\":\n",
    "    arr = [4, 9,1,2, 3, 0]\n",
    "    s = Solution()\n",
    "    print(s.count_swap(arr))"
   ]
  }
 ],
 "metadata": {
  "kernelspec": {
   "display_name": "Python 3",
   "language": "python",
   "name": "python3"
  },
  "language_info": {
   "codemirror_mode": {
    "name": "ipython",
    "version": 3
   },
   "file_extension": ".py",
   "mimetype": "text/x-python",
   "name": "python",
   "nbconvert_exporter": "python",
   "pygments_lexer": "ipython3",
   "version": "3.6.8"
  }
 },
 "nbformat": 4,
 "nbformat_minor": 2
}

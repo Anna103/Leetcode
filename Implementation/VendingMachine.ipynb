{
 "cells": [
  {
   "cell_type": "code",
   "execution_count": 1,
   "metadata": {},
   "outputs": [],
   "source": [
    "import abc\n",
    "\n",
    "class VendingMachineState:\n",
    "    def collect_cash(self,cash):\n",
    "        raise IllegalArgumentException(ValueError)\n",
    "    def dispense_item(self, product_id, cash_collected, product_cost):\n",
    "        raise IllegalArgumentException(ValueError)\n",
    "    def dispense_change(self, cash_remaining):\n",
    "        raise IllegalArgumentException(ValueError)\n",
    "    def cancel_transaction(self, cash_collected):\n",
    "        raise IllegalArgumentException(ValueError)\n",
    "    "
   ]
  },
  {
   "cell_type": "code",
   "execution_count": null,
   "metadata": {},
   "outputs": [],
   "source": [
    "class CollectCash(VendingMachineState):\n",
    "    def __init__(self):\n",
    "        self.cash_collected = 0\n",
    "    def collect_cash(self,cash):\n",
    "        cashcollected += cash\n",
    "    def dispense_item(self, product_id,cash_remaining):\n",
    "        raise Exception(\"Collecting cash cannot dispense\")\n",
    "    def dispense_change(self):\n",
    "        raise Exception(\"Click on Cancel\")\n",
    "    "
   ]
  },
  {
   "cell_type": "code",
   "execution_count": null,
   "metadata": {},
   "outputs": [],
   "source": [
    "class DispenseItem(VendingMachineState):\n",
    "    def collect_cash(self,cash):\n",
    "        cashcollected += cash\n",
    "    def dispense_item(self, product_id,cash_collected,product_cost):\n",
    "        if product_cost <= cash_collected:\n",
    "            print(\"Dispensing product\")\n",
    "            return cash_collected - product_cost\n",
    "        else:\n",
    "            print(\"Insufficient Balance\")\n",
    "            return -1\n",
    "    def dispense_change(self, cash_remaining):\n",
    "        raise Exception(\"Click on Cancel\")\n",
    "        \n",
    "    def cancel_transaction(self, cash_collected):\n",
    "        raise IllegalArgumentException(ValueError)"
   ]
  },
  {
   "cell_type": "code",
   "execution_count": null,
   "metadata": {},
   "outputs": [],
   "source": [
    "class DispenseChange(VendingMachineState):\n",
    "    def collect_cash(self,cash):\n",
    "        raise Exception(\"Dispensing Change\")\n",
    "    def dispense_item(self, product_id,cash_collected,product_cost):\n",
    "        raise Exception(\"Dispensing Change\")\n",
    "    def dispense_change(self, cash_remaining):\n",
    "        if cash_remaining == 0:\n",
    "            print(\"No cash remaining\")\n",
    "        else:\n",
    "            print(\"Return cash\")\n",
    "    def cancel_transaction(self, cash_collected):\n",
    "        raise Exception(\"Dispensing Change\")"
   ]
  },
  {
   "cell_type": "code",
   "execution_count": null,
   "metadata": {},
   "outputs": [],
   "source": [
    "class CancelTransaction(VendingMachineState):\n",
    "    def collect_cash(self,cash):\n",
    "        raise Exception(\"Dispensing Change\")\n",
    "    def dispense_item(self, product_id,cash_collected,product_cost):\n",
    "        raise Exception(\"Dispensing Change\")\n",
    "    def dispense_change(self, cash_remaining):\n",
    "        if cash_remaining == 0:\n",
    "            raise Exception(\"Canceling Transaction\")\n",
    "    def cancel_transaction(self, cash_collected):\n",
    "        print(\"Returning Money\")"
   ]
  },
  {
   "cell_type": "code",
   "execution_count": null,
   "metadata": {},
   "outputs": [],
   "source": [
    "class VendingMachine:\n",
    "    c = Customer()\n",
    "    "
   ]
  },
  {
   "cell_type": "code",
   "execution_count": null,
   "metadata": {},
   "outputs": [],
   "source": [
    "class Customer:\n",
    "    def __init__(self):\n",
    "        self.cash = 0"
   ]
  },
  {
   "cell_type": "code",
   "execution_count": 2,
   "metadata": {},
   "outputs": [
    {
     "name": "stdout",
     "output_type": "stream",
     "text": [
      "a\n"
     ]
    }
   ],
   "source": [
    "s = \"abcdefgh\"\n",
    "print(s[0:1])"
   ]
  }
 ],
 "metadata": {
  "kernelspec": {
   "display_name": "Python 3",
   "language": "python",
   "name": "python3"
  },
  "language_info": {
   "codemirror_mode": {
    "name": "ipython",
    "version": 3
   },
   "file_extension": ".py",
   "mimetype": "text/x-python",
   "name": "python",
   "nbconvert_exporter": "python",
   "pygments_lexer": "ipython3",
   "version": "3.6.8"
  }
 },
 "nbformat": 4,
 "nbformat_minor": 2
}

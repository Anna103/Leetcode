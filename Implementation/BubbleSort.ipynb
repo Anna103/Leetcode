{
 "cells": [
  {
   "cell_type": "code",
   "execution_count": 12,
   "metadata": {},
   "outputs": [],
   "source": [
    "# This method uses 2 for loops, compares adjacent elements,\n",
    "#In ascending sort, smaller elements come in the front\n",
    "# this way we get a sorted list\n",
    "# TIME COMPLEXITY IS N^2\n",
    "class Solution:\n",
    "    \n",
    "    def bubblesort(self, nums):\n",
    "        for i in range(len(nums)):\n",
    "            for j in range(len(nums)-1):\n",
    "                if (nums[j]  > nums[j+1]):\n",
    "                    temp = nums[j]\n",
    "                    nums[j] = nums[j+1]\n",
    "                    nums[j+1] = temp\n",
    "                    print(\"Nums\",nums)\n",
    "        print(nums)\n",
    "            "
   ]
  },
  {
   "cell_type": "code",
   "execution_count": 13,
   "metadata": {},
   "outputs": [
    {
     "name": "stdout",
     "output_type": "stream",
     "text": [
      "Nums [-1, 9, 8, 0, 4, 2, 200, -6]\n",
      "Nums [-1, 8, 9, 0, 4, 2, 200, -6]\n",
      "Nums [-1, 8, 0, 9, 4, 2, 200, -6]\n",
      "Nums [-1, 8, 0, 4, 9, 2, 200, -6]\n",
      "Nums [-1, 8, 0, 4, 2, 9, 200, -6]\n",
      "Nums [-1, 8, 0, 4, 2, 9, -6, 200]\n",
      "Nums [-1, 0, 8, 4, 2, 9, -6, 200]\n",
      "Nums [-1, 0, 4, 8, 2, 9, -6, 200]\n",
      "Nums [-1, 0, 4, 2, 8, 9, -6, 200]\n",
      "Nums [-1, 0, 4, 2, 8, -6, 9, 200]\n",
      "Nums [-1, 0, 2, 4, 8, -6, 9, 200]\n",
      "Nums [-1, 0, 2, 4, -6, 8, 9, 200]\n",
      "Nums [-1, 0, 2, -6, 4, 8, 9, 200]\n",
      "Nums [-1, 0, -6, 2, 4, 8, 9, 200]\n",
      "Nums [-1, -6, 0, 2, 4, 8, 9, 200]\n",
      "Nums [-6, -1, 0, 2, 4, 8, 9, 200]\n",
      "[-6, -1, 0, 2, 4, 8, 9, 200]\n"
     ]
    }
   ],
   "source": [
    "if __name__ == \"__main__\":\n",
    "    nums = [9,-1,8,0,4,2,200,-6]\n",
    "    s = Solution()\n",
    "    s.bubblesort(nums)"
   ]
  }
 ],
 "metadata": {
  "kernelspec": {
   "display_name": "Python 3",
   "language": "python",
   "name": "python3"
  },
  "language_info": {
   "codemirror_mode": {
    "name": "ipython",
    "version": 3
   },
   "file_extension": ".py",
   "mimetype": "text/x-python",
   "name": "python",
   "nbconvert_exporter": "python",
   "pygments_lexer": "ipython3",
   "version": "3.6.8"
  }
 },
 "nbformat": 4,
 "nbformat_minor": 2
}

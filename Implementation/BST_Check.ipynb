{
 "cells": [
  {
   "cell_type": "markdown",
   "metadata": {},
   "source": [
    "Since the given tree is BST its inorder traversal will give sorted order "
   ]
  },
  {
   "cell_type": "code",
   "execution_count": 62,
   "metadata": {},
   "outputs": [],
   "source": [
    "#Given program tests if a given tree is binary search tree. Inorder traversal is stored and \n",
    "#compared with sorted list of all\n",
    "#the node values of the tree\n",
    "#If both match, tree is a BST\n",
    "class Tree:\n",
    "    def __init__(self, data):\n",
    "        self.left = None\n",
    "        self.data = data\n",
    "        self.right = None\n",
    "    \n",
    "    def inorder(self,inorder_list):\n",
    "        if(self.left):\n",
    "            self.left.inorder(inorder_list)\n",
    "        inorder_list.append(self.data)\n",
    "        if(self.right):\n",
    "            self.right.inorder(inorder_list)\n",
    "        return inorder_list\n",
    "    \n",
    "def checkBST(inorder_list):\n",
    "    if(inorder_list == sorted(inorder_list)):\n",
    "        return True\n",
    "    else:\n",
    "        return False"
   ]
  },
  {
   "cell_type": "code",
   "execution_count": 63,
   "metadata": {},
   "outputs": [
    {
     "name": "stdout",
     "output_type": "stream",
     "text": [
      "[1, 2, 3, 5, 7, 8, 9]\n",
      "The Tree is BST\n"
     ]
    }
   ],
   "source": [
    "root = Tree(5)\n",
    "root.left = Tree(2)\n",
    "root.left.left = Tree(1)\n",
    "root.left.right = Tree(3)\n",
    "root.right = Tree(8)\n",
    "root.right.left = Tree(7)\n",
    "root.right.right = Tree(9)\n",
    "inorder_list = []\n",
    "inorder_list=(root.inorder(inorder_list))\n",
    "print(inorder_list)\n",
    "return_value = checkBST(inorder_list)\n",
    "if(return_value):\n",
    "    print(\"The Tree is BST\")\n",
    "else:\n",
    "    print(\"Tree is not BST\")"
   ]
  }
 ],
 "metadata": {
  "kernelspec": {
   "display_name": "Python 3",
   "language": "python",
   "name": "python3"
  },
  "language_info": {
   "codemirror_mode": {
    "name": "ipython",
    "version": 3
   },
   "file_extension": ".py",
   "mimetype": "text/x-python",
   "name": "python",
   "nbconvert_exporter": "python",
   "pygments_lexer": "ipython3",
   "version": "3.6.8"
  }
 },
 "nbformat": 4,
 "nbformat_minor": 2
}

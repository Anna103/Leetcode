{
 "cells": [
  {
   "cell_type": "code",
   "execution_count": 15,
   "metadata": {},
   "outputs": [],
   "source": [
    "class Node:\n",
    "    \n",
    "    def __init__(self, data):\n",
    "        self.data = data\n",
    "        self.next = None"
   ]
  },
  {
   "cell_type": "code",
   "execution_count": 30,
   "metadata": {},
   "outputs": [],
   "source": [
    "class linkList:\n",
    "    \n",
    "    def __init__(self):\n",
    "        self.head = None\n",
    "        \n",
    "    def insert(self, data):\n",
    "        \n",
    "        if(self.head == None):\n",
    "                self.head = data\n",
    "        else:\n",
    "            temp = self.head\n",
    "            while(temp.next):\n",
    "                temp = temp.next\n",
    "            temp.next = data\n",
    "            \n",
    "    def printll(self):\n",
    "        \n",
    "        temp = self.head\n",
    "        while(temp):\n",
    "            print(temp.data)\n",
    "            temp = temp.next\n",
    "            \n",
    "    def getIntersectionNode(self, headA, headB):\n",
    "        tempA = headA\n",
    "        tempB = headB\n",
    "        dict_nodes = dict()\n",
    "        while(tempA):\n",
    "            dict_nodes[tempA] = tempA.data\n",
    "            tempA = tempA.next\n",
    "        while(tempB):\n",
    "            if(tempB not in dict_nodes.keys()):\n",
    "                dict_nodes[tempB]=tempB.data\n",
    "                tempB = tempB.next\n",
    "            else:\n",
    "                return tempB.data"
   ]
  },
  {
   "cell_type": "code",
   "execution_count": 31,
   "metadata": {},
   "outputs": [
    {
     "name": "stdout",
     "output_type": "stream",
     "text": [
      "1\n",
      "2\n",
      "3\n",
      "4\n",
      "5\n",
      "6\n",
      "7\n",
      "********\n",
      "1.5\n",
      "2.5\n",
      "3.5\n",
      "4\n",
      "5\n",
      "6\n",
      "7\n",
      "**tempA.data <__main__.Node object at 0x10e11d278>\n",
      "**tempA.data <__main__.Node object at 0x10e111cc0>\n",
      "**tempA.data <__main__.Node object at 0x10e08d908>\n",
      "**tempA.data <__main__.Node object at 0x10e1075f8>\n",
      "**tempA.data <__main__.Node object at 0x10e11f358>\n",
      "**tempA.data <__main__.Node object at 0x10e11f390>\n",
      "**tempA.data <__main__.Node object at 0x10e11f3c8>\n",
      "**tempB.data <__main__.Node object at 0x10e0f9fd0>\n",
      "**tempB.data <__main__.Node object at 0x10e1074a8>\n",
      "**tempB.data <__main__.Node object at 0x10e107390>\n",
      "**tempB.data <__main__.Node object at 0x10e1075f8>\n",
      "4\n"
     ]
    }
   ],
   "source": [
    "if __name__ == '__main__':\n",
    "    ll = linkList()\n",
    "    ll.head = Node(1)\n",
    "    ll.head.next = Node(2)\n",
    "    ll.head.next.next = Node(3)\n",
    "    ll.head.next.next.next = Node(4)\n",
    "    ll.head.next.next.next.next = Node(5)\n",
    "    ll.head.next.next.next.next.next = Node(6)\n",
    "    ll.head.next.next.next.next.next.next = Node(7)\n",
    "    \n",
    "    intersection = ll.head.next.next.next\n",
    "    \n",
    "    ll.printll()\n",
    "    \n",
    "    ll2 = linkList()\n",
    "    ll2.head = Node(1.5)\n",
    "    ll2.head.next = Node(2.5)\n",
    "    ll2.head.next.next = Node(3.5)\n",
    "    ll2.head.next.next.next = intersection\n",
    "    \n",
    "    print(\"********\")\n",
    "    ll2.printll()\n",
    "    \n",
    "    \n",
    "    print(ll.getIntersectionNode(ll.head, ll2.head))"
   ]
  }
 ],
 "metadata": {
  "kernelspec": {
   "display_name": "Python 3",
   "language": "python",
   "name": "python3"
  },
  "language_info": {
   "codemirror_mode": {
    "name": "ipython",
    "version": 3
   },
   "file_extension": ".py",
   "mimetype": "text/x-python",
   "name": "python",
   "nbconvert_exporter": "python",
   "pygments_lexer": "ipython3",
   "version": "3.6.8"
  }
 },
 "nbformat": 4,
 "nbformat_minor": 2
}

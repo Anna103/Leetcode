{
 "cells": [
  {
   "cell_type": "code",
   "execution_count": 7,
   "metadata": {},
   "outputs": [],
   "source": [
    "# Program to find vertical sum of tree\n",
    "# Inorder traversal of tree is to be considered.\n",
    "# Each time you traverse to left side\n",
    "# 1 is subtracted from the value\n",
    "# Each time you traverse to right\n",
    "# 1 is added to the value\n",
    "# root is considered to have value as 0\n",
    "# all the nodes that have similar values are added and stored in a dictionary\n",
    "\n",
    "import collections\n",
    "class Tree:\n",
    "    \n",
    "    def __init__(self, data):\n",
    "        self.data = data\n",
    "        self.left = None\n",
    "        self.right = None"
   ]
  },
  {
   "cell_type": "code",
   "execution_count": 8,
   "metadata": {},
   "outputs": [],
   "source": [
    "def verticalSum(root, val, dict_vertical_sum):\n",
    "    if(root):\n",
    "        verticalSum(root.left, val-1, dict_vertical_sum)\n",
    "        dict_vertical_sum[val] += root.data\n",
    "        verticalSum(root.right, val+1, dict_vertical_sum)\n",
    "    return(dict_vertical_sum)"
   ]
  },
  {
   "cell_type": "code",
   "execution_count": 10,
   "metadata": {},
   "outputs": [
    {
     "name": "stdout",
     "output_type": "stream",
     "text": [
      "dict_values([4, 2, 12, 3, 7])\n"
     ]
    }
   ],
   "source": [
    "if __name__ == \"__main__\":\n",
    "    dict_vertical_sum = collections.defaultdict(int)\n",
    "    root = Tree(1)\n",
    "    root.left = Tree(2)\n",
    "    root.right = Tree(3)\n",
    "    root.left.left = Tree(4)\n",
    "    root.left.right = Tree(5)\n",
    "    root.right.left = Tree(6)\n",
    "    root.right.right = Tree(7)\n",
    "    print(verticalSum(root, 0, dict_vertical_sum).values())\n",
    "    "
   ]
  }
 ],
 "metadata": {
  "kernelspec": {
   "display_name": "Python 3",
   "language": "python",
   "name": "python3"
  },
  "language_info": {
   "codemirror_mode": {
    "name": "ipython",
    "version": 3
   },
   "file_extension": ".py",
   "mimetype": "text/x-python",
   "name": "python",
   "nbconvert_exporter": "python",
   "pygments_lexer": "ipython3",
   "version": "3.6.8"
  }
 },
 "nbformat": 4,
 "nbformat_minor": 2
}

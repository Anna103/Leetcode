{
 "cells": [
  {
   "cell_type": "markdown",
   "metadata": {},
   "source": [
    "\"\"\"Given two sequences pushed and popped with distinct values, \n",
    "return true if and only if this could have been the result of a sequence of push and pop operations on an \n",
    "initially empty stack.\n",
    "\n",
    " \n",
    "\n",
    "Example 1:\n",
    "\n",
    "Input: pushed = [1,2,3,4,5], popped = [4,5,3,2,1]\n",
    "Output: true\n",
    "Explanation: We might do the following sequence:\n",
    "push(1), push(2), push(3), push(4), pop() -> 4,\n",
    "push(5), pop() -> 5, pop() -> 3, pop() -> 2, pop() -> 1\n",
    "Example 2:\n",
    "\n",
    "Input: pushed = [1,2,3,4,5], popped = [4,3,5,1,2]\n",
    "Output: false\n",
    "Explanation: 1 cannot be popped before 2.\n",
    " \n",
    "\n",
    "Constraints:\n",
    "\n",
    "0 <= pushed.length == popped.length <= 1000\n",
    "0 <= pushed[i], popped[i] < 1000\n",
    "pushed is a permutation of popped.\n",
    "pushed and popped have distinct values.\"\"\""
   ]
  },
  {
   "cell_type": "markdown",
   "metadata": {},
   "source": [
    "Thought Process:\n",
    "    We can have a stack which will hold the push elements.\n",
    "    If at any point the top most element at stack is same as first element in popped then keep popping from top of stack and\n",
    "    first element in popped stack until a mismatch.\n",
    "   Return False if there is any element remaining in the array else return true.\n",
    "   \n",
    "    "
   ]
  },
  {
   "cell_type": "code",
   "execution_count": 2,
   "metadata": {},
   "outputs": [],
   "source": [
    "class Solution:\n",
    "    def validateStackSequences(self, pushed, popped) -> bool:\n",
    "        my_stack = []\n",
    "        for num in pushed:\n",
    "            my_stack.append(num)\n",
    "            while((my_stack) and (my_stack[-1] == popped[0])):\n",
    "                my_stack.pop()\n",
    "                popped.pop(0)\n",
    "        return False if my_stack else True"
   ]
  },
  {
   "cell_type": "code",
   "execution_count": 3,
   "metadata": {},
   "outputs": [
    {
     "name": "stdout",
     "output_type": "stream",
     "text": [
      "True\n"
     ]
    }
   ],
   "source": [
    "if __name__ == \"__main__\":\n",
    "    pushed = [1,2,3,4,5]\n",
    "    popped = [4,5,3,2,1]\n",
    "    s = Solution()\n",
    "    print(s.validateStackSequences(pushed, popped))"
   ]
  }
 ],
 "metadata": {
  "kernelspec": {
   "display_name": "Python 3",
   "language": "python",
   "name": "python3"
  },
  "language_info": {
   "codemirror_mode": {
    "name": "ipython",
    "version": 3
   },
   "file_extension": ".py",
   "mimetype": "text/x-python",
   "name": "python",
   "nbconvert_exporter": "python",
   "pygments_lexer": "ipython3",
   "version": "3.6.8"
  }
 },
 "nbformat": 4,
 "nbformat_minor": 2
}

{
 "cells": [
  {
   "cell_type": "code",
   "execution_count": null,
   "metadata": {},
   "outputs": [],
   "source": [
    "\"\"\"\n",
    "Question\n",
    "On a staircase, the i-th step has some non-negative cost cost[i] assigned (0 indexed).\n",
    "\n",
    "Once you pay the cost, you can either climb one or two steps. You need to find minimum cost to reach the top of the floor, and you can either start from the step with index 0, or the step with index 1.\n",
    "\n",
    "\n",
    "Example 1:\n",
    "Input: cost = [10, 15, 20]\n",
    "Output: 15\n",
    "Explanation: Cheapest is start on cost[1], pay that cost and go to the top.\"\"\"\n",
    "\n",
    "\n",
    "\n",
    "# Algorithm\n",
    "# create 2 variable, a and b\n",
    "# a holds the value of cost before taking current step\n",
    "# b holds the value of cost if we take current step\n",
    "\n",
    "\n",
    "# a = previous b\n",
    "# b = current cost + min(a, b)\n",
    "\n",
    "# return min(a, b)"
   ]
  },
  {
   "cell_type": "code",
   "execution_count": 7,
   "metadata": {},
   "outputs": [],
   "source": [
    "class Solution:\n",
    "    def minCostClimbingStairs(self, cost):\n",
    "        \"\"\"if(len(cost) < 3):\n",
    "            if(len(cost) == 0):\n",
    "                return 0\n",
    "            elif(len(cost) == 1):\n",
    "                return cost[0]\n",
    "            else:\n",
    "                return min(cost[0], cost[1])\n",
    "        else:\n",
    "            dp = [0 for stairs in range(len(cost))]\n",
    "            dp[0] = cost[0]\n",
    "            dp[1] = cost[1]\n",
    "            for i in range(2, len(cost)):\n",
    "                dp[i] = min(dp[i-2]+cost[i], dp[i-1]+cost[i])\n",
    "            return(min(dp[-1],dp[-2]))\"\"\"\n",
    "        a, b = 0, 0\n",
    "        for i in range(len(cost)):\n",
    "            a, b = b, cost[i]+min(a,b)\n",
    "        return min(a,b)\n"
   ]
  },
  {
   "cell_type": "code",
   "execution_count": 8,
   "metadata": {},
   "outputs": [
    {
     "name": "stdout",
     "output_type": "stream",
     "text": [
      "15\n"
     ]
    }
   ],
   "source": [
    "if __name__ == \"__main__\":\n",
    "    s = Solution()\n",
    "    cost = [10, 15, 20]\n",
    "    print(s.minCostClimbingStairs(cost))"
   ]
  }
 ],
 "metadata": {
  "kernelspec": {
   "display_name": "Python 3",
   "language": "python",
   "name": "python3"
  },
  "language_info": {
   "codemirror_mode": {
    "name": "ipython",
    "version": 3
   },
   "file_extension": ".py",
   "mimetype": "text/x-python",
   "name": "python",
   "nbconvert_exporter": "python",
   "pygments_lexer": "ipython3",
   "version": "3.6.8"
  }
 },
 "nbformat": 4,
 "nbformat_minor": 2
}

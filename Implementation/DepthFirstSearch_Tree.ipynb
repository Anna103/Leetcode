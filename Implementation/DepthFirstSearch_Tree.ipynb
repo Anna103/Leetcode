{
 "cells": [
  {
   "cell_type": "code",
   "execution_count": null,
   "metadata": {},
   "outputs": [],
   "source": [
    "# In Depth First search we try to reach the deepest node from the node to left then check right recursively\n",
    "# find path\n",
    "\n",
    "# Algorithm\n",
    "# Consider root element\n",
    "# 1. Check if it is null, then return empty list\n",
    "# 2. Check if it is the target, then return the path list\n",
    "# 3. Append current root to path\n",
    "# 4. run steps 1-3 for left to check if any of above is true or similar for right\n",
    "# 5. if above is true return the path\n",
    "\n",
    "# 6. pop the last element from the path list because it doesnot belong to the path\n",
    "# 7. Finally return empty since we have not found the element"
   ]
  },
  {
   "cell_type": "code",
   "execution_count": 1,
   "metadata": {},
   "outputs": [],
   "source": [
    "class Tree:\n",
    "    \n",
    "    def __init__(self, data):\n",
    "        self.left = None\n",
    "        self.right = None\n",
    "        self.data = data"
   ]
  },
  {
   "cell_type": "code",
   "execution_count": 5,
   "metadata": {},
   "outputs": [],
   "source": [
    "class Solution:\n",
    "    \n",
    "    def hasPath(self, root, path, target):\n",
    "        if(root == None):\n",
    "            return []\n",
    "        \n",
    "        path.append(root.data)\n",
    "        if(root.data == target):\n",
    "            return path\n",
    "        \n",
    "        \n",
    "        if(self.hasPath(root.left, path, target) or self.hasPath(root.right, path, target)):\n",
    "            return path\n",
    "        path.pop()\n",
    "        return []\n",
    "        \n",
    "    "
   ]
  },
  {
   "cell_type": "code",
   "execution_count": 6,
   "metadata": {},
   "outputs": [
    {
     "name": "stdout",
     "output_type": "stream",
     "text": [
      "[1, 2, 5, 6]\n"
     ]
    }
   ],
   "source": [
    "\n",
    "if __name__ == '__main__': \n",
    "      \n",
    "    root = Tree(1)  \n",
    "    root.left = Tree(2)  \n",
    "    root.right = Tree(3)  \n",
    "    root.left.left = Tree(4)  \n",
    "    root.left.right = Tree(5)  \n",
    "    root.left.right.right = Tree(6)  \n",
    "    root.right.left = Tree(7)\n",
    "    root.right.left.right = Tree(8)  \n",
    "          \n",
    "    x = 6\n",
    "    s = Solution()\n",
    "    print(s.hasPath(root,[], x) )"
   ]
  }
 ],
 "metadata": {
  "kernelspec": {
   "display_name": "Python 3",
   "language": "python",
   "name": "python3"
  },
  "language_info": {
   "codemirror_mode": {
    "name": "ipython",
    "version": 3
   },
   "file_extension": ".py",
   "mimetype": "text/x-python",
   "name": "python",
   "nbconvert_exporter": "python",
   "pygments_lexer": "ipython3",
   "version": "3.6.8"
  }
 },
 "nbformat": 4,
 "nbformat_minor": 2
}

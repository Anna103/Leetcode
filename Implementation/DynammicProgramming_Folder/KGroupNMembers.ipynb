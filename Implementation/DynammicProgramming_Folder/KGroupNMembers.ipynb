{
 "cells": [
  {
   "cell_type": "code",
   "execution_count": 30,
   "metadata": {},
   "outputs": [],
   "source": [
    "class KGroupFinder:\n",
    "    def Kgrouprecursive(self,k, n):\n",
    "        output = []\n",
    "        max_num = n-k+1\n",
    "        def dfs(start, tmp):\n",
    "            if len(tmp) == k and sum(tmp) == n:\n",
    "                output.append(tmp)\n",
    "                return\n",
    "            if len(tmp)>k:\n",
    "                return\n",
    "            for i in range(start, max_num+1):\n",
    "                dfs(i, tmp+[i])\n",
    "        dfs(1, [])\n",
    "        print(output)\n",
    "    \n",
    "    def KgroupDP(self, k, n):\n",
    "        dp = [[0 for i in range(n+1)]for j in range(k+1)]\n",
    "        for i in range(1, k+1):\n",
    "            for j in range(i, n+1):\n",
    "                if i == j:\n",
    "                    dp[i][j] = 1\n",
    "                else:\n",
    "                    dp[i][j] = dp[i-1][j-1] + dp[i][j-i]\n",
    "        print(dp)\n",
    "        return dp[-1][-1]\n",
    "        \n",
    "        "
   ]
  },
  {
   "cell_type": "code",
   "execution_count": 31,
   "metadata": {},
   "outputs": [
    {
     "name": "stdout",
     "output_type": "stream",
     "text": [
      "[[1, 1, 1, 5], [1, 1, 2, 4], [1, 1, 3, 3], [1, 2, 2, 3], [2, 2, 2, 2]]\n",
      "[[0, 0, 0, 0, 0, 0, 0, 0, 0], [0, 1, 1, 1, 1, 1, 1, 1, 1], [0, 0, 1, 1, 2, 2, 3, 3, 4], [0, 0, 0, 1, 1, 2, 3, 4, 5], [0, 0, 0, 0, 1, 1, 2, 3, 5]]\n",
      "5\n"
     ]
    }
   ],
   "source": [
    "if __name__ == \"__main__\":\n",
    "    k = 4\n",
    "    n = 8\n",
    "    kg = KGroupFinder()\n",
    "    kg.Kgrouprecursive(k,n)\n",
    "    print(kg.KgroupDP(k,n))"
   ]
  }
 ],
 "metadata": {
  "kernelspec": {
   "display_name": "Python 3",
   "language": "python",
   "name": "python3"
  },
  "language_info": {
   "codemirror_mode": {
    "name": "ipython",
    "version": 3
   },
   "file_extension": ".py",
   "mimetype": "text/x-python",
   "name": "python",
   "nbconvert_exporter": "python",
   "pygments_lexer": "ipython3",
   "version": "3.6.8"
  }
 },
 "nbformat": 4,
 "nbformat_minor": 2
}

{
 "cells": [
  {
   "cell_type": "code",
   "execution_count": 1,
   "metadata": {},
   "outputs": [
    {
     "data": {
      "text/plain": [
       "'Given an array of strings arr. String s is a concatenation of a sub-sequence of arr which have unique characters.\\n\\nReturn the maximum possible length of s.\\n\\n \\n\\nExample 1:\\n\\nInput: arr = [\"un\",\"iq\",\"ue\"]\\nOutput: 4\\nExplanation: All possible concatenations are \"\",\"un\",\"iq\",\"ue\",\"uniq\" and \"ique\".\\nMaximum length is 4.\\nExample 2:\\n\\nInput: arr = [\"cha\",\"r\",\"act\",\"ers\"]\\nOutput: 6\\nExplanation: Possible solutions are \"chaers\" and \"acters\".\\nExample 3:\\n\\nInput: arr = [\"abcdefghijklmnopqrstuvwxyz\"]\\nOutput: 26'"
      ]
     },
     "execution_count": 1,
     "metadata": {},
     "output_type": "execute_result"
    }
   ],
   "source": [
    "\"\"\"Given an array of strings arr. String s is a concatenation of a sub-sequence of arr which have unique characters.\n",
    "\n",
    "Return the maximum possible length of s.\n",
    "\n",
    " \n",
    "\n",
    "Example 1:\n",
    "\n",
    "Input: arr = [\"un\",\"iq\",\"ue\"]\n",
    "Output: 4\n",
    "Explanation: All possible concatenations are \"\",\"un\",\"iq\",\"ue\",\"uniq\" and \"ique\".\n",
    "Maximum length is 4.\n",
    "Example 2:\n",
    "\n",
    "Input: arr = [\"cha\",\"r\",\"act\",\"ers\"]\n",
    "Output: 6\n",
    "Explanation: Possible solutions are \"chaers\" and \"acters\".\n",
    "Example 3:\n",
    "\n",
    "Input: arr = [\"abcdefghijklmnopqrstuvwxyz\"]\n",
    "Output: 26\"\"\"\n",
    "\n",
    "# Algorithm\n",
    "\n",
    "# 1. First I create a new list with an empty string\n",
    "# 2. Go through each word in the main list\n",
    "    # 3. create new word which is addition of word in old list and new list\n",
    "    # 4. calculate len of new word and compare it with set version of the same word\n",
    "        # 5. add this new word to new list of words\n",
    "        # 6. check the len of new word with old max len\n",
    "# 7. return max_len_word"
   ]
  },
  {
   "cell_type": "code",
   "execution_count": 4,
   "metadata": {},
   "outputs": [],
   "source": [
    "\n",
    "class Solution:\n",
    "    def maxLength(self, arr) -> int:\n",
    "        word = ['']\n",
    "        max_len_word = 0\n",
    "        for i in range(len(arr)):\n",
    "            len_word = len(word)\n",
    "            print(len_word)\n",
    "            for j in range(len_word):\n",
    "                new_word = arr[i] + word[j]\n",
    "                if(len(new_word) == len(set(new_word))):\n",
    "                    word.append(new_word)\n",
    "                    print(\"Word\", word)\n",
    "                    max_len_word = max(max_len_word, len(new_word))\n",
    "        return max_len_word"
   ]
  },
  {
   "cell_type": "code",
   "execution_count": 5,
   "metadata": {},
   "outputs": [
    {
     "name": "stdout",
     "output_type": "stream",
     "text": [
      "1\n",
      "Word ['', 'cha']\n",
      "2\n",
      "Word ['', 'cha', 'r']\n",
      "Word ['', 'cha', 'r', 'rcha']\n",
      "4\n",
      "Word ['', 'cha', 'r', 'rcha', 'act']\n",
      "Word ['', 'cha', 'r', 'rcha', 'act', 'actr']\n",
      "6\n",
      "Word ['', 'cha', 'r', 'rcha', 'act', 'actr', 'ers']\n",
      "Word ['', 'cha', 'r', 'rcha', 'act', 'actr', 'ers', 'erscha']\n",
      "Word ['', 'cha', 'r', 'rcha', 'act', 'actr', 'ers', 'erscha', 'ersact']\n",
      "6\n"
     ]
    }
   ],
   "source": [
    "if __name__ == \"__main__\":\n",
    "    arr = [\"cha\",\"r\",\"act\",\"ers\"]\n",
    "    s = Solution()\n",
    "    print(s.maxLength(arr))"
   ]
  }
 ],
 "metadata": {
  "kernelspec": {
   "display_name": "Python 3",
   "language": "python",
   "name": "python3"
  },
  "language_info": {
   "codemirror_mode": {
    "name": "ipython",
    "version": 3
   },
   "file_extension": ".py",
   "mimetype": "text/x-python",
   "name": "python",
   "nbconvert_exporter": "python",
   "pygments_lexer": "ipython3",
   "version": "3.6.8"
  }
 },
 "nbformat": 4,
 "nbformat_minor": 2
}

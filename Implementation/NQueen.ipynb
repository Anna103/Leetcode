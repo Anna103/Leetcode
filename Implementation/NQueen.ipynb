{
 "cells": [
  {
   "cell_type": "code",
   "execution_count": 1,
   "metadata": {},
   "outputs": [],
   "source": [
    "class Solution:\n",
    "    \n",
    "    \n",
    "    def isSafe(self, board, x, y):\n",
    "        \n",
    "        # Check any queen is placed in same column\n",
    "        for i in range(len(board)):\n",
    "            if(board[i][y] == 1):\n",
    "                return False\n",
    "        # Check if any queen is placed in same row\n",
    "        for j in range(len(board)):\n",
    "            if(board[x][j] == 1):\n",
    "                return False\n",
    "        \n",
    "        # Check if any queen is placed in diagonally upward\n",
    "        for i,j in zip(range(x-1, -1, -1), range(y-1, -1, -1)):\n",
    "            if (board[i][j] == 1):\n",
    "                return False\n",
    "        # Check if any queen is placed diagonally downward\n",
    "        for i,j in zip(range(x, len(board)), range(y, len(board))):\n",
    "            if (board[i][j] == 1):\n",
    "                return False\n",
    "\n",
    "        # Check if any queen is place with rows decreasing and columns incresing other kind of diagonal\n",
    "        for i,j in zip(range(x ,-1, -1), range(y, len(board))):\n",
    "            if (board[i][j] == 1):\n",
    "                return False\n",
    "        \n",
    "        return True\n",
    "    \n",
    "    \n",
    "    def backtracking(self, board, queens_placed):\n",
    "        valid_columns = [i for i in range(len(board))]\n",
    "        \n",
    "        # If all queens has been placed return True\n",
    "        if(queens_placed == len(board)):\n",
    "            return True\n",
    "        \n",
    "        for k in range(len(board)):\n",
    "            if(self.isSafe(board, queens_placed, valid_columns[k])):\n",
    "                board[queens_placed][valid_columns[k]] = 1\n",
    "                if(self.backtracking(board, queens_placed+1)):\n",
    "                    return True\n",
    "                board[queens_placed][valid_columns[k]] = 0\n",
    "        return False\n",
    "                \n",
    "        \n",
    "    \n",
    "    def nqueen(self, board):\n",
    "        queens_placed = 0\n",
    "        if(self.backtracking(board, queens_placed)):\n",
    "            print(board)\n",
    "        else:\n",
    "            print(\"Solution doesnot exists\")\n",
    "        "
   ]
  },
  {
   "cell_type": "code",
   "execution_count": 3,
   "metadata": {},
   "outputs": [
    {
     "name": "stdout",
     "output_type": "stream",
     "text": [
      "Solution doesnot exists\n"
     ]
    }
   ],
   "source": [
    "if __name__ == \"__main__\":\n",
    "    n = 3\n",
    "    board = [[0 for rows in range(n)] for cols in range(n)]\n",
    "    s = Solution()\n",
    "    s.nqueen(board)"
   ]
  }
 ],
 "metadata": {
  "kernelspec": {
   "display_name": "Python 3",
   "language": "python",
   "name": "python3"
  },
  "language_info": {
   "codemirror_mode": {
    "name": "ipython",
    "version": 3
   },
   "file_extension": ".py",
   "mimetype": "text/x-python",
   "name": "python",
   "nbconvert_exporter": "python",
   "pygments_lexer": "ipython3",
   "version": "3.6.8"
  }
 },
 "nbformat": 4,
 "nbformat_minor": 2
}

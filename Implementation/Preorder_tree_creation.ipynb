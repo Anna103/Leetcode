{
 "cells": [
  {
   "cell_type": "code",
   "execution_count": null,
   "metadata": {},
   "outputs": [],
   "source": [
    "# Create Binary Search Tree from preorder tree traversal.\n",
    "# Algorithm\n",
    "# Pop the first element from Preorder traversal, that is our main root\n",
    "# Push it to a stack\n",
    "# run the loop until our preorder is empty\n",
    "    # pop the first element in our preorder\n",
    "        #Check if it is lesser than our root\n",
    "        #If yes the append to the left of root and append to the stack\n",
    "        \n",
    "        #if not pop the element from stack until the value is greater than the popped element\n",
    "        #once u reach point where the value is lesser than the stacked element, attach it to the last poped element\n",
    "        #append it to the stack\n",
    "    "
   ]
  },
  {
   "cell_type": "code",
   "execution_count": 1,
   "metadata": {},
   "outputs": [],
   "source": [
    "class TreeNode:\n",
    "    def __init__(self, x):\n",
    "        self.val = x\n",
    "        self.left = None\n",
    "        self.right = None"
   ]
  },
  {
   "cell_type": "code",
   "execution_count": 12,
   "metadata": {},
   "outputs": [],
   "source": [
    "class Solution:\n",
    "    def createBST(self, preorder):\n",
    "        root1 = TreeNode(preorder.pop())\n",
    "        root = root1\n",
    "        stack = [root]\n",
    "        while(preorder):\n",
    "            x = preorder.pop(0)\n",
    "            if( x < root.val):\n",
    "                root.left = TreeNode(x)\n",
    "                stack.append(root.left)\n",
    "                root = root.left\n",
    "            else:\n",
    "                while(stack and stack[-1].val < x):\n",
    "                    last = stack.pop()\n",
    "                last.right = TreeNode(x)\n",
    "                stack.append(last.right)\n",
    "                root = last.right\n",
    "        return root1\n",
    "    \n",
    "    def inorder(self, root):\n",
    "        if(root.left):\n",
    "            self.inorder(root.left)\n",
    "        print(root.val)\n",
    "        if(root.right):\n",
    "            self.inorder(root.right)"
   ]
  },
  {
   "cell_type": "code",
   "execution_count": 13,
   "metadata": {},
   "outputs": [
    {
     "name": "stdout",
     "output_type": "stream",
     "text": [
      "1\n",
      "5\n",
      "7\n",
      "8\n",
      "10\n",
      "12\n"
     ]
    }
   ],
   "source": [
    "if __name__ == \"__main__\":\n",
    "    preorder = [8,5,1,7,10,12]\n",
    "    s = Solution()\n",
    "    root = s.createBST(preorder)\n",
    "    s.inorder(root)"
   ]
  }
 ],
 "metadata": {
  "kernelspec": {
   "display_name": "Python 3",
   "language": "python",
   "name": "python3"
  },
  "language_info": {
   "codemirror_mode": {
    "name": "ipython",
    "version": 3
   },
   "file_extension": ".py",
   "mimetype": "text/x-python",
   "name": "python",
   "nbconvert_exporter": "python",
   "pygments_lexer": "ipython3",
   "version": "3.6.8"
  }
 },
 "nbformat": 4,
 "nbformat_minor": 2
}

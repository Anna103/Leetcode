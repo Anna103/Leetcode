{
 "cells": [
  {
   "cell_type": "code",
   "execution_count": 1,
   "metadata": {},
   "outputs": [],
   "source": [
    "class Node:\n",
    "    def __init__(self,data = None):\n",
    "        self.data = data\n",
    "        self.nextnode = None"
   ]
  },
  {
   "cell_type": "code",
   "execution_count": 68,
   "metadata": {},
   "outputs": [],
   "source": [
    "class linkList:\n",
    "    def __init__(self):\n",
    "        self.head = None\n",
    "        \n",
    "    def insert(self,data):\n",
    "        newdata = Node(data)\n",
    "        if(self.head == None):\n",
    "            self.head = newdata\n",
    "        \n",
    "        else:\n",
    "            temp = self.head\n",
    "            while(temp.nextnode != None):\n",
    "                temp = temp.nextnode\n",
    "            temp.nextnode = newdata\n",
    "    \n",
    "    def printList(self):\n",
    "        if(self.head == None):\n",
    "            print(\"Nothing to print\")\n",
    "        else:\n",
    "            temp = self.head\n",
    "            while(temp):\n",
    "                print(temp.data)\n",
    "                temp = temp.nextnode\n",
    "                \n",
    "    def fromLastK(self,position):\n",
    "        if(self.head == None or position < 1):\n",
    "            print(\"Nothing to look for\")\n",
    "        else:\n",
    "            firstCounter = 0\n",
    "            secondCounter = int(k)\n",
    "            firstNode = self.head\n",
    "            secondNode = self.head\n",
    "            while (secondCounter > 0 and secondNode != None):\n",
    "                secondNode = secondNode.nextnode\n",
    "                secondCounter -= 1\n",
    "            #print(secondNode.data)\n",
    "            while(secondNode):\n",
    "                firstNode = firstNode.nextnode\n",
    "                secondNode = secondNode.nextnode\n",
    "            print(firstNode.data)"
   ]
  },
  {
   "cell_type": "code",
   "execution_count": 71,
   "metadata": {},
   "outputs": [
    {
     "name": "stdout",
     "output_type": "stream",
     "text": [
      "1\n",
      "2\n",
      "3\n",
      "4\n",
      "5\n",
      "6\n",
      "7\n",
      "\n",
      "4th from last is\n",
      "4\n"
     ]
    }
   ],
   "source": [
    "if __name__ == '__main__':\n",
    "    llist = linkList()\n",
    "    llist.head = Node(1)\n",
    "    llist.insert(2)\n",
    "    llist.insert(3)\n",
    "    llist.insert(4)\n",
    "    llist.insert(5)\n",
    "    llist.insert(6)\n",
    "    llist.insert(7)\n",
    "    llist.printList()\n",
    "    \n",
    "    k = 4\n",
    "    print(\"\\n%dth from last is\"%k)\n",
    "    llist.fromLastK(k)"
   ]
  }
 ],
 "metadata": {
  "kernelspec": {
   "display_name": "Python 3",
   "language": "python",
   "name": "python3"
  },
  "language_info": {
   "codemirror_mode": {
    "name": "ipython",
    "version": 3
   },
   "file_extension": ".py",
   "mimetype": "text/x-python",
   "name": "python",
   "nbconvert_exporter": "python",
   "pygments_lexer": "ipython3",
   "version": "3.6.8"
  }
 },
 "nbformat": 4,
 "nbformat_minor": 2
}

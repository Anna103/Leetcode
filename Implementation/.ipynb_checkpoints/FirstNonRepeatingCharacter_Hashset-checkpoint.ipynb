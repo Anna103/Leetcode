{
 "cells": [
  {
   "cell_type": "code",
   "execution_count": 4,
   "metadata": {},
   "outputs": [],
   "source": [
    "# Get the first non-repaeating character in a given string\n",
    "\"aaabaccccdeeee\"\n",
    "\n",
    "class Solution:\n",
    "    \n",
    "    def get_non_Repeating(self, my_string):\n",
    "        dict_char = dict()\n",
    "        \n",
    "        for char in my_string:\n",
    "            if(char not in dict_char.keys()):\n",
    "                dict_char[char] = 1\n",
    "            else:\n",
    "                dict_char[char] += 1\n",
    "        \n",
    "        for char in my_string:\n",
    "            if(dict_char[char] == 1):\n",
    "                return char\n",
    "        return \"_\"\n"
   ]
  },
  {
   "cell_type": "code",
   "execution_count": 6,
   "metadata": {},
   "outputs": [
    {
     "name": "stdout",
     "output_type": "stream",
     "text": [
      "_\n"
     ]
    }
   ],
   "source": [
    "if __name__ == \"__main__\":\n",
    "    \n",
    "    s = Solution()\n",
    "    my_string = \"aaabbaccccddeeee\"\n",
    "    print(s.get_non_Repeating(my_string))"
   ]
  }
 ],
 "metadata": {
  "kernelspec": {
   "display_name": "Python 3",
   "language": "python",
   "name": "python3"
  },
  "language_info": {
   "codemirror_mode": {
    "name": "ipython",
    "version": 3
   },
   "file_extension": ".py",
   "mimetype": "text/x-python",
   "name": "python",
   "nbconvert_exporter": "python",
   "pygments_lexer": "ipython3",
   "version": "3.6.8"
  }
 },
 "nbformat": 4,
 "nbformat_minor": 2
}

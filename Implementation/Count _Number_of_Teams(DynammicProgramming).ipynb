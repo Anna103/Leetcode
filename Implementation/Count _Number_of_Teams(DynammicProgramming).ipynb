{
 "cells": [
  {
   "cell_type": "code",
   "execution_count": null,
   "metadata": {},
   "outputs": [],
   "source": [
    "\"\"\"There are n soldiers standing in a line. Each soldier is assigned a unique rating value.\n",
    "\n",
    "You have to form a team of 3 soldiers amongst them under the following rules:\n",
    "\n",
    "Choose 3 soldiers with index (i, j, k) with rating (rating[i], rating[j], rating[k]).\n",
    "A team is valid if:  (rating[i] < rating[j] < rating[k]) or (rating[i] > rating[j] > rating[k]) where (0 <= i < j < k < n).\n",
    "Return the number of teams you can form given the conditions. (soldiers can be part of multiple teams).\n",
    "\n",
    " \n",
    "\n",
    "Example 1:\n",
    "\n",
    "Input: rating = [2,5,3,4,1]\n",
    "Output: 3\n",
    "Explanation: We can form three teams given the conditions. (2,3,4), (5,4,1), (5,3,1). \n",
    "\"\"\"\n",
    "\n",
    "\n",
    "# Algorithm\n",
    "# Let us try to understand one scenario where we want teams with only increasing ranks\n",
    "# create an array of size length of rating array filled with 0 (increasing)\n",
    "# Run a loop starting from second element\n",
    "    # check if any of the previous element is smaller  \n",
    "    # if yes , then the increasing array at position at current position is increased by 1 and count is increased by value at j\n",
    "\n",
    "\n",
    "    \n",
    "# Similar steps are taken for decreasing scenario\n",
    "\n",
    "# Both are combined to get the result"
   ]
  },
  {
   "cell_type": "code",
   "execution_count": 2,
   "metadata": {},
   "outputs": [],
   "source": [
    "class Solution:\n",
    "    def numTeams(self, rating):\n",
    "        if(len(rating) < 3):\n",
    "            return 0\n",
    "        else:\n",
    "            count = 0\n",
    "            \n",
    "        increasing = [0 for i in range(len(rating))]\n",
    "        decreasing = [0 for i in range(len(rating))]\n",
    "        count = 0\n",
    "        for i in range(1,len(rating)):\n",
    "            for j in range(i):\n",
    "                if(rating[j] > rating[i]):\n",
    "                    decreasing[i] += 1\n",
    "                    count += decreasing[j]\n",
    "                elif(rating[j] < rating[i]):\n",
    "                    increasing[i] += 1\n",
    "                    count += increasing[j]\n",
    "        return count"
   ]
  },
  {
   "cell_type": "code",
   "execution_count": 3,
   "metadata": {},
   "outputs": [
    {
     "name": "stdout",
     "output_type": "stream",
     "text": [
      "3\n"
     ]
    }
   ],
   "source": [
    "if __name__ == \"__main__\":\n",
    "    s = Solution()\n",
    "    rating = [2, 5, 3, 4, 1]\n",
    "    print(s.numTeams(rating))"
   ]
  }
 ],
 "metadata": {
  "kernelspec": {
   "display_name": "Python 3",
   "language": "python",
   "name": "python3"
  },
  "language_info": {
   "codemirror_mode": {
    "name": "ipython",
    "version": 3
   },
   "file_extension": ".py",
   "mimetype": "text/x-python",
   "name": "python",
   "nbconvert_exporter": "python",
   "pygments_lexer": "ipython3",
   "version": "3.6.8"
  }
 },
 "nbformat": 4,
 "nbformat_minor": 2
}

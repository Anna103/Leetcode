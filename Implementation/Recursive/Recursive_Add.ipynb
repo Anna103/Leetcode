{
 "cells": [
  {
   "cell_type": "code",
   "execution_count": 17,
   "metadata": {},
   "outputs": [],
   "source": [
    "class Recursive_Adder:\n",
    "    def add_recursive(self, n):\n",
    "        if n == 1:\n",
    "            return 1\n",
    "        else:\n",
    "            return n + self.add_recursive(n-1)\n",
    "        \n",
    "    def add_recursive_list(self,my_list):\n",
    "        if len(my_list) == 1:\n",
    "            return my_list[0]\n",
    "        else:\n",
    "            return my_list[0] + self.add_recursive_list(my_list[1:])"
   ]
  },
  {
   "cell_type": "code",
   "execution_count": 18,
   "metadata": {},
   "outputs": [
    {
     "name": "stdout",
     "output_type": "stream",
     "text": [
      "66\n",
      "65\n"
     ]
    }
   ],
   "source": [
    "if __name__ == \"__main__\":\n",
    "    ra = Recursive_Adder()\n",
    "    print(ra.add_recursive(11))\n",
    "    my_list = [1, 2, 3, 4, 5, 6, 7, 8, 9, 10, 11, -1]\n",
    "    print(ra.add_recursive_list(my_list))"
   ]
  }
 ],
 "metadata": {
  "kernelspec": {
   "display_name": "Python 3",
   "language": "python",
   "name": "python3"
  },
  "language_info": {
   "codemirror_mode": {
    "name": "ipython",
    "version": 3
   },
   "file_extension": ".py",
   "mimetype": "text/x-python",
   "name": "python",
   "nbconvert_exporter": "python",
   "pygments_lexer": "ipython3",
   "version": "3.6.8"
  }
 },
 "nbformat": 4,
 "nbformat_minor": 2
}

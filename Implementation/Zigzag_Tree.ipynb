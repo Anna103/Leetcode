{
 "cells": [
  {
   "cell_type": "code",
   "execution_count": null,
   "metadata": {},
   "outputs": [],
   "source": [
    "\"\"\"Questions\n",
    "\n",
    "\n",
    "Given a binary tree, return the zigzag level order traversal of its nodes' values. (ie, from left to right, then right to left for the next level and alternate between).\n",
    "\n",
    "For example:\n",
    "Given binary tree [3,9,20,null,null,15,7],\n",
    "    3\n",
    "   / \\\n",
    "  9  20\n",
    "    /  \\\n",
    "   15   7\n",
    "return its zigzag level order traversal as:\n",
    "[\n",
    "  [3],\n",
    "  [20,9],\n",
    "  [15,7]\n",
    "]\"\"\"\n",
    "    \n",
    "    \n",
    "    # Algorithm\n",
    "    \n",
    "    # 1. Create stacks for holding answers (zigzag), node_visited, next_nodes, level... add root to nodes_visited\n",
    "    # 2. create turn variable that thells when you need to change direction (initialise it to true)\n",
    "    # 3. run loop while you hold nodes in nodes_visited\n",
    "        # 4. pop element from nodes_visited\n",
    "        # 5. add it to level stack\n",
    "        # 6. if turn is true (move left to right)\n",
    "            # 7.append left node, right node if present to next_visit\n",
    "        # 8. if turn is false (move right to left)\n",
    "            # 9. append right node, left node if present to next_visit\n",
    "        # 10. if nodes_visited is empty , swap next visited and nodes visited and invert turn(becoause we want to change direction)\n",
    "            \n",
    "    \n",
    "    "
   ]
  },
  {
   "cell_type": "code",
   "execution_count": 3,
   "metadata": {},
   "outputs": [],
   "source": [
    "class Node:\n",
    "    \n",
    "    def __init__(self, data):\n",
    "        self.data = data\n",
    "        self.next = None"
   ]
  },
  {
   "cell_type": "code",
   "execution_count": 4,
   "metadata": {},
   "outputs": [],
   "source": [
    "class Tree:\n",
    "    \n",
    "    def __init__(self, data):\n",
    "        self.data = data\n",
    "        self.left = None\n",
    "        self.right = None\n",
    "    "
   ]
  },
  {
   "cell_type": "code",
   "execution_count": 5,
   "metadata": {},
   "outputs": [],
   "source": [
    "class Queue:\n",
    "    \n",
    "    def __init__(self):\n",
    "        self.front = None\n",
    "        self.rear = None\n",
    "        \n",
    "    def enqueue(self, data):\n",
    "        new_data = Node(data)\n",
    "        \n",
    "        if self.front == self.rear == None:\n",
    "            self.front = self.rear = new_data\n",
    "        else:\n",
    "            # first old_rear.next  is pointed to new data\n",
    "            # then point rear to new data\n",
    "            self.rear.next = new_data\n",
    "            self.rear = new_data\n",
    "    \n",
    "    def peek(self):\n",
    "        front_element = self.front\n",
    "        rear_element = self.rear\n",
    "        while(front_element):\n",
    "            print(front_element.data)\n",
    "            front_element = front_element.next"
   ]
  },
  {
   "cell_type": "code",
   "execution_count": 7,
   "metadata": {},
   "outputs": [],
   "source": [
    "class traveseZigZag:\n",
    "    \n",
    "    def zigzag(root):\n",
    "        zigzag_q = Queue()\n",
    "        nodes_visited = [root]\n",
    "        next_node_visit = []\n",
    "\n",
    "        # to change the direction\n",
    "        # True mean traverse Left to right\n",
    "        \n",
    "        turn = True\n",
    "        while len(nodes_visited) != 0:\n",
    "            root = nodes_visited.pop()\n",
    "            zigzag_q.enqueue(root.data)\n",
    "            if turn:\n",
    "                if root.left:\n",
    "                    next_node_visit.append(root.left)\n",
    "                if root.left:\n",
    "                    next_node_visit.append(root.right)\n",
    "                \n",
    "            else:\n",
    "                \n",
    "                if root.right:\n",
    "                    next_node_visit.append(root.right)\n",
    "                if root.left:\n",
    "                    next_node_visit.append(root.left)\n",
    "                \n",
    "            if(len(nodes_visited) == 0):\n",
    "                nodes_visited, next_node_visit = next_node_visit , nodes_visited\n",
    "                turn = not turn\n",
    "            \n",
    "    \n",
    "            \n",
    "        return(zigzag_q)"
   ]
  },
  {
   "cell_type": "code",
   "execution_count": 18,
   "metadata": {},
   "outputs": [],
   "source": [
    "class traveseZigZag:\n",
    "    def zigzag(root):\n",
    "        output = []\n",
    "        nodes_visited = [root]\n",
    "        next_nodes = []\n",
    "        new_list = []\n",
    "        left_right = True\n",
    "        while(nodes_visited):\n",
    "            out = nodes_visited.pop(0)\n",
    "            new_list.append(out.data)\n",
    "            if out.left:\n",
    "                next_nodes.append(out.left)\n",
    "            if out.right:\n",
    "                next_nodes.append(out.right)\n",
    "            print(output)\n",
    "            if nodes_visited == []:\n",
    "                nodes_visited, next_nodes = next_nodes, nodes_visited\n",
    "                if left_right == False:\n",
    "                    new_list = new_list[::-1]\n",
    "                output.append(new_list)\n",
    "                new_list = []\n",
    "                left_right = not (left_right)\n",
    "        return output"
   ]
  },
  {
   "cell_type": "code",
   "execution_count": 19,
   "metadata": {},
   "outputs": [
    {
     "name": "stdout",
     "output_type": "stream",
     "text": [
      "[]\n",
      "[[1]]\n",
      "[[1]]\n",
      "[[1], [3, 2]]\n",
      "[[1], [3, 2]]\n",
      "[[1], [3, 2]]\n",
      "[[1], [3, 2]]\n",
      "******\n",
      "[[1], [3, 2], [4, 5, 6, 7]]\n"
     ]
    }
   ],
   "source": [
    "if __name__ == \"__main__\":\n",
    "    root = Tree(1)\n",
    "    root.left = Tree(2)\n",
    "    root.right = Tree(3)\n",
    "    root.left.left = Tree(4)\n",
    "    root.left.right = Tree(5)\n",
    "    root.right.left = Tree(6)\n",
    "    root.right.right = Tree(7)\n",
    "    Q = traveseZigZag.zigzag(root)\n",
    "    print(\"******\")\n",
    "    print(Q)"
   ]
  }
 ],
 "metadata": {
  "kernelspec": {
   "display_name": "Python 3",
   "language": "python",
   "name": "python3"
  },
  "language_info": {
   "codemirror_mode": {
    "name": "ipython",
    "version": 3
   },
   "file_extension": ".py",
   "mimetype": "text/x-python",
   "name": "python",
   "nbconvert_exporter": "python",
   "pygments_lexer": "ipython3",
   "version": "3.6.8"
  }
 },
 "nbformat": 4,
 "nbformat_minor": 2
}

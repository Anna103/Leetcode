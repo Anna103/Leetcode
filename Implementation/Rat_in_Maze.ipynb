{
 "cells": [
  {
   "cell_type": "code",
   "execution_count": 17,
   "metadata": {},
   "outputs": [],
   "source": [
    "class Solution:\n",
    "    \n",
    "    def isSafe(self, i, j, maze):\n",
    "        return ( (i>=0 and i < len(maze)) and (j>=0 and j < len(maze[i])) and (maze[i][j] == 1) )\n",
    "    \n",
    "    def backtracking(self, i, j, end_x, end_y, maze):\n",
    "        \n",
    "        valid_x = [1, 0]\n",
    "        valid_y = [0, 1]\n",
    "        if(i == end_x and j == end_y):\n",
    "            return True\n",
    "        for k in range(len(valid_x)):\n",
    "            if(self.isSafe(i+valid_x[k], j+valid_y[k], maze)):\n",
    "                maze[i+valid_x[k]][j+valid_y[k]] = -1\n",
    "                if(self.backtracking(i+valid_x[k], j+valid_y[k], end_x, end_y,maze)):\n",
    "                    return True\n",
    "                maze[i+valid_x[k]][j+valid_y[k]] = 1\n",
    "        return False\n",
    "    "
   ]
  },
  {
   "cell_type": "code",
   "execution_count": 18,
   "metadata": {},
   "outputs": [
    {
     "name": "stdout",
     "output_type": "stream",
     "text": [
      "Solution does not exist\n"
     ]
    }
   ],
   "source": [
    "if __name__ == \"__main__\":\n",
    "    s = Solution()\n",
    "    maze = [ [1, 0, 0, 0], \n",
    "             [1, 1, 0, 1], \n",
    "             [0, 1, 0, 0], \n",
    "             [1, 1, 1, 1] ] \n",
    "    maze[0][0] = -1\n",
    "    if(s.backtracking(0, 0, 1, 3,maze)):\n",
    "        print(maze)\n",
    "    else:\n",
    "        print(\"Solution does not exist\")"
   ]
  }
 ],
 "metadata": {
  "kernelspec": {
   "display_name": "Python 3",
   "language": "python",
   "name": "python3"
  },
  "language_info": {
   "codemirror_mode": {
    "name": "ipython",
    "version": 3
   },
   "file_extension": ".py",
   "mimetype": "text/x-python",
   "name": "python",
   "nbconvert_exporter": "python",
   "pygments_lexer": "ipython3",
   "version": "3.6.8"
  }
 },
 "nbformat": 4,
 "nbformat_minor": 2
}

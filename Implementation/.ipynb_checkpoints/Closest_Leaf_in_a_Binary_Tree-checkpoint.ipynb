{
 "cells": [
  {
   "cell_type": "code",
   "execution_count": null,
   "metadata": {},
   "outputs": [],
   "source": [
    "\"\"\"Given a binary tree where every node has a unique value, and a target key k, \n",
    "find the value of the nearest leaf node to target k in the tree.\n",
    "\n",
    "Here, nearest to a leaf means the least number of edges travelled on the \n",
    "binary tree to reach any leaf of the tree. Also, a node is called a leaf if it has no children.\n",
    "\n",
    "In the following examples, the input tree is represented in flattened form row by row.\n",
    "The actual root tree given will be a TreeNode object.\n",
    "\n",
    "Example 1:\n",
    "\n",
    "Input:\n",
    "root = [1, 3, 2], k = 1\n",
    "Diagram of binary tree:\n",
    "          1\n",
    "         / \\\n",
    "        3   2\n",
    "\n",
    "Output: 2 (or 3)\n",
    "\n",
    "Explanation: Either 2 or 3 is the nearest leaf node to the target of 1.\n",
    "Example 2:\n",
    "\n",
    "Input:\n",
    "root = [1], k = 1\n",
    "Output: 1\n",
    "\n",
    "Explanation: The nearest leaf node is the root node itself.\n",
    "Example 3:\n",
    "\n",
    "Input:\n",
    "root = [1,2,3,4,null,null,null,5,null,6], k = 2\n",
    "Diagram of binary tree:\n",
    "             1\n",
    "            / \\\n",
    "           2   3\n",
    "          /\n",
    "         4\n",
    "        /\n",
    "       5\n",
    "      /\n",
    "     6\n",
    "\n",
    "Output: 3\n",
    "Explanation: The leaf node with value 3 (and not the leaf node with value 6) \n",
    "is nearest to the node with value 2.\"\"\"\n",
    "\n",
    "\n",
    "\n",
    "# Algorithms\n",
    "# 1. "
   ]
  },
  {
   "cell_type": "code",
   "execution_count": 121,
   "metadata": {},
   "outputs": [],
   "source": [
    "class TreeNode:\n",
    "    def __init__(self, val=0, left=None, right=None):\n",
    "        self.val = val\n",
    "        self.left = left\n",
    "        self.right = right"
   ]
  },
  {
   "cell_type": "code",
   "execution_count": 156,
   "metadata": {},
   "outputs": [],
   "source": [
    "class Solution(object):\n",
    "    def findClosestLeaf(self, root, k):\n",
    "        graph = collections.defaultdict(list)\n",
    "        def bfs(node, par = None):\n",
    "            if node:\n",
    "                graph[node].append(par)\n",
    "                graph[par].append(node)\n",
    "                bfs(node.left, node)\n",
    "                bfs(node.right, node)\n",
    "\n",
    "        bfs(root)\n",
    "        queue = collections.deque(node for node in graph if node and node.val == k)\n",
    "        \n",
    "        seen = set(queue)\n",
    "\n",
    "        while queue:\n",
    "            node = queue.popleft()\n",
    "            if node:\n",
    "                if len(graph[node]) <= 1:\n",
    "                    return node.val\n",
    "                for nei in graph[node]:\n",
    "                    if nei not in seen:\n",
    "                        seen.add(nei)\n",
    "                        queue.append(nei)"
   ]
  },
  {
   "cell_type": "code",
   "execution_count": 157,
   "metadata": {},
   "outputs": [
    {
     "name": "stdout",
     "output_type": "stream",
     "text": [
      "3\n"
     ]
    }
   ],
   "source": [
    "if __name__ == \"__main__\":\n",
    "    root = TreeNode(1)\n",
    "    root.left = TreeNode(2)\n",
    "    root.right = TreeNode(3)\n",
    "    root.left.left = TreeNode(4)\n",
    "    root.left.left.left = TreeNode(5)\n",
    "    root.left.left.left.left = TreeNode(6)\n",
    "    root.left.left.left.left.left = TreeNode(7)\n",
    "    s = Solution()\n",
    "    print(s.findClosestLeaf(root, 2))"
   ]
  }
 ],
 "metadata": {
  "kernelspec": {
   "display_name": "Python 3",
   "language": "python",
   "name": "python3"
  },
  "language_info": {
   "codemirror_mode": {
    "name": "ipython",
    "version": 3
   },
   "file_extension": ".py",
   "mimetype": "text/x-python",
   "name": "python",
   "nbconvert_exporter": "python",
   "pygments_lexer": "ipython3",
   "version": "3.6.8"
  }
 },
 "nbformat": 4,
 "nbformat_minor": 2
}

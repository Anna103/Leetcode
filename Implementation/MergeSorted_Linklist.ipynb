{
 "cells": [
  {
   "cell_type": "code",
   "execution_count": 5,
   "metadata": {},
   "outputs": [],
   "source": [
    "class Node :\n",
    "    def __init__(self, val):\n",
    "        self.val = val\n",
    "        self.next = None"
   ]
  },
  {
   "cell_type": "code",
   "execution_count": 6,
   "metadata": {},
   "outputs": [],
   "source": [
    "from abc import ABC, abstractmethod\n",
    "class AbstractClass:\n",
    "    def merge_ll(self, l1, l2):\n",
    "        raise IllegalArgumentException"
   ]
  },
  {
   "cell_type": "code",
   "execution_count": 18,
   "metadata": {},
   "outputs": [],
   "source": [
    "class IterativeSolution(AbstractClass):\n",
    "    def merge_ll(self, l1, l2):\n",
    "        l3 = Node(0)\n",
    "        l3_head = l3\n",
    "        while(l1 and l2):\n",
    "            if(l1.val< l2.val):\n",
    "                l3.next = Node(l1.val)\n",
    "                l3 = l3.next\n",
    "                l1 = l1.next\n",
    "            else:\n",
    "                l3.next = Node(l2.val)\n",
    "                l3 = l3.next\n",
    "                l2 = l2.next\n",
    "        if l1:\n",
    "            l3.next = l1\n",
    "        if l2:\n",
    "            l3.next = l2\n",
    "        return l3_head.next"
   ]
  },
  {
   "cell_type": "code",
   "execution_count": 19,
   "metadata": {},
   "outputs": [],
   "source": [
    "class RecursiveSolution(AbstractClass):\n",
    "    def merge_ll(self, l1, l2):\n",
    "        if l1 == None:\n",
    "            return l2\n",
    "        elif l2 == None:\n",
    "            return l1\n",
    "        elif(l1.val < l2.val):\n",
    "            l1.next = self. merge_ll(l1.next, l2)\n",
    "            return l1\n",
    "        else:\n",
    "            l2.next = self. merge_ll(l1, l2.next)\n",
    "            return l2"
   ]
  },
  {
   "cell_type": "code",
   "execution_count": 22,
   "metadata": {},
   "outputs": [],
   "source": [
    "class LinkListSorter:\n",
    "    def sort_ll(self, AbstractClass, l1, l2):\n",
    "        return AbstractClass.merge_ll(l1, l2)\n",
    "    \n",
    "    def print_ll(self, node1):\n",
    "        temp = node1\n",
    "        while(temp):\n",
    "            print(temp.val)\n",
    "            temp = temp.next\n",
    "        "
   ]
  },
  {
   "cell_type": "code",
   "execution_count": 24,
   "metadata": {},
   "outputs": [
    {
     "name": "stdout",
     "output_type": "stream",
     "text": [
      "1\n",
      "1\n",
      "1\n",
      "2\n",
      "2\n",
      "3\n"
     ]
    }
   ],
   "source": [
    "if __name__ == \"__main__\":\n",
    "    node1 = Node(1)\n",
    "    node2 = Node(1)\n",
    "    node1.next = node2\n",
    "    node3 = Node(2)\n",
    "    node2.next = node3\n",
    "    \n",
    "    nodea = Node(1)\n",
    "    nodeb = Node(2)\n",
    "    nodea.next = nodeb\n",
    "    nodec = Node(3)\n",
    "    nodeb.next = nodec\n",
    "    \n",
    "    rs = RecursiveSolution()\n",
    "    \n",
    "    IS = IterativeSolution()\n",
    "    \n",
    "    lls = LinkListSorter()\n",
    "    \n",
    "    node_sorted = lls.sort_ll(rs, node1, nodea)\n",
    "    lls.print_ll(node_sorted)"
   ]
  }
 ],
 "metadata": {
  "kernelspec": {
   "display_name": "Python 3",
   "language": "python",
   "name": "python3"
  },
  "language_info": {
   "codemirror_mode": {
    "name": "ipython",
    "version": 3
   },
   "file_extension": ".py",
   "mimetype": "text/x-python",
   "name": "python",
   "nbconvert_exporter": "python",
   "pygments_lexer": "ipython3",
   "version": "3.6.8"
  }
 },
 "nbformat": 4,
 "nbformat_minor": 2
}

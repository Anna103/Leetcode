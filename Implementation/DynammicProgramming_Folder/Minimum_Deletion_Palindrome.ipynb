{
 "cells": [
  {
   "cell_type": "code",
   "execution_count": 1,
   "metadata": {},
   "outputs": [],
   "source": [
    "class MinimumDeletionFinder:\n",
    "    def min_deletion_make_palindrome(self, input_string):\n",
    "        memo = [[0 for j in range(len(input_string)+1)]for i in range(len(input_string)+1)]\n",
    "        rev_input_string = input_string[::-1]\n",
    "        for i in range(1, len(memo)):\n",
    "            for j in range(1, len(memo[0])):\n",
    "                if input_string[i-1] == rev_input_string[j-1]:\n",
    "                    memo[i][j] = memo[i-1][j-1] + 1\n",
    "                else:\n",
    "                    memo[i][j] = max(memo[i-1][j], memo[i][j-1])\n",
    "        return len(input_string) - memo[-1][-1]\n",
    "    "
   ]
  },
  {
   "cell_type": "code",
   "execution_count": 2,
   "metadata": {},
   "outputs": [
    {
     "name": "stdout",
     "output_type": "stream",
     "text": [
      "Minimum number of deletions =  8\n"
     ]
    }
   ],
   "source": [
    "if __name__ == \"__main__\":\n",
    "    m = MinimumDeletionFinder()\n",
    "    input_string = \"geeksforgeeks\"\n",
    "    print( \"Minimum number of deletions = \"\n",
    "         , m.min_deletion_make_palindrome(input_string))"
   ]
  }
 ],
 "metadata": {
  "kernelspec": {
   "display_name": "Python 3",
   "language": "python",
   "name": "python3"
  },
  "language_info": {
   "codemirror_mode": {
    "name": "ipython",
    "version": 3
   },
   "file_extension": ".py",
   "mimetype": "text/x-python",
   "name": "python",
   "nbconvert_exporter": "python",
   "pygments_lexer": "ipython3",
   "version": "3.6.8"
  }
 },
 "nbformat": 4,
 "nbformat_minor": 2
}

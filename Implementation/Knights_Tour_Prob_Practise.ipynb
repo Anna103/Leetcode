{
 "cells": [
  {
   "cell_type": "code",
   "execution_count": 1,
   "metadata": {},
   "outputs": [],
   "source": [
    "\n",
    "class Solution:\n",
    "    \n",
    "    def isSafe(self, i, j, n, board):\n",
    "        return((i >= 0 and i < n) and (j >= 0 and j < n) and board[i][j] == -1)\n",
    "    \n",
    "    \n",
    "    def validMoves(self, i, j, n, board, pos):\n",
    "        \n",
    "        valid_x = [-2, -2, -1, -1, 1, 1, 2, 2]\n",
    "        valid_y = [-1, 1, -2, 2, -2, 2, -1, 1]\n",
    "        if(pos == n**2):\n",
    "            return True\n",
    "        \n",
    "        for k in range(len(valid_x)):\n",
    "            if(self.isSafe(i+valid_x[k] , j+valid_y[k], n, board)):\n",
    "                board[i+valid_x[k]][j+valid_y[k]] = pos\n",
    "                if(self.validMoves(i+valid_x[k] , j+valid_y[k], n, board, pos+1)):\n",
    "                    return True\n",
    "                \n",
    "                board[i+valid_x[k]][j+valid_y[k]] = -1   \n",
    "        return False    \n",
    "                \n",
    "                \n",
    "    def knightTour(self, n, pos):\n",
    "        \n",
    "        board = [[-1 for cols in range(n)] for rows in range(n)]\n",
    "        board[0][0] = pos\n",
    "        if(self.validMoves(0,0,n,board, pos+1)):\n",
    "            print(board)\n",
    "        else:\n",
    "            print(\"Solution Does not exist\")\n",
    "                    "
   ]
  },
  {
   "cell_type": "code",
   "execution_count": 2,
   "metadata": {},
   "outputs": [
    {
     "name": "stdout",
     "output_type": "stream",
     "text": [
      "[[0, 17, 4, 9, 2], [5, 10, 1, 18, 13], [16, 21, 12, 3, 8], [11, 6, 23, 14, 19], [22, 15, 20, 7, 24]]\n"
     ]
    }
   ],
   "source": [
    "if __name__ == \"__main__\":\n",
    "    \n",
    "    n = 5\n",
    "    s = Solution()\n",
    "    pos = 0\n",
    "    s.knightTour(n, pos)"
   ]
  }
 ],
 "metadata": {
  "kernelspec": {
   "display_name": "Python 3",
   "language": "python",
   "name": "python3"
  },
  "language_info": {
   "codemirror_mode": {
    "name": "ipython",
    "version": 3
   },
   "file_extension": ".py",
   "mimetype": "text/x-python",
   "name": "python",
   "nbconvert_exporter": "python",
   "pygments_lexer": "ipython3",
   "version": "3.6.8"
  }
 },
 "nbformat": 4,
 "nbformat_minor": 2
}

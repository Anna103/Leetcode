{
 "cells": [
  {
   "cell_type": "code",
   "execution_count": 31,
   "metadata": {},
   "outputs": [],
   "source": [
    "class Node:\n",
    "    def __init__(self, data=None):\n",
    "        self.data = data\n",
    "        self.nextnode = None"
   ]
  },
  {
   "cell_type": "code",
   "execution_count": 59,
   "metadata": {},
   "outputs": [],
   "source": [
    "class LinkList_Stack: # @kuruvm : According to Python best practices, class names shouldn't have _ => LinkedListStack\n",
    "    def __init__(self):\n",
    "        self.head = None\n",
    "        \n",
    "    def push(self, data):\n",
    "        new_data = Node(data)\n",
    "        if self.head == None:\n",
    "            self.head = new_data\n",
    "        else:\n",
    "            new_data.nextnode = self.head\n",
    "            self.head = new_data            \n",
    "    def peek(self): # peek should only print the head element...it doesnt need to display all the elements.\n",
    "        temp = self.head\n",
    "        while(temp!= None):\n",
    "            print(temp.data)\n",
    "            temp = temp.nextnode\n",
    "            \n",
    "    def pop(self):\n",
    "        if self.head == None:\n",
    "            print(\"Nothing to remove\")\n",
    "        else:\n",
    "            self.head = self.head.nextnode # kuruvm: this is not just enough....u would need to make the previous deleted node link to None so that the garbage collector takes it.. try searching about memory de allocaiton in python too"
   ]
  },
  {
   "cell_type": "code",
   "execution_count": 66,
   "metadata": {},
   "outputs": [
    {
     "name": "stdout",
     "output_type": "stream",
     "text": [
      "Nothing to remove\n"
     ]
    }
   ],
   "source": [
    "if __name__ == '__main__':\n",
    "    llist = LinkList_Stack()\n",
    "    llist.push(5)\n",
    "    llist.push(4)\n",
    "    llist.push(3)\n",
    "    llist.push(2)\n",
    "    llist.push(1)\n",
    "    llist.pop()\n",
    "    llist.pop()\n",
    "    llist.peek()"
   ]
  }
 ],
 "metadata": {
  "kernelspec": {
   "display_name": "Python 3",
   "language": "python",
   "name": "python3"
  },
  "language_info": {
   "codemirror_mode": {
    "name": "ipython",
    "version": 3
   },
   "file_extension": ".py",
   "mimetype": "text/x-python",
   "name": "python",
   "nbconvert_exporter": "python",
   "pygments_lexer": "ipython3",
   "version": "3.7.5"
  }
 },
 "nbformat": 4,
 "nbformat_minor": 2
}

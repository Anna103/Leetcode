{
 "cells": [
  {
   "cell_type": "code",
   "execution_count": null,
   "metadata": {},
   "outputs": [],
   "source": [
    "\"\"\"Consider a rat placed at (0, 0) in a square matrix m[ ][ ] of order n and\n",
    "has to reach the destination at (n-1, n-1). \n",
    "The task is to find a sorted array of strings denoting all the possible directions \n",
    "which the rat can take to reach the destination at (n-1, n-1). \n",
    "The directions in which the rat can move are ‘U'(up), ‘D'(down), ‘L’ (left), ‘R’ (right).\n",
    "\n",
    "Examples:\n",
    "\n",
    "Input : N = 4\n",
    "1 0 0 0\n",
    "1 1 0 1\n",
    "0 1 0 0\n",
    "0 1 1 1\n",
    "Output :\n",
    "DRDDRR\n",
    "\n",
    "\n",
    "Input :N = 4\n",
    "1 0 0 0\n",
    "1 1 0 1\n",
    "1 1 0 0\n",
    "0 1 1 1\n",
    "Output :\n",
    "DDRDRR DRDDRR\n",
    "Explanation:\n",
    "\"\"\""
   ]
  },
  {
   "cell_type": "code",
   "execution_count": null,
   "metadata": {},
   "outputs": [],
   "source": [
    "# We need to find a path, Hence we need to use DFS."
   ]
  },
  {
   "cell_type": "code",
   "execution_count": null,
   "metadata": {},
   "outputs": [],
   "source": [
    "\n",
    "def isSafe(row, col, n, arr):\n",
    "    return(0<=row<n and \n",
    "    0<=col<n and  arr[row][col] == 1)\n",
    "\n",
    "def dfs(curr_row, curr_col, arr, output, path, n):\n",
    "    if curr_row == n-1 and curr_col == n-1:\n",
    "        output.append(path)\n",
    "        return output\n",
    "    valid_neighbour = [(-1, 0, \"U\"),(0,-1, \"L\"),(0, 1, \"R\"), (1, 0, \"D\")]\n",
    "    for n_r, n_c, d in (valid_neighbour):\n",
    "        if isSafe(curr_row+n_r, curr_col+n_c, n, arr):\n",
    "            path += d\n",
    "            arr[curr_row+n_r][curr_col+n_c] = -1\n",
    "            output = dfs(curr_row+n_r, curr_col+n_c, arr, output, path, n)\n",
    "            arr[curr_row+n_r][curr_col+n_c] = 1\n",
    "            path = path[:-1]\n",
    "    return output\n",
    "            \n",
    "\n",
    "def findPath(arr, n):\n",
    "    # code here\n",
    "    start_row = 0\n",
    "    start_col = 0\n",
    "    if arr[start_row][start_col] == 1:\n",
    "        arr[start_row][start_col] = -1\n",
    "        return(sorted(dfs(0, 0, arr, [], \"\", n)))\n",
    "    else:\n",
    "        return []\n",
    "    \n",
    "\n",
    "\n"
   ]
  }
 ],
 "metadata": {
  "kernelspec": {
   "display_name": "Python 3",
   "language": "python",
   "name": "python3"
  },
  "language_info": {
   "codemirror_mode": {
    "name": "ipython",
    "version": 3
   },
   "file_extension": ".py",
   "mimetype": "text/x-python",
   "name": "python",
   "nbconvert_exporter": "python",
   "pygments_lexer": "ipython3",
   "version": "3.6.8"
  }
 },
 "nbformat": 4,
 "nbformat_minor": 2
}

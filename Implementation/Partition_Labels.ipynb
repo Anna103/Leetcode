{
 "cells": [
  {
   "cell_type": "code",
   "execution_count": null,
   "metadata": {},
   "outputs": [],
   "source": [
    "\"\"\"A string S of lowercase English letters is given. \n",
    "We want to partition this string into as many parts as possible so that each letter \n",
    "appears in at most one part, and return a list of integers representing the size of these parts.\n",
    "\n",
    "Input: S = \"ababcbacadefegdehijhklij\"\n",
    "Output: [9,7,8]\n",
    "Explanation:\n",
    "The partition is \"ababcbaca\", \"defegde\", \"hijhklij\".\n",
    "This is a partition so that each letter appears in at most one part.\n",
    "A partition like \"ababcbacadefegde\", \"hijhklij\" is incorrect, because it splits S into less parts\n",
    "\n",
    "\"\"\"\n",
    "\n",
    "# Algorithm\n",
    "# 1. store the last index of all letters in the string\n",
    "# 2. run loop from start of index to last\n",
    "    # 3. j will hold max last index until u reach the last position\n",
    "    # 4. when u reach last max index it means u have no older letters further so u calulate the lenght\n",
    "    # 5. new start posiiton will be the next index\n",
    "    "
   ]
  },
  {
   "cell_type": "code",
   "execution_count": 1,
   "metadata": {},
   "outputs": [],
   "source": [
    "class Solution:\n",
    "    def partitionLabels(self, S: str):\n",
    "        #holds last index\n",
    "        last = {c: i for i, c in enumerate(S)}\n",
    "        j = start = 0\n",
    "        ans = []\n",
    "        for i, c in enumerate(S):\n",
    "            j = max(j, last[c])\n",
    "            if i == j:\n",
    "                ans.append(i - start + 1)\n",
    "                start = i + 1\n",
    "        return ans"
   ]
  },
  {
   "cell_type": "code",
   "execution_count": 2,
   "metadata": {},
   "outputs": [
    {
     "name": "stdout",
     "output_type": "stream",
     "text": [
      "[9, 7, 8]\n"
     ]
    }
   ],
   "source": [
    "if __name__ == \"__main__\":\n",
    "    S = \"ababcbacadefegdehijhklij\"\n",
    "    s = Solution()\n",
    "    print(s.partitionLabels(S))"
   ]
  }
 ],
 "metadata": {
  "kernelspec": {
   "display_name": "Python 3",
   "language": "python",
   "name": "python3"
  },
  "language_info": {
   "codemirror_mode": {
    "name": "ipython",
    "version": 3
   },
   "file_extension": ".py",
   "mimetype": "text/x-python",
   "name": "python",
   "nbconvert_exporter": "python",
   "pygments_lexer": "ipython3",
   "version": "3.6.8"
  }
 },
 "nbformat": 4,
 "nbformat_minor": 2
}

{
 "cells": [
  {
   "cell_type": "code",
   "execution_count": 2,
   "metadata": {},
   "outputs": [
    {
     "data": {
      "text/plain": [
       "\"Given n non-negative integers representing the histogram's bar height where the width of each bar is 1, \\nfind the area of largest rectangle in the histogram.\""
      ]
     },
     "execution_count": 2,
     "metadata": {},
     "output_type": "execute_result"
    }
   ],
   "source": [
    "\"\"\"Given n non-negative integers representing the histogram's bar height where the width of each bar is 1, \n",
    "find the area of largest rectangle in the histogram.\"\"\"\n",
    "\n",
    "\n",
    "# Algorithm\n",
    "# Create an empty stack (it holds the position, (in increasing fashion)), \n",
    "# 1. Run a loop until you reach the end of histogram\n",
    "    # 2. if the stack is empty or element at top of stack is smaller than or equal to current element at the histogram\n",
    "        # 3. add it to the stack\n",
    "    # 4. else \n",
    "        # 5. while stack is not empty and current histogram element is smaller than stack element\n",
    "            # 6. pop the stack element\n",
    "            # 7. if stack is empty ---> area = histogram[popped index] * current poisiton\n",
    "            # 8. else ---> area = histogram[popped index] * (current poisiton - top position - 1)\n",
    "            \n",
    "            # 9. max_area = max(max_Area, area)\n",
    "        # 10. stack append current position\n",
    "# 11. if stack is still not empty\n",
    "    # 12. i = len(histogram)\n",
    "    # 13. Keep popping until just one element is left and find area ---> area = histogram[popped index] * (current poisiton - top position - 1)\n",
    "    # 14. max_area = max(max_Area, area)\n",
    "    # 15. If the len of stack is 1\n",
    "    # 16. area = histogram[popped index] * current poisiton\n",
    "# 12. return max(maxArea, area)\n",
    "\n",
    "\n",
    "# Complexoty --> O(n)"
   ]
  },
  {
   "cell_type": "code",
   "execution_count": 1,
   "metadata": {},
   "outputs": [],
   "source": [
    "class Solution:\n",
    "    def largestRectangleArea(self, heights):\n",
    "        position = []\n",
    "        area = 0\n",
    "        max_area = 0\n",
    "        if(len(heights)  == 1):\n",
    "            return heights[0]\n",
    "        for i in range(len(heights)):\n",
    "            if(position == [] or heights[position[-1]] <= heights[i]):\n",
    "                position.append(i)\n",
    "            elif(heights[i] < heights[position[-1]]):\n",
    "                while(position != [] and heights[i] < heights[position[-1]]):\n",
    "                    out = position.pop()\n",
    "                    if(position == []):\n",
    "                        area = heights[out] * i\n",
    "                    else:\n",
    "                        area = heights[out] * (i- position[-1] - 1)\n",
    "                    max_area = max(max_area, area)\n",
    "                position.append(i)\n",
    "        if(position):\n",
    "            i = len(heights)\n",
    "            while(len(position) > 1):\n",
    "                out = position.pop()\n",
    "                area = heights[out] * (i- position[-1] - 1)\n",
    "                max_area = max(max_area, area)\n",
    "            if(len(position) == 1):\n",
    "                out = position.pop()\n",
    "                area = heights[out] * (i)\n",
    "                max_area = max(max_area, area)\n",
    "        return max_area"
   ]
  }
 ],
 "metadata": {
  "kernelspec": {
   "display_name": "Python 3",
   "language": "python",
   "name": "python3"
  },
  "language_info": {
   "codemirror_mode": {
    "name": "ipython",
    "version": 3
   },
   "file_extension": ".py",
   "mimetype": "text/x-python",
   "name": "python",
   "nbconvert_exporter": "python",
   "pygments_lexer": "ipython3",
   "version": "3.6.8"
  }
 },
 "nbformat": 4,
 "nbformat_minor": 2
}

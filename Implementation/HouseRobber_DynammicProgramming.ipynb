{
 "cells": [
  {
   "cell_type": "code",
   "execution_count": null,
   "metadata": {},
   "outputs": [],
   "source": [
    "\"\"\"\n",
    "\n",
    "You are a professional robber planning to rob houses along a street. Each house has a certain amount of money stashed,\n",
    "the only constraint stopping you from robbing each of them is that adjacent houses\n",
    "have security system connected and it will automatically contact the police if two adjacent houses were broken into on the same night.\n",
    "\n",
    "Given a list of non-negative integers representing the amount of money of each house,\n",
    "determine the maximum amount of money you can rob tonight without alerting the police.\n",
    "\n",
    "Example 1:\n",
    "\n",
    "Input: [1,2,3,1]\n",
    "Output: 4\n",
    "Explanation: Rob house 1 (money = 1) and then rob house 3 (money = 3).\n",
    "             Total amount you can rob = 1 + 3 = 4.\n",
    "\n",
    "\n",
    "\"\"\"\n",
    "# Algorithm\n",
    "# We use Dynamic Programming to solve this question\n",
    "# We check if we have 0 house then max money we can hold is zero\n",
    "# Initialise a dp array with 0 of length as number of houses\n",
    "# dp[0] = nums[0] -- that house will have total money as just that house's money\n",
    "# dp[1] = max of both the houses\n",
    "# Things change when we have 3 houses, because we can either chose 0,2 or 1 .. depending on which one gives max\n",
    "# Run a loop comparing dp value of previous to previous in addition with current house's money and previous houses dp value\n",
    "    # Whichever is max that is stored at current dp\n",
    "# return the last value in our dp array\n",
    "\n"
   ]
  },
  {
   "cell_type": "code",
   "execution_count": null,
   "metadata": {},
   "outputs": [],
   "source": [
    "class Solution:\n",
    "    def rob(self, nums: List[int]) -> int:\n",
    "        if(len(nums) == 0):\n",
    "            return 0\n",
    "        if(len(nums) == 1):\n",
    "            return nums[0]\n",
    "        if(len(nums) == 2):\n",
    "            return max(nums[0], nums[1])\n",
    "        dp = [0 for row in range(len(nums))]\n",
    "        dp[0] = nums[0]\n",
    "        dp[1] = max(nums[0], nums[1])\n",
    "        for i in range(2, len(nums)):\n",
    "            dp[i] = max((nums[i] + dp[i - 2]),dp[i-1])\n",
    "        return dp[-1]"
   ]
  }
 ],
 "metadata": {
  "kernelspec": {
   "display_name": "Python 3",
   "language": "python",
   "name": "python3"
  },
  "language_info": {
   "codemirror_mode": {
    "name": "ipython",
    "version": 3
   },
   "file_extension": ".py",
   "mimetype": "text/x-python",
   "name": "python",
   "nbconvert_exporter": "python",
   "pygments_lexer": "ipython3",
   "version": "3.6.8"
  }
 },
 "nbformat": 4,
 "nbformat_minor": 2
}

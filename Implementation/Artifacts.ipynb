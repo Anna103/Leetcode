{
 "cells": [
  {
   "cell_type": "code",
   "execution_count": null,
   "metadata": {},
   "outputs": [],
   "source": []
  },
  {
   "cell_type": "code",
   "execution_count": 160,
   "metadata": {},
   "outputs": [],
   "source": [
    "import collections\n",
    "class Artifact_Finder:\n",
    "    \n",
    "    def create_map(self, N, artifacts, searched):\n",
    "        map_of_location = [[float('-inf') for i in range(N)] for j in range(N)]\n",
    "        dict_points = collections.defaultdict(set)\n",
    "        original_dict_points_len = collections.defaultdict(int)\n",
    "        \n",
    "        total_item = 0\n",
    "        output = [0,0]\n",
    "        for locations in artifacts.split(','):\n",
    "            total_item += 1\n",
    "            start_x = int(locations.split()[0][0])-1\n",
    "            start_y = ord(locations.split()[0][1])-65\n",
    "            end_x = int(locations.split()[1][0])-1\n",
    "            end_y = ord(locations.split()[1][1])-65\n",
    "            map_of_location[end_x][end_y] = total_item\n",
    "            while(start_x<=end_x and start_x < N):\n",
    "                map_of_location[start_x][start_y] = total_item\n",
    "                start_x +=1\n",
    "            start_x = int(locations.split()[0][0])-1\n",
    "            while(start_y<=end_y and start_y < N):\n",
    "                map_of_location[start_x][start_y] = total_item\n",
    "                start_y +=1\n",
    "        \n",
    "        for row in range(N):\n",
    "            for col in range(N):\n",
    "                dict_points[map_of_location[row][col]].add((row,col))\n",
    "        del dict_points[float('-inf')]\n",
    "        \n",
    "        for key, value in dict_points.items():\n",
    "            original_dict_points_len[key] = len(dict_points[key])\n",
    "        \n",
    "        for search in searched.split():\n",
    "            \n",
    "            search_x = int(search[0])-1\n",
    "            search_y = ord(search[1])-65\n",
    "            artifact_num = map_of_location[search_x][search_y]\n",
    "            if artifact_num == float('-inf'):\n",
    "                continue\n",
    "            else:\n",
    "                dict_points[artifact_num].remove((search_x, search_y))\n",
    "        \n",
    "        all_art = 0\n",
    "        some_art = 0\n",
    "        for key, values in dict_points.items():\n",
    "            if (len(dict_points[key]) == 0):\n",
    "                all_art += 1\n",
    "            elif(len(dict_points[key]) < original_dict_points_len[key]):\n",
    "                some_art += 1\n",
    "            \n",
    "        output[0] = all_art\n",
    "        output[1] = some_art\n",
    "        return output"
   ]
  },
  {
   "cell_type": "code",
   "execution_count": 161,
   "metadata": {},
   "outputs": [
    {
     "name": "stdout",
     "output_type": "stream",
     "text": [
      "[1, 2]\n"
     ]
    }
   ],
   "source": [
    "if __name__ == \"__main__\":\n",
    "    artifacts = \"1B 2C,2D 4D,3A 3B\"\n",
    "    N = 4\n",
    "    searched = \"2B 2D 3D 4D 4A 3A\"\n",
    "    af = Artifact_Finder()\n",
    "    print(af.create_map(N, artifacts, searched))"
   ]
  },
  {
   "cell_type": "code",
   "execution_count": null,
   "metadata": {},
   "outputs": [],
   "source": []
  }
 ],
 "metadata": {
  "kernelspec": {
   "display_name": "Python 3",
   "language": "python",
   "name": "python3"
  },
  "language_info": {
   "codemirror_mode": {
    "name": "ipython",
    "version": 3
   },
   "file_extension": ".py",
   "mimetype": "text/x-python",
   "name": "python",
   "nbconvert_exporter": "python",
   "pygments_lexer": "ipython3",
   "version": "3.6.8"
  }
 },
 "nbformat": 4,
 "nbformat_minor": 2
}

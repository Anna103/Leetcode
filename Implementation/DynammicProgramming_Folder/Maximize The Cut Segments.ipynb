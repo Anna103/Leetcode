{
 "cells": [
  {
   "cell_type": "code",
   "execution_count": null,
   "metadata": {},
   "outputs": [],
   "source": [
    "\"\"\"Given an integer N denoting the Length of a line segment. \n",
    "You need to cut the line segment in such a way that the cut length of a line segment each time is either x , y or z. \n",
    "Here x, y, and z are integers.\n",
    "After performing all the cut operations, your total number of cut segments must be maximum.\n",
    "\n",
    "Example 1:\n",
    "\n",
    "Input:\n",
    "N = 4\n",
    "x = 2, y = 1, z = 1\n",
    "Output: 4\n",
    "Explanation:Total length is 4, and the cut\n",
    "lengths are 2, 1 and 1.  We can make\n",
    "maximum 4 segments each of length 1.\n",
    "Example 2:\n",
    "\n",
    "Input:\n",
    "N = 5\n",
    "x = 5, y = 3, z = 2\n",
    "Output: 2\n",
    "Explanation: Here total length is 5, and\n",
    "the cut lengths are 5, 3 and 2. We can\n",
    "make two segments of lengths 3 and 2.\n",
    "Your Task:\n",
    "You only need to complete the function maximizeTheCuts() that takes n, x, y, z as\n",
    "parameters and returns max number cuts.\n",
    "\n",
    "Expected Time Complexity : O(N)\n",
    "Expected Auxiliary Space: O(N)\n",
    "\n",
    "Constraints\n",
    "1 <= N, x, y, z <= 104\"\"\""
   ]
  },
  {
   "cell_type": "code",
   "execution_count": 6,
   "metadata": {},
   "outputs": [],
   "source": [
    "def maximizeTheCuts(n,x,y,z):\n",
    "    \n",
    "    #returns: max number cuts.\n",
    "    if n == 0:\n",
    "        return 0\n",
    "    if n < 0:\n",
    "        return float('-inf')\n",
    "    return max(maximizeTheCuts(n-x,x,y,z)+1, maximizeTheCuts(n-y,x,y,z)+1, maximizeTheCuts(n-z,x,y,z)+1)\n",
    "    \n",
    "    \n"
   ]
  },
  {
   "cell_type": "code",
   "execution_count": null,
   "metadata": {},
   "outputs": [],
   "source": [
    "def maximizeTheCuts(n,x,y,z):\n",
    "    memo = [float('-inf') for i in range(n+1)]\n",
    "    memo[0] = 0\n",
    "    for i in range(1, len(memo)):\n",
    "        a = float('-inf')\n",
    "        b = float('-inf')\n",
    "        c = float('-inf')\n",
    "        if i - x >= 0:\n",
    "            a = memo[i-x] + 1\n",
    "        if i -y >= 0:\n",
    "            b = memo[i-y] + 1\n",
    "        if i -z >= 0:\n",
    "            c = memo[i-z] + 1\n",
    "            \n",
    "        memo[i] = max(a, b, c)\n",
    "    return memo[-1] if memo[-1] != float('-inf') else 0"
   ]
  },
  {
   "cell_type": "code",
   "execution_count": 7,
   "metadata": {},
   "outputs": [
    {
     "name": "stdout",
     "output_type": "stream",
     "text": [
      "2\n"
     ]
    }
   ],
   "source": [
    "N = 5\n",
    "x = 5\n",
    "y = 3\n",
    "z = 2\n",
    "print(maximizeTheCuts(N,x,y,z))"
   ]
  }
 ],
 "metadata": {
  "kernelspec": {
   "display_name": "Python 3",
   "language": "python",
   "name": "python3"
  },
  "language_info": {
   "codemirror_mode": {
    "name": "ipython",
    "version": 3
   },
   "file_extension": ".py",
   "mimetype": "text/x-python",
   "name": "python",
   "nbconvert_exporter": "python",
   "pygments_lexer": "ipython3",
   "version": "3.6.8"
  }
 },
 "nbformat": 4,
 "nbformat_minor": 2
}

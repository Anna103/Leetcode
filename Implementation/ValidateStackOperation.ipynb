{
 "cells": [
  {
   "cell_type": "code",
   "execution_count": 6,
   "metadata": {},
   "outputs": [],
   "source": [
    "# Algorithm\n",
    "# Create a stack that will hold numbers from 1 to nums[0]\n",
    "# pop the first element in both the stack, if it is same then continue popping\n",
    "    # if it is element at nusm stack is bigger then append into new stack until u reach that number\n",
    "        # then continue poping\n",
    "    # if the number is smaller then return false"
   ]
  },
  {
   "cell_type": "code",
   "execution_count": 7,
   "metadata": {},
   "outputs": [],
   "source": [
    "class Solution:\n",
    "    \n",
    "    def validate_stack(self, nums):\n",
    "        new_stack=[]\n",
    "        counter = 0\n",
    "        while(counter != nums[0]+1):\n",
    "            new_stack.append(counter)\n",
    "            counter += 1\n",
    "        while(len(nums) != 0):\n",
    "            x = nums.pop(0)\n",
    "            y = new_stack.pop()\n",
    "            if(y < x):\n",
    "                nums.insert(0,x)\n",
    "                new_stack.append(y)\n",
    "                for i in range(0,(x-y-1)):\n",
    "                    new_stack.append(counter)\n",
    "                    counter += 1\n",
    "            elif(x == y):\n",
    "                continue\n",
    "            else:\n",
    "                return False\n",
    "        return True\n",
    "            "
   ]
  },
  {
   "cell_type": "code",
   "execution_count": 8,
   "metadata": {},
   "outputs": [
    {
     "name": "stdout",
     "output_type": "stream",
     "text": [
      "True\n"
     ]
    }
   ],
   "source": [
    "if __name__ == \"__main__\":\n",
    "    nums = [4,5,3,2,1]\n",
    "    s = Solution()\n",
    "    print(s.validate_stack(nums))"
   ]
  }
 ],
 "metadata": {
  "kernelspec": {
   "display_name": "Python 3",
   "language": "python",
   "name": "python3"
  },
  "language_info": {
   "codemirror_mode": {
    "name": "ipython",
    "version": 3
   },
   "file_extension": ".py",
   "mimetype": "text/x-python",
   "name": "python",
   "nbconvert_exporter": "python",
   "pygments_lexer": "ipython3",
   "version": "3.6.8"
  }
 },
 "nbformat": 4,
 "nbformat_minor": 2
}

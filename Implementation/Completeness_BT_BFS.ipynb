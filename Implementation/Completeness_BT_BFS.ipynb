{
 "cells": [
  {
   "cell_type": "code",
   "execution_count": null,
   "metadata": {},
   "outputs": [],
   "source": [
    "\"\"\"Given a binary tree, determine if it is a complete binary tree.\n",
    "\n",
    "Definition of a complete binary tree from Wikipedia:\n",
    "In a complete binary tree every level, except possibly the last, is completely filled, and all nodes in the last level are as far left as possible. It can have between 1 and 2h nodes inclusive at the last level h.\n",
    "\n",
    " \n",
    "\n",
    "Example 1:\n",
    "\n",
    "Input: [1,2,3,4,5,6]\n",
    "Output: true\n",
    "Explanation: Every level before the last is full (ie. levels with node-values {1} and {2, 3}), and all nodes in the last level ({4, 5, 6}) are as far left as possible.\"\"\"\n",
    "\n",
    "\n",
    "\n",
    "# Algorithm\n",
    "# 1. We need to make use of BFS to identify if a given tree is Complete binary tree or not\n",
    "# 2. create a stack with main root in it, also create another queue that holds our bfs traversal\n",
    "    # 3. run the loop until we have something in the stack \n",
    "    # 4. pop out the first element in the list append it to queue, also check if it is null if not append its left and right to the stack\n",
    "    # 5. if the popped element is empty check if there are any number in the stack using any keyword\n",
    "    # 6. \"Any\" returns true if there is any number else false\n",
    "# 7. If we reach end return True"
   ]
  },
  {
   "cell_type": "code",
   "execution_count": 1,
   "metadata": {},
   "outputs": [],
   "source": [
    "class Node:\n",
    "    def __init__(self, data):\n",
    "        self.data = data\n",
    "        self.left = None\n",
    "        self.right = None"
   ]
  },
  {
   "cell_type": "code",
   "execution_count": 2,
   "metadata": {},
   "outputs": [],
   "source": [
    "class Tree:\n",
    "    \n",
    "    def check_completeness(self,root):\n",
    "        nodes_visited = [root]        \n",
    "        nodes_queue = []\n",
    "        while(len(nodes_visited) > 0):\n",
    "            current_node = nodes_visited.pop(0)\n",
    "            nodes_queue.append(current_node)\n",
    "            if(current_node != None):\n",
    "                nodes_visited.append(current_node.left)\n",
    "                nodes_visited.append(current_node.right)\n",
    "            else:\n",
    "                if(any(nodes_visited)):\n",
    "                    return False\n",
    "        return True\n",
    "    \n",
    "    \n",
    "    def check_complete(self, root):\n",
    "        BFS = [root]\n",
    "        i = 0\n",
    "        while BFS[i]:\n",
    "            BFS += (BFS[i].left, BFS[i].right)\n",
    "            i+=1\n",
    "        return not any(BFS[i:])\n",
    "        \n",
    "            "
   ]
  },
  {
   "cell_type": "code",
   "execution_count": 4,
   "metadata": {},
   "outputs": [
    {
     "name": "stdout",
     "output_type": "stream",
     "text": [
      "True\n"
     ]
    }
   ],
   "source": [
    "if __name__ == \"__main__\":\n",
    "    root = Node(1)\n",
    "    root.left = Node(2)\n",
    "    root.right = Node(3)\n",
    "    root.left.left = Node(4)\n",
    "    root.left.right = Node(5)\n",
    "    root.right.left = Node(6)\n",
    "    root.right.right = Node(7)\n",
    "    #root.right = Node(2)\n",
    "    t = Tree()\n",
    "    print(t.check_complete(root))"
   ]
  }
 ],
 "metadata": {
  "kernelspec": {
   "display_name": "Python 3",
   "language": "python",
   "name": "python3"
  },
  "language_info": {
   "codemirror_mode": {
    "name": "ipython",
    "version": 3
   },
   "file_extension": ".py",
   "mimetype": "text/x-python",
   "name": "python",
   "nbconvert_exporter": "python",
   "pygments_lexer": "ipython3",
   "version": "3.6.8"
  }
 },
 "nbformat": 4,
 "nbformat_minor": 2
}

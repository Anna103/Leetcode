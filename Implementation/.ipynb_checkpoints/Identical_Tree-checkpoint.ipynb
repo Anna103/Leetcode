{
 "cells": [
  {
   "cell_type": "code",
   "execution_count": 104,
   "metadata": {},
   "outputs": [],
   "source": [
    "#Find if trees are identical\n",
    "#Algorithm\n",
    "# 1.Check if roots are none, if yes then return True\n",
    "# 2. If root1 == root2 and root1 and root2 are present, then recursively move left and right\n",
    "# 3. Else return false\n",
    "#Recursively take left and right nodes and check if they match\n",
    "class Tree:\n",
    "    \n",
    "    #Constructor\n",
    "     def __init__(self, data):\n",
    "            self.left = None\n",
    "            self.data = data\n",
    "            self.right = None\n",
    "            \n",
    "     "
   ]
  },
  {
   "cell_type": "code",
   "execution_count": 105,
   "metadata": {},
   "outputs": [],
   "source": [
    "def identicalCheck(root1, root2): \n",
    "    \n",
    "    #If tree is empty\n",
    "    if(root1 == root2 == None):\n",
    "        return True\n",
    "    #Tree is present as well as the root matches\n",
    "    if root1 and root2 and (root1.data == root2.data):         \n",
    "        return identicalCheck(root1.left, root2.left) and identicalCheck(root1.right, root2.right)\n",
    "    else:\n",
    "        return False"
   ]
  },
  {
   "cell_type": "code",
   "execution_count": 106,
   "metadata": {},
   "outputs": [
    {
     "name": "stdout",
     "output_type": "stream",
     "text": [
      "True\n"
     ]
    }
   ],
   "source": [
    "root = Tree (1)\n",
    "root.left = Tree(2)\n",
    "root.right = Tree(3)\n",
    "root.left.left = Tree(4)\n",
    "root.left.right = Tree(5)\n",
    "\n",
    "root2 = Tree (1)\n",
    "root2.left = Tree(2)\n",
    "root2.right = Tree(3)\n",
    "root2.left.left = Tree(4)\n",
    "root2.left.right = Tree(5)\n",
    "boo = True\n",
    "boo = identicalCheck(root, root2)\n",
    "print(boo)"
   ]
  }
 ],
 "metadata": {
  "kernelspec": {
   "display_name": "Python 3",
   "language": "python",
   "name": "python3"
  },
  "language_info": {
   "codemirror_mode": {
    "name": "ipython",
    "version": 3
   },
   "file_extension": ".py",
   "mimetype": "text/x-python",
   "name": "python",
   "nbconvert_exporter": "python",
   "pygments_lexer": "ipython3",
   "version": "3.6.8"
  }
 },
 "nbformat": 4,
 "nbformat_minor": 2
}

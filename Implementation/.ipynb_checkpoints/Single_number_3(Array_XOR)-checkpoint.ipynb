{
 "cells": [
  {
   "cell_type": "code",
   "execution_count": null,
   "metadata": {},
   "outputs": [],
   "source": [
    "\"\"\"Given an array of numbers nums, in which exactly two elements appear only once and all the other elements appear exactly twice. Find the two elements that appear only once.\n",
    "\n",
    "Example:\n",
    "\n",
    "Input:  [1,2,1,3,2,5]\n",
    "Output: [3,5]\n",
    "Note:\n",
    "\n",
    "The order of the result is not important. So in the above example, [5, 3] is also correct.\n",
    "Your algorithm should run in linear runtime complexity. Could you implement it using only constant space complexity?\"\"\"\n",
    "\n",
    "\n",
    "\n",
    "# Algorithm\n",
    "# We know that when we use XOR we can get one single number(all elements in array repeated 2 times except 1)\n",
    "# Here also we do the same, but since we have 2 single numbers we would want to divide them into 2 groups before Xoring\n",
    "# to get the answer\n",
    "\n",
    "# 1. We xor all the number in the array, we get on output\n",
    "# 2. Ouput obtained in step 1 is \"and\" with -of the same number to get the rightmost bit\n",
    "# 3. Based on this rightmost bit we will divide the array(diff)\n",
    "# 4. we \"And\" ach number in our arrray with diff, if the right most bits are same we put the number in one array\n",
    "# 5. else we put the number in other array\n",
    "# then we xor the numbers in each array and send out the result\n"
   ]
  },
  {
   "cell_type": "code",
   "execution_count": 1,
   "metadata": {},
   "outputs": [],
   "source": [
    "class Solution:\n",
    "    def singleNumber(self, nums):\n",
    "        # difference between two numbers (x and y) which were seen only once\n",
    "        bitmask = 0\n",
    "        for num in nums:\n",
    "            bitmask ^= num\n",
    "        \n",
    "        # rightmost 1-bit diff between x and y\n",
    "        diff = bitmask & (-bitmask)\n",
    "        \n",
    "        x = [0,0]\n",
    "        for num in nums:\n",
    "            # bitmask which will contain only x\n",
    "            if num & diff:\n",
    "                x[0] ^= num\n",
    "            else:\n",
    "                x[1] ^=num\n",
    "        return x"
   ]
  },
  {
   "cell_type": "code",
   "execution_count": 2,
   "metadata": {},
   "outputs": [
    {
     "name": "stdout",
     "output_type": "stream",
     "text": [
      "[3, 1]\n"
     ]
    }
   ],
   "source": [
    "if __name__ == \"__main__\":\n",
    "    s = Solution()\n",
    "    print(s.singleNumber([1,2,3,4,2,4]))"
   ]
  }
 ],
 "metadata": {
  "kernelspec": {
   "display_name": "Python 3",
   "language": "python",
   "name": "python3"
  },
  "language_info": {
   "codemirror_mode": {
    "name": "ipython",
    "version": 3
   },
   "file_extension": ".py",
   "mimetype": "text/x-python",
   "name": "python",
   "nbconvert_exporter": "python",
   "pygments_lexer": "ipython3",
   "version": "3.6.8"
  }
 },
 "nbformat": 4,
 "nbformat_minor": 2
}

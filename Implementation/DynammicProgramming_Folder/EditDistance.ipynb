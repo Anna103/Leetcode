{
 "cells": [
  {
   "cell_type": "code",
   "execution_count": null,
   "metadata": {},
   "outputs": [],
   "source": [
    "\"\"\"Given two strings str1 and str2 and below operations that can performed on str1. \n",
    "Find minimum number of edits (operations) required to convert ‘str1’ into ‘str2’.\n",
    "\n",
    "Insert\n",
    "Remove\n",
    "Replace\n",
    "All of the above operations are of equal cost.\n",
    "\n",
    "Examples:\n",
    "\n",
    "Input:   str1 = \"geek\", str2 = \"gesek\"\n",
    "Output:  1\n",
    "We can convert str1 into str2 by inserting a 's'.\n",
    "\n",
    "# Algorithm\n",
    "\n",
    "1. Since we have 2 string.. create a 2-d array of both the string\n",
    "2. First row and column will be increasing values\n",
    "3. if str1[i-1] == str[j-1] then dp value is dp[i-1][j-1]\n",
    "4. else it is 1 + min(neighbouring 3 cells)\n",
    "\"\"\""
   ]
  },
  {
   "cell_type": "code",
   "execution_count": 12,
   "metadata": {},
   "outputs": [],
   "source": [
    "class Solution:\n",
    "    \n",
    "    def edit_distance(self, str1, str2):\n",
    "        dp = [[0 for i in range(len(str2)+1)] for j in range(len(str1)+1)]\n",
    "        for i in range(len(str1)+1):\n",
    "            for j in range(len(str2)+1):\n",
    "                if i == 0:\n",
    "                    dp[i][j] = j\n",
    "                elif j == 0:\n",
    "                    dp[i][j] = i\n",
    "                elif str1[i-1] == str2[j-1]:\n",
    "                    dp[i][j] = dp[i-1][j-1]\n",
    "                else:\n",
    "                    dp[i][j] = 1+ min(dp[i-1][j],\n",
    "                                      dp[i][j-1],\n",
    "                                      dp[i-1][j-1])\n",
    "        return dp[len(str1)][len(str2)]\n",
    "                \n",
    "        "
   ]
  },
  {
   "cell_type": "code",
   "execution_count": 13,
   "metadata": {},
   "outputs": [
    {
     "name": "stdout",
     "output_type": "stream",
     "text": [
      "3\n"
     ]
    }
   ],
   "source": [
    "if __name__ == \"__main__\":\n",
    "    s = Solution()\n",
    "    str1 = \"sunday\"\n",
    "    str2 = \"saturday\"\n",
    "    print(s.edit_distance(str1, str2))"
   ]
  }
 ],
 "metadata": {
  "kernelspec": {
   "display_name": "Python 3",
   "language": "python",
   "name": "python3"
  },
  "language_info": {
   "codemirror_mode": {
    "name": "ipython",
    "version": 3
   },
   "file_extension": ".py",
   "mimetype": "text/x-python",
   "name": "python",
   "nbconvert_exporter": "python",
   "pygments_lexer": "ipython3",
   "version": "3.6.8"
  }
 },
 "nbformat": 4,
 "nbformat_minor": 2
}

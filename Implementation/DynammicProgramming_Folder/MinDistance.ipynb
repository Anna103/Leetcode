{
 "cells": [
  {
   "cell_type": "code",
   "execution_count": null,
   "metadata": {},
   "outputs": [],
   "source": [
    "\"\"\"Given a cost matrix cost[][] and a position (m, n) in cost[][], \n",
    "write a function that returns cost of minimum cost path to reach (m, n) from (0, 0). \n",
    "Each cell of the matrix represents a cost to traverse through that cell. \n",
    "Total cost of a path to reach (m, n) is sum of all the costs on that path (including both source and destination). \n",
    "You can only traverse down, right and diagonally lower cells from a given cell, i.e., \n",
    "from a given cell (i, j), cells (i+1, j), (i, j+1) and (i+1, j+1) can be traversed. \n",
    "You may assume that all costs are positive integers.\n",
    "\"\"\""
   ]
  },
  {
   "cell_type": "code",
   "execution_count": 17,
   "metadata": {},
   "outputs": [],
   "source": [
    "class Solution:\n",
    "    \n",
    "    def find_min_distance(self, cost, target_x, target_y):\n",
    "        dp = [[0 for col in range(len(cost[0]))] for rows in range(len(cost))]\n",
    "        dp[0][0] = cost[0][0]\n",
    "        \n",
    "        for i in range(1, len(dp[0])):\n",
    "            dp[0][i] = dp[0][i-1] + cost[0][i]\n",
    "        \n",
    "        for j in range(1, len(dp)):\n",
    "            dp[j][0] = dp[j-1][0] + cost[j][0]\n",
    "        \n",
    "        for i in range(1, len(dp)):\n",
    "            for j in range(1, len(dp[0])):\n",
    "                dp[i][j] = cost[i][j] + min(dp[i][j-1], dp[i-1][j], dp[i-1][j-1])\n",
    "        return(dp[target_x][target_y])"
   ]
  },
  {
   "cell_type": "code",
   "execution_count": 18,
   "metadata": {},
   "outputs": [
    {
     "name": "stdout",
     "output_type": "stream",
     "text": [
      "8\n"
     ]
    }
   ],
   "source": [
    "if __name__ == \"__main__\":\n",
    "    cost = [[1, 2, 3],[4, 8, 2],[1, 5, 3]]\n",
    "    s = Solution()\n",
    "    print(s.find_min_distance(cost, 2, 2))"
   ]
  }
 ],
 "metadata": {
  "kernelspec": {
   "display_name": "Python 3",
   "language": "python",
   "name": "python3"
  },
  "language_info": {
   "codemirror_mode": {
    "name": "ipython",
    "version": 3
   },
   "file_extension": ".py",
   "mimetype": "text/x-python",
   "name": "python",
   "nbconvert_exporter": "python",
   "pygments_lexer": "ipython3",
   "version": "3.6.8"
  }
 },
 "nbformat": 4,
 "nbformat_minor": 2
}

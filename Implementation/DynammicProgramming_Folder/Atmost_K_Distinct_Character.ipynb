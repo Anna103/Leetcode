{
 "cells": [
  {
   "cell_type": "code",
   "execution_count": 1,
   "metadata": {},
   "outputs": [],
   "source": [
    "class KDistinctFinder:\n",
    "    def find_kdistinct(self, s, k):\n",
    "        output = \"\"\n",
    "        start = 0\n",
    "        end = 0\n",
    "        for start in range(len(s)):\n",
    "            for end in range(start+1, len(s)):\n",
    "                if(len(set(s[start:end]))) <= k:\n",
    "                    if(len(output) < s[start:end]):\n",
    "                        output = s[start:end]\n",
    "                    if len(set(output)) == k:\n",
    "                        return output\n",
    "                else:\n",
    "                    break\n",
    "        return output\n",
    "                    "
   ]
  },
  {
   "cell_type": "code",
   "execution_count": null,
   "metadata": {},
   "outputs": [],
   "source": [
    "class Solution:\n",
    "    def lengthOfLongestSubstringKDistinct(self, s: str, k: int) -> int:\n",
    "        distinct_char = collections.defaultdict(int)\n",
    "        output = \"\"\n",
    "        start = 0\n",
    "        i = 0\n",
    "        for j, char in enumerate(s):\n",
    "            distinct_char[s[j]] += 1 \n",
    "            if len(distinct_char) > k:\n",
    "                while(i< len(s) and len(distinct_char) != k):\n",
    "                    if s[i] in distinct_char:\n",
    "                        distinct_char[s[i]] -= 1\n",
    "                    if distinct_char[s[i]] <= 0:\n",
    "                        del distinct_char[s[i]]\n",
    "                    i += 1 \n",
    "                start = i\n",
    "            else:\n",
    "                if len(output) < len(s[start:j+1]):\n",
    "                    output = s[start:j+1]\n",
    "        return len(output)\n",
    "                    \n",
    "                \n",
    "            \n",
    "                \n",
    "                \n",
    "        "
   ]
  },
  {
   "cell_type": "code",
   "execution_count": null,
   "metadata": {},
   "outputs": [],
   "source": [
    "if __name__ == \"__main__\":\n",
    "    s = \"\""
   ]
  }
 ],
 "metadata": {
  "kernelspec": {
   "display_name": "Python 3",
   "language": "python",
   "name": "python3"
  },
  "language_info": {
   "codemirror_mode": {
    "name": "ipython",
    "version": 3
   },
   "file_extension": ".py",
   "mimetype": "text/x-python",
   "name": "python",
   "nbconvert_exporter": "python",
   "pygments_lexer": "ipython3",
   "version": "3.6.8"
  }
 },
 "nbformat": 4,
 "nbformat_minor": 2
}

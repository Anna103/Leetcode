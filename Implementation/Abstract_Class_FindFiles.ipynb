{
 "cells": [
  {
   "cell_type": "code",
   "execution_count": 15,
   "metadata": {},
   "outputs": [],
   "source": [
    "from abc import ABC, abstractmethod\n",
    "\n",
    "class Rule:\n",
    "    def match(self, file, arg):\n",
    "        raise IllegalArgumentException(ValueError)"
   ]
  },
  {
   "cell_type": "code",
   "execution_count": 16,
   "metadata": {},
   "outputs": [],
   "source": [
    "class FilenameRule(Rule):\n",
    "    def match(self, file, arg):\n",
    "        if file == arg:\n",
    "            return True\n",
    "        return False\n",
    "    \n",
    "        "
   ]
  },
  {
   "cell_type": "code",
   "execution_count": 35,
   "metadata": {},
   "outputs": [],
   "source": [
    "import re\n",
    "class FileextensionRule(Rule):\n",
    "    def match(self, file, arg):\n",
    "        if(re.search(\"%s$\"%arg, file)):\n",
    "            return True\n",
    "        return False"
   ]
  },
  {
   "cell_type": "code",
   "execution_count": 52,
   "metadata": {},
   "outputs": [],
   "source": [
    "import os\n",
    "class File:\n",
    "    def list_files(self, folder_path, all_files):\n",
    "        files = os.listdir(folder_path)\n",
    "        for file in files:\n",
    "            abs_path_file = folder_path+\"/\"+file\n",
    "            if(os.path.isdir(abs_path_file)):\n",
    "                self.list_files(abs_path_file, all_files)\n",
    "            else:\n",
    "                all_files.append(file)\n",
    "        return all_files\n",
    "    \n",
    "    \n",
    "    def find_file_match(self, Rule, folder_path, arg):\n",
    "        files = self.list_files(folder_path, all_files = [])\n",
    "        #print(files)\n",
    "        matched_file = []\n",
    "        for x in files:\n",
    "            if Rule.match(x,arg):\n",
    "                matched_file.append(x)\n",
    "        return matched_file\n",
    "    \n",
    "                \n",
    "        \n",
    "        "
   ]
  },
  {
   "cell_type": "code",
   "execution_count": 55,
   "metadata": {},
   "outputs": [
    {
     "name": "stdout",
     "output_type": "stream",
     "text": [
      "['3Sum_Array-checkpoint.ipynb', 'Abstract_Class_FindFiles-checkpoint.ipynb', 'Abstract_Classes_sides-checkpoint.ipynb', 'Binary_Search-checkpoint.ipynb', 'Binary_Search_Tree_Iterator_Stack-checkpoint.ipynb', 'Binary_tree_pruning-checkpoint.ipynb', 'Binary_Tree_Vertical_Order_Traversal_BFS-checkpoint.ipynb', 'BreadthFirstSearch-checkpoint.ipynb', 'BST_Check-checkpoint.ipynb', 'BubbleSort-checkpoint.ipynb', 'ClimbingStairs_DynammicProgramming-checkpoint.ipynb', 'Common_ancestor_DFS-checkpoint.ipynb', 'Completeness_BT_BFS-checkpoint.ipynb', 'Construct_BST_SorttedArray_BinarySearch-checkpoint.ipynb', 'Container_With_Most_Water_ Array-checkpoint.ipynb', 'Count _Number_of_Teams(DynammicProgramming)-checkpoint.ipynb', 'Count_Anagram_HashTable-checkpoint.ipynb', 'Count_Square_Submatrices_with_All_Ones(Dynammic_Programming)-checkpoint.ipynb', 'DepthFirstSearch_Tree-checkpoint.ipynb', 'Encode_and_Decode_TinyURL(HashTable)-checkpoint.ipynb', 'Fibonnaci_Recursion-checkpoint.ipynb', 'Find_Duplicate_Subtrees_DFS_Hashmap-checkpoint.ipynb', 'Find_the_Duplicate_Number_Floyd_hare_tortoise-checkpoint.ipynb', 'First_Missing_Positive-checkpoint.ipynb', 'FirstNonRepeatingCharacter_Hashset-checkpoint.ipynb', 'FloodFill_DFS-checkpoint.ipynb', 'HeapSort-checkpoint.ipynb', 'Height_Tree-checkpoint.ipynb', 'HousePaint_DynamicProgramming-checkpoint.ipynb', 'HouseRobber_DynammicProgramming-checkpoint.ipynb', 'Identical_Tree_DFS-checkpoint.ipynb', 'Inorder_Preorder_Tree_Construction_Array-checkpoint.ipynb', 'Inserted_in_Sorted_LL-checkpoint.ipynb', 'InsertionSort-checkpoint.ipynb', 'Interval_List_Intersections_Array-checkpoint.ipynb', 'Invert_Binary_Tree(Recursive_Interative)-checkpoint.ipynb', 'Is_Subsequence_String-checkpoint.ipynb', 'IslandProblem_DynamicProgramming-checkpoint.ipynb', 'K_Distant_Binary_Tree-checkpoint.ipynb', 'Knights_Tour_Prob_Practise-checkpoint.ipynb', 'Knights_Tour_Problem-checkpoint.ipynb', 'Largest_Rectangle_Histogram_Array-checkpoint.ipynb', 'link_list_from_last_cr_mathew-checkpoint.ipynb', 'link_list_stack_cr_mathew-checkpoint.ipynb', 'LinkList Implementation-checkpoint.ipynb', 'LinkList Implementation_mathew-checkpoint.ipynb', 'LinkList_Cycle-checkpoint.ipynb', 'LinkList_intersection-checkpoint.ipynb', 'LinkList_K_fromLast-checkpoint.ipynb', 'LinkList_OddEven-checkpoint.ipynb', 'LinkList_reverse-checkpoint.ipynb', 'LinkList_Stack-checkpoint.ipynb', 'Longest_Palindrome_Substring-checkpoint.ipynb', 'Lowest_Common_Ancestor_DP-checkpoint.ipynb', 'LRU_Cache-checkpoint.ipynb', 'Max_SumLevel-checkpoint.ipynb', 'Max_Width_Tree-checkpoint.ipynb', 'MaxBinaryTree-checkpoint.ipynb', 'Maximum_Sum_Circular_Subarray(Kadane Algorithm)-checkpoint.ipynb', 'Median_of_2_Sorted_Array-checkpoint.ipynb', 'MergeSort-checkpoint.ipynb', 'Min_Moves_String_Without_three_Identical_Consecutive_Letters-checkpoint.ipynb', 'MinCostClimbingStair-checkpoint.ipynb', 'Minimum_Window_Substring_String-checkpoint.ipynb', 'Monotonic_Array_All_keyword-checkpoint.ipynb', 'NQueen-checkpoint.ipynb', 'Numbers_With_Equal_Digit_Sum-checkpoint.ipynb', 'Online_Stock_Span(Dynamic_Programming)-checkpoint.ipynb', 'Paint_Fence (Dynammic Programming)-checkpoint.ipynb', 'Preorder_tree_creation-checkpoint.ipynb', 'Prison_Cells_After_N_Days-checkpoint.ipynb', 'Quicksort-checkpoint.ipynb', 'Range_Sum_Query_Immutable(Dynamic Programming)-checkpoint.ipynb', 'Rat_in_Maze-checkpoint.ipynb', 'Remove_k_numbers-checkpoint.ipynb', 'Roman_Integer(String)-checkpoint.ipynb', 'Rotten_Oranges-checkpoint.ipynb', 'SelectionSort-checkpoint.ipynb', 'Self_Dividing_Numbers_Modulo-checkpoint.ipynb', 'Shifting_Letters-checkpoint.ipynb', 'Shortest_Path_directed_Graph-checkpoint.ipynb', 'Single_number_3(Array_XOR)-checkpoint.ipynb', 'Sort_Characters_By_Frequency-checkpoint.ipynb', 'SortedArray_Rotation_min_Binary_Search-checkpoint.ipynb', 'SpiralMatrix-checkpoint.ipynb', 'SpiralMatrix_Generate_2-checkpoint.ipynb', 'TicTacToe-checkpoint.ipynb', 'Trapping_rainwater_Stack-checkpoint.ipynb', 'Tree_Mirror_Check-checkpoint.ipynb', 'Tree_Search-checkpoint.ipynb', 'Tree_traversal-checkpoint.ipynb', 'Trie_Implementation-checkpoint.ipynb', 'Unique_Binary_Search_Trees_Dynnamic_Programming-checkpoint.ipynb', 'ValidateStackOperation-checkpoint.ipynb', 'Vertical_Sum_Tree-checkpoint.ipynb', 'Zigzag_Tree-checkpoint.ipynb', 'ZigZagConversion(String)-checkpoint.ipynb', '3Sum_Array.ipynb', 'Abstract_Class_FindFiles.ipynb', 'Abstract_Classes_sides.ipynb', 'Binary_Search.ipynb', 'Binary_Search_Tree_Iterator_Stack.ipynb', 'Binary_tree_pruning.ipynb', 'Binary_Tree_Vertical_Order_Traversal_BFS.ipynb', 'BreadthFirstSearch.ipynb', 'BST_Check.ipynb', 'BubbleSort.ipynb', 'ClimbingStairs_DynammicProgramming.ipynb', 'Common_ancestor_DFS.ipynb', 'Completeness_BT_BFS.ipynb', 'Construct_BST_SorttedArray_BinarySearch.ipynb', 'Container_With_Most_Water_ Array.ipynb', 'Count _Number_of_Teams(DynammicProgramming).ipynb', 'Count_Anagram_HashTable.ipynb', 'Count_Square_Submatrices_with_All_Ones(Dynammic_Programming).ipynb', 'DepthFirstSearch_Tree.ipynb', 'Knapsack_trial-checkpoint.ipynb', 'LIS_nlogn-checkpoint.ipynb', 'LongestCommonSubsequence-checkpoint.ipynb', 'LongestIncreasingSubsequence_n2-checkpoint.ipynb', 'Ugly_number-checkpoint.ipynb', 'Knapsack_trial.ipynb', 'LIS_nlogn.ipynb', 'LongestCommonSubsequence.ipynb', 'LongestIncreasingSubsequence_n2.ipynb', 'Ugly_number.ipynb', 'Encode_and_Decode_TinyURL(HashTable).ipynb', 'Fibonnaci_Recursion.ipynb', 'Find_Duplicate_Subtrees_DFS_Hashmap.ipynb', 'Find_the_Duplicate_Number_Floyd_hare_tortoise.ipynb', 'First_Missing_Positive.ipynb', 'FirstNonRepeatingCharacter_Hashset.ipynb', 'FloodFill_DFS.ipynb', 'HeapSort.ipynb', 'Height_Tree.ipynb', 'HousePaint_DynamicProgramming.ipynb', 'HouseRobber_DynammicProgramming.ipynb', 'Identical_Tree_DFS.ipynb', 'Inorder_Preorder_Tree_Construction_Array.ipynb', 'Inserted_in_Sorted_LL.ipynb', 'InsertionSort.ipynb', 'Interval_List_Intersections_Array.ipynb', 'Invert_Binary_Tree(Recursive_Interative).ipynb', 'Is_Subsequence_String.ipynb', 'IslandProblem_DynamicProgramming.ipynb', 'K_Distant_Binary_Tree.ipynb', 'Knights_Tour_Prob_Practise.ipynb', 'Knights_Tour_Problem.ipynb', 'Largest_Rectangle_Histogram_Array.ipynb', 'link_list_from_last_cr_mathew.ipynb', 'link_list_stack_cr_mathew.ipynb', 'LinkList Implementation.ipynb', 'LinkList Implementation_mathew.ipynb', 'LinkList_Cycle.ipynb', 'LinkList_intersection.ipynb', 'LinkList_K_fromLast.ipynb', 'LinkList_OddEven.ipynb', 'LinkList_reverse.ipynb', 'LinkList_Stack.ipynb', 'Longest_Palindrome_Substring.ipynb', 'Lowest_Common_Ancestor_DP.ipynb', 'LRU_Cache.ipynb', 'Max_SumLevel.ipynb', 'Max_Width_Tree.ipynb', 'MaxBinaryTree.ipynb', 'Maximum_Sum_Circular_Subarray(Kadane Algorithm).ipynb', 'Median_of_2_Sorted_Array.ipynb', 'MergeSort.ipynb', 'Min_Moves_String_Without_three_Identical_Consecutive_Letters.ipynb', 'MinCostClimbingStair.ipynb', 'Minimum_Window_Substring_String.ipynb', 'Monotonic_Array_All_keyword.ipynb', 'NQueen.ipynb', 'Numbers_With_Equal_Digit_Sum.ipynb', 'Online_Stock_Span(Dynamic_Programming).ipynb', 'Paint_Fence (Dynammic Programming).ipynb', 'Preorder_tree_creation.ipynb', 'Prison_Cells_After_N_Days.ipynb', 'Quicksort.ipynb', 'Range_Sum_Query_Immutable(Dynamic Programming).ipynb', 'Rat_in_Maze.ipynb', 'Remove_k_numbers.ipynb', 'Roman_Integer(String).ipynb', 'Rotten_Oranges.ipynb', 'SelectionSort.ipynb', 'Self_Dividing_Numbers_Modulo.ipynb', 'Shifting_Letters.ipynb', 'Shortest_Path_directed_Graph.ipynb', 'Single_number_3(Array_XOR).ipynb', 'Sort_Characters_By_Frequency.ipynb', 'SortedArray_Rotation_min_Binary_Search.ipynb', 'SpiralMatrix.ipynb', 'SpiralMatrix_Generate_2.ipynb', 'TicTacToe.ipynb', 'Trapping_rainwater_Stack.ipynb', 'Tree_Mirror_Check.ipynb', 'Tree_Search.ipynb', 'Tree_traversal.ipynb', 'Trie_Implementation.ipynb', 'Unique_Binary_Search_Trees_Dynnamic_Programming.ipynb', 'ValidateStackOperation.ipynb', 'Vertical_Sum_Tree.ipynb', 'Zigzag_Tree.ipynb', 'ZigZagConversion(String).ipynb']\n"
     ]
    }
   ],
   "source": [
    "if __name__ == \"__main__\":\n",
    "    f = File()\n",
    "    folder_path = \"/Users/admin/Desktop/Interviews/Leetcode/Implementation\"\n",
    "    fname = FilenameRule()\n",
    "    fextension = FileextensionRule()\n",
    "    print(f.find_file_match(fextension, folder_path, \".ipynb\"))\n",
    "    \n",
    "    "
   ]
  }
 ],
 "metadata": {
  "kernelspec": {
   "display_name": "Python 3",
   "language": "python",
   "name": "python3"
  },
  "language_info": {
   "codemirror_mode": {
    "name": "ipython",
    "version": 3
   },
   "file_extension": ".py",
   "mimetype": "text/x-python",
   "name": "python",
   "nbconvert_exporter": "python",
   "pygments_lexer": "ipython3",
   "version": "3.6.8"
  }
 },
 "nbformat": 4,
 "nbformat_minor": 2
}

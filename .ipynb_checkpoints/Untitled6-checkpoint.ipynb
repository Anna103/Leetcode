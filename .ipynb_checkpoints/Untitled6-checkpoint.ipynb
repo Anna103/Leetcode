{
 "cells": [
  {
   "cell_type": "code",
   "execution_count": 90,
   "metadata": {},
   "outputs": [
    {
     "name": "stdout",
     "output_type": "stream",
     "text": [
      "['900 google.mail.com', '50 yahoo.com', '1 intel.mail.com', '5 wiki.org']\n"
     ]
    }
   ],
   "source": [
    "A=[\"900 google.mail.com\", \"50 yahoo.com\", \"1 intel.mail.com\", \"5 wiki.org\"]\n",
    "print(A)\n"
   ]
  },
  {
   "cell_type": "code",
   "execution_count": 105,
   "metadata": {},
   "outputs": [
    {
     "name": "stdout",
     "output_type": "stream",
     "text": [
      "['900 google.mail.com', '901 mail.com', '951 com', '50 yahoo.com', '1 intel.mail.com', '5 wiki.org', '5 org']\n"
     ]
    }
   ],
   "source": [
    "output=[]\n",
    "D=dict()\n",
    "keysList=[]\n",
    "stringsList=[]\n",
    "for i in range(len(A)):\n",
    "    count,domain=A[i].split(\" \")\n",
    "    count=int(count)\n",
    "    if(domain not in D.keys()):\n",
    "        D[domain]=count\n",
    "    else:\n",
    "        D[domain]+=count\n",
    "    x=domain\n",
    "    for i in range(1,domain.count(\".\")+1):\n",
    "        #print(x.split(\".\", i)[1])\n",
    "        x=x.split(\".\", i)[1]\n",
    "        if(x not in D.keys()):            \n",
    "            D[x]=count\n",
    "        else:\n",
    "            D[x]+=count\n",
    "keyList=list(D.keys())\n",
    "\n",
    "stringsList=list((D.values()))\n",
    "for i in range(len(D)):\n",
    "    y=\"\"\n",
    "    y=str(stringsList[i])+\" \"+keyList[i]\n",
    "    output.append(y)\n",
    "print(output)"
   ]
  },
  {
   "cell_type": "code",
   "execution_count": 76,
   "metadata": {},
   "outputs": [
    {
     "name": "stdout",
     "output_type": "stream",
     "text": [
      "{'discuss.leetcode.com': '9001', 'leetcode.com': '9001', 'com': '9001'}\n"
     ]
    }
   ],
   "source": [
    "print(D)"
   ]
  },
  {
   "cell_type": "code",
   "execution_count": 58,
   "metadata": {},
   "outputs": [
    {
     "name": "stdout",
     "output_type": "stream",
     "text": [
      "2\n",
      "mail.com\n",
      "com\n"
     ]
    }
   ],
   "source": [
    "print(A[0].count(\".\"))\n",
    "x=A[0]\n",
    "for i in range(1,A[0].count(\".\")+1):\n",
    "    print(x.split(\".\", i)[1])\n",
    "    x=x.split(\".\", i)[1]"
   ]
  },
  {
   "cell_type": "code",
   "execution_count": 124,
   "metadata": {},
   "outputs": [
    {
     "name": "stdout",
     "output_type": "stream",
     "text": [
      "s'teL ekat edoCteeL tsetnoc\n"
     ]
    }
   ],
   "source": [
    "Input=\"Let's take LeetCode contest\"\n",
    "x=Input.split()\n",
    "Output=\"\"\n",
    "for i in range(len(Input.split())):\n",
    "    Output=Output+\" \"+''.join(reversed(x[i]))\n",
    "print(Output.strip())"
   ]
  },
  {
   "cell_type": "code",
   "execution_count": 130,
   "metadata": {},
   "outputs": [
    {
     "name": "stdout",
     "output_type": "stream",
     "text": [
      "olh\n"
     ]
    }
   ],
   "source": [
    "s=\"hello\"\n",
    "print(s[len(s)::-1])\n",
    "    "
   ]
  },
  {
   "cell_type": "code",
   "execution_count": 160,
   "metadata": {},
   "outputs": [
    {
     "name": "stdout",
     "output_type": "stream",
     "text": [
      "1\n"
     ]
    }
   ],
   "source": [
    "S = \"okwkpvpmeyvaosdkedbgjogzdpwawwlqpqhozlavlxwvbaakkuhykpjqybiejhfzingnmkxgucufvokzonyhukpwbnkomdianhir\"\n",
    "\n",
    "C = \"s\"\n",
    "x=(S.count(C))\n",
    "print(x)\n",
    "Output=[]"
   ]
  },
  {
   "cell_type": "code",
   "execution_count": 161,
   "metadata": {},
   "outputs": [
    {
     "name": "stdout",
     "output_type": "stream",
     "text": [
      "13 10000\n",
      "0 13 10000 13\n",
      "1 13 10000 12\n",
      "2 13 10000 11\n",
      "3 13 10000 10\n",
      "4 13 10000 9\n",
      "5 13 10000 8\n",
      "6 13 10000 7\n",
      "7 13 10000 6\n",
      "8 13 10000 5\n",
      "9 13 10000 4\n",
      "10 13 10000 3\n",
      "11 13 10000 2\n",
      "12 13 10000 1\n",
      "13 13 10000 0\n",
      "14 13 10000 -1\n",
      "15 13 10000 -2\n",
      "16 13 10000 -3\n",
      "17 13 10000 -4\n",
      "18 13 10000 -5\n",
      "19 13 10000 -6\n",
      "20 13 10000 -7\n",
      "21 13 10000 -8\n",
      "22 13 10000 -9\n",
      "23 13 10000 -10\n",
      "24 13 10000 -11\n",
      "25 13 10000 -12\n",
      "26 13 10000 -13\n",
      "27 13 10000 -14\n",
      "28 13 10000 -15\n",
      "29 13 10000 -16\n",
      "30 13 10000 -17\n",
      "31 13 10000 -18\n",
      "32 13 10000 -19\n",
      "33 13 10000 -20\n",
      "34 13 10000 -21\n",
      "35 13 10000 -22\n",
      "36 13 10000 -23\n",
      "37 13 10000 -24\n",
      "38 13 10000 -25\n",
      "39 13 10000 -26\n",
      "40 13 10000 -27\n",
      "41 13 10000 -28\n",
      "42 13 10000 -29\n",
      "43 13 10000 -30\n",
      "44 13 10000 -31\n",
      "45 13 10000 -32\n",
      "46 13 10000 -33\n",
      "47 13 10000 -34\n",
      "48 13 10000 -35\n",
      "49 13 10000 -36\n",
      "50 13 10000 -37\n",
      "51 13 10000 -38\n",
      "52 13 10000 -39\n",
      "53 13 10000 -40\n",
      "54 13 10000 -41\n",
      "55 13 10000 -42\n",
      "56 13 10000 -43\n",
      "57 13 10000 -44\n",
      "58 13 10000 -45\n",
      "59 13 10000 -46\n",
      "60 13 10000 -47\n",
      "61 13 10000 -48\n",
      "62 13 10000 -49\n",
      "63 13 10000 -50\n",
      "64 13 10000 -51\n",
      "65 13 10000 -52\n",
      "66 13 10000 -53\n",
      "67 13 10000 -54\n",
      "68 13 10000 -55\n",
      "69 13 10000 -56\n",
      "70 13 10000 -57\n",
      "71 13 10000 -58\n",
      "72 13 10000 -59\n",
      "73 13 10000 -60\n",
      "74 13 10000 -61\n",
      "75 13 10000 -62\n",
      "76 13 10000 -63\n",
      "77 13 10000 -64\n",
      "78 13 10000 -65\n",
      "79 13 10000 -66\n",
      "80 13 10000 -67\n",
      "81 13 10000 -68\n",
      "82 13 10000 -69\n",
      "83 13 10000 -70\n",
      "84 13 10000 -71\n",
      "85 13 10000 -72\n",
      "86 13 10000 -73\n",
      "87 13 10000 -74\n",
      "88 13 10000 -75\n",
      "89 13 10000 -76\n",
      "90 13 10000 -77\n",
      "91 13 10000 -78\n",
      "92 13 10000 -79\n",
      "93 13 10000 -80\n",
      "94 13 10000 -81\n",
      "95 13 10000 -82\n",
      "96 13 10000 -83\n",
      "97 13 10000 -84\n",
      "98 13 10000 -85\n",
      "99 13 10000 -86\n",
      "[13, 12, 11, 10, 9, 8, 7, 6, 5, 4, 3, 2, 1, 0, 1, 2, 3, 4, 5, 6, 7, 8, 9, 10, 11, 12, 13, 14, 15, 16, 17, 18, 19, 20, 21, 22, 23, 24, 25, 26, 27, 28, 29, 30, 31, 32, 33, 34, 35, 36, 37, 38, 39, 40, 41, 42, 43, 44, 45, 46, 47, 48, 49, 50, 51, 52, 53, 54, 55, 56, 57, 58, 59, 60, 61, 62, 63, 64, 65, 66, 67, 68, 69, 70, 71, 72, 73, 74, 75, 76, 77, 78, 79, 80, 81, 82, 83, 84, 85, 86]\n"
     ]
    }
   ],
   "source": [
    "n=S.find(C)\n",
    "n1=S.find(C,S.find(C)+1)\n",
    "if(x<2):\n",
    "    n1=10000\n",
    "print(n,n1)\n",
    "x=0\n",
    "for i in range(len(S)):\n",
    "    print(x, n, n1,min((n-x),(n1-x)))\n",
    "    \n",
    "    diff=min(abs(n-x),abs(n1-x))\n",
    "    Output.append(diff)\n",
    "    x+=1\n",
    "    if((n1-x)==min(abs(n-x),abs(n1-x))):\n",
    "        n=n1\n",
    "        n1=S.find(C,n1+1)\n",
    "        \n",
    "print(Output)"
   ]
  },
  {
   "cell_type": "code",
   "execution_count": 199,
   "metadata": {},
   "outputs": [
    {
     "name": "stdout",
     "output_type": "stream",
     "text": [
      "Counter 1 Number 2\n",
      "Counter 2 Number 5\n",
      "Counter 3 Number 6\n",
      "Counter 4 Number 9\n",
      "Counter 5 Number 12\n",
      "Counter 6 Number 15\n",
      "Counter 7 Number 16\n",
      "Counter 8 Number 19\n",
      "Counter 9 Number 20\n",
      "Counter 10 Number 21\n",
      "Counter 11 Number 22\n",
      "Counter 12 Number 25\n",
      "Counter 13 Number 26\n",
      "Counter 14 Number 28\n",
      "Counter 15 Number 29\n",
      "Counter 16 Number 50\n",
      "Counter 17 Number 51\n",
      "Counter 18 Number 52\n",
      "Counter 19 Number 55\n",
      "Counter 20 Number 56\n",
      "Counter 21 Number 58\n",
      "Counter 22 Number 59\n",
      "Counter 23 Number 60\n",
      "Counter 24 Number 61\n",
      "Counter 25 Number 62\n",
      "Counter 26 Number 65\n",
      "Counter 27 Number 66\n",
      "Counter 28 Number 68\n",
      "Counter 29 Number 69\n",
      "Counter 30 Number 82\n",
      "Counter 31 Number 85\n",
      "Counter 32 Number 86\n",
      "Counter 33 Number 89\n",
      "Counter 34 Number 90\n",
      "Counter 35 Number 91\n",
      "Counter 36 Number 92\n",
      "Counter 37 Number 95\n",
      "Counter 38 Number 96\n",
      "Counter 39 Number 98\n",
      "Counter 40 Number 99\n",
      "Counter 41 Number 102\n",
      "Counter 42 Number 105\n",
      "Counter 43 Number 106\n",
      "Counter 44 Number 109\n",
      "Counter 45 Number 112\n",
      "Counter 46 Number 115\n",
      "Counter 47 Number 116\n",
      "Counter 48 Number 119\n",
      "Counter 49 Number 120\n",
      "Counter 50 Number 121\n",
      "Counter 51 Number 122\n",
      "Counter 52 Number 125\n",
      "Counter 53 Number 126\n",
      "Counter 54 Number 128\n",
      "Counter 55 Number 129\n",
      "Counter 56 Number 150\n",
      "Counter 57 Number 151\n",
      "Counter 58 Number 152\n",
      "Counter 59 Number 155\n",
      "Counter 60 Number 156\n",
      "Counter 61 Number 158\n",
      "Counter 62 Number 159\n",
      "Counter 63 Number 160\n",
      "Counter 64 Number 161\n",
      "Counter 65 Number 162\n",
      "Counter 66 Number 165\n",
      "Counter 67 Number 166\n",
      "Counter 68 Number 168\n",
      "Counter 69 Number 169\n",
      "Counter 70 Number 182\n",
      "Counter 71 Number 185\n",
      "Counter 72 Number 186\n",
      "Counter 73 Number 189\n",
      "Counter 74 Number 190\n",
      "Counter 75 Number 191\n",
      "Counter 76 Number 192\n",
      "Counter 77 Number 195\n",
      "Counter 78 Number 196\n",
      "Counter 79 Number 198\n",
      "Counter 80 Number 199\n",
      "Counter 81 Number 200\n",
      "Counter 82 Number 201\n",
      "Counter 83 Number 202\n",
      "Counter 84 Number 205\n",
      "Counter 85 Number 206\n",
      "Counter 86 Number 208\n",
      "Counter 87 Number 209\n",
      "Counter 88 Number 210\n",
      "Counter 89 Number 211\n",
      "Counter 90 Number 212\n",
      "Counter 91 Number 215\n",
      "Counter 92 Number 216\n",
      "Counter 93 Number 218\n",
      "Counter 94 Number 219\n",
      "Counter 95 Number 220\n",
      "Counter 96 Number 221\n",
      "Counter 97 Number 222\n",
      "Counter 98 Number 225\n",
      "Counter 99 Number 226\n",
      "Counter 100 Number 228\n",
      "Counter 101 Number 229\n",
      "Counter 102 Number 250\n",
      "Counter 103 Number 251\n",
      "Counter 104 Number 252\n",
      "Counter 105 Number 255\n",
      "Counter 106 Number 256\n",
      "Counter 107 Number 258\n",
      "Counter 108 Number 259\n",
      "Counter 109 Number 260\n",
      "Counter 110 Number 261\n",
      "Counter 111 Number 262\n",
      "Counter 112 Number 265\n",
      "Counter 113 Number 266\n",
      "Counter 114 Number 268\n",
      "Counter 115 Number 269\n",
      "Counter 116 Number 280\n",
      "Counter 117 Number 281\n",
      "Counter 118 Number 282\n",
      "Counter 119 Number 285\n",
      "Counter 120 Number 286\n",
      "Counter 121 Number 288\n",
      "Counter 122 Number 289\n",
      "Counter 123 Number 290\n",
      "Counter 124 Number 291\n",
      "Counter 125 Number 292\n",
      "Counter 126 Number 295\n",
      "Counter 127 Number 296\n",
      "Counter 128 Number 298\n",
      "Counter 129 Number 299\n",
      "Counter 130 Number 500\n",
      "Counter 131 Number 501\n",
      "Counter 132 Number 502\n",
      "Counter 133 Number 505\n",
      "Counter 134 Number 506\n",
      "Counter 135 Number 508\n",
      "Counter 136 Number 509\n",
      "Counter 137 Number 510\n",
      "Counter 138 Number 511\n",
      "Counter 139 Number 512\n",
      "Counter 140 Number 515\n",
      "Counter 141 Number 516\n",
      "Counter 142 Number 518\n",
      "Counter 143 Number 519\n",
      "Counter 144 Number 520\n",
      "Counter 145 Number 521\n",
      "Counter 146 Number 522\n",
      "Counter 147 Number 525\n",
      "Counter 148 Number 526\n",
      "Counter 149 Number 528\n",
      "Counter 150 Number 529\n",
      "Counter 151 Number 550\n",
      "Counter 152 Number 551\n",
      "Counter 153 Number 552\n",
      "Counter 154 Number 555\n",
      "Counter 155 Number 556\n",
      "Counter 156 Number 558\n",
      "Counter 157 Number 559\n",
      "Counter 158 Number 560\n",
      "Counter 159 Number 561\n",
      "Counter 160 Number 562\n",
      "Counter 161 Number 565\n",
      "Counter 162 Number 566\n",
      "Counter 163 Number 568\n",
      "Counter 164 Number 569\n",
      "Counter 165 Number 580\n",
      "Counter 166 Number 581\n",
      "Counter 167 Number 582\n",
      "Counter 168 Number 585\n",
      "Counter 169 Number 586\n",
      "Counter 170 Number 588\n",
      "Counter 171 Number 589\n",
      "Counter 172 Number 590\n",
      "Counter 173 Number 591\n",
      "Counter 174 Number 592\n",
      "Counter 175 Number 595\n",
      "Counter 176 Number 596\n",
      "Counter 177 Number 598\n",
      "Counter 178 Number 599\n",
      "Counter 179 Number 600\n",
      "Counter 180 Number 601\n",
      "Counter 181 Number 602\n",
      "Counter 182 Number 605\n",
      "Counter 183 Number 606\n",
      "Counter 184 Number 608\n",
      "Counter 185 Number 609\n",
      "Counter 186 Number 610\n",
      "Counter 187 Number 611\n",
      "Counter 188 Number 612\n",
      "Counter 189 Number 615\n",
      "Counter 190 Number 616\n",
      "Counter 191 Number 618\n",
      "Counter 192 Number 619\n",
      "Counter 193 Number 620\n",
      "Counter 194 Number 621\n",
      "Counter 195 Number 622\n",
      "Counter 196 Number 625\n",
      "Counter 197 Number 626\n",
      "Counter 198 Number 628\n",
      "Counter 199 Number 629\n",
      "Counter 200 Number 650\n",
      "Counter 201 Number 651\n",
      "Counter 202 Number 652\n",
      "Counter 203 Number 655\n",
      "Counter 204 Number 656\n",
      "Counter 205 Number 658\n",
      "Counter 206 Number 659\n",
      "Counter 207 Number 660\n",
      "Counter 208 Number 661\n",
      "Counter 209 Number 662\n",
      "Counter 210 Number 665\n",
      "Counter 211 Number 666\n",
      "Counter 212 Number 668\n",
      "Counter 213 Number 669\n",
      "Counter 214 Number 680\n",
      "Counter 215 Number 681\n",
      "Counter 216 Number 682\n",
      "Counter 217 Number 685\n",
      "Counter 218 Number 686\n",
      "Counter 219 Number 688\n",
      "Counter 220 Number 689\n",
      "Counter 221 Number 690\n",
      "Counter 222 Number 691\n",
      "Counter 223 Number 692\n",
      "Counter 224 Number 695\n",
      "Counter 225 Number 696\n",
      "Counter 226 Number 698\n",
      "Counter 227 Number 699\n",
      "Counter 228 Number 802\n",
      "Counter 229 Number 805\n",
      "Counter 230 Number 806\n",
      "Counter 231 Number 809\n",
      "Counter 232 Number 812\n",
      "Counter 233 Number 815\n",
      "Counter 234 Number 816\n",
      "Counter 235 Number 819\n",
      "Counter 236 Number 820\n",
      "Counter 237 Number 821\n",
      "Counter 238 Number 822\n",
      "Counter 239 Number 825\n",
      "Counter 240 Number 826\n",
      "Counter 241 Number 828\n",
      "Counter 242 Number 829\n",
      "Counter 243 Number 850\n",
      "Counter 244 Number 851\n",
      "Counter 245 Number 852\n",
      "Counter 246 Number 855\n",
      "Counter 247 Number 856\n",
      "247\n"
     ]
    }
   ],
   "source": [
    "Input=857\n",
    "L=[3,4,7]\n",
    "counter=0\n",
    "for i in range(1,Input+1):\n",
    "    n=i\n",
    "    #print(\"I\",i)\n",
    "    newnumber=\"\"\n",
    "    while(n > 0):\n",
    "        \n",
    "        x=n%10\n",
    "        #print(\"X\",x)\n",
    "        if(x not in L):\n",
    "            if(x==2):\n",
    "                newnumber='5'+newnumber\n",
    "            elif(x==5):\n",
    "                newnumber='2'+newnumber\n",
    "            elif(x==6):\n",
    "                newnumber='9'+newnumber\n",
    "            elif(x==9):\n",
    "                newnumber='6'+newnumber\n",
    "            else:\n",
    "                newnumber=str(x)+newnumber\n",
    "            n=int(n/10)\n",
    "        else:\n",
    "            #print(\"b\",i)\n",
    "            newnumber=\"\"\n",
    "            break\n",
    "    #print(\"newnumber\",newnumber, \"i\", i)\n",
    "    if((newnumber)!=str(i) and newnumber != \"\"):\n",
    "        counter+=1\n",
    "        print(\"Counter\",counter, \"Number\", i)\n",
    "        \n",
    "print(counter)\n",
    "            \n",
    "            \n",
    "    "
   ]
  },
  {
   "cell_type": "code",
   "execution_count": 217,
   "metadata": {},
   "outputs": [
    {
     "name": "stdout",
     "output_type": "stream",
     "text": [
      "2\n"
     ]
    }
   ],
   "source": [
    "Input=5\n",
    "y=((bin(Input))[2:len(bin(Input)):1])\n",
    "x=\"\"\n",
    "for i in range(len(y)):\n",
    "     x=\"1\"+x\n",
    "z=str((int(x)-int(y)))\n",
    "print(int(z,2))"
   ]
  },
  {
   "cell_type": "code",
   "execution_count": 218,
   "metadata": {},
   "outputs": [
    {
     "ename": "IndentationError",
     "evalue": "unexpected indent (<ipython-input-218-4c34bdbbe24a>, line 3)",
     "output_type": "error",
     "traceback": [
      "\u001b[0;36m  File \u001b[0;32m\"<ipython-input-218-4c34bdbbe24a>\"\u001b[0;36m, line \u001b[0;32m3\u001b[0m\n\u001b[0;31m    if(len(A)==1):\u001b[0m\n\u001b[0m    ^\u001b[0m\n\u001b[0;31mIndentationError\u001b[0m\u001b[0;31m:\u001b[0m unexpected indent\n"
     ]
    }
   ],
   "source": [
    "Input=[6,5,4,4]\n",
    "ret=True\n",
    "if(len(A)==1):\n",
    "    return True\n",
    "stop=0\n",
    "y=0\n",
    "while(stop!=1):\n",
    "    if(A[y]<A[y+1]):\n",
    "        id=\"I\"\n",
    "        stop=1\n",
    "    elif(A[y]<A[y+1]):\n",
    "        id=\"D\"\n",
    "        stop=1\n",
    "    else:\n",
    "        y+=1\n",
    "        print(id)\n",
    "        x=0\n",
    "        if(id==\"I\"):\n",
    "            for i in range(len(A)-1):\n",
    "                print(A[i] ,A[i+1])\n",
    "                if(A[i] > A[i+1]):\n",
    "                    x=-1\n",
    "                    return False\n",
    "        elif(id==\"D\"):\n",
    "            for i in range(len(A)-1):\n",
    "                if(A[i] < A[i+1]):\n",
    "                    x=-1\n",
    "                    return False\n",
    "        if(x==0):\n",
    "            return True\n",
    "            "
   ]
  },
  {
   "cell_type": "code",
   "execution_count": 262,
   "metadata": {},
   "outputs": [
    {
     "name": "stdout",
     "output_type": "stream",
     "text": [
      "True\n",
      "1\n",
      "False\n"
     ]
    }
   ],
   "source": [
    "Input=[6,6,6]\n",
    "x=0\n",
    "id=\"\"\n",
    "if(len(Input)==1):\n",
    "    print(True)\n",
    "else:\n",
    "    while((x)<(len(Input)) or Input[x]!=Input[x+1]):\n",
    "        if(Input[x]<Input[x+1]): \n",
    "            id=\"I\"\n",
    "            break\n",
    "        if(Input[x]>Input[x+1]):\n",
    "            id=\"D\"\n",
    "            break\n",
    "        if(x+1==len(Input)-1):\n",
    "            print(True)\n",
    "            break\n",
    "        x+=1\n",
    "print(x)\n",
    "\n",
    "x1=0\n",
    "while((Input[x1]<=Input[x1+1] and id==\"I\") or ((Input[x1]>=Input[x1+1] and id==\"D\"))):\n",
    "    print(\"X\",x1)\n",
    "    x1+=1\n",
    "    if(x1==len(Input)-1):\n",
    "        break\n",
    "if(x1==len(Input)-1):\n",
    "    print(True)\n",
    "else:\n",
    "    print(False)"
   ]
  },
  {
   "cell_type": "code",
   "execution_count": 278,
   "metadata": {},
   "outputs": [],
   "source": [
    "words=[\"Hello\", \"Alaska\", \"Dad\", \"Peace\"]\n",
    "Input=[x.lower() for x in words]"
   ]
  },
  {
   "cell_type": "code",
   "execution_count": 279,
   "metadata": {},
   "outputs": [],
   "source": [
    "up=['q','w','e','r','t','y','u','i','o','p']\n",
    "mid=['a','s','d','f','g','h','j','k','l']\n",
    "bo=['z','x','c','v','b','n','m']"
   ]
  },
  {
   "cell_type": "code",
   "execution_count": 280,
   "metadata": {},
   "outputs": [],
   "source": [
    "Output=[]"
   ]
  },
  {
   "cell_type": "code",
   "execution_count": 281,
   "metadata": {},
   "outputs": [
    {
     "name": "stdout",
     "output_type": "stream",
     "text": [
      "['Alaska', 'Dad']\n"
     ]
    }
   ],
   "source": [
    "        for i in range(len(Input)):\n",
    "            o=0\n",
    "            if(Input[i][0] in up):\n",
    "                check = \"u\"\n",
    "            elif(Input[i][0] in mid):\n",
    "                check = \"m\"\n",
    "            else:\n",
    "                check = \"b\"\n",
    "            if(check==\"u\"):\n",
    "                for j in range(len(Input[i])):\n",
    "                    if(Input[i][j] not in up):\n",
    "                        o=1\n",
    "                        break\n",
    "                if(o==0):\n",
    "                    Output.append(words[i])\n",
    "            elif(check==\"m\"):\n",
    "                for j in range(len(Input[i])):\n",
    "                    if(Input[i][j] not in mid):\n",
    "                        o=1\n",
    "                        break\n",
    "                if(o==0):\n",
    "                    Output.append(words[i])\n",
    "            else:\n",
    "                for j in range(len(Input[i])):\n",
    "                    if(Input[i][j] not in bo):\n",
    "                        o=1\n",
    "                        break\n",
    "                if(o==0):\n",
    "                    Output.append(words[i])\n",
    "        print(Output)      \n",
    "    "
   ]
  },
  {
   "cell_type": "code",
   "execution_count": 304,
   "metadata": {},
   "outputs": [],
   "source": [
    "Input= [\"a\",\"aaa\",\"bac\",\"bca\",\"cab\",\"cba\"]"
   ]
  },
  {
   "cell_type": "code",
   "execution_count": 364,
   "metadata": {},
   "outputs": [
    {
     "name": "stdout",
     "output_type": "stream",
     "text": [
      "8\n"
     ]
    }
   ],
   "source": [
    "grid = [[3,0,8,4],[2,4,5,7],[9,2,6,3],[0,3,1,0]]\n",
    "lr=[]\n",
    "tb=[]\n",
    "print(max(grid[0]))"
   ]
  },
  {
   "cell_type": "code",
   "execution_count": 365,
   "metadata": {},
   "outputs": [],
   "source": [
    "for i in range(len(grid)):\n",
    "    lr.append(max(grid[i]))"
   ]
  },
  {
   "cell_type": "code",
   "execution_count": 366,
   "metadata": {},
   "outputs": [
    {
     "name": "stdout",
     "output_type": "stream",
     "text": [
      "[8, 7, 9, 3]\n"
     ]
    }
   ],
   "source": [
    "print(lr)"
   ]
  },
  {
   "cell_type": "code",
   "execution_count": 367,
   "metadata": {},
   "outputs": [
    {
     "name": "stdout",
     "output_type": "stream",
     "text": [
      "[9, 4, 8, 7]\n"
     ]
    }
   ],
   "source": [
    "for i in range(len(grid[0])):\n",
    "    newL=[]\n",
    "    for j in range(len(grid)):\n",
    "        newL.append(grid[j][i])\n",
    "    tb.append(max(newL))\n",
    "print(tb)"
   ]
  },
  {
   "cell_type": "code",
   "execution_count": 368,
   "metadata": {},
   "outputs": [
    {
     "name": "stdout",
     "output_type": "stream",
     "text": [
      "[[8, 4, 8, 7], [7, 4, 7, 7], [9, 4, 8, 7], [3, 3, 3, 3]]\n",
      "35\n"
     ]
    }
   ],
   "source": [
    "newGrid=[[0 for x in range(len(grid))] for y in range(len(grid[0]))] \n",
    "sum=0\n",
    "for i in range(len(lr)):\n",
    "    for j in range(len(tb)):\n",
    "        newGrid[i][j]=(max(grid[i][j],(min(tb[j],lr[i]))))\n",
    "        sum+=abs(grid[i][j]-newGrid[i][j])\n",
    "print(newGrid)\n",
    "print(sum)\n",
    "        "
   ]
  },
  {
   "cell_type": "code",
   "execution_count": 17,
   "metadata": {},
   "outputs": [],
   "source": [
    "matrix = [[1,2,3,9],[5,1,4,3],[9,5,1,2]]"
   ]
  },
  {
   "cell_type": "code",
   "execution_count": 18,
   "metadata": {},
   "outputs": [
    {
     "name": "stdout",
     "output_type": "stream",
     "text": [
      "False\n"
     ]
    }
   ],
   "source": [
    "for i in range(0,len(matrix)):\n",
    "    for j in range(0,len(matrix[0])):\n",
    "        if(i<len(matrix)-1 and j < len(matrix[0])-1):\n",
    "            if((matrix[i][j]==matrix[i+1][j+1])):\n",
    "                x=\"True\"\n",
    "            else:\n",
    "                x=\"False\"\n",
    "print(x)\n",
    "            "
   ]
  },
  {
   "cell_type": "code",
   "execution_count": 42,
   "metadata": {},
   "outputs": [
    {
     "name": "stdout",
     "output_type": "stream",
     "text": [
      "['apple', 'apple']\n",
      "['banana']\n"
     ]
    }
   ],
   "source": [
    "A = \"apple apple\"\n",
    "\n",
    "A1=list(A.split())\n",
    "print(A1)\n",
    "B = \"banana\"\n",
    "B1=list(B.split())\n",
    "print(B1)\n",
    "C=[]"
   ]
  },
  {
   "cell_type": "code",
   "execution_count": 41,
   "metadata": {},
   "outputs": [
    {
     "name": "stdout",
     "output_type": "stream",
     "text": [
      "['sweet', 'sour']\n"
     ]
    }
   ],
   "source": [
    "while(len(A1)>0):\n",
    "    if(A1[i] not in A1[i+1:]):\n",
    "        if(A1[i] not in B1):\n",
    "            C.append(A1[i])\n",
    "        \n",
    "    else:\n",
    "        A1.remove(A1[i])\n",
    "while(len(B)>0):\n",
    "    if(B1[i] not in B1[i+1:]):\n",
    "        if(B1[i] not in A1):\n",
    "            C.append(B1[i])\n",
    "print(C)\n",
    "        "
   ]
  },
  {
   "cell_type": "code",
   "execution_count": null,
   "metadata": {},
   "outputs": [],
   "source": []
  },
  {
   "cell_type": "code",
   "execution_count": null,
   "metadata": {},
   "outputs": [],
   "source": []
  }
 ],
 "metadata": {
  "kernelspec": {
   "display_name": "Python 3",
   "language": "python",
   "name": "python3"
  },
  "language_info": {
   "codemirror_mode": {
    "name": "ipython",
    "version": 3
   },
   "file_extension": ".py",
   "mimetype": "text/x-python",
   "name": "python",
   "nbconvert_exporter": "python",
   "pygments_lexer": "ipython3",
   "version": "3.6.5"
  }
 },
 "nbformat": 4,
 "nbformat_minor": 2
}

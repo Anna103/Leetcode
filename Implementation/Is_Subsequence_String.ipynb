{
 "cells": [
  {
   "cell_type": "code",
   "execution_count": 1,
   "metadata": {},
   "outputs": [
    {
     "data": {
      "text/plain": [
       "'Given a string s and a string t, check if s is subsequence of t.\\n\\nYou may assume that there is only lower case English letters in both s and t. t is potentially a very long (length ~= 500,000) string, and s is a short string (<=100).\\n\\nA subsequence of a string is a new string which is formed from the original string by deleting some (can be none) of the characters without disturbing the relative positions of the remaining characters. (ie, \"ace\" is a subsequence of \"abcde\" while \"aec\" is not).\\n\\n\\n\\nExample 1:\\ns = \"abc\", t = \"ahbgdc\"\\n\\nReturn true.'"
      ]
     },
     "execution_count": 1,
     "metadata": {},
     "output_type": "execute_result"
    }
   ],
   "source": [
    "\"\"\"Given a string s and a string t, check if s is subsequence of t.\n",
    "\n",
    "You may assume that there is only lower case English letters in both s and t. \n",
    "t is potentially a very long (length ~= 500,000) string, and s is a short string (<=100).\n",
    "\n",
    "A subsequence of a string is a new string which is formed from the original string by deleting some \n",
    "(can be none) of the characters without disturbing the relative positions of the remaining characters.\n",
    "(ie, \"ace\" is a subsequence of \"abcde\" while \"aec\" is not).\n",
    "\n",
    "\n",
    "\n",
    "Example 1:\n",
    "s = \"abc\", t = \"ahbgdc\"\n",
    "\n",
    "Return true.\"\"\"\n",
    "\n",
    "\n",
    "# Algorithm\n",
    "# 1. Create 2 pointers, 1 for substring and another for main string\n",
    "# 2. Increase point of substring if current substring char and main char is same"
   ]
  },
  {
   "cell_type": "code",
   "execution_count": 3,
   "metadata": {},
   "outputs": [],
   "source": [
    "class Solution:\n",
    "    def isSubsequence(self, s, t):\n",
    "        s_pointer = 0\n",
    "        t_pointer = 0\n",
    "        if(len(t) == 0 and len(s)==0):\n",
    "            return True\n",
    "        elif(len(t) == 0):\n",
    "            return False\n",
    "        elif(len(s) == 0):\n",
    "            return True\n",
    "        else:\n",
    "            for t_pointer in range(len(t)):\n",
    "                if(s[s_pointer] == t[t_pointer]):\n",
    "                    s_pointer += 1\n",
    "                if(s_pointer == len(s)):\n",
    "                    return True\n",
    "            return False\n",
    "                \n",
    "        "
   ]
  },
  {
   "cell_type": "code",
   "execution_count": 4,
   "metadata": {},
   "outputs": [
    {
     "name": "stdout",
     "output_type": "stream",
     "text": [
      "True\n"
     ]
    }
   ],
   "source": [
    "if __name__ == \"__main__\":\n",
    "    s = \"abc\"\n",
    "    t = \"ahbgdc\"\n",
    "    d = Solution()\n",
    "    print(d.isSubsequence(s, t))"
   ]
  }
 ],
 "metadata": {
  "kernelspec": {
   "display_name": "Python 3",
   "language": "python",
   "name": "python3"
  },
  "language_info": {
   "codemirror_mode": {
    "name": "ipython",
    "version": 3
   },
   "file_extension": ".py",
   "mimetype": "text/x-python",
   "name": "python",
   "nbconvert_exporter": "python",
   "pygments_lexer": "ipython3",
   "version": "3.6.8"
  }
 },
 "nbformat": 4,
 "nbformat_minor": 2
}

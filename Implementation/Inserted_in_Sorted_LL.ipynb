{
 "cells": [
  {
   "cell_type": "code",
   "execution_count": 66,
   "metadata": {},
   "outputs": [],
   "source": [
    "# Insert into sorted link list\n",
    "\n",
    "#Display a link list\n",
    "#if head == None; then print Nothing\n",
    "#else temp = self.head while temp != None; print temp ; temp = temp.nextnode\n",
    "\n",
    "# insert in sorted link list\n",
    "# Algorithm\n",
    "# 1. Check if head is None, if yes Head is new node\n",
    "# 2. Create smaller counter pointing to head\n",
    "# 3. if smaller counter.next is null, it mean it has just one element; Check if new node is smaller than smaller node;\n",
    "#      new node.next = smaller count; else smaller count.next = new node \n",
    "# 4. Create larger counter that points to smaller count.next.\n",
    "# 5. check if new node is between smaller node and larger node; if yes smaller.next node is new node, new node.next = larger node\n",
    "# 6. else smaller node = larger node; larger node is larger.next\n",
    "\n",
    "\n",
    "#Create a node with data and next value pointer\n",
    "class Node:\n",
    "    def __init__(self, data = None):\n",
    "        self.data = data\n",
    "        self.next_node = None\n",
    "        "
   ]
  },
  {
   "cell_type": "code",
   "execution_count": 195,
   "metadata": {},
   "outputs": [],
   "source": [
    "#Holds functions for creating, displaying and inserting into a link list \n",
    "class LinkList:\n",
    "    #Constructor for linklist, initialse head of linklist to nothing\n",
    "    def __init__(self):\n",
    "        self.head = None\n",
    "    \n",
    "    def display_ll(self):\n",
    "        if(self.head == None):\n",
    "            print(\"Nothing to print\")\n",
    "        else:\n",
    "            temp = self.head\n",
    "            while(temp!=None):\n",
    "                print(temp.data)\n",
    "                temp = temp.next_node\n",
    "        \n",
    "    # Inserts nodes in sorted fashion\n",
    "    def insert_linklist(self, data):\n",
    "        \n",
    "        #If the link list doesnt contain any data, new node becomes the head\n",
    "        #If link list contains only one element, sort both and arrange the link list\n",
    "        \n",
    "        \n",
    "        new_data = Node(data)\n",
    "        #Non element in Link List\n",
    "        if(self.head == None):\n",
    "            self.head = new_data\n",
    "        else:\n",
    "            smaller_counter = self.head\n",
    "            #Just one element in Link List\n",
    "            if(smaller_counter.next_node == None):\n",
    "                if(new_data.data > smaller_counter.data):\n",
    "                    smaller_counter.next_node = new_data\n",
    "                else:\n",
    "                    new_data.next_node = smaller_counter\n",
    "                    self.head = new_data \n",
    "            else:        \n",
    "                larger_counter = smaller_counter.next_node\n",
    "                 \n",
    "                while(larger_counter):\n",
    "                    if(new_data.data < larger_counter.data and new_data.data > smaller_counter.data):\n",
    "                        new_data.next_node = larger_counter\n",
    "                        smaller_counter.next_node = new_data\n",
    "                        return\n",
    "                    else:\n",
    "                        #Check if its the last node\n",
    "                        if(larger_counter.next_node!= None):\n",
    "                            smaller_counter = smaller_counter.next_node\n",
    "                            larger_counter = larger_counter.next_node\n",
    "                        else:\n",
    "                            smaller_counter = larger_counter\n",
    "                            smaller_counter.next_node = new_data\n",
    "                            return\n",
    "                \n",
    "                    \n",
    "\n",
    "        "
   ]
  },
  {
   "cell_type": "code",
   "execution_count": 197,
   "metadata": {},
   "outputs": [
    {
     "name": "stdout",
     "output_type": "stream",
     "text": [
      "1\n",
      "1.5\n",
      "2\n",
      "3\n",
      "4\n",
      "5\n",
      "10\n"
     ]
    }
   ],
   "source": [
    "if __name__ == \"__main__\":\n",
    "    llist = LinkList()\n",
    "    llist.head = Node(1)  \n",
    "    llist.insert_linklist(2)\n",
    "    llist.insert_linklist(1.5)\n",
    "    llist.insert_linklist(3)\n",
    "    llist.insert_linklist(5)\n",
    "    llist.insert_linklist(10)\n",
    "    llist.insert_linklist(4)\n",
    "    \n",
    "    \n",
    "    llist.display_ll()"
   ]
  },
  {
   "cell_type": "code",
   "execution_count": null,
   "metadata": {},
   "outputs": [],
   "source": []
  }
 ],
 "metadata": {
  "kernelspec": {
   "display_name": "Python 3",
   "language": "python",
   "name": "python3"
  },
  "language_info": {
   "codemirror_mode": {
    "name": "ipython",
    "version": 3
   },
   "file_extension": ".py",
   "mimetype": "text/x-python",
   "name": "python",
   "nbconvert_exporter": "python",
   "pygments_lexer": "ipython3",
   "version": "3.6.8"
  }
 },
 "nbformat": 4,
 "nbformat_minor": 2
}

{
 "cells": [
  {
   "cell_type": "code",
   "execution_count": 19,
   "metadata": {},
   "outputs": [],
   "source": [
    "# This method takes element in the list one by one and replace it with the\n",
    "# min value in the remainder of the list\n",
    "# this was we get a sorted list\n",
    "# TIME COMPLEXITY IS N\n",
    "\n",
    "class Solution:\n",
    "    \n",
    "    def selectionsort(self, nums):\n",
    "        i = 0\n",
    "        \n",
    "        while(i < len(nums)):\n",
    "            min_val = nums[i]\n",
    "            for j in range(i+1,len(nums)):\n",
    "                if(min_val > nums[j]):\n",
    "                    tem = nums[j]\n",
    "                    nums[j] = nums[i]\n",
    "                    nums[i] = tem\n",
    "                    min_val = tem\n",
    "            i += 1\n",
    "        print(nums)"
   ]
  },
  {
   "cell_type": "code",
   "execution_count": 22,
   "metadata": {},
   "outputs": [
    {
     "name": "stdout",
     "output_type": "stream",
     "text": [
      "[-1, 0, 2, 4, 8, 9, 200]\n"
     ]
    }
   ],
   "source": [
    "if __name__ == \"__main__\":\n",
    "    nums = [9,-1,8,0,4,2,200]\n",
    "    s = Solution()\n",
    "    s.selectionsort(nums)"
   ]
  }
 ],
 "metadata": {
  "kernelspec": {
   "display_name": "Python 3",
   "language": "python",
   "name": "python3"
  },
  "language_info": {
   "codemirror_mode": {
    "name": "ipython",
    "version": 3
   },
   "file_extension": ".py",
   "mimetype": "text/x-python",
   "name": "python",
   "nbconvert_exporter": "python",
   "pygments_lexer": "ipython3",
   "version": "3.6.8"
  }
 },
 "nbformat": 4,
 "nbformat_minor": 2
}

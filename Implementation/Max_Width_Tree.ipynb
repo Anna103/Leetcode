{
 "cells": [
  {
   "cell_type": "code",
   "execution_count": 1,
   "metadata": {},
   "outputs": [],
   "source": [
    "class Tree:\n",
    "    \n",
    "    def __init__(self,data):\n",
    "        self.data = data\n",
    "        self.left = None\n",
    "        self.right = None\n"
   ]
  },
  {
   "cell_type": "code",
   "execution_count": 7,
   "metadata": {},
   "outputs": [],
   "source": [
    "class MaxWidth:\n",
    "    \n",
    "    def width(root):\n",
    "        if(root == None):\n",
    "            return None\n",
    "        else:\n",
    "            nodes_visited = [root]\n",
    "            next_nodes = []\n",
    "            dict_width = {1:1}\n",
    "            i = 1\n",
    "            while(len(nodes_visited) > 0):\n",
    "                current_node = nodes_visited.pop()\n",
    "                if(current_node.left):\n",
    "                    next_nodes.append(current_node.left)\n",
    "                if(current_node.right):\n",
    "                    next_nodes.append(current_node.right)\n",
    "                if(len(nodes_visited) == 0):\n",
    "                    i += 1\n",
    "                    dict_width[i] = len(next_nodes)\n",
    "                    next_nodes, nodes_visited = nodes_visited, next_nodes\n",
    "            return dict_width"
   ]
  },
  {
   "cell_type": "code",
   "execution_count": 10,
   "metadata": {},
   "outputs": [
    {
     "name": "stdout",
     "output_type": "stream",
     "text": [
      "{1: 1, 2: 2, 3: 3, 4: 0}\n"
     ]
    }
   ],
   "source": [
    "if __name__ == '__main__':\n",
    "    root = Tree(1)\n",
    "    root.left = Tree(2)\n",
    "    root.right = Tree(3)\n",
    "    root.left.left = Tree(4)\n",
    "    root.left.right = Tree(5)\n",
    "    #root.right.left = Tree(6)\n",
    "    root.right.right = Tree(7)\n",
    "    print(MaxWidth.width(root))"
   ]
  }
 ],
 "metadata": {
  "kernelspec": {
   "display_name": "Python 3",
   "language": "python",
   "name": "python3"
  },
  "language_info": {
   "codemirror_mode": {
    "name": "ipython",
    "version": 3
   },
   "file_extension": ".py",
   "mimetype": "text/x-python",
   "name": "python",
   "nbconvert_exporter": "python",
   "pygments_lexer": "ipython3",
   "version": "3.6.8"
  }
 },
 "nbformat": 4,
 "nbformat_minor": 2
}

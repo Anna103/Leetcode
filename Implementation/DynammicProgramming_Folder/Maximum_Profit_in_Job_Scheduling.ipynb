{
 "cells": [
  {
   "cell_type": "code",
   "execution_count": null,
   "metadata": {},
   "outputs": [],
   "source": [
    "\"\"\"\n",
    "We have n jobs, where every job is scheduled to be done from startTime[i] to endTime[i], \n",
    "obtaining a profit of profit[i].\n",
    "\n",
    "You're given the startTime , endTime and profit arrays, you need to output the maximum profit\n",
    "you can take such that there are no 2 jobs in the subset with overlapping time range.\n",
    "\n",
    "If you choose a job that ends at time X you will be able to start another job that starts at time X.\n",
    "\n",
    " \n",
    "\n",
    "Example 1:\n",
    "\n",
    "\n",
    "\n",
    "Input: startTime = [1,2,3,3], endTime = [3,4,5,6], profit = [50,10,40,70]\n",
    "Output: 120\n",
    "Explanation: The subset chosen is the first and fourth job. \n",
    "Time range [1-3]+[3-6] , we get profit of 120 = 50 + 70.\n",
    "\"\"\"\n",
    "\n",
    "# Algorithm\n",
    "# 1. Sort the start, end and profit after zipping and sorting\n",
    "# 2. create a dp array of size of start \n",
    "# 3. dp[-1] = profit[-1]\n",
    "# 4. run loop from behind leaving the last profit(i)\n",
    "    # 5. j = bisect.bisect_left(start, end[i])\n",
    "    # 6. dp[i] = max(dp[i+1, profit[i]+dp[j] if j <n else profit[i]])\n",
    "# return dp[0]"
   ]
  },
  {
   "cell_type": "code",
   "execution_count": 21,
   "metadata": {},
   "outputs": [],
   "source": [
    "import bisect\n",
    "class Solution:\n",
    "    \n",
    "    def max_profit(self, starttime, endtime, profit):\n",
    "        n = len(starttime)\n",
    "        starttime, endtime, profit = (list(x) for x in zip(*sorted(zip(starttime, endtime, profit))))\n",
    "        dp = [0] * n\n",
    "        dp[-1] = profit[-1]\n",
    "        for i in range(n-2, -1, -1):\n",
    "            j = bisect.bisect_left(starttime, endtime[i])\n",
    "            dp[i] = max(profit[i] + dp[j] if j < n else profit[i], dp[i+1])\n",
    "        return dp[0]\n",
    "        \n"
   ]
  },
  {
   "cell_type": "code",
   "execution_count": 23,
   "metadata": {},
   "outputs": [
    {
     "name": "stdout",
     "output_type": "stream",
     "text": [
      "150\n"
     ]
    }
   ],
   "source": [
    "if __name__ == \"__main__\":\n",
    "    s = Solution()\n",
    "    startTime = [1,2,3,4,6]\n",
    "    endTime = [3,5,10,6,9]\n",
    "    profit = [20,20,100,70,60]\n",
    "    print(s.max_profit(startTime, endTime, profit))"
   ]
  }
 ],
 "metadata": {
  "kernelspec": {
   "display_name": "Python 3",
   "language": "python",
   "name": "python3"
  },
  "language_info": {
   "codemirror_mode": {
    "name": "ipython",
    "version": 3
   },
   "file_extension": ".py",
   "mimetype": "text/x-python",
   "name": "python",
   "nbconvert_exporter": "python",
   "pygments_lexer": "ipython3",
   "version": "3.6.8"
  }
 },
 "nbformat": 4,
 "nbformat_minor": 2
}

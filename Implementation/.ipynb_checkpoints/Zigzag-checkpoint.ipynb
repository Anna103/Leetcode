{
 "cells": [
  {
   "cell_type": "code",
   "execution_count": 29,
   "metadata": {},
   "outputs": [],
   "source": [
    "class Node:\n",
    "    \n",
    "    def __init__(self, data):\n",
    "        self.data = data\n",
    "        self.next = None"
   ]
  },
  {
   "cell_type": "code",
   "execution_count": 30,
   "metadata": {},
   "outputs": [],
   "source": [
    "class Tree:\n",
    "    \n",
    "    def __init__(self, data):\n",
    "        self.data = data\n",
    "        self.left = None\n",
    "        self.right = None\n",
    "    "
   ]
  },
  {
   "cell_type": "code",
   "execution_count": 31,
   "metadata": {},
   "outputs": [],
   "source": [
    "class Queue:\n",
    "    \n",
    "    def __init__(self):\n",
    "        self.front = None\n",
    "        self.rear = None\n",
    "        \n",
    "    def enqueue(self, data):\n",
    "        new_data = Node(data)\n",
    "        \n",
    "        if self.front == self.rear == None:\n",
    "            self.front = self.rear = new_data\n",
    "        else:\n",
    "            # first old_rear.next  is pointed to new data\n",
    "            # then point rear to new data\n",
    "            self.rear.next = new_data\n",
    "            self.rear = new_data\n",
    "    \n",
    "    def peek(self):\n",
    "        front_element = self.front\n",
    "        rear_element = self.rear\n",
    "        while(front_element):\n",
    "            print(front_element.data)\n",
    "            front_element = front_element.next"
   ]
  },
  {
   "cell_type": "code",
   "execution_count": 172,
   "metadata": {},
   "outputs": [],
   "source": [
    "class traveseZigZag:\n",
    "    \n",
    "    def zigzag(root):\n",
    "        zigzag_q = Queue()\n",
    "        nodes_visited = [root]\n",
    "        next_node_visit = []\n",
    "\n",
    "        # to change the direction\n",
    "        # True mean trsverse Left to right\n",
    "        \n",
    "        turn = True\n",
    "        while len(nodes_visited) != 0:\n",
    "            root = nodes_visited.pop()\n",
    "            print(\"Root\",root.data)\n",
    "            zigzag_q.enqueue(root.data)\n",
    "            if turn:\n",
    "                if root.left:\n",
    "                    next_node_visit.append(root.left)\n",
    "                if root.left:\n",
    "                    next_node_visit.append(root.right)\n",
    "                \n",
    "            else:\n",
    "                \n",
    "                if root.right:\n",
    "                    next_node_visit.append(root.right)\n",
    "                if root.left:\n",
    "                    next_node_visit.append(root.left)\n",
    "                \n",
    "            if(len(nodes_visited) == 0):\n",
    "                nodes_visited, next_node_visit = next_node_visit , nodes_visited\n",
    "                turn = not turn\n",
    "            \n",
    "    \n",
    "                \n",
    "                \n",
    "            \n",
    "                \n",
    "            \n",
    "        \n",
    "        return(zigzag_q)"
   ]
  },
  {
   "cell_type": "code",
   "execution_count": 173,
   "metadata": {},
   "outputs": [
    {
     "name": "stdout",
     "output_type": "stream",
     "text": [
      "Root 1\n",
      "Root 3\n",
      "Root 2\n",
      "Root 4\n",
      "Root 5\n",
      "Root 6\n",
      "Root 7\n",
      "******\n",
      "1\n",
      "3\n",
      "2\n",
      "4\n",
      "5\n",
      "6\n",
      "7\n"
     ]
    }
   ],
   "source": [
    "if __name__ == \"__main__\":\n",
    "    root = Tree(1)\n",
    "    root.left = Tree(2)\n",
    "    root.right = Tree(3)\n",
    "    root.left.left = Tree(4)\n",
    "    root.left.right = Tree(5)\n",
    "    root.right.left = Tree(6)\n",
    "    root.right.right = Tree(7)\n",
    "    Q = traveseZigZag.zigzag(root)\n",
    "    print(\"******\")\n",
    "    Q.peek()"
   ]
  }
 ],
 "metadata": {
  "kernelspec": {
   "display_name": "Python 3",
   "language": "python",
   "name": "python3"
  },
  "language_info": {
   "codemirror_mode": {
    "name": "ipython",
    "version": 3
   },
   "file_extension": ".py",
   "mimetype": "text/x-python",
   "name": "python",
   "nbconvert_exporter": "python",
   "pygments_lexer": "ipython3",
   "version": "3.6.8"
  }
 },
 "nbformat": 4,
 "nbformat_minor": 2
}

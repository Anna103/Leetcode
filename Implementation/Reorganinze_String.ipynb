{
 "cells": [
  {
   "cell_type": "code",
   "execution_count": 1,
   "metadata": {},
   "outputs": [
    {
     "data": {
      "text/plain": [
       "'Given a string S, check if the letters can be rearranged so that two characters that are \\nadjacent to each other are not the same.\\n\\nIf possible, output any possible result.  If not possible, return the empty string.\\n\\nExample 1:\\n\\nInput: S = \"aab\"\\nOutput: \"aba\"\\nExample 2:\\n\\nInput: S = \"aaab\"\\nOutput: \"\"\\nNote:\\n\\nS will consist of lowercase letters and have length in range [1, 500].'"
      ]
     },
     "execution_count": 1,
     "metadata": {},
     "output_type": "execute_result"
    }
   ],
   "source": [
    "\"\"\"Given a string S, check if the letters can be rearranged so that two characters that are \n",
    "adjacent to each other are not the same.\n",
    "\n",
    "If possible, output any possible result.  If not possible, return the empty string.\n",
    "\n",
    "Example 1:\n",
    "\n",
    "Input: S = \"aab\"\n",
    "Output: \"aba\"\n",
    "Example 2:\n",
    "\n",
    "Input: S = \"aaab\"\n",
    "Output: \"\"\n",
    "Note:\n",
    "\n",
    "S will consist of lowercase letters and have length in range [1, 500].\"\"\"\n",
    "\n",
    "# Algorithm\n",
    "# The main idea here is to place most frequent characters on the odd places and others in even places.\n",
    "# 1. Sort the string according to the count of char i.e occurence of each char\n",
    "# 2. fiind the mid of the length of the string\n",
    "# 3. place all char upto mid in odd places and others in even places\n",
    "# 4. return the string\n"
   ]
  },
  {
   "cell_type": "code",
   "execution_count": 1,
   "metadata": {},
   "outputs": [],
   "source": [
    "class Solution:\n",
    "    def reorganizeString(self, S: str) -> str:\n",
    "        a = sorted(sorted(S), key=S.count)\n",
    "        print(sorted(sorted(S),key = S.count))\n",
    "        h = len(a) // 2\n",
    "        a[::2], a[1::2] = a[h:], a[:h]\n",
    "        return ''.join(a) * (a[-1:] != a[-2:-1])\n",
    "        "
   ]
  },
  {
   "cell_type": "code",
   "execution_count": 5,
   "metadata": {},
   "outputs": [
    {
     "name": "stdout",
     "output_type": "stream",
     "text": [
      "['a', 'b']\n",
      "ba\n"
     ]
    }
   ],
   "source": [
    "if __name__ == \"__main__\":\n",
    "    s = Solution()\n",
    "    S = \"ab\"\n",
    "    print(s.reorganizeString(S))"
   ]
  },
  {
   "cell_type": "code",
   "execution_count": null,
   "metadata": {},
   "outputs": [],
   "source": []
  }
 ],
 "metadata": {
  "kernelspec": {
   "display_name": "Python 3",
   "language": "python",
   "name": "python3"
  },
  "language_info": {
   "codemirror_mode": {
    "name": "ipython",
    "version": 3
   },
   "file_extension": ".py",
   "mimetype": "text/x-python",
   "name": "python",
   "nbconvert_exporter": "python",
   "pygments_lexer": "ipython3",
   "version": "3.6.8"
  }
 },
 "nbformat": 4,
 "nbformat_minor": 2
}

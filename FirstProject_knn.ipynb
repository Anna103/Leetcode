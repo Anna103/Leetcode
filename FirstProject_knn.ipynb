{
 "cells": [
  {
   "cell_type": "code",
   "execution_count": 5,
   "metadata": {},
   "outputs": [],
   "source": [
    "#Unsupervised -- \n",
    "import pandas as pd\n",
    "from sklearn import model_selection\n",
    "from sklearn.metrics import classification_report\n",
    "from sklearn.metrics import confusion_matrix\n",
    "from sklearn.metrics import accuracy_score\n",
    "from sklearn.tree import DecisionTreeClassifier\n",
    "from sklearn.neighbors import KNeighborsClassifier\n",
    "from sklearn.discriminant_analysis import LinearDiscriminantAnalysis\n",
    "from sklearn.naive_bayes import GaussianNB\n",
    "from sklearn.svm import SVC\n",
    "from sklearn.preprocessing import StandardScaler"
   ]
  },
  {
   "cell_type": "code",
   "execution_count": 13,
   "metadata": {},
   "outputs": [],
   "source": [
    "url = \"https://raw.githubusercontent.com/jbrownlee/Datasets/master/iris.csv\"\n",
    "names = ['sepal-length', 'sepal-width', 'petal-length', 'petal-width', 'class']\n",
    "dataset = pd.read_csv(url, names=names)\n",
    "array = dataset.values\n",
    "X = array[:,0:4]\n",
    "Y = array[:,4]\n",
    "validation_size = 0.20\n",
    "seed = 7\n",
    "X_train, X_validation, Y_train, Y_validation = model_selection.train_test_split(X, Y, test_size=validation_size, random_state=seed)"
   ]
  },
  {
   "cell_type": "code",
   "execution_count": 12,
   "metadata": {},
   "outputs": [
    {
     "name": "stdout",
     "output_type": "stream",
     "text": [
      "[[5.9 3.  5.1 1.8]\n",
      " [5.4 3.  4.5 1.5]\n",
      " [5.  3.5 1.3 0.3]\n",
      " [5.6 3.  4.5 1.5]\n",
      " [4.9 2.5 4.5 1.7]\n",
      " [4.5 2.3 1.3 0.3]\n",
      " [6.9 3.1 4.9 1.5]\n",
      " [5.6 2.7 4.2 1.3]\n",
      " [4.8 3.4 1.6 0.2]\n",
      " [6.4 3.2 4.5 1.5]\n",
      " [6.7 3.  5.  1.7]\n",
      " [6.  3.4 4.5 1.6]\n",
      " [5.2 4.1 1.5 0.1]\n",
      " [7.2 3.6 6.1 2.5]\n",
      " [5.2 3.4 1.4 0.2]\n",
      " [5.9 3.2 4.8 1.8]\n",
      " [6.7 2.5 5.8 1.8]\n",
      " [6.4 3.1 5.5 1.8]\n",
      " [5.1 3.8 1.6 0.2]\n",
      " [4.9 3.1 1.5 0.1]\n",
      " [5.8 2.7 3.9 1.2]\n",
      " [6.9 3.2 5.7 2.3]\n",
      " [6.1 2.9 4.7 1.4]\n",
      " [6.  2.2 5.  1.5]\n",
      " [7.2 3.  5.8 1.6]\n",
      " [6.  3.  4.8 1.8]\n",
      " [6.2 2.9 4.3 1.3]\n",
      " [5.5 2.4 3.8 1.1]\n",
      " [5.8 2.7 5.1 1.9]\n",
      " [6.7 3.1 5.6 2.4]]\n"
     ]
    }
   ],
   "source": [
    "print(X_validation)"
   ]
  },
  {
   "cell_type": "code",
   "execution_count": 14,
   "metadata": {},
   "outputs": [
    {
     "name": "stderr",
     "output_type": "stream",
     "text": [
      "/anaconda3/lib/python3.6/site-packages/sklearn/utils/validation.py:475: DataConversionWarning: Data with input dtype object was converted to float64 by StandardScaler.\n",
      "  warnings.warn(msg, DataConversionWarning)\n"
     ]
    }
   ],
   "source": [
    "  \n",
    "scaler = StandardScaler()  \n",
    "scaler.fit(X_train)\n",
    "\n",
    "X_train = scaler.transform(X_train)  \n",
    "X_validation = scaler.transform(X_validation) \n"
   ]
  },
  {
   "cell_type": "code",
   "execution_count": 29,
   "metadata": {},
   "outputs": [
    {
     "data": {
      "text/plain": [
       "KNeighborsClassifier(algorithm='auto', leaf_size=30, metric='minkowski',\n",
       "           metric_params=None, n_jobs=1, n_neighbors=5, p=2,\n",
       "           weights='uniform')"
      ]
     },
     "execution_count": 29,
     "metadata": {},
     "output_type": "execute_result"
    }
   ],
   "source": [
    "seed = 7\n",
    "scoring = 'accuracy'\n",
    "clf = KNeighborsClassifier()  \n",
    "clf.fit(X_train, Y_train)  "
   ]
  },
  {
   "cell_type": "code",
   "execution_count": 30,
   "metadata": {},
   "outputs": [
    {
     "name": "stdout",
     "output_type": "stream",
     "text": [
      "         Prediction           Actual\n",
      "0    Iris-virginica   Iris-virginica\n",
      "1   Iris-versicolor  Iris-versicolor\n",
      "2       Iris-setosa      Iris-setosa\n",
      "3   Iris-versicolor  Iris-versicolor\n",
      "4   Iris-versicolor   Iris-virginica\n",
      "5   Iris-versicolor      Iris-setosa\n",
      "6   Iris-versicolor  Iris-versicolor\n",
      "7   Iris-versicolor  Iris-versicolor\n",
      "8       Iris-setosa      Iris-setosa\n",
      "9   Iris-versicolor  Iris-versicolor\n",
      "10  Iris-versicolor  Iris-versicolor\n",
      "11  Iris-versicolor  Iris-versicolor\n",
      "12      Iris-setosa      Iris-setosa\n",
      "13   Iris-virginica   Iris-virginica\n",
      "14      Iris-setosa      Iris-setosa\n",
      "15  Iris-versicolor  Iris-versicolor\n",
      "16   Iris-virginica   Iris-virginica\n",
      "17   Iris-virginica   Iris-virginica\n",
      "18      Iris-setosa      Iris-setosa\n",
      "19      Iris-setosa      Iris-setosa\n",
      "20  Iris-versicolor  Iris-versicolor\n",
      "21   Iris-virginica   Iris-virginica\n",
      "22  Iris-versicolor  Iris-versicolor\n",
      "23  Iris-versicolor   Iris-virginica\n",
      "24   Iris-virginica   Iris-virginica\n",
      "25  Iris-versicolor   Iris-virginica\n",
      "26  Iris-versicolor  Iris-versicolor\n",
      "27  Iris-versicolor  Iris-versicolor\n",
      "28   Iris-virginica   Iris-virginica\n",
      "29   Iris-virginica   Iris-virginica\n",
      "0.8666666666666667\n",
      "[[ 6  1  0]\n",
      " [ 0 12  0]\n",
      " [ 0  3  8]]\n",
      "                 precision    recall  f1-score   support\n",
      "\n",
      "    Iris-setosa       1.00      0.86      0.92         7\n",
      "Iris-versicolor       0.75      1.00      0.86        12\n",
      " Iris-virginica       1.00      0.73      0.84        11\n",
      "\n",
      "    avg / total       0.90      0.87      0.87        30\n",
      "\n"
     ]
    }
   ],
   "source": [
    "df=pd.DataFrame(columns=[\"Prediction\",\"Actual\"])\n",
    "predictions = clf.predict(X_validation)\n",
    "df[\"Prediction\"]=predictions\n",
    "df[\"Actual\"]=Y_validation\n",
    "print(df)\n",
    "print(accuracy_score(Y_validation, predictions))\n",
    "print(confusion_matrix(Y_validation, predictions))\n",
    "print(classification_report(Y_validation, predictions))"
   ]
  },
  {
   "cell_type": "code",
   "execution_count": null,
   "metadata": {},
   "outputs": [],
   "source": []
  },
  {
   "cell_type": "code",
   "execution_count": null,
   "metadata": {},
   "outputs": [],
   "source": []
  },
  {
   "cell_type": "code",
   "execution_count": 35,
   "metadata": {},
   "outputs": [
    {
     "name": "stdout",
     "output_type": "stream",
     "text": [
      "kfold KFold(n_splits=10, random_state=7, shuffle=False)\n",
      "KNN: 0.966667 (0.040825)\n",
      "         Prediction           Actual      Prediction1\n",
      "0    Iris-virginica   Iris-virginica   Iris-virginica\n",
      "1   Iris-versicolor  Iris-versicolor  Iris-versicolor\n",
      "2       Iris-setosa      Iris-setosa      Iris-setosa\n",
      "3   Iris-versicolor  Iris-versicolor  Iris-versicolor\n",
      "4   Iris-versicolor   Iris-virginica  Iris-versicolor\n",
      "5   Iris-versicolor      Iris-setosa  Iris-versicolor\n",
      "6   Iris-versicolor  Iris-versicolor  Iris-versicolor\n",
      "7   Iris-versicolor  Iris-versicolor  Iris-versicolor\n",
      "8       Iris-setosa      Iris-setosa      Iris-setosa\n",
      "9   Iris-versicolor  Iris-versicolor  Iris-versicolor\n",
      "10  Iris-versicolor  Iris-versicolor  Iris-versicolor\n",
      "11  Iris-versicolor  Iris-versicolor  Iris-versicolor\n",
      "12      Iris-setosa      Iris-setosa      Iris-setosa\n",
      "13   Iris-virginica   Iris-virginica   Iris-virginica\n",
      "14      Iris-setosa      Iris-setosa      Iris-setosa\n",
      "15  Iris-versicolor  Iris-versicolor  Iris-versicolor\n",
      "16   Iris-virginica   Iris-virginica   Iris-virginica\n",
      "17   Iris-virginica   Iris-virginica   Iris-virginica\n",
      "18      Iris-setosa      Iris-setosa      Iris-setosa\n",
      "19      Iris-setosa      Iris-setosa      Iris-setosa\n",
      "20  Iris-versicolor  Iris-versicolor  Iris-versicolor\n",
      "21   Iris-virginica   Iris-virginica   Iris-virginica\n",
      "22  Iris-versicolor  Iris-versicolor  Iris-versicolor\n",
      "23  Iris-versicolor   Iris-virginica  Iris-versicolor\n",
      "24   Iris-virginica   Iris-virginica   Iris-virginica\n",
      "25  Iris-versicolor   Iris-virginica  Iris-versicolor\n",
      "26  Iris-versicolor  Iris-versicolor  Iris-versicolor\n",
      "27  Iris-versicolor  Iris-versicolor  Iris-versicolor\n",
      "28   Iris-virginica   Iris-virginica   Iris-virginica\n",
      "29   Iris-virginica   Iris-virginica   Iris-virginica\n"
     ]
    }
   ],
   "source": [
    "from sklearn import model_selection\n",
    "\n",
    "kfold = model_selection.KFold(n_splits=10, random_state=seed)\n",
    "print(\"kfold\", kfold)\n",
    "cv_results = model_selection.cross_val_score(KNeighborsClassifier(), X_train, Y_train, cv=kfold, scoring=scoring)\n",
    "results= cv_results\n",
    "name= 'KNN'\n",
    "msg = \"%s: %f (%f)\" % (name, cv_results.mean(), cv_results.std())\n",
    "print(msg)\n",
    "knn = KNeighborsClassifier()\n",
    "knn.fit(X_train, Y_train)\n",
    "predictions1 = knn.predict(X_validation)\n",
    "\n",
    "df['Prediction1']=predictions1\n",
    "\n",
    "\n",
    "\n",
    "print(df)"
   ]
  }
 ],
 "metadata": {
  "kernelspec": {
   "display_name": "Python 3",
   "language": "python",
   "name": "python3"
  },
  "language_info": {
   "codemirror_mode": {
    "name": "ipython",
    "version": 3
   },
   "file_extension": ".py",
   "mimetype": "text/x-python",
   "name": "python",
   "nbconvert_exporter": "python",
   "pygments_lexer": "ipython3",
   "version": "3.6.5"
  }
 },
 "nbformat": 4,
 "nbformat_minor": 2
}

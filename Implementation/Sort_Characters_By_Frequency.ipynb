{
 "cells": [
  {
   "cell_type": "code",
   "execution_count": 1,
   "metadata": {},
   "outputs": [],
   "source": [
    "class Solution:\n",
    "    def frequencySort(self, s):\n",
    "        dict_s = dict()\n",
    "        new_s =\"\"\n",
    "        for i in range(len(s)):\n",
    "            if(s[i] not in dict_s.keys()):\n",
    "                dict_s[s[i]] = [s[i]]\n",
    "            else:\n",
    "                dict_s[s[i]].append(s[i])\n",
    "        dict_s =sorted(dict_s.items(), key=lambda x: len(x[1]), reverse=True)\n",
    "        for i in range(len(dict_s)):\n",
    "            new_s +=''.join(dict_s[i][1])\n",
    "        return(new_s)\n",
    "        \n",
    "        "
   ]
  },
  {
   "cell_type": "code",
   "execution_count": 4,
   "metadata": {},
   "outputs": [
    {
     "name": "stdout",
     "output_type": "stream",
     "text": [
      "aaaacccb\n"
     ]
    }
   ],
   "source": [
    "if __name__ == \"__main__\":\n",
    "    s = \"cccaaaab\"\n",
    "    sol = Solution()\n",
    "    print(sol.frequencySort(s))\n",
    "    "
   ]
  }
 ],
 "metadata": {
  "kernelspec": {
   "display_name": "Python 3",
   "language": "python",
   "name": "python3"
  },
  "language_info": {
   "codemirror_mode": {
    "name": "ipython",
    "version": 3
   },
   "file_extension": ".py",
   "mimetype": "text/x-python",
   "name": "python",
   "nbconvert_exporter": "python",
   "pygments_lexer": "ipython3",
   "version": "3.6.8"
  }
 },
 "nbformat": 4,
 "nbformat_minor": 2
}

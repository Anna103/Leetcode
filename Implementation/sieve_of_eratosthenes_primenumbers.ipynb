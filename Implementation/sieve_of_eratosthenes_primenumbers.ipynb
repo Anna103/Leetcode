{
 "cells": [
  {
   "cell_type": "code",
   "execution_count": 12,
   "metadata": {},
   "outputs": [],
   "source": [
    "# Create a list of true of size n+1\n",
    "# initialise p = 2(because prime starts with 2)\n",
    "# while(p^2 < n)\n",
    "    # if list[p] == True:\n",
    "        # for i in range(p*p, n+1, p):\n",
    "            # list[i] = Fslse (its a composite number/ has multiple of p)\n",
    "    # p += 1\n",
    "# print all index which is true"
   ]
  },
  {
   "cell_type": "code",
   "execution_count": 11,
   "metadata": {},
   "outputs": [],
   "source": [
    "class PrimeNumberFinder:\n",
    "    def find_prime_numbers(self, n):\n",
    "        prime_num = [True for i in range(n+1)]\n",
    "        p = 2\n",
    "        while (p*p < n):\n",
    "            if prime_num[p] == True:\n",
    "                for i in range(p*p, n+1, p):\n",
    "                    prime_num[i] = False\n",
    "            p += 1\n",
    "        for i in range(2,len(prime_num)):\n",
    "            if prime_num[i]:\n",
    "                print(i)\n",
    "            \n",
    "        "
   ]
  },
  {
   "cell_type": "code",
   "execution_count": 12,
   "metadata": {},
   "outputs": [
    {
     "name": "stdout",
     "output_type": "stream",
     "text": [
      "2\n",
      "3\n",
      "5\n",
      "7\n",
      "11\n",
      "13\n",
      "17\n",
      "19\n",
      "23\n",
      "29\n",
      "31\n",
      "37\n",
      "41\n",
      "43\n",
      "47\n"
     ]
    }
   ],
   "source": [
    "if __name__ == \"__main__\":\n",
    "    p = PrimeNumberFinder()\n",
    "    p.find_prime_numbers(47)"
   ]
  },
  {
   "cell_type": "code",
   "execution_count": null,
   "metadata": {},
   "outputs": [],
   "source": []
  }
 ],
 "metadata": {
  "kernelspec": {
   "display_name": "Python 3",
   "language": "python",
   "name": "python3"
  },
  "language_info": {
   "codemirror_mode": {
    "name": "ipython",
    "version": 3
   },
   "file_extension": ".py",
   "mimetype": "text/x-python",
   "name": "python",
   "nbconvert_exporter": "python",
   "pygments_lexer": "ipython3",
   "version": "3.6.8"
  }
 },
 "nbformat": 4,
 "nbformat_minor": 2
}

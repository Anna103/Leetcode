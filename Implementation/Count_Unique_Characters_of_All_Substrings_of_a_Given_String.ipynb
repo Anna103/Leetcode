{
 "cells": [
  {
   "cell_type": "code",
   "execution_count": null,
   "metadata": {},
   "outputs": [],
   "source": [
    "\"\"\"Let's define a function countUniqueChars(s) that returns the number of unique characters on s, \n",
    "for example if s = \"LEETCODE\" then \"L\", \"T\",\"C\",\"O\",\"D\" are the unique characters \n",
    "since they appear only once in s, therefore countUniqueChars(s) = 5.\n",
    "\n",
    "On this problem given a string s we need to return the sum of countUniqueChars(t) \n",
    "where t is a substring of s. Notice that some substrings can be repeated so on this \n",
    "case you have to count the repeated ones too.\n",
    "\n",
    "Since the answer can be very large, return the answer modulo 10 ^ 9 + 7.\n",
    "\n",
    " \n",
    "\n",
    "Example 1:\n",
    "\n",
    "Input: s = \"ABC\"\n",
    "Output: 10\n",
    "Explanation: All possible substrings are: \"A\",\"B\",\"C\",\"AB\",\"BC\" and \"ABC\".\n",
    "Evey substring is composed with only unique letters.\n",
    "Sum of lengths of all substring is 1 + 1 + 1 + 2 + 2 + 3 = 10\n",
    "Example 2:\n",
    "\n",
    "Input: s = \"ABA\"\n",
    "Output: 8\n",
    "Explanation: The same as example 1, except countUniqueChars(\"ABA\") = 1.\n",
    "Example 3:\n",
    "\n",
    "Input: s = \"LEETCODE\"\n",
    "Output: 92\"\"\"\n",
    "\n",
    "\n",
    "# Algorithm\n",
    "# 1. Create a dictionary of char with it all its index position as the values\n",
    "# 2. Run loop through all the index in the dictionary.values\n",
    "    # 3. prefix [-1] and suffix len string along with the index\n",
    "    # 4. Run a for loop from 1 to len of index -1\n",
    "        # 5. ans += (ind[i] - ind[i-1]) * (ind[i+1] - ind[i])\n",
    "# return ans %(1000000007)"
   ]
  },
  {
   "cell_type": "code",
   "execution_count": 15,
   "metadata": {},
   "outputs": [],
   "source": [
    "import collections\n",
    "class Solution:\n",
    "    def unique_char_finder(self, s):\n",
    "        dict_char = collections.defaultdict(list)\n",
    "        for ind, char in enumerate(s):\n",
    "            dict_char[char].append(ind)\n",
    "        ans = 0\n",
    "        for ind in dict_char.values():\n",
    "            ind = [-1] + ind + [len(s)]\n",
    "            for j in range(1, len(ind)-1):\n",
    "                ans += (ind[j] - ind[j-1]) * (ind[j+1] - ind[j])\n",
    "        return ans % (pow(10,9)+7)"
   ]
  },
  {
   "cell_type": "code",
   "execution_count": 16,
   "metadata": {},
   "outputs": [
    {
     "name": "stdout",
     "output_type": "stream",
     "text": [
      "92\n"
     ]
    }
   ],
   "source": [
    "if __name__ == \"__main__\":\n",
    "    s = Solution()\n",
    "    string = \"LEETCODE\"\n",
    "    print(s.unique_char_finder(string))"
   ]
  }
 ],
 "metadata": {
  "kernelspec": {
   "display_name": "Python 3",
   "language": "python",
   "name": "python3"
  },
  "language_info": {
   "codemirror_mode": {
    "name": "ipython",
    "version": 3
   },
   "file_extension": ".py",
   "mimetype": "text/x-python",
   "name": "python",
   "nbconvert_exporter": "python",
   "pygments_lexer": "ipython3",
   "version": "3.6.8"
  }
 },
 "nbformat": 4,
 "nbformat_minor": 2
}

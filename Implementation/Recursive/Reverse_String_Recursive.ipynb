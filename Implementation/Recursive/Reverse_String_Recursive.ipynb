{
 "cells": [
  {
   "cell_type": "code",
   "execution_count": 3,
   "metadata": {},
   "outputs": [],
   "source": [
    "class Reverse_String:\n",
    "    def string_reverser(self, s):\n",
    "        len_s = len(s)-1\n",
    "        def helper(l, s):\n",
    "            if l == len_s:\n",
    "                return s[0]\n",
    "            else:\n",
    "                return helper(l+1, s[1:]) + s[0] \n",
    "        return helper(0, s)"
   ]
  },
  {
   "cell_type": "code",
   "execution_count": null,
   "metadata": {},
   "outputs": [],
   "source": [
    "class Reverse_String_inplace"
   ]
  },
  {
   "cell_type": "code",
   "execution_count": 4,
   "metadata": {},
   "outputs": [
    {
     "name": "stdout",
     "output_type": "stream",
     "text": [
      "olleH\n"
     ]
    }
   ],
   "source": [
    "if __name__ == \"__main__\":\n",
    "    rs = Reverse_String()\n",
    "    s = \"Hello\"\n",
    "    print(rs.string_reverser(s))"
   ]
  }
 ],
 "metadata": {
  "kernelspec": {
   "display_name": "Python 3",
   "language": "python",
   "name": "python3"
  },
  "language_info": {
   "codemirror_mode": {
    "name": "ipython",
    "version": 3
   },
   "file_extension": ".py",
   "mimetype": "text/x-python",
   "name": "python",
   "nbconvert_exporter": "python",
   "pygments_lexer": "ipython3",
   "version": "3.6.8"
  }
 },
 "nbformat": 4,
 "nbformat_minor": 2
}

{
 "cells": [
  {
   "cell_type": "code",
   "execution_count": null,
   "metadata": {},
   "outputs": [],
   "source": []
  },
  {
   "cell_type": "code",
   "execution_count": null,
   "metadata": {},
   "outputs": [],
   "source": [
    "# Algorithm\n",
    "# check if root == None : return None\n",
    "# check if root.data = search : return root\n",
    "# if search < root ; search(root.left)\n",
    "# else search (root.right)"
   ]
  },
  {
   "cell_type": "code",
   "execution_count": 2,
   "metadata": {},
   "outputs": [],
   "source": [
    "class Tree:\n",
    "    \n",
    "    def __init__(self, data):\n",
    "        self.left = None\n",
    "        self.data = data\n",
    "        self.right = None\n"
   ]
  },
  {
   "cell_type": "code",
   "execution_count": 5,
   "metadata": {},
   "outputs": [],
   "source": [
    "class BST:\n",
    "    \n",
    "    def insertBST(self, root, new_node):\n",
    "        if(root.data == None):\n",
    "            root.data = new_node\n",
    "        if new_node.data < root.data:\n",
    "            if root.left == None:\n",
    "                root.left = new_node\n",
    "            else:\n",
    "                self.insertBST(root.left, new_node)\n",
    "        else:\n",
    "            if root.right == None:\n",
    "                root.right = new_node\n",
    "            else:\n",
    "                self.insertBST(root.right, new_node)\n",
    "                \n",
    "    def inorder(self, root): \n",
    "        if root.left: \n",
    "            self.inorder(root.left) \n",
    "        print(root.data) \n",
    "        if root.right:\n",
    "            self.inorder(root.right)\n",
    "    \n",
    "    def search(self, root, search_data):\n",
    "\n",
    "        if not root or root.data == None:\n",
    "            return False\n",
    "        \n",
    "        elif root.data == search_data:\n",
    "            return True\n",
    "        \n",
    "        elif search_data < root.data:\n",
    "            return self.search(root.left, search_data)\n",
    "        \n",
    "        else:\n",
    "            return self.search(root.right, search_data)"
   ]
  },
  {
   "cell_type": "code",
   "execution_count": 7,
   "metadata": {},
   "outputs": [
    {
     "name": "stdout",
     "output_type": "stream",
     "text": [
      "9\n",
      "10\n",
      "15\n",
      "20\n",
      "30\n",
      "40\n",
      "50\n",
      "65\n",
      "85\n",
      "********************\n"
     ]
    },
    {
     "data": {
      "text/plain": [
       "False"
      ]
     },
     "execution_count": 7,
     "metadata": {},
     "output_type": "execute_result"
    }
   ],
   "source": [
    "r = Tree(50)\n",
    "b = BST()\n",
    "b.insertBST(r, Tree(10))\n",
    "b.insertBST(r, Tree(20))\n",
    "b.insertBST(r, Tree(30))\n",
    "b.insertBST(r, Tree(40))\n",
    "b.insertBST(r, Tree(85))\n",
    "b.insertBST(r, Tree(65))\n",
    "b.insertBST(r, Tree(9))\n",
    "b.insertBST(r, Tree(15))\n",
    "b.inorder(r)\n",
    "print(\"********************\")\n",
    "\n",
    "b.search(r,102)\n"
   ]
  }
 ],
 "metadata": {
  "kernelspec": {
   "display_name": "Python 3",
   "language": "python",
   "name": "python3"
  },
  "language_info": {
   "codemirror_mode": {
    "name": "ipython",
    "version": 3
   },
   "file_extension": ".py",
   "mimetype": "text/x-python",
   "name": "python",
   "nbconvert_exporter": "python",
   "pygments_lexer": "ipython3",
   "version": "3.6.8"
  }
 },
 "nbformat": 4,
 "nbformat_minor": 2
}

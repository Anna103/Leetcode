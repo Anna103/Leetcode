{
 "cells": [
  {
   "cell_type": "code",
   "execution_count": null,
   "metadata": {},
   "outputs": [],
   "source": [
    "\"\"\"Given a binary tree, return all duplicate subtrees. For each kind of duplicate subtrees,\n",
    "you only need to return the root node of any one of them.\n",
    "\n",
    "Two trees are duplicate if they have the same structure with same node values.\"\"\"\n",
    "\n",
    "\n",
    "# Algorithm\n",
    "# We create a dictionary which hold the root value, its left and right child as key and root as value\n",
    "# return the root if there is more than 1 node in it\n"
   ]
  },
  {
   "cell_type": "code",
   "execution_count": 27,
   "metadata": {},
   "outputs": [],
   "source": [
    "import collections\n",
    "# Definition for a binary tree node.\n",
    "class Tree:\n",
    "    def __init__(self, val=0, left=None, right=None):\n",
    "        self.val = val\n",
    "        self.left = left\n",
    "        self.right = right\n",
    "        \n",
    "class Solution:\n",
    "\n",
    "    def findDuplicateSubtrees(self, root):\n",
    "        tree = collections.defaultdict(list)\n",
    "        def tup(root):\n",
    "            if(root):\n",
    "                key = root.val, tup(root.left), tup(root.right)\n",
    "                tree[key].append(root)\n",
    "                return key\n",
    "        \n",
    "        tup(root)\n",
    "        \n",
    "        for roots in tree.values():\n",
    "            if root[1:]:\n",
    "                return root[1]\n",
    "        #return [roots[0] for roots in tree.values() if roots[1:]]"
   ]
  },
  {
   "cell_type": "code",
   "execution_count": 28,
   "metadata": {},
   "outputs": [
    {
     "name": "stdout",
     "output_type": "stream",
     "text": [
      "defaultdict(<class 'list'>, {(4, None, None): [<__main__.Tree object at 0x104655e10>, <__main__.Tree object at 0x104655080>, <__main__.Tree object at 0x1046555c0>], (2, (4, None, None), None): [<__main__.Tree object at 0x1046556d8>, <__main__.Tree object at 0x1046554e0>], (3, (2, (4, None, None), None), (4, None, None)): [<__main__.Tree object at 0x104655f60>], (1, (2, (4, None, None), None), (3, (2, (4, None, None), None), (4, None, None))): [<__main__.Tree object at 0x104655fd0>]})\n",
      "[<__main__.Tree object at 0x104655e10>, <__main__.Tree object at 0x1046556d8>]\n"
     ]
    }
   ],
   "source": [
    "if __name__ == \"__main__\":\n",
    "    \n",
    "    root = Tree(1)\n",
    "    root.left = Tree(2)\n",
    "    root.right = Tree(3)\n",
    "    root.left.left = Tree(4)\n",
    "    root.right.left = Tree(2)\n",
    "    root.right.right = Tree(4)\n",
    "    root.right.left.left = Tree(4)\n",
    "    s = Solution()\n",
    "    print(s.findDuplicateSubtrees(root))"
   ]
  }
 ],
 "metadata": {
  "kernelspec": {
   "display_name": "Python 3",
   "language": "python",
   "name": "python3"
  },
  "language_info": {
   "codemirror_mode": {
    "name": "ipython",
    "version": 3
   },
   "file_extension": ".py",
   "mimetype": "text/x-python",
   "name": "python",
   "nbconvert_exporter": "python",
   "pygments_lexer": "ipython3",
   "version": "3.6.8"
  }
 },
 "nbformat": 4,
 "nbformat_minor": 2
}

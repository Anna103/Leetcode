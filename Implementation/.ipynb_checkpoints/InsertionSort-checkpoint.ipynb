{
 "cells": [
  {
   "cell_type": "code",
   "execution_count": 1,
   "metadata": {},
   "outputs": [],
   "source": [
    "# We have a key, before key all the elements will be in the sorted manner\n",
    "# key keeps shifting\n",
    "# Time complexity is O(n^2)\n",
    "\n",
    "class Solution:\n",
    "    \n",
    "    def insertionsort(self, nums):\n",
    "        \n",
    "        for i in range(1,len(nums)):\n",
    "            key = nums[i]\n",
    "            j = i-1\n",
    "            while(j >=0 and key < nums[j]):\n",
    "                nums[j+1] = nums[j]\n",
    "                j -= 1\n",
    "            nums[j+1] = key\n",
    "        print(nums)\n",
    "                "
   ]
  },
  {
   "cell_type": "code",
   "execution_count": 2,
   "metadata": {},
   "outputs": [
    {
     "name": "stdout",
     "output_type": "stream",
     "text": [
      "[-6, -1, 0, 2, 4, 8, 9, 200]\n"
     ]
    }
   ],
   "source": [
    "if __name__ == \"__main__\":\n",
    "    nums = [9,-1,8,0,4,2,200,-6]\n",
    "    s = Solution()\n",
    "    s.insertionsort(nums)"
   ]
  }
 ],
 "metadata": {
  "kernelspec": {
   "display_name": "Python 3",
   "language": "python",
   "name": "python3"
  },
  "language_info": {
   "codemirror_mode": {
    "name": "ipython",
    "version": 3
   },
   "file_extension": ".py",
   "mimetype": "text/x-python",
   "name": "python",
   "nbconvert_exporter": "python",
   "pygments_lexer": "ipython3",
   "version": "3.6.8"
  }
 },
 "nbformat": 4,
 "nbformat_minor": 2
}

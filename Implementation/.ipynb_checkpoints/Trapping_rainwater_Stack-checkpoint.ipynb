{
 "cells": [
  {
   "cell_type": "code",
   "execution_count": 1,
   "metadata": {},
   "outputs": [
    {
     "data": {
      "text/plain": [
       "'Given n non-negative integers representing an elevation map where the width of each bar is 1, compute how much water it is able to trap after raining.\\n\\n\\nThe above elevation map is represented by array [0,1,0,2,1,0,1,3,2,1,2,1]. In this case, 6 units of rain water (blue section) are being trapped. Thanks Marcos for contributing this image!\\n\\nExample:\\n\\nInput: [0,1,0,2,1,0,1,3,2,1,2,1]\\nOutput: 6\\n'"
      ]
     },
     "execution_count": 1,
     "metadata": {},
     "output_type": "execute_result"
    }
   ],
   "source": [
    "\"\"\"Given n non-negative integers representing an elevation map where the width of each bar is 1, compute how much water it is able to trap after raining.\n",
    "\n",
    "\n",
    "The above elevation map is represented by array [0,1,0,2,1,0,1,3,2,1,2,1]. In this case, 6 units of rain water (blue section) are being trapped. Thanks Marcos for contributing this image!\n",
    "\n",
    "Example:\n",
    "\n",
    "Input: [0,1,0,2,1,0,1,3,2,1,2,1]\n",
    "Output: 6\n",
    "\"\"\"\n",
    "\n",
    "# Algorithm\n",
    "# we have a pointer to which starts from 1 until last element but 1 element\n",
    "# we need to find max height to left of this pointer(left)\n",
    "# we need to find max height to right of this pointer(right)\n",
    "# find min of left and right (because that is only the level of water we can hold)\n",
    "# then subtract it from height of current pointer(height  part wont hold water)\n",
    "# if above value is greater than 0 the add to total"
   ]
  },
  {
   "cell_type": "code",
   "execution_count": 2,
   "metadata": {},
   "outputs": [],
   "source": [
    "class Solution:\n",
    "    def trap(self, height) -> int:\n",
    "        total_water = 0\n",
    "        for i in range(1, len(height)-1):\n",
    "            l = max(height[:i])\n",
    "            r = max(height[i+1:])\n",
    "            water = min(l, r) - height[i]\n",
    "            if(water>=0):\n",
    "                total_water += water\n",
    "        return total_water"
   ]
  },
  {
   "cell_type": "code",
   "execution_count": 3,
   "metadata": {},
   "outputs": [
    {
     "name": "stdout",
     "output_type": "stream",
     "text": [
      "6\n"
     ]
    }
   ],
   "source": [
    "if __name__ == \"__main__\":\n",
    "    s = Solution()\n",
    "    height = [0,1,0,2,1,0,1,3,2,1,2,1]\n",
    "    print(s.trap(height))"
   ]
  }
 ],
 "metadata": {
  "kernelspec": {
   "display_name": "Python 3",
   "language": "python",
   "name": "python3"
  },
  "language_info": {
   "codemirror_mode": {
    "name": "ipython",
    "version": 3
   },
   "file_extension": ".py",
   "mimetype": "text/x-python",
   "name": "python",
   "nbconvert_exporter": "python",
   "pygments_lexer": "ipython3",
   "version": "3.6.8"
  }
 },
 "nbformat": 4,
 "nbformat_minor": 2
}

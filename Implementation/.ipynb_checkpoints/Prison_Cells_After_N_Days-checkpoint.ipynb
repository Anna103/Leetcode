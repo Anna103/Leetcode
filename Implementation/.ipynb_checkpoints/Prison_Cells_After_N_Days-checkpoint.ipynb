{
 "cells": [
  {
   "cell_type": "code",
   "execution_count": null,
   "metadata": {},
   "outputs": [],
   "source": [
    "\"\"\"957. Prison Cells After N Days\n",
    "Medium\n",
    "\n",
    "There are 8 prison cells in a row, and each cell is either occupied or vacant.\n",
    "\n",
    "Each day, whether the cell is occupied or vacant changes according to the following rules:\n",
    "\n",
    "If a cell has two adjacent neighbors that are both occupied or both vacant, then the cell becomes occupied.\n",
    "Otherwise, it becomes vacant.\n",
    "(Note that because the prison is a row, the first and the last cells in the row can't have two adjacent neighbors.)\n",
    "\n",
    "We describe the current state of the prison in the following way: cells[i] == 1 if the i-th cell is occupied, else cells[i] == 0.\n",
    "\n",
    "Given the initial state of the prison, return the state of the prison after N days (and N such changes described above.)\n",
    "\n",
    " \n",
    "\n",
    "Example 1:\n",
    "\n",
    "Input: cells = [0,1,0,1,1,0,0,1], N = 7\n",
    "Output: [0,0,1,1,0,0,0,0]\n",
    "Explanation: \n",
    "The following table summarizes the state of the prison on each day:\n",
    "Day 0: [0, 1, 0, 1, 1, 0, 0, 1]\n",
    "Day 1: [0, 1, 1, 0, 0, 0, 0, 0]\n",
    "Day 2: [0, 0, 0, 0, 1, 1, 1, 0]\n",
    "Day 3: [0, 1, 1, 0, 0, 1, 0, 0]\n",
    "Day 4: [0, 0, 0, 0, 0, 1, 0, 0]\n",
    "Day 5: [0, 1, 1, 1, 0, 1, 0, 0]\n",
    "Day 6: [0, 0, 1, 0, 1, 1, 0, 0]\n",
    "Day 7: [0, 0, 1, 1, 0, 0, 0, 0]\n",
    "\n",
    "Example 2:\n",
    "\n",
    "Input: cells = [1,0,0,1,0,0,1,0], N = 1000000000\n",
    "Output: [0,0,1,1,1,1,1,0]\"\"\"\n",
    "\n",
    "\n",
    "\n",
    "\n",
    "# Algorithm\n",
    "\n",
    "# We need to understand that , after a point we will see a patern being repeated. I assume this is becasuse we have only \n",
    "# 2 values, say 0 and 1\n",
    "# We need to find the point at which we are having that pattern\n",
    "\n",
    "# We need a set that will hold all our unique prison arrangement\n",
    "# we need size variable that will tell us the size of our cycle (abcdabcd --- size = 4)\n",
    "# we need to run the loop from 0th day to Nth day\n",
    "    # find what is the arrangement for the next day\n",
    "    #check if this arrangement was already found before by looking in to the set\n",
    "    # if no put it in hash(after converting it to string)\n",
    "    # else break. at this point we need a flag that will help us know that we have exited our loop mid way\n",
    "\n",
    "#if we exited our loop mid way, our new N will be N%size\n",
    "# run the loop again until new N\n",
    "# And return the value that we get after N iterations\n",
    "    "
   ]
  },
  {
   "cell_type": "code",
   "execution_count": 1,
   "metadata": {},
   "outputs": [],
   "source": [
    "class Solution:\n",
    "    def prisonAfterNDays(self, cells, N):\n",
    "        patternSet = set()\n",
    "        flag = False\n",
    "        size = 0\n",
    "        for i in range(N):\n",
    "            nextDayValue = self.nextDay(cells)\n",
    "            nextDayStr = ''.join(map(str,nextDayValue))\n",
    "\n",
    "            if(nextDayStr not in patternSet):\n",
    "                size += 1\n",
    "                patternSet.add(nextDayStr)\n",
    "            else:\n",
    "                flag = True\n",
    "                break\n",
    "            cells = nextDayValue\n",
    "        #print(flag)\n",
    "        if(flag):\n",
    "            N = N%size\n",
    "            for i in range(N):\n",
    "                cells = self.nextDay(cells)\n",
    "        return cells\n",
    "            \n",
    "    \n",
    "    \n",
    "    def nextDay(self, cells):\n",
    "        result = [0 for l in range(len(cells))]\n",
    "        for i in range(1,len(cells)-1):\n",
    "             if (cells[i-1] == cells[i+1]):\n",
    "                    result[i] = 1\n",
    "        return result\n",
    "        "
   ]
  },
  {
   "cell_type": "code",
   "execution_count": 3,
   "metadata": {},
   "outputs": [
    {
     "name": "stdout",
     "output_type": "stream",
     "text": [
      "[0, 0, 1, 1, 1, 1, 1, 0]\n"
     ]
    }
   ],
   "source": [
    "if __name__ == \"__main__\":\n",
    "    cells = [1,0,0,1,0,0,1,0]\n",
    "    N = 1000000000\n",
    "    s = Solution()\n",
    "    print(s.prisonAfterNDays(cells, N))"
   ]
  },
  {
   "cell_type": "code",
   "execution_count": null,
   "metadata": {},
   "outputs": [],
   "source": []
  }
 ],
 "metadata": {
  "kernelspec": {
   "display_name": "Python 3",
   "language": "python",
   "name": "python3"
  },
  "language_info": {
   "codemirror_mode": {
    "name": "ipython",
    "version": 3
   },
   "file_extension": ".py",
   "mimetype": "text/x-python",
   "name": "python",
   "nbconvert_exporter": "python",
   "pygments_lexer": "ipython3",
   "version": "3.6.8"
  }
 },
 "nbformat": 4,
 "nbformat_minor": 2
}

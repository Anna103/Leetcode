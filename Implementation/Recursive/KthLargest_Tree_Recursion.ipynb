{
 "cells": [
  {
   "cell_type": "code",
   "execution_count": 1,
   "metadata": {},
   "outputs": [],
   "source": [
    "class Tree:\n",
    "    def __init__(self, data):\n",
    "        self.left = None\n",
    "        self.right = None\n",
    "        self.data = data"
   ]
  },
  {
   "cell_type": "code",
   "execution_count": 2,
   "metadata": {},
   "outputs": [],
   "source": [
    "class kLargest:\n",
    "    def klargest_finder(self,root, k):\n",
    "        def helper(root, l):\n",
    "            if root.left == None and root.right == None:\n",
    "                return (root, l+1)\n",
    "            if root.right:\n",
    "                ans, l = helper(root.right, l)\n",
    "                if k == l:\n",
    "                    return(ans, l)\n",
    "            if root.left:\n",
    "                ans, l = helper(root.left, l+1)\n",
    "                if k == l:\n",
    "                    return(ans, l)\n",
    "            return(root, l+1) \n",
    "        return helper(root,0)\n",
    "    def inorder(self, root):\n",
    "        if root.left:\n",
    "            self.inorder(root.left)\n",
    "        print(root.data)\n",
    "        if root.right:\n",
    "            self.inorder(root.right)"
   ]
  },
  {
   "cell_type": "code",
   "execution_count": 3,
   "metadata": {},
   "outputs": [
    {
     "name": "stdout",
     "output_type": "stream",
     "text": [
      "10\n"
     ]
    }
   ],
   "source": [
    "if __name__ == \"__main__\":\n",
    "    root = Tree(10)\n",
    "    #root.left = Tree(8)\n",
    "    #root.left.right = Tree(9)\n",
    "    #root.right = Tree(15)\n",
    "    #root.right.right = Tree(20)\n",
    "    #root.right.right.right = Tree(25)\n",
    "    #root.right.right.right.left = Tree(24)\n",
    "    #root.right.right.right.right = Tree(35)\n",
    "    k = 1\n",
    "    kl = kLargest()\n",
    "    #kl.inorder(root)\n",
    "    print(kl.klargest_finder(root, k)[0].data)"
   ]
  }
 ],
 "metadata": {
  "kernelspec": {
   "display_name": "Python 3",
   "language": "python",
   "name": "python3"
  },
  "language_info": {
   "codemirror_mode": {
    "name": "ipython",
    "version": 3
   },
   "file_extension": ".py",
   "mimetype": "text/x-python",
   "name": "python",
   "nbconvert_exporter": "python",
   "pygments_lexer": "ipython3",
   "version": "3.6.8"
  }
 },
 "nbformat": 4,
 "nbformat_minor": 2
}

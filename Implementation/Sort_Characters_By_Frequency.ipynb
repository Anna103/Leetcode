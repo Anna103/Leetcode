{
 "cells": [
  {
   "cell_type": "code",
   "execution_count": null,
   "metadata": {},
   "outputs": [],
   "source": [
    "\"\"\"Given a string, sort it in decreasing order based on the frequency of characters.\n",
    "\n",
    "Example 1:\n",
    "\n",
    "Input:\n",
    "\"tree\"\n",
    "\n",
    "Output:\n",
    "\"eert\"\n",
    "\n",
    "Explanation:\n",
    "'e' appears twice while 'r' and 't' both appear once.\n",
    "So 'e' must appear before both 'r' and 't'. Therefore \"eetr\" is also a valid answer.\"\"\"\n",
    "\n",
    "# algorithm\n",
    "# create a default dictionary with list as default value\n",
    "# run the the string and add char to dictionaries list\n",
    "# sort accordingt to len of dictionary values"
   ]
  },
  {
   "cell_type": "code",
   "execution_count": 14,
   "metadata": {},
   "outputs": [],
   "source": [
    "import collections\n",
    "class Solution:\n",
    "    def frequencySort(self, s):\n",
    "        dict_s = collections.defaultdict(list)\n",
    "        \"\"\"dict_s = dict()\"\"\"\n",
    "        new_s =\"\"\n",
    "        for i in range(len(s)):\n",
    "            dict_s[s[i]] += s[i]\n",
    "        dict_s =sorted(dict_s.items(), key=lambda x: len(x[1]), reverse=True)\n",
    "        for i in range(len(dict_s)):\n",
    "            new_s +=''.join(dict_s[i][1])\n",
    "        return(new_s)\n",
    "        \n",
    "        "
   ]
  },
  {
   "cell_type": "code",
   "execution_count": 15,
   "metadata": {},
   "outputs": [
    {
     "name": "stdout",
     "output_type": "stream",
     "text": [
      "[('c', ['c', 'c', 'c']), ('a', ['a', 'a', 'a']), ('b', ['b'])]\n",
      "cccaaab\n"
     ]
    }
   ],
   "source": [
    "if __name__ == \"__main__\":\n",
    "    s = \"cccaaab\"\n",
    "    sol = Solution()\n",
    "    print(sol.frequencySort(s))\n",
    "    "
   ]
  }
 ],
 "metadata": {
  "kernelspec": {
   "display_name": "Python 3",
   "language": "python",
   "name": "python3"
  },
  "language_info": {
   "codemirror_mode": {
    "name": "ipython",
    "version": 3
   },
   "file_extension": ".py",
   "mimetype": "text/x-python",
   "name": "python",
   "nbconvert_exporter": "python",
   "pygments_lexer": "ipython3",
   "version": "3.6.8"
  }
 },
 "nbformat": 4,
 "nbformat_minor": 2
}

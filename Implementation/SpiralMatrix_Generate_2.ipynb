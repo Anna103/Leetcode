{
 "cells": [
  {
   "cell_type": "code",
   "execution_count": 1,
   "metadata": {},
   "outputs": [
    {
     "data": {
      "text/plain": [
       "'Given a positive integer n, generate a square matrix filled with elements from 1 to n2 in spiral order.\\n\\n\\nInput: 3\\nOutput:\\n[\\n [ 1, 2, 3 ],\\n [ 8, 9, 4 ],\\n [ 7, 6, 5 ]\\n]\\n\\n\\n# Algorithm\\n# We will have to traverse from left to right, then top to bottom, right to left, bottom to top,\\n# When each time you reach end of the the row or col, reduce/increase the length to avoid duplication\\n\\n\\n'"
      ]
     },
     "execution_count": 1,
     "metadata": {},
     "output_type": "execute_result"
    }
   ],
   "source": [
    "\"\"\"Given a positive integer n, generate a square matrix filled with elements from 1 to n2 in spiral order.\n",
    "\n",
    "\n",
    "Input: 3\n",
    "Output:\n",
    "[\n",
    " [ 1, 2, 3 ],\n",
    " [ 8, 9, 4 ],\n",
    " [ 7, 6, 5 ]\n",
    "]\n",
    "\n",
    "\n",
    "# Algorithm\n",
    "# We will have to traverse from left to right, then top to bottom, right to left, bottom to top,\n",
    "# When each time you reach end of the the row or col, reduce/increase the length to avoid duplication\n",
    "\n",
    "\n",
    "\"\"\"\n"
   ]
  },
  {
   "cell_type": "code",
   "execution_count": 2,
   "metadata": {},
   "outputs": [],
   "source": [
    "class Solution:\n",
    "    def generateMatrix(self, n):\n",
    "        if(n == 0):\n",
    "            return []\n",
    "        nums = [[1 for col in range(n)] for row in range(n)]\n",
    "        top = 0\n",
    "        bottom = n -1\n",
    "        left = 0\n",
    "        right = n-1\n",
    "        \n",
    "        count = 1\n",
    "        while(count <= (n*n)):\n",
    "            for i in range(left, right+1):\n",
    "                if(count <= (n*n)):\n",
    "                    nums[top][i] = count \n",
    "                    count += 1\n",
    "            top += 1\n",
    "            for i in range(top, bottom+1):\n",
    "                if(count <= (n*n)):\n",
    "                    nums[i][right] = count \n",
    "                    count += 1\n",
    "            right -= 1\n",
    "            for i in range(right, left -1, -1):\n",
    "                if(count <= (n*n)):\n",
    "                    nums[bottom][i] = count \n",
    "                    count += 1\n",
    "            bottom -= 1\n",
    "            for i in range(bottom, top -1, -1):\n",
    "                if(count <= (n*n)):\n",
    "                    nums[i][left] = count \n",
    "                    count += 1\n",
    "            left += 1\n",
    "        return nums"
   ]
  },
  {
   "cell_type": "code",
   "execution_count": 3,
   "metadata": {},
   "outputs": [
    {
     "name": "stdout",
     "output_type": "stream",
     "text": [
      "[[1, 2, 3], [8, 9, 4], [7, 6, 5]]\n"
     ]
    }
   ],
   "source": [
    "if __name__ == \"__main__\":\n",
    "    s = Solution()\n",
    "    n = 3\n",
    "    print(s.generateMatrix(n))"
   ]
  }
 ],
 "metadata": {
  "kernelspec": {
   "display_name": "Python 3",
   "language": "python",
   "name": "python3"
  },
  "language_info": {
   "codemirror_mode": {
    "name": "ipython",
    "version": 3
   },
   "file_extension": ".py",
   "mimetype": "text/x-python",
   "name": "python",
   "nbconvert_exporter": "python",
   "pygments_lexer": "ipython3",
   "version": "3.6.8"
  }
 },
 "nbformat": 4,
 "nbformat_minor": 2
}

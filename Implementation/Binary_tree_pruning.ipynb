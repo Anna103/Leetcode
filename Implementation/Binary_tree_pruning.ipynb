{
 "cells": [
  {
   "cell_type": "code",
   "execution_count": 2,
   "metadata": {},
   "outputs": [],
   "source": [
    "class Node:\n",
    "    \n",
    "    def __init__(self, data):\n",
    "        self.data = data \n",
    "        self.left = None\n",
    "        self.right = None\n",
    "        "
   ]
  },
  {
   "cell_type": "code",
   "execution_count": 3,
   "metadata": {},
   "outputs": [],
   "source": [
    "def prune(root):\n",
    "    if root == None:\n",
    "        return None\n",
    "    root.left = prune(root.left)\n",
    "    root.right = prune(root.right)\n",
    "    if(root.data == 0 and root.left == None and root.right == None):\n",
    "        return None\n",
    "    return root\n",
    "\n",
    "\n",
    "def inorder(root):\n",
    "    if root:\n",
    "        if root.left: \n",
    "            inorder(root.left) \n",
    "        print(root.data) \n",
    "        if root.right:\n",
    "            inorder(root.right)"
   ]
  },
  {
   "cell_type": "code",
   "execution_count": 4,
   "metadata": {},
   "outputs": [
    {
     "name": "stdout",
     "output_type": "stream",
     "text": [
      "1\n",
      "1\n",
      "0\n",
      "1\n"
     ]
    }
   ],
   "source": [
    "if __name__ == '__main__':\n",
    "    root = Node(1)\n",
    "    root.left = Node(1)\n",
    "    root.right = Node(0)\n",
    "    root.right.left = Node(0)\n",
    "    root.right.right = Node(1)\n",
    "    x = prune(root)\n",
    "    inorder(x)"
   ]
  }
 ],
 "metadata": {
  "kernelspec": {
   "display_name": "Python 3",
   "language": "python",
   "name": "python3"
  },
  "language_info": {
   "codemirror_mode": {
    "name": "ipython",
    "version": 3
   },
   "file_extension": ".py",
   "mimetype": "text/x-python",
   "name": "python",
   "nbconvert_exporter": "python",
   "pygments_lexer": "ipython3",
   "version": "3.6.8"
  }
 },
 "nbformat": 4,
 "nbformat_minor": 2
}

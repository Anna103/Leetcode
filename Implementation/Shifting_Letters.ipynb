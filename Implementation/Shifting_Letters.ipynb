{
 "cells": [
  {
   "cell_type": "code",
   "execution_count": 1,
   "metadata": {},
   "outputs": [
    {
     "data": {
      "text/plain": [
       "'We have a string S of lowercase letters, and an integer array shifts.\\n\\nCall the shift of a letter, the next letter in the alphabet, (wrapping around so that \\'z\\' becomes \\'a\\'). \\n\\nFor example, shift(\\'a\\') = \\'b\\', shift(\\'t\\') = \\'u\\', and shift(\\'z\\') = \\'a\\'.\\n\\nNow for each shifts[i] = x, we want to shift the first i+1 letters of S, x times.\\n\\nReturn the final string after all such shifts to S are applied.\\n\\nExample 1:\\n\\nInput: S = \"abc\", shifts = [3,5,9]\\nOutput: \"rpl\"\\nExplanation: \\nWe start with \"abc\".\\nAfter shifting the first 1 letters of S by 3, we have \"dbc\".\\nAfter shifting the first 2 letters of S by 5, we have \"igc\".\\nAfter shifting the first 3 letters of S by 9, we have \"rpl\", the answer.'"
      ]
     },
     "execution_count": 1,
     "metadata": {},
     "output_type": "execute_result"
    }
   ],
   "source": [
    "\"\"\"We have a string S of lowercase letters, and an integer array shifts.\n",
    "\n",
    "Call the shift of a letter, the next letter in the alphabet, (wrapping around so that 'z' becomes 'a'). \n",
    "\n",
    "For example, shift('a') = 'b', shift('t') = 'u', and shift('z') = 'a'.\n",
    "\n",
    "Now for each shifts[i] = x, we want to shift the first i+1 letters of S, x times.\n",
    "\n",
    "Return the final string after all such shifts to S are applied.\n",
    "\n",
    "Example 1:\n",
    "\n",
    "Input: S = \"abc\", shifts = [3,5,9]\n",
    "Output: \"rpl\"\n",
    "Explanation: \n",
    "We start with \"abc\".\n",
    "After shifting the first 1 letters of S by 3, we have \"dbc\".\n",
    "After shifting the first 2 letters of S by 5, we have \"igc\".\n",
    "After shifting the first 3 letters of S by 9, we have \"rpl\", the answer.\"\"\"\n",
    "\n",
    "\n",
    "\n",
    "# Algorithm\n",
    "# We notice that first letter will have rotation which is sum of all the shifts\n",
    "# Secondletter will have roation of all shifts except 1st\n",
    "# We can calculate sum of all shifts starting from the end and then reverse to get the actual shift to be done\n",
    "# ord() is used to get ascii, add ascii of char to shift calculated - ord(\"a\") % 26 + ord(\"a\")\n",
    "# above step is to ensure we stay in our range"
   ]
  },
  {
   "cell_type": "code",
   "execution_count": 3,
   "metadata": {},
   "outputs": [],
   "source": [
    "class Solution:\n",
    "    def shiftingLetters(self, S, shifts):\n",
    "        curr_sum = 0\n",
    "        shift_lst = []\n",
    "        for i in reversed(shifts):\n",
    "            curr_sum += i\n",
    "            shift_lst.append(curr_sum)\n",
    "        shift_lst.reverse()\n",
    "        sol = []\n",
    "        for idx, c in enumerate(S):\n",
    "            target = (ord(c)+shift_lst[idx]-ord('a'))%26+ord('a')\n",
    "            target = chr(target)\n",
    "            sol.append(target)\n",
    "        return ''.join(sol)"
   ]
  },
  {
   "cell_type": "code",
   "execution_count": 4,
   "metadata": {},
   "outputs": [
    {
     "name": "stdout",
     "output_type": "stream",
     "text": [
      "rpl\n"
     ]
    }
   ],
   "source": [
    "if __name__ == \"__main__\":\n",
    "    S = \"abc\"\n",
    "    shifts = [3,5,9]\n",
    "    s = Solution()\n",
    "    print(s.shiftingLetters(S, shifts))"
   ]
  }
 ],
 "metadata": {
  "kernelspec": {
   "display_name": "Python 3",
   "language": "python",
   "name": "python3"
  },
  "language_info": {
   "codemirror_mode": {
    "name": "ipython",
    "version": 3
   },
   "file_extension": ".py",
   "mimetype": "text/x-python",
   "name": "python",
   "nbconvert_exporter": "python",
   "pygments_lexer": "ipython3",
   "version": "3.6.8"
  }
 },
 "nbformat": 4,
 "nbformat_minor": 2
}

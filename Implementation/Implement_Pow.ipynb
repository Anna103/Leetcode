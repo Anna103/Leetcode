{
 "cells": [
  {
   "cell_type": "code",
   "execution_count": null,
   "metadata": {},
   "outputs": [],
   "source": []
  },
  {
   "cell_type": "code",
   "execution_count": null,
   "metadata": {},
   "outputs": [],
   "source": [
    "class Solution:\n",
    "    def __init__(self):\n",
    "        self.dict_pow = dict()\n",
    "        self.dict_pow[0] = 1\n",
    "    def myPow(self, x: float, n: int) -> float:\n",
    "        if n < 0:\n",
    "            return self.myPow((1/x), (n *-1))\n",
    "        if n in self.dict_pow.keys():\n",
    "            return self.dict_pow[n]\n",
    "        if n%2 == 0:\n",
    "            self.dict_pow[n] = self.myPow(x, int(n/2)) * self.myPow(x, int(n/2))\n",
    "            return self.dict_pow[n] \n",
    "        else:\n",
    "            self.dict_pow[n] =   x * self.myPow(x, n-1)\n",
    "            return self.dict_pow[n] "
   ]
  }
 ],
 "metadata": {
  "kernelspec": {
   "display_name": "Python 3",
   "language": "python",
   "name": "python3"
  },
  "language_info": {
   "codemirror_mode": {
    "name": "ipython",
    "version": 3
   },
   "file_extension": ".py",
   "mimetype": "text/x-python",
   "name": "python",
   "nbconvert_exporter": "python",
   "pygments_lexer": "ipython3",
   "version": "3.6.8"
  }
 },
 "nbformat": 4,
 "nbformat_minor": 2
}

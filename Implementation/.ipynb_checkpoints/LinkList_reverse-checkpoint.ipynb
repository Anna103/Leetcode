{
 "cells": [
  {
   "cell_type": "code",
   "execution_count": 3,
   "metadata": {},
   "outputs": [],
   "source": [
    "#Create a node with data and next value pointer\n",
    "class Node:\n",
    "    def __init__(self, data = None):\n",
    "        self.data = data\n",
    "        self.next_node = None"
   ]
  },
  {
   "cell_type": "code",
   "execution_count": 10,
   "metadata": {},
   "outputs": [],
   "source": [
    "#Holds functions for creating, displaying and inserting into a link list \n",
    "class LinkList:\n",
    "    #Constructor for linklist, initialse head of linklist to nothing\n",
    "    def __init__(self):\n",
    "        self.head = None\n",
    "    \n",
    "    def display_ll(self):\n",
    "        if(self.head == None):\n",
    "            print(\"Nothing to print\")\n",
    "        else:\n",
    "            temp = self.head\n",
    "            while(temp!=None):\n",
    "                print(temp.data)\n",
    "                temp = temp.next_node\n",
    "                \n",
    "                \n",
    "    def insert_linklist(self,data):\n",
    "        newdata = Node(data)\n",
    "        if(self.head == None):\n",
    "            self.head = newdata\n",
    "\n",
    "        else:\n",
    "            temp = self.head\n",
    "            while(temp.next_node != None):\n",
    "                temp = temp.next_node\n",
    "            temp.next_node = newdata"
   ]
  },
  {
   "cell_type": "code",
   "execution_count": 11,
   "metadata": {},
   "outputs": [
    {
     "name": "stdout",
     "output_type": "stream",
     "text": [
      "1\n",
      "2\n",
      "1.5\n",
      "3\n",
      "5\n",
      "10\n",
      "4\n"
     ]
    }
   ],
   "source": [
    "if __name__ == \"__main__\":\n",
    "    llist = LinkList()\n",
    "    llist.head = Node(1)  \n",
    "    llist.insert_linklist(2)\n",
    "    llist.insert_linklist(1.5)\n",
    "    llist.insert_linklist(3)\n",
    "    llist.insert_linklist(5)\n",
    "    llist.insert_linklist(10)\n",
    "    llist.insert_linklist(4)\n",
    "    llist.display_ll()"
   ]
  }
 ],
 "metadata": {
  "kernelspec": {
   "display_name": "Python 3",
   "language": "python",
   "name": "python3"
  },
  "language_info": {
   "codemirror_mode": {
    "name": "ipython",
    "version": 3
   },
   "file_extension": ".py",
   "mimetype": "text/x-python",
   "name": "python",
   "nbconvert_exporter": "python",
   "pygments_lexer": "ipython3",
   "version": "3.6.8"
  }
 },
 "nbformat": 4,
 "nbformat_minor": 2
}

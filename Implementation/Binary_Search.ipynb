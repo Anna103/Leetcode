{
 "cells": [
  {
   "cell_type": "code",
   "execution_count": 1,
   "metadata": {},
   "outputs": [],
   "source": [
    "# Perform Binary search on the given array\n",
    "# Algorithm\n",
    "# Run the loop while low < high\n",
    "    # mid is (low + high) //2\n",
    "    # if our number is == value at mid then return mid\n",
    "    # if our number is greater than value at mid change our low to mid +1\n",
    "    # else change our high to mid - 1\n",
    "# else return -1\n",
    "    \n",
    "    \n",
    "# Time complexity = logn    "
   ]
  },
  {
   "cell_type": "code",
   "execution_count": 3,
   "metadata": {},
   "outputs": [],
   "source": [
    "\n",
    "class Solution:\n",
    "    def search(nums,target):\n",
    "        low = 0\n",
    "        high = len(nums)-1\n",
    "        while(low <= high):\n",
    "            mid = (high + low)//2\n",
    "            #print(low, mid, high)\n",
    "            if(nums[mid] == target):\n",
    "                return mid\n",
    "            if(nums[mid] > target):\n",
    "                high = mid - 1\n",
    "            else:\n",
    "                low = mid + 1\n",
    "        return -1\n",
    "                    \n",
    "                "
   ]
  },
  {
   "cell_type": "code",
   "execution_count": 4,
   "metadata": {},
   "outputs": [
    {
     "data": {
      "text/plain": [
       "0"
      ]
     },
     "execution_count": 4,
     "metadata": {},
     "output_type": "execute_result"
    }
   ],
   "source": [
    "nums= [7]\n",
    "target = 7\n",
    "Solution.search(nums,target)"
   ]
  }
 ],
 "metadata": {
  "kernelspec": {
   "display_name": "Python 3",
   "language": "python",
   "name": "python3"
  },
  "language_info": {
   "codemirror_mode": {
    "name": "ipython",
    "version": 3
   },
   "file_extension": ".py",
   "mimetype": "text/x-python",
   "name": "python",
   "nbconvert_exporter": "python",
   "pygments_lexer": "ipython3",
   "version": "3.6.8"
  }
 },
 "nbformat": 4,
 "nbformat_minor": 2
}

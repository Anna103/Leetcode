{
 "cells": [
  {
   "cell_type": "code",
   "execution_count": null,
   "metadata": {},
   "outputs": [],
   "source": [
    "\"\"\"A self-dividing number is a number that is divisible by every digit it contains.\n",
    "\n",
    "For example, 128 is a self-dividing number because 128 % 1 == 0, 128 % 2 == 0, and 128 % 8 == 0.\n",
    "\n",
    "Also, a self-dividing number is not allowed to contain the digit zero.\n",
    "\n",
    "Given a lower and upper number bound, output a list of every possible self dividing number, including the bounds if possible.\n",
    "\n",
    "Example 1:\n",
    "Input: \n",
    "left = 1, right = 22\n",
    "Output: [1, 2, 3, 4, 5, 6, 7, 8, 9, 11, 12, 15, 22]\"\"\"\n",
    "\n",
    "\n",
    "# Algorithm\n",
    "# 1. Run the loop from left to right +1 since we want to include right also(i)\n",
    "# 2. save this i in some n\n",
    "# 3. while n != 0\n",
    "    # 4. if (x== 0 or n%x != 0 ):\n",
    "        # break and return False\n",
    "    #5. n = n/10\n",
    "    #return true and add it to our answer\n",
    "    "
   ]
  },
  {
   "cell_type": "code",
   "execution_count": 2,
   "metadata": {},
   "outputs": [],
   "source": [
    "class Solution:\n",
    "    def selfDividingNumbers(self, left: int, right: int):\n",
    "        ans = []\n",
    "        for i in range(left, right+1):\n",
    "            n = i\n",
    "            add = False\n",
    "            while(n != 0):\n",
    "                x = int(n%10)\n",
    "                if(x == 0 or i%x != 0):\n",
    "                    add = False\n",
    "                    break\n",
    "                n = int(n/10)\n",
    "                add = True\n",
    "            if(add):\n",
    "                ans.append(i)\n",
    "        return ans"
   ]
  },
  {
   "cell_type": "code",
   "execution_count": 3,
   "metadata": {},
   "outputs": [
    {
     "name": "stdout",
     "output_type": "stream",
     "text": [
      "[1, 2, 3, 4, 5, 6, 7, 8, 9, 11, 12, 15, 22]\n"
     ]
    }
   ],
   "source": [
    "if __name__ == \"__main__\":\n",
    "    s = Solution()\n",
    "    print(s.selfDividingNumbers(1, 22))"
   ]
  }
 ],
 "metadata": {
  "kernelspec": {
   "display_name": "Python 3",
   "language": "python",
   "name": "python3"
  },
  "language_info": {
   "codemirror_mode": {
    "name": "ipython",
    "version": 3
   },
   "file_extension": ".py",
   "mimetype": "text/x-python",
   "name": "python",
   "nbconvert_exporter": "python",
   "pygments_lexer": "ipython3",
   "version": "3.6.8"
  }
 },
 "nbformat": 4,
 "nbformat_minor": 2
}

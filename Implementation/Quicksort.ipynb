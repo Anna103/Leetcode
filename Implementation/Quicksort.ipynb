{
 "cells": [
  {
   "cell_type": "code",
   "execution_count": 3,
   "metadata": {},
   "outputs": [],
   "source": [
    "# Here we are considering our last element to be the pivot\n",
    "# we will have 2 pointers i and j \n",
    "# i points to the element at the lower side\n",
    "# j starts from low and goes until high\n",
    "# j tries to find any element that is lower than pivot then exchanges value at i and j\n",
    "    # i and j is incrementated by 1\n",
    "\n",
    "# After the loop is completed element at i and high is swaped\n",
    "# this element at i is at correct poistion\n",
    "\n",
    "# All elements before and after this i is passed thorugh above step\n",
    "\n",
    "class Solution:\n",
    "    \n",
    "    def partition(self, low, high, array):\n",
    "        \n",
    "        i = low\n",
    "        pivot = array[high]     # pivot \n",
    "\n",
    "        for j in range(low , high): \n",
    "\n",
    "            # If current element is smaller than or \n",
    "            # equal to pivot \n",
    "            if   array[j] <= pivot: \n",
    "\n",
    "                 \n",
    "                array[i],array[j] = array[j],array[i] \n",
    "                # increment index of smaller element \n",
    "                i = i+1\n",
    "\n",
    "        array[i],array[high] = array[high],array[i] \n",
    "        return ( i ) \n",
    "    \n",
    "    \n",
    "    def quicksort(self, low, high, array):\n",
    "        \n",
    "        if(low < high):\n",
    "            pi = self.partition(low, high, array)\n",
    "            self.quicksort(low, pi-1, array)\n",
    "            self.quicksort(pi+1, high, array)\n",
    "        return array\n",
    "            "
   ]
  },
  {
   "cell_type": "code",
   "execution_count": 4,
   "metadata": {},
   "outputs": [
    {
     "name": "stdout",
     "output_type": "stream",
     "text": [
      "5\n",
      "1\n",
      "2\n",
      "3\n",
      "Sorted array is:\n",
      "[1, 2, 4, 5, 6, 7]\n"
     ]
    }
   ],
   "source": [
    "if __name__ == \"__main__\":\n",
    "    # Driver code to test above \n",
    "    array = [1, 4, 5,6, 2, 7] \n",
    "    n = len(array) \n",
    "    s =Solution()\n",
    "    arr = s.quicksort(0,n-1, array) \n",
    "    print (\"Sorted array is:\")\n",
    "    print(arr)\n"
   ]
  }
 ],
 "metadata": {
  "kernelspec": {
   "display_name": "Python 3",
   "language": "python",
   "name": "python3"
  },
  "language_info": {
   "codemirror_mode": {
    "name": "ipython",
    "version": 3
   },
   "file_extension": ".py",
   "mimetype": "text/x-python",
   "name": "python",
   "nbconvert_exporter": "python",
   "pygments_lexer": "ipython3",
   "version": "3.6.8"
  }
 },
 "nbformat": 4,
 "nbformat_minor": 2
}

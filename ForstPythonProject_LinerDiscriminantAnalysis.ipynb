{
 "cells": [
  {
   "cell_type": "code",
   "execution_count": 13,
   "metadata": {},
   "outputs": [],
   "source": [
    "#Supervised\n",
    "import pandas as pd\n",
    "from sklearn import model_selection\n",
    "from sklearn.metrics import classification_report\n",
    "from sklearn.metrics import confusion_matrix\n",
    "from sklearn.metrics import accuracy_score\n",
    "from sklearn.tree import DecisionTreeClassifier\n",
    "from sklearn.neighbors import KNeighborsClassifier\n",
    "from sklearn.discriminant_analysis import LinearDiscriminantAnalysis\n",
    "from sklearn.naive_bayes import GaussianNB\n",
    "from sklearn.svm import SVC"
   ]
  },
  {
   "cell_type": "code",
   "execution_count": 14,
   "metadata": {},
   "outputs": [],
   "source": [
    "url = \"https://raw.githubusercontent.com/jbrownlee/Datasets/master/iris.csv\"\n",
    "names = ['sepal-length', 'sepal-width', 'petal-length', 'petal-width', 'class']\n",
    "dataset = pd.read_csv(url, names=names)\n",
    "array = dataset.values\n",
    "X = array[:,0:4]\n",
    "Y = array[:,4]\n",
    "validation_size = 0.20\n",
    "seed = 7\n",
    "X_train, X_validation, Y_train, Y_validation = model_selection.train_test_split(X, Y, test_size=validation_size, random_state=seed)"
   ]
  },
  {
   "cell_type": "code",
   "execution_count": 28,
   "metadata": {},
   "outputs": [],
   "source": [
    "seed = 7\n",
    "scoring = 'accuracy'\n",
    "clf = LinearDiscriminantAnalysis(solver='svd', tol=0.000001).fit(X, Y)"
   ]
  },
  {
   "cell_type": "code",
   "execution_count": 29,
   "metadata": {},
   "outputs": [
    {
     "name": "stdout",
     "output_type": "stream",
     "text": [
      "         Prediction           Actual\n",
      "0    Iris-virginica   Iris-virginica\n",
      "1   Iris-versicolor  Iris-versicolor\n",
      "2       Iris-setosa      Iris-setosa\n",
      "3   Iris-versicolor  Iris-versicolor\n",
      "4    Iris-virginica   Iris-virginica\n",
      "5       Iris-setosa      Iris-setosa\n",
      "6   Iris-versicolor  Iris-versicolor\n",
      "7   Iris-versicolor  Iris-versicolor\n",
      "8       Iris-setosa      Iris-setosa\n",
      "9   Iris-versicolor  Iris-versicolor\n",
      "10  Iris-versicolor  Iris-versicolor\n",
      "11  Iris-versicolor  Iris-versicolor\n",
      "12      Iris-setosa      Iris-setosa\n",
      "13   Iris-virginica   Iris-virginica\n",
      "14      Iris-setosa      Iris-setosa\n",
      "15   Iris-virginica  Iris-versicolor\n",
      "16   Iris-virginica   Iris-virginica\n",
      "17   Iris-virginica   Iris-virginica\n",
      "18      Iris-setosa      Iris-setosa\n",
      "19      Iris-setosa      Iris-setosa\n",
      "20  Iris-versicolor  Iris-versicolor\n",
      "21   Iris-virginica   Iris-virginica\n",
      "22  Iris-versicolor  Iris-versicolor\n",
      "23   Iris-virginica   Iris-virginica\n",
      "24   Iris-virginica   Iris-virginica\n",
      "25   Iris-virginica   Iris-virginica\n",
      "26  Iris-versicolor  Iris-versicolor\n",
      "27  Iris-versicolor  Iris-versicolor\n",
      "28   Iris-virginica   Iris-virginica\n",
      "29   Iris-virginica   Iris-virginica\n",
      "0.9666666666666667\n",
      "[[ 7  0  0]\n",
      " [ 0 11  1]\n",
      " [ 0  0 11]]\n",
      "                 precision    recall  f1-score   support\n",
      "\n",
      "    Iris-setosa       1.00      1.00      1.00         7\n",
      "Iris-versicolor       1.00      0.92      0.96        12\n",
      " Iris-virginica       0.92      1.00      0.96        11\n",
      "\n",
      "    avg / total       0.97      0.97      0.97        30\n",
      "\n"
     ]
    }
   ],
   "source": [
    "df=pd.DataFrame(columns=[\"Prediction\",\"Actual\"])\n",
    "predictions = clf.predict(X_validation)\n",
    "df[\"Prediction\"]=predictions\n",
    "df[\"Actual\"]=Y_validation\n",
    "print(df)\n",
    "print(accuracy_score(Y_validation, predictions))\n",
    "print(confusion_matrix(Y_validation, predictions))\n",
    "print(classification_report(Y_validation, predictions))"
   ]
  }
 ],
 "metadata": {
  "kernelspec": {
   "display_name": "Python 3",
   "language": "python",
   "name": "python3"
  },
  "language_info": {
   "codemirror_mode": {
    "name": "ipython",
    "version": 3
   },
   "file_extension": ".py",
   "mimetype": "text/x-python",
   "name": "python",
   "nbconvert_exporter": "python",
   "pygments_lexer": "ipython3",
   "version": "3.6.5"
  }
 },
 "nbformat": 4,
 "nbformat_minor": 2
}

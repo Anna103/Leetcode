{
 "cells": [
  {
   "cell_type": "code",
   "execution_count": 1,
   "metadata": {},
   "outputs": [
    {
     "data": {
      "text/plain": [
       "'all_chars = string.ascii_letters + string.digits\\nshortUrl = \"\".join(random.choice(all_chars) for x in range(6))'"
      ]
     },
     "execution_count": 1,
     "metadata": {},
     "output_type": "execute_result"
    }
   ],
   "source": [
    "\"\"\"TinyURL is a URL shortening service where you enter a URL \n",
    "such as https://leetcode.com/problems/design-tinyurl and it returns a short URL such as http://tinyurl.com/4e9iAk.\n",
    "\n",
    "Design the encode and decode methods for the TinyURL service. \n",
    "There is no restriction on how your encode/decode algorithm should work. You just need to ensure that a \n",
    "URL can be encoded to a tiny URL \n",
    "and the tiny URL can be decoded to the original URL.\"\"\"\n",
    "\n",
    "\n",
    "#Algorithm\n",
    "\n",
    "# 1. We make use of dictionary to store our values in the table(key -> long url, values -> short url)\n",
    "# 2. url can be shorten using random.choice(char)\n",
    "# step to shorten url is\n",
    "\n",
    "\n",
    "\"\"\"all_chars = string.ascii_letters + string.digits\n",
    "shortUrl = \"\".join(random.choice(all_chars) for x in range(6))\"\"\"\n",
    "\n"
   ]
  },
  {
   "cell_type": "code",
   "execution_count": null,
   "metadata": {},
   "outputs": [],
   "source": [
    "import string\n",
    "import random\n",
    "class Codec:\n",
    "    \n",
    "    def __init__(self):\n",
    "        self.long_short = dict()\n",
    "\n",
    "    def encode(self, longUrl: str) -> str:\n",
    "        \"\"\"Encodes a URL to a shortened URL.\n",
    "        \"\"\"\n",
    "        if(longUrl in self.long_short.keys()):\n",
    "            return self.long_short\n",
    "        else:\n",
    "            all_chars = string.ascii_letters + string.digits\n",
    "            shortUrl = \"\".join(random.choice(all_chars) for x in range(6))\n",
    "            while(shortUrl in self.long_short.values()):\n",
    "                all_chars = string.ascii_letters + string.digits\n",
    "                shortUrl = \"\".join(random.choice(all_chars) for x in range(6))\n",
    "            self.long_short[longUrl] = shortUrl\n",
    "            return shortUrl\n",
    "                \n",
    "            \n",
    "        \n",
    "\n",
    "    def decode(self, shortUrl: str) -> str:\n",
    "        \"\"\"Decodes a shortened URL to its original URL.\n",
    "        \"\"\"\n",
    "        for key, value in self.long_short.items():\n",
    "            if(value == shortUrl):\n",
    "                return key\n",
    "            \n",
    "        \n",
    "\n",
    "# Your Codec object will be instantiated and called as such:\n",
    "# codec = Codec()\n",
    "# codec.decode(codec.encode(url))"
   ]
  }
 ],
 "metadata": {
  "kernelspec": {
   "display_name": "Python 3",
   "language": "python",
   "name": "python3"
  },
  "language_info": {
   "codemirror_mode": {
    "name": "ipython",
    "version": 3
   },
   "file_extension": ".py",
   "mimetype": "text/x-python",
   "name": "python",
   "nbconvert_exporter": "python",
   "pygments_lexer": "ipython3",
   "version": "3.6.8"
  }
 },
 "nbformat": 4,
 "nbformat_minor": 2
}

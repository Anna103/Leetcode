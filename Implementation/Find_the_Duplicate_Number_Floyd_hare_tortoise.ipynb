{
 "cells": [
  {
   "cell_type": "code",
   "execution_count": 1,
   "metadata": {},
   "outputs": [
    {
     "data": {
      "text/plain": [
       "'Given an array nums containing n + 1 integers where each integer is between 1 and n (inclusive), prove that at least one duplicate number must exist. Assume that there is only one duplicate number, find the duplicate one.\\n\\nExample 1:\\n\\nInput: [1,3,4,2,2]\\nOutput: 2'"
      ]
     },
     "execution_count": 1,
     "metadata": {},
     "output_type": "execute_result"
    }
   ],
   "source": [
    "\"\"\"Given an array nums containing n + 1 integers where each integer is between 1 and n (inclusive), \n",
    "prove that at least one duplicate number must exist. \n",
    "Assume that there is only one duplicate number, find the duplicate one.\n",
    "\n",
    "Example 1:\n",
    "\n",
    "Input: [1,3,4,2,2]\n",
    "Output: 2\"\"\"\n",
    "\n",
    "# Algorithm\n",
    "# Our idea here is to have a slow pointer and a fast pointer\n",
    "# Hare will be the fast(hare = nums[hare]) and tortoise will be the slower(tortoise = nums[nums[tortoise]])\n",
    "# when ever they match, it means we have entered a cycle\n",
    "# Now we need to find the entrance of the cycle\n",
    "\n",
    "# At this point hare will move slow\n",
    "#tortoise = nums[tortoise]\n",
    "#hare = nums[hare]\n",
    "\n",
    "# When they meet that means we have found the entrance, return any one value\n",
    "\n",
    "\n",
    "# Time Complexity O(N)\n",
    "# Space Complexity O(1)"
   ]
  },
  {
   "cell_type": "code",
   "execution_count": 10,
   "metadata": {},
   "outputs": [],
   "source": [
    "class Solution:\n",
    "    def findDuplicate(self, nums):\n",
    "        tortoise = nums[0]\n",
    "        hare = nums[0]\n",
    "        while True:\n",
    "            tortoise = nums[tortoise]\n",
    "            hare = nums[nums[hare]]\n",
    "            if tortoise == hare:\n",
    "                break\n",
    "        tortoise = nums[0]\n",
    "        while tortoise != hare:\n",
    "            tortoise = nums[tortoise]\n",
    "            hare = nums[hare]\n",
    "        return hare"
   ]
  },
  {
   "cell_type": "code",
   "execution_count": 11,
   "metadata": {},
   "outputs": [
    {
     "name": "stdout",
     "output_type": "stream",
     "text": [
      "2\n"
     ]
    }
   ],
   "source": [
    "if __name__ == \"__main__\":\n",
    "    nums = [3, 4, 1, 2, 5, 6, 2]\n",
    "    s = Solution()\n",
    "    print(s.findDuplicate(nums))"
   ]
  }
 ],
 "metadata": {
  "kernelspec": {
   "display_name": "Python 3",
   "language": "python",
   "name": "python3"
  },
  "language_info": {
   "codemirror_mode": {
    "name": "ipython",
    "version": 3
   },
   "file_extension": ".py",
   "mimetype": "text/x-python",
   "name": "python",
   "nbconvert_exporter": "python",
   "pygments_lexer": "ipython3",
   "version": "3.6.8"
  }
 },
 "nbformat": 4,
 "nbformat_minor": 2
}

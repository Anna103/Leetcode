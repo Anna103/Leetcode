{
 "cells": [
  {
   "cell_type": "code",
   "execution_count": 21,
   "metadata": {},
   "outputs": [],
   "source": [
    "class StringReverser:\n",
    "    def reverse_string(self, s):\n",
    "        def helper(s, left, right):\n",
    "            if(left >= right):\n",
    "                return \n",
    "            s[left], s[right] = s[right] , s[left]\n",
    "            helper(s, left+1, right -1)\n",
    "        helper(s, 0, len(s)-1)\n",
    "        return s"
   ]
  },
  {
   "cell_type": "code",
   "execution_count": 22,
   "metadata": {},
   "outputs": [
    {
     "name": "stdout",
     "output_type": "stream",
     "text": [
      "['o', 'l', 'l', 'e', 'h']\n"
     ]
    }
   ],
   "source": [
    "if __name__ == \"__main__\":\n",
    "    s = [\"h\", \"e\", \"l\", \"l\", \"o\"]\n",
    "    sr = StringReverser()\n",
    "    ss = sr.reverse_string(s)\n",
    "    print(ss)"
   ]
  }
 ],
 "metadata": {
  "kernelspec": {
   "display_name": "Python 3",
   "language": "python",
   "name": "python3"
  },
  "language_info": {
   "codemirror_mode": {
    "name": "ipython",
    "version": 3
   },
   "file_extension": ".py",
   "mimetype": "text/x-python",
   "name": "python",
   "nbconvert_exporter": "python",
   "pygments_lexer": "ipython3",
   "version": "3.6.8"
  }
 },
 "nbformat": 4,
 "nbformat_minor": 2
}

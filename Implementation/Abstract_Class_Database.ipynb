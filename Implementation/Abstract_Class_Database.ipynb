{
 "cells": [
  {
   "cell_type": "code",
   "execution_count": 1,
   "metadata": {},
   "outputs": [],
   "source": [
    "from abc import ABC, abstractmethod\n",
    "\n",
    "class Database_Search:\n",
    "    \n",
    "    def make_connection(self, connector)\n",
    "    def search(self, table, value):\n",
    "        raise IllegalArgumentException"
   ]
  },
  {
   "cell_type": "code",
   "execution_count": 2,
   "metadata": {},
   "outputs": [],
   "source": [
    "class Dynamo_Search(Database_Search):\n",
    "    def make_connections(self, connector):\n",
    "        #Logic to make connection\n",
    "        return self.match(table, value)\n",
    "    def match(self, table, value):\n",
    "        # After making connection\n",
    "        if(value in table.name):\n",
    "            return True\n",
    "        return False"
   ]
  },
  {
   "cell_type": "code",
   "execution_count": 3,
   "metadata": {},
   "outputs": [],
   "source": [
    "class RDBMS_Search(Database_Search):\n",
    "    def make_connections(self, connector):\n",
    "        #Logic to make connection\n",
    "        return self.match(table, value)\n",
    "    def match(self, table, value):\n",
    "        # I dont know how to make a connection\n",
    "        # After making connection\n",
    "        if(value in table.name):\n",
    "            return True\n",
    "        return False"
   ]
  },
  {
   "cell_type": "code",
   "execution_count": 4,
   "metadata": {},
   "outputs": [],
   "source": [
    "class Connection:\n",
    "    def create_connection(self, Database_Search, connector, table, value):\n",
    "        if(connector.match(table, value)):\n",
    "            return True\n",
    "        else:\n",
    "            return False\n",
    "        "
   ]
  },
  {
   "cell_type": "code",
   "execution_count": null,
   "metadata": {},
   "outputs": [],
   "source": [
    "if __name__ == \"__main__\":\n",
    "    c = Connection()\n",
    "    d = Dynamo_Search()\n",
    "    r = RDBMS_Search\n",
    "    if(connetor == Dynamo):\n",
    "        c.create_connection(d, connector, table, value)\n",
    "    else:\n",
    "        c.create_connection(r, connector, table, value)\n",
    "        "
   ]
  }
 ],
 "metadata": {
  "kernelspec": {
   "display_name": "Python 3",
   "language": "python",
   "name": "python3"
  },
  "language_info": {
   "codemirror_mode": {
    "name": "ipython",
    "version": 3
   },
   "file_extension": ".py",
   "mimetype": "text/x-python",
   "name": "python",
   "nbconvert_exporter": "python",
   "pygments_lexer": "ipython3",
   "version": "3.6.8"
  }
 },
 "nbformat": 4,
 "nbformat_minor": 2
}

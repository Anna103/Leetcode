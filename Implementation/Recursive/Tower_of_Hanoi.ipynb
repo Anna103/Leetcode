{
 "cells": [
  {
   "cell_type": "code",
   "execution_count": null,
   "metadata": {},
   "outputs": [],
   "source": []
  },
  {
   "cell_type": "code",
   "execution_count": 1,
   "metadata": {},
   "outputs": [
    {
     "name": "stdout",
     "output_type": "stream",
     "text": [
      "[3, 2]\n",
      "[]\n",
      "[1]\n",
      "##############\n",
      "[3]\n",
      "[2]\n",
      "[1]\n",
      "##############\n",
      "[3]\n",
      "[2, 1]\n",
      "[]\n",
      "##############\n",
      "[]\n",
      "[2, 1]\n",
      "[3]\n",
      "##############\n",
      "[1]\n",
      "[2]\n",
      "[3]\n",
      "##############\n",
      "[1]\n",
      "[]\n",
      "[3, 2]\n",
      "##############\n",
      "[]\n",
      "[]\n",
      "[3, 2, 1]\n",
      "##############\n"
     ]
    }
   ],
   "source": [
    "A = [3, 2, 1]\n",
    "B = []\n",
    "C = []\n",
    "\n",
    "def move(n, source, target, auxiliary):\n",
    "    if n > 0:\n",
    "        # Move n - 1 disks from source to auxiliary, so they are out of the way\n",
    "        move(n - 1, source, auxiliary, target)\n",
    "\n",
    "        # Move the nth disk from source to target\n",
    "        target.append(source.pop())\n",
    "\n",
    "        # Display our progress\n",
    "        print(A, B, C, '##############', sep='\\n')\n",
    "\n",
    "        # Move the n - 1 disks that we left on auxiliary onto target\n",
    "        move(n - 1, auxiliary, target, source)\n",
    "\n",
    "# Initiate call from source A to target C with auxiliary B\n",
    "move(3, A, C, B)"
   ]
  }
 ],
 "metadata": {
  "kernelspec": {
   "display_name": "Python 3",
   "language": "python",
   "name": "python3"
  },
  "language_info": {
   "codemirror_mode": {
    "name": "ipython",
    "version": 3
   },
   "file_extension": ".py",
   "mimetype": "text/x-python",
   "name": "python",
   "nbconvert_exporter": "python",
   "pygments_lexer": "ipython3",
   "version": "3.6.8"
  }
 },
 "nbformat": 4,
 "nbformat_minor": 2
}

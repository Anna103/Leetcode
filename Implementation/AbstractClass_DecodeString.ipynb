{
 "cells": [
  {
   "cell_type": "code",
   "execution_count": null,
   "metadata": {},
   "outputs": [],
   "source": [
    "\"\"\"Given an encoded string, return its decoded string.\n",
    "\n",
    "The encoding rule is: k[encoded_string], where the encoded_string inside the square brackets is being\n",
    "repeated exactly k times. Note that k is guaranteed to be a positive integer.\n",
    "\n",
    "You may assume that the input string is always valid; No extra white spaces, square brackets are well-formed, etc.\n",
    "\n",
    "Furthermore, you may assume that the original data does not contain any digits and that digits are only \n",
    "for those repeat numbers, k. For example, there won't be input like 3a or 2[4].\n",
    "\n",
    " \n",
    "\n",
    "Example 1:\n",
    "\n",
    "Input: s = \"3[a]2[bc]\"\n",
    "Output: \"aaabcbc\"\n",
    "Example 2:\n",
    "\n",
    "Input: s = \"3[a2[c]]\"\n",
    "Output: \"accaccacc\"\n",
    "Example 3:\n",
    "\n",
    "Input: s = \"2[abc]3[cd]ef\"\n",
    "Output: \"abcabccdcdcdef\"\n",
    "Example 4:\n",
    "\n",
    "Input: s = \"abc3[cd]xyz\"\n",
    "Output: \"abccdcdcdxyz\"\"\"\"\n",
    "\n",
    "\n",
    "# Algorithm\n",
    "# 1. Have a stack for chars and count\n",
    "# 2. initailise char string and int string\n",
    "# 3. for each char in string\n",
    "    # if it is a digit append it to count\n",
    "    # if it is \"[\" append char to char stack and count to count stack , initialise char and count to empty\n",
    "    # if it is \"]\" then char = char.pop + char*count*pop\n",
    "    # else add to char"
   ]
  },
  {
   "cell_type": "code",
   "execution_count": 35,
   "metadata": {},
   "outputs": [],
   "source": [
    "from abc import ABC, abstractmethod\n",
    "\n",
    "class Rule:\n",
    "    def string_decoder(self, encoded_string):\n",
    "        raise IllegalArgumentException(ValueError)"
   ]
  },
  {
   "cell_type": "code",
   "execution_count": 36,
   "metadata": {},
   "outputs": [],
   "source": [
    "class KDecodeString(Rule):\n",
    "    def string_decoder(self, encoded_string):\n",
    "        count_stack = []\n",
    "        char_stack = []\n",
    "        count = \"\"\n",
    "        char = \"\"\n",
    "        for each_char in encoded_string:\n",
    "            if each_char.isdigit():\n",
    "                count += each_char\n",
    "            elif each_char == \"[\":\n",
    "                count_stack.append(int(count))\n",
    "                char_stack.append(char)\n",
    "                count = \"\"\n",
    "                char = \"\"\n",
    "            elif each_char == \"]\":\n",
    "                char = char_stack.pop() + char * count_stack.pop()\n",
    "            else:\n",
    "                char += each_char\n",
    "        return char"
   ]
  },
  {
   "cell_type": "code",
   "execution_count": 37,
   "metadata": {},
   "outputs": [],
   "source": [
    "class KKDecodeString:\n",
    "    def string_decoder(self, encoded_string):\n",
    "        count_stack = []\n",
    "        char_stack = []\n",
    "        count = \"\"\n",
    "        char = \"\"\n",
    "        for each_char in encoded_string:\n",
    "            if each_char.isdigit():\n",
    "                count += each_char\n",
    "            elif each_char == \"[\":\n",
    "                count_stack.append(int(count) * int (count))\n",
    "                char_stack.append(char)\n",
    "                count = \"\"\n",
    "                char = \"\"\n",
    "            elif each_char == \"]\":\n",
    "                char = char_stack.pop() + char * count_stack.pop()\n",
    "            else:\n",
    "                char += each_char\n",
    "        return char"
   ]
  },
  {
   "cell_type": "code",
   "execution_count": 38,
   "metadata": {},
   "outputs": [],
   "source": [
    "class Decode:\n",
    "    def decoder(self, Rule, encoded_string):\n",
    "        return Rule.string_decoder(encoded_string)"
   ]
  },
  {
   "cell_type": "code",
   "execution_count": 40,
   "metadata": {},
   "outputs": [
    {
     "name": "stdout",
     "output_type": "stream",
     "text": [
      "aaaaaaaaabcbcbcbc\n"
     ]
    }
   ],
   "source": [
    "if __name__ == \"__main__\":\n",
    "    encoded_string = \"3[a]2[bc]\"\n",
    "    kdecodestring = KDecodeString()\n",
    "    kkdecodestring = KKDecodeString()\n",
    "    decode = Decode()\n",
    "    print(decode.decoder(kkdecodestring, encoded_string))"
   ]
  }
 ],
 "metadata": {
  "kernelspec": {
   "display_name": "Python 3",
   "language": "python",
   "name": "python3"
  },
  "language_info": {
   "codemirror_mode": {
    "name": "ipython",
    "version": 3
   },
   "file_extension": ".py",
   "mimetype": "text/x-python",
   "name": "python",
   "nbconvert_exporter": "python",
   "pygments_lexer": "ipython3",
   "version": "3.6.8"
  }
 },
 "nbformat": 4,
 "nbformat_minor": 2
}

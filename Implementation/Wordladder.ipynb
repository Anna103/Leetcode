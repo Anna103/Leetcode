{
 "cells": [
  {
   "cell_type": "code",
   "execution_count": null,
   "metadata": {},
   "outputs": [],
   "source": [
    "# Time complexity word^2*endword"
   ]
  },
  {
   "cell_type": "code",
   "execution_count": 17,
   "metadata": {},
   "outputs": [],
   "source": [
    "from collections import defaultdict, deque\n",
    "import re\n",
    "        \n",
    "\n",
    "class Solution:\n",
    "    \n",
    "    def find_pattern(self, word):\n",
    "            \"\"\"Find all possible patterns from word\"\"\"\n",
    "            pattern_list = []\n",
    "            for i in range(len(word)):\n",
    "                new_pattern = word[:i]+'.'+word[i+1:]\n",
    "                pattern_list.append(new_pattern)\n",
    "            print(\"Pattern ist\", pattern_list)\n",
    "            return pattern_list\n",
    "    \n",
    "    def do_bfs(self, start,end, adj_list):\n",
    "            \"\"\"DOC\"\"\"\n",
    "            q = deque([(start, 1)])\n",
    "            visited = set()\n",
    "            while q:\n",
    "                node, step = q.popleft()\n",
    "                if node==end:\n",
    "                    return step\n",
    "                if node not in visited:\n",
    "                    visited.add(node)\n",
    "                    pattern_list = self.find_pattern(node)\n",
    "                    for pattern in pattern_list:\n",
    "                        for neighb in adj_list[pattern]:\n",
    "                            if neighb not in visited:\n",
    "                                q.append((neighb, step+1))       \n",
    "            return 0\n",
    "    def ladderLength(self, beginWord: str, endWord: str, wordList) -> int:\n",
    "        \n",
    "        #Quick check to eliminate few corner cases\n",
    "        if endWord not in wordList:\n",
    "            return 0\n",
    "\n",
    "        adj_list = defaultdict(set)\n",
    "        for word in [beginWord]+wordList:\n",
    "            pattern_list = self.find_pattern(word)\n",
    "            for pattern in pattern_list:\n",
    "                adj_list[pattern].add(word)\n",
    "        \n",
    "        \n",
    "        print(\"adj_list\",adj_list)\n",
    "        return self.do_bfs(beginWord, endWord, adj_list) \n",
    "        "
   ]
  },
  {
   "cell_type": "code",
   "execution_count": 18,
   "metadata": {},
   "outputs": [
    {
     "name": "stdout",
     "output_type": "stream",
     "text": [
      "Pattern ist ['.it', 'h.t', 'hi.']\n",
      "Pattern ist ['.ot', 'h.t', 'ho.']\n",
      "Pattern ist ['.ot', 'd.t', 'do.']\n",
      "Pattern ist ['.og', 'd.g', 'do.']\n",
      "Pattern ist ['.ot', 'l.t', 'lo.']\n",
      "Pattern ist ['.og', 'l.g', 'lo.']\n",
      "Pattern ist ['.og', 'c.g', 'co.']\n",
      "adj_list defaultdict(<class 'set'>, {'.it': {'hit'}, 'h.t': {'hot', 'hit'}, 'hi.': {'hit'}, '.ot': {'lot', 'dot', 'hot'}, 'ho.': {'hot'}, 'd.t': {'dot'}, 'do.': {'dog', 'dot'}, '.og': {'cog', 'dog', 'log'}, 'd.g': {'dog'}, 'l.t': {'lot'}, 'lo.': {'lot', 'log'}, 'l.g': {'log'}, 'c.g': {'cog'}, 'co.': {'cog'}})\n",
      "Pattern ist ['.it', 'h.t', 'hi.']\n",
      "Pattern ist ['.ot', 'h.t', 'ho.']\n",
      "Pattern ist ['.ot', 'l.t', 'lo.']\n",
      "Pattern ist ['.ot', 'd.t', 'do.']\n",
      "Pattern ist ['.og', 'l.g', 'lo.']\n",
      "Pattern ist ['.og', 'd.g', 'do.']\n",
      "5\n"
     ]
    }
   ],
   "source": [
    "if __name__ == \"__main__\":\n",
    "    s = Solution()\n",
    "    beginWord = \"hit\"\n",
    "    endWord = \"cog\"\n",
    "    wordList = [\"hot\",\"dot\",\"dog\",\"lot\",\"log\",\"cog\"]\n",
    "    print(s.ladderLength(beginWord, endWord, wordList))"
   ]
  }
 ],
 "metadata": {
  "kernelspec": {
   "display_name": "Python 3",
   "language": "python",
   "name": "python3"
  },
  "language_info": {
   "codemirror_mode": {
    "name": "ipython",
    "version": 3
   },
   "file_extension": ".py",
   "mimetype": "text/x-python",
   "name": "python",
   "nbconvert_exporter": "python",
   "pygments_lexer": "ipython3",
   "version": "3.6.8"
  }
 },
 "nbformat": 4,
 "nbformat_minor": 2
}

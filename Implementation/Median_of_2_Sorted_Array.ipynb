{
 "cells": [
  {
   "cell_type": "code",
   "execution_count": 34,
   "metadata": {},
   "outputs": [],
   "source": [
    "# Concept of binary search is used.\n",
    "# reference : https://www.youtube.com/watch?v=LPFhl65R7ww\n",
    "\n",
    "class Solution:\n",
    "    \n",
    "    def median_answer(self, array_1, array_2):\n",
    "        \n",
    "        # Find the shortest of 2 list in the given 2 array,\n",
    "        # Binary search is performed in smallest array\n",
    "        \n",
    "        if(len(array_1) > len(array_2)):\n",
    "            self.median_answer(array_2, array_1)\n",
    "        \n",
    "        start = 0\n",
    "        end = len(array_1)\n",
    "        X = len(array_1)\n",
    "        Y = len(array_2)\n",
    "        while(start < end):\n",
    "            \n",
    "            partitionX = int((start + end )/2)\n",
    "            partitionY = int((X + Y + 1 )/2 - partitionX)\n",
    "            \n",
    "            X1 = array_1[partitionX - 1]\n",
    "            X2 = array_1[partitionX]\n",
    "            Y1 = array_2[partitionY - 1]\n",
    "            Y2 = array_2[partitionY]\n",
    "            \n",
    "            # Edge case when there is nothing on the left side, then we assign x1 to infinity\n",
    "            if(partitionX == 0):\n",
    "                X1 = float('-inf')\n",
    "            if(partitionX == len(array_1) ):\n",
    "                X2 = float('inf')\n",
    "            \n",
    "            if((X1 < Y2) and (Y1 < X2)):\n",
    "                # We have found correct partitions\n",
    "                \n",
    "                #Check if the sum of length of both is odd or even\n",
    "                \n",
    "                if( (X+Y) % 2 == 0):\n",
    "                    print((max(X1,Y1) + min(X2, Y2))/2)\n",
    "                else:\n",
    "                    print(max(X1,Y1))\n",
    "                break\n",
    "            elif(Y1 > X2):\n",
    "                start = partitionX\n",
    "            else:\n",
    "                end = partitionX"
   ]
  },
  {
   "cell_type": "code",
   "execution_count": 35,
   "metadata": {},
   "outputs": [
    {
     "name": "stdout",
     "output_type": "stream",
     "text": [
      "0 4 2 3\n",
      "0 2 1 4\n",
      "0 1 0 5\n",
      "13.5\n"
     ]
    }
   ],
   "source": [
    "if __name__ == \"__main__\":\n",
    "    s = Solution()\n",
    "    array_1 = [23, 26, 31, 35]\n",
    "    array_2 = [3, 5, 7, 9, 11, 16]\n",
    "    s.median_answer(array_1, array_2)"
   ]
  }
 ],
 "metadata": {
  "kernelspec": {
   "display_name": "Python 3",
   "language": "python",
   "name": "python3"
  },
  "language_info": {
   "codemirror_mode": {
    "name": "ipython",
    "version": 3
   },
   "file_extension": ".py",
   "mimetype": "text/x-python",
   "name": "python",
   "nbconvert_exporter": "python",
   "pygments_lexer": "ipython3",
   "version": "3.6.8"
  }
 },
 "nbformat": 4,
 "nbformat_minor": 2
}

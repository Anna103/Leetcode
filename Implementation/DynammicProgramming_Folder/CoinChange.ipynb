{
 "cells": [
  {
   "cell_type": "code",
   "execution_count": null,
   "metadata": {},
   "outputs": [],
   "source": [
    "\"\"\" Given a value N, if we want to make change for N cents, and we have infinite supply of each of\n",
    "S = { S1, S2, .. , Sm} valued coins, how many ways can we make the change?\n",
    "The order of coins doesn’t matter.\n",
    "For example, for N = 4 and S = {1,2,3}, \n",
    "there are four solutions: {1,1,1,1},{1,1,2},{2,2},{1,3}. \n",
    "So output should be 4. For N = 10 and S = {2, 5, 3, 6}, \n",
    "there are five solutions: {2,2,2,2,2}, {2,2,3,3}, {2,2,6}, {2,3,5} and {5,5}.\n",
    "So the output should be 5.\"\"\"\n",
    "\n",
    "\n"
   ]
  },
  {
   "cell_type": "code",
   "execution_count": 5,
   "metadata": {},
   "outputs": [],
   "source": [
    "class Solution:\n",
    "    def change_coin(self, N, S):\n",
    "        dp = [[0 for col in range(len(S))] for row in range(N+1)]\n",
    "        for j in range(len(S)):\n",
    "            dp[0][j] = 1\n",
    "        for i in range(1, N+1):\n",
    "            for j in range(len(S)):\n",
    "                x = dp[i - S[j]][j] if (i - S[j]) >= 0 else 0\n",
    "                y = dp[i][j-1] if j >=1 else 0\n",
    "                dp[i][j] = x+y\n",
    "        return dp[len(dp)-1][len(dp[0])-1]\n",
    "                "
   ]
  },
  {
   "cell_type": "code",
   "execution_count": 6,
   "metadata": {},
   "outputs": [
    {
     "name": "stdout",
     "output_type": "stream",
     "text": [
      "5\n"
     ]
    }
   ],
   "source": [
    "if __name__ == \"__main__\":\n",
    "    s = Solution()\n",
    "    N = 7\n",
    "    S =[5, 6, 3, 2]\n",
    "    print(s.change_coin(N, S))"
   ]
  }
 ],
 "metadata": {
  "kernelspec": {
   "display_name": "Python 3",
   "language": "python",
   "name": "python3"
  },
  "language_info": {
   "codemirror_mode": {
    "name": "ipython",
    "version": 3
   },
   "file_extension": ".py",
   "mimetype": "text/x-python",
   "name": "python",
   "nbconvert_exporter": "python",
   "pygments_lexer": "ipython3",
   "version": "3.6.8"
  }
 },
 "nbformat": 4,
 "nbformat_minor": 2
}

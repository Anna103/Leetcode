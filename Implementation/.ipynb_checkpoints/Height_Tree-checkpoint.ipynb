{
 "cells": [
  {
   "cell_type": "code",
   "execution_count": 20,
   "metadata": {},
   "outputs": [],
   "source": [
    "# height of tree\n",
    "# Algorithm\n",
    "# 1. Is node equal to None then return 0\n",
    "# 2. Else recursively checkHeight for left and right node and return max of both the height adding 1 to the\n",
    "#    returned value.\n",
    "class Tree:\n",
    "    \n",
    "    def __init__(self,data):\n",
    "        self.left = None\n",
    "        self.right = None\n",
    "        self.data = data\n",
    "    \n",
    "def checkHeight(self):\n",
    "    if(self == None):\n",
    "        return 0\n",
    "    else:\n",
    "        return max(checkHeight(self.left),checkHeight(self.right)) + 1\n",
    "        \n",
    "        "
   ]
  },
  {
   "cell_type": "code",
   "execution_count": 23,
   "metadata": {},
   "outputs": [
    {
     "name": "stdout",
     "output_type": "stream",
     "text": [
      "3\n"
     ]
    }
   ],
   "source": [
    "if __name__ == \"__main__\":\n",
    "    root = Tree(5)\n",
    "    root.left = Tree(2)\n",
    "    root.right = Tree(8)\n",
    "    root.left.left = Tree(4)\n",
    "    #root.left.left.left = Tree(4.2)\n",
    "    root.left.right = Tree(5)\n",
    "    height = checkHeight(root)\n",
    "    print(height)\n",
    "    "
   ]
  },
  {
   "cell_type": "code",
   "execution_count": null,
   "metadata": {},
   "outputs": [],
   "source": []
  }
 ],
 "metadata": {
  "kernelspec": {
   "display_name": "Python 3",
   "language": "python",
   "name": "python3"
  },
  "language_info": {
   "codemirror_mode": {
    "name": "ipython",
    "version": 3
   },
   "file_extension": ".py",
   "mimetype": "text/x-python",
   "name": "python",
   "nbconvert_exporter": "python",
   "pygments_lexer": "ipython3",
   "version": "3.6.8"
  }
 },
 "nbformat": 4,
 "nbformat_minor": 2
}

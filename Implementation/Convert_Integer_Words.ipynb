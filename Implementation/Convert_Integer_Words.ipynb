{
 "cells": [
  {
   "cell_type": "code",
   "execution_count": null,
   "metadata": {},
   "outputs": [],
   "source": [
    "\"\"\"Convert a non-negative integer to its english words representation. \n",
    "Given input is guaranteed to be less than 231 - 1.\n",
    "\n",
    "Example 1:\n",
    "\n",
    "Input: 123\n",
    "Output: \"One Hundred Twenty Three\"\n",
    "Example 2:\n",
    "\n",
    "Input: 12345\n",
    "Output: \"Twelve Thousand Three Hundred Forty Five\"\n",
    "Example 3:\n",
    "\n",
    "Input: 1234567\n",
    "Output: \"One Million Two Hundred Thirty Four Thousand Five Hundred Sixty Seven\"\n",
    "Example 4:\n",
    "\n",
    "Input: 1234567891\n",
    "Output: \"One Billion Two Hundred Thirty Four Million Five Hundred Sixty Seven Thousand Eight Hundred Ninety One\"\"\"\"\n",
    "\n",
    "# Algorithm\n",
    "# 1. Create a list of all numbers until 19 in a list called as upto19\n",
    "# 2. Create another list of tens starting from twenty upto 90 in tens list\n",
    "# 3. Create a helper function that return the english word recursively\n",
    "    # 4. If num is less than 20 then return upto19[num-1:num]\n",
    "    # 5. if num < 100 then return tens[num//10-2] + helper(num%10)\n",
    "    # 6. if num < 1000 then return tens[num//100-1] +['Hundred'] + word(num%100)\n",
    "    # 7. for power, word in enumerate(['thousand','million','billion'], 1)\n",
    "        # if num < 1000 ** (p+1) :\n",
    "            #return helper(num//1000**p) + [word] + helper(num%1000**p)\n",
    "# return ''.join(helper(nums)) or 'Zero'"
   ]
  },
  {
   "cell_type": "code",
   "execution_count": 3,
   "metadata": {},
   "outputs": [],
   "source": [
    "class Solution:\n",
    "    def numberToWords(self, num):\n",
    "        to19 = 'One Two Three Four Five Six Seven Eight Nine Ten Eleven Twelve ' \\\n",
    "               'Thirteen Fourteen Fifteen Sixteen Seventeen Eighteen Nineteen'.split()\n",
    "        tens = 'Twenty Thirty Forty Fifty Sixty Seventy Eighty Ninety'.split()\n",
    "        def words(n):\n",
    "            if n < 20:\n",
    "                return to19[n-1:n]\n",
    "            if n < 100:\n",
    "                return [tens[n//10-2]] + words(n%10)\n",
    "            if n < 1000:\n",
    "                return [to19[n//100-1]] + ['Hundred'] + words(n%100)\n",
    "            for p, w in enumerate(('Thousand', 'Million', 'Billion'), 1):\n",
    "                if n < 1000**(p+1):\n",
    "                    return words(n//1000**p) + [w] + words(n%1000**p)\n",
    "        return ' '.join(words(num)) or 'Zero'"
   ]
  },
  {
   "cell_type": "code",
   "execution_count": 4,
   "metadata": {},
   "outputs": [
    {
     "name": "stdout",
     "output_type": "stream",
     "text": [
      "One Million Two Hundred Thirty Four Thousand Five Hundred Sixty Seven\n"
     ]
    }
   ],
   "source": [
    "if __name__ == \"__main__\":\n",
    "    s = Solution()\n",
    "    print(s.numberToWords(1234567))"
   ]
  },
  {
   "cell_type": "code",
   "execution_count": 12,
   "metadata": {},
   "outputs": [
    {
     "name": "stdout",
     "output_type": "stream",
     "text": [
      "u? r how Hello\n"
     ]
    }
   ],
   "source": [
    "main_st = \"Hello how r u?\"\n",
    "st = main_st.split(' ')\n",
    "left = 0\n",
    "right = len(st)-1\n",
    "while(left < right):\n",
    "    temp = st[left]\n",
    "    st[left] = st[right]\n",
    "    st[right] = temp\n",
    "    left += 1\n",
    "    right -= 1\n",
    "print(\" \".join(st))\n"
   ]
  }
 ],
 "metadata": {
  "kernelspec": {
   "display_name": "Python 3",
   "language": "python",
   "name": "python3"
  },
  "language_info": {
   "codemirror_mode": {
    "name": "ipython",
    "version": 3
   },
   "file_extension": ".py",
   "mimetype": "text/x-python",
   "name": "python",
   "nbconvert_exporter": "python",
   "pygments_lexer": "ipython3",
   "version": "3.6.8"
  }
 },
 "nbformat": 4,
 "nbformat_minor": 2
}

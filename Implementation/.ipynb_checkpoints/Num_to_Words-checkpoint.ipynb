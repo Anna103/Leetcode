{
 "cells": [
  {
   "cell_type": "code",
   "execution_count": null,
   "metadata": {},
   "outputs": [],
   "source": [
    "# The question is to convert the number to string format\n",
    "# Algorithm\n",
    "# 1. create a list of numbers from 1 to 19 in words\n",
    "# 2. create another list for all the tens starting from 20\n",
    "# 3. create a  decorator which takes in the number\n",
    "    # 4. if the number is less than 20 then return upto19[n-1:n]\n",
    "    # 5. if n < 100 : return ten[num/10-2] + decorator(num%10)\n",
    "    # 6. if n < 1000 : return upto19[num/100-1] +['Hundread']+ decorator(num%100)\n",
    "    # 7. for p, w in enumerate((\"thoousand\", \"million\", \"billion\"), 1)\n",
    "        # 8. if n < 1000**(p+1):\n",
    "        # 9.      return words(n/1000**p) + [w] + words(n%1000**p)"
   ]
  },
  {
   "cell_type": "code",
   "execution_count": null,
   "metadata": {},
   "outputs": [],
   "source": [
    "class\n",
    "def numberToWords(self, num):\n",
    "    to19 = 'One Two Three Four Five Six Seven Eight Nine Ten Eleven Twelve ' \\\n",
    "           'Thirteen Fourteen Fifteen Sixteen Seventeen Eighteen Nineteen'.split()\n",
    "    tens = 'Twenty Thirty Forty Fifty Sixty Seventy Eighty Ninety'.split()\n",
    "    def words(n):\n",
    "        if n < 20:\n",
    "            return to19[n-1:n]\n",
    "        if n < 100:\n",
    "            return [tens[n/10-2]] + words(n%10)\n",
    "        if n < 1000:\n",
    "            return [to19[n/100-1]] + ['Hundred'] + words(n%100)\n",
    "        for p, w in enumerate(('Thousand', 'Million', 'Billion'), 1):\n",
    "            if n < 1000**(p+1):\n",
    "                return words(n/1000**p) + [w] + words(n%1000**p)\n",
    "    return ' '.join(words(num)) or 'Zero'\n",
    "        "
   ]
  }
 ],
 "metadata": {
  "kernelspec": {
   "display_name": "Python 3",
   "language": "python",
   "name": "python3"
  },
  "language_info": {
   "codemirror_mode": {
    "name": "ipython",
    "version": 3
   },
   "file_extension": ".py",
   "mimetype": "text/x-python",
   "name": "python",
   "nbconvert_exporter": "python",
   "pygments_lexer": "ipython3",
   "version": "3.6.8"
  }
 },
 "nbformat": 4,
 "nbformat_minor": 2
}

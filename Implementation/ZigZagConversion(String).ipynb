{
 "cells": [
  {
   "cell_type": "code",
   "execution_count": 1,
   "metadata": {},
   "outputs": [
    {
     "data": {
      "text/plain": [
       "'The string \"PAYPALISHIRING\" is written in a zigzag pattern on a given number of rows like this: (you may want to display this pattern in a fixed font for better legibility)\\n\\nP   A   H   N\\nA P L S I I G\\nY   I   R\\nAnd then read line by line: \"PAHNAPLSIIGYIR\"\\n\\nWrite the code that will take a string and make this conversion given a number of rows:'"
      ]
     },
     "execution_count": 1,
     "metadata": {},
     "output_type": "execute_result"
    }
   ],
   "source": [
    "\"\"\"The string \"PAYPALISHIRING\" is written in a zigzag pattern on a given number of rows like this: \n",
    "(you may want to display this pattern in a fixed font for better legibility)\n",
    "\n",
    "P   A   H   N\n",
    "A P L S I I G\n",
    "Y   I   R\n",
    "And then read line by line: \"PAHNAPLSIIGYIR\"\n",
    "\n",
    "Write the code that will take a string and make this conversion given a number of rows:\"\"\"\n",
    "\n",
    "\n",
    "# Algorithm \n",
    "# 1. the idea is to traverse the input string. Every Character has to go to one \n",
    "# of the rows. One by one add all the character to different rows. Below is the \n",
    "# algorithm\n",
    "\n",
    "# 1. Create an empty array of size of rows\n",
    "# 2. Initialise direction to down and rows as 0\n",
    "#    Direction indicated wheater we need to move up or down\n",
    "\n",
    "# 3. Traverse the input string and do the following\n",
    "    # a. Append every char to the string of current row\n",
    "    # b. If row is numRow -1 then change direction to up\n",
    "    # c. If row is 0 then change direction to down\n",
    "    # d. if direction is down do row ++ else row --\n",
    "\n",
    "# 4. Print the array one by one"
   ]
  },
  {
   "cell_type": "code",
   "execution_count": 1,
   "metadata": {},
   "outputs": [],
   "source": [
    "class Solution:\n",
    "    def convert(self, s: str, numRows: int) -> str:\n",
    "        if(numRows  < 2):\n",
    "            return s\n",
    "        arr = ['' for i in range(numRows)]\n",
    "        direction = 'down'\n",
    "        row = 0\n",
    "        for i in s:\n",
    "            arr[row] += i\n",
    "            if row == numRows-1:\n",
    "                direction = 'up'\n",
    "            elif row == 0:\n",
    "                direction = 'down'\n",
    "            if(direction == 'down'):\n",
    "                row += 1\n",
    "            else:\n",
    "                row -= 1\n",
    "        return(''.join(arr))"
   ]
  },
  {
   "cell_type": "code",
   "execution_count": 3,
   "metadata": {},
   "outputs": [
    {
     "name": "stdout",
     "output_type": "stream",
     "text": [
      "PAHNAPLSIIGYIR\n"
     ]
    }
   ],
   "source": [
    "if __name__ == \"__main__\":\n",
    "    s = Solution()\n",
    "    st = \"PAYPALISHIRING\"\n",
    "    print(s.convert(st, 3))"
   ]
  }
 ],
 "metadata": {
  "kernelspec": {
   "display_name": "Python 3",
   "language": "python",
   "name": "python3"
  },
  "language_info": {
   "codemirror_mode": {
    "name": "ipython",
    "version": 3
   },
   "file_extension": ".py",
   "mimetype": "text/x-python",
   "name": "python",
   "nbconvert_exporter": "python",
   "pygments_lexer": "ipython3",
   "version": "3.6.8"
  }
 },
 "nbformat": 4,
 "nbformat_minor": 2
}

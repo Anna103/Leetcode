{
 "cells": [
  {
   "cell_type": "code",
   "execution_count": null,
   "metadata": {},
   "outputs": [],
   "source": []
  },
  {
   "cell_type": "code",
   "execution_count": 15,
   "metadata": {},
   "outputs": [],
   "source": [
    "# Create the heritage for node 1\n",
    "# Start creating heritage for node2 but also check if any of the parents match. If yes, that is the answer\n",
    "class Solution:\n",
    "    \n",
    "    def find_LCA(self, to_column, from_column, node1, node2):\n",
    "        parent_node1 = set()\n",
    "        queue = [node1]\n",
    "        while(queue):\n",
    "            out = queue.pop(0)\n",
    "            for i in range(len(to_column)):\n",
    "                if to_column[i] == out and from_column[i] not in parent_node1:\n",
    "                    parent_node1.add(from_column[i])\n",
    "                    queue.append(from_column[i])\n",
    "        queue_node2 = [node2]\n",
    "        parent_node2 = set()\n",
    "        while(queue_node2):\n",
    "            out = queue_node2.pop(0)\n",
    "            for i in range(len(to_column)):\n",
    "                if to_column[i] == out and from_column[i] in parent_node1:\n",
    "                    return from_column[i]\n",
    "                if to_column[i] == out and from_column[i] not in parent_node2:\n",
    "                    parent_node1.add(from_column[i])\n",
    "                    queue.append(from_column[i])\n",
    "        \n",
    "        return -1"
   ]
  },
  {
   "cell_type": "code",
   "execution_count": 16,
   "metadata": {},
   "outputs": [
    {
     "name": "stdout",
     "output_type": "stream",
     "text": [
      "3\n"
     ]
    }
   ],
   "source": [
    "if __name__ == \"__main__\":\n",
    "    to_column = [1, 2, 3, 4, 5, 2, 0]\n",
    "    from_column = [0, 0, 0, 0, 0, 1, 1]\n",
    "    s = Solution()\n",
    "    print(s.find_LCA(to_column, from_column, 3, 4))\n",
    "    "
   ]
  }
 ],
 "metadata": {
  "kernelspec": {
   "display_name": "Python 3",
   "language": "python",
   "name": "python3"
  },
  "language_info": {
   "codemirror_mode": {
    "name": "ipython",
    "version": 3
   },
   "file_extension": ".py",
   "mimetype": "text/x-python",
   "name": "python",
   "nbconvert_exporter": "python",
   "pygments_lexer": "ipython3",
   "version": "3.6.8"
  }
 },
 "nbformat": 4,
 "nbformat_minor": 2
}

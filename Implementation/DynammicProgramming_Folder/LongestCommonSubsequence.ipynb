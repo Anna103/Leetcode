{
 "cells": [
  {
   "cell_type": "code",
   "execution_count": null,
   "metadata": {},
   "outputs": [],
   "source": [
    "\"\"\"\"\"\""
   ]
  },
  {
   "cell_type": "code",
   "execution_count": 7,
   "metadata": {},
   "outputs": [],
   "source": [
    "class Solution:\n",
    "    def LCS(self, string1, string2):\n",
    "        len_string1 = len(string1)\n",
    "        len_string2 = len(string2)\n",
    "        dp = [[0 for i in range(len_string2+1)] for j in range(len_string1+1)]\n",
    "        for i in range(len_string1+1):\n",
    "            for j in range(len_string2+1):\n",
    "                if(i == 0 or j == 0):\n",
    "                    dp[i][j] = 0\n",
    "                elif(string1[i-1] == string2[j-1]):\n",
    "                    dp[i][j] = dp[i-1][j-1]+1\n",
    "                else:\n",
    "                    dp[i][j] = max(dp[i-1][j], dp[i][j-1])\n",
    "        return dp\n",
    "    def printLCS(self, string1, string2):\n",
    "        dp = self.LCS(string1, string2)\n",
    "        i = len(dp)-1\n",
    "        j = len(dp[0])-1\n",
    "        ans = \"\"\n",
    "        while(i >= 0 and j >= 0):\n",
    "            if string1[i-1] == string2[j-1]:\n",
    "                ans += string1[i-1]\n",
    "                i -= 1\n",
    "                j -= 1\n",
    "            else:\n",
    "                if dp[i-1][j] > dp[i][j-1]:\n",
    "                    i -= 1\n",
    "                else:\n",
    "                    j -= 1\n",
    "        print(ans[::-1])"
   ]
  },
  {
   "cell_type": "code",
   "execution_count": 12,
   "metadata": {},
   "outputs": [],
   "source": [
    "class FindLongest:\n",
    "    def longestCommonSubsequence(self, text1: str, text2: str) -> int:\n",
    "        memo = [[float('-inf') for j in range(len(text2)+1)]for i in range(len(text1)+1)]\n",
    "        for i in range(len(memo)):\n",
    "            for j in range(len(memo[0])):\n",
    "                if i == 0 or j == 0:\n",
    "                    memo[i][j] = 0\n",
    "                elif text1[i-1] == text2[j-1]:\n",
    "                    memo[i][j] = 1 + memo[i-1][j-1]\n",
    "                else:\n",
    "                    memo[i][j] = max(memo[i-1][j], memo[i][j-1])\n",
    "        i = len(memo)-1\n",
    "        j = len(memo[0])-1\n",
    "        ans = \"\"\n",
    "        while(i >= 0 and j >= 0):\n",
    "            if text1[i-1] == text2[j-1]:\n",
    "                ans += text1[i-1]\n",
    "                i -= 1\n",
    "                j -= 1\n",
    "            else:\n",
    "                if memo[i-1][j] > memo[i][j-1]:\n",
    "                    i -= 1\n",
    "                else:\n",
    "                    j -= 1\n",
    "        return(ans[::-1])"
   ]
  },
  {
   "cell_type": "code",
   "execution_count": 14,
   "metadata": {},
   "outputs": [
    {
     "name": "stdout",
     "output_type": "stream",
     "text": [
      "GTAB\n"
     ]
    }
   ],
   "source": [
    "if __name__ == \"__main__\":\n",
    "    s = FindLongest()\n",
    "    string1 = \"AGGTAB\"\n",
    "    string2 = \"GXTXAYB\"\n",
    "    print(s.longestCommonSubsequence(string1, string2))"
   ]
  },
  {
   "cell_type": "code",
   "execution_count": 9,
   "metadata": {},
   "outputs": [
    {
     "name": "stdout",
     "output_type": "stream",
     "text": [
      "[[0, 0, 0, 0, 0, 0, 0, 0], [0, 0, 0, 0, 0, 1, 1, 1], [0, 1, 1, 1, 1, 1, 1, 1], [0, 1, 1, 1, 1, 1, 1, 1], [0, 1, 1, 2, 2, 2, 2, 2], [0, 1, 1, 2, 2, 3, 3, 3], [0, 1, 1, 2, 2, 3, 3, 3]]\n",
      "GTA\n"
     ]
    }
   ],
   "source": [
    "if __name__ == \"__main__\":\n",
    "    s = Solution()\n",
    "    string1 = \"AGGTAU\"\n",
    "    string2 = \"GXTXAYB\"\n",
    "    print(s.LCS(string1, string2))\n",
    "    s.printLCS(string1, string2)"
   ]
  }
 ],
 "metadata": {
  "kernelspec": {
   "display_name": "Python 3",
   "language": "python",
   "name": "python3"
  },
  "language_info": {
   "codemirror_mode": {
    "name": "ipython",
    "version": 3
   },
   "file_extension": ".py",
   "mimetype": "text/x-python",
   "name": "python",
   "nbconvert_exporter": "python",
   "pygments_lexer": "ipython3",
   "version": "3.6.8"
  }
 },
 "nbformat": 4,
 "nbformat_minor": 2
}

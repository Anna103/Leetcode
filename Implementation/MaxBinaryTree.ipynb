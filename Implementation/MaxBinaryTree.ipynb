{
 "cells": [
  {
   "cell_type": "code",
   "execution_count": 7,
   "metadata": {},
   "outputs": [],
   "source": [
    "class Tree:\n",
    "    \n",
    "    def __init__(self, data):\n",
    "        self.data = data\n",
    "        self.left = None\n",
    "        self.right = None\n",
    "        "
   ]
  },
  {
   "cell_type": "code",
   "execution_count": 6,
   "metadata": {},
   "outputs": [
    {
     "name": "stdout",
     "output_type": "stream",
     "text": [
      "2\n",
      "[1, 2]\n",
      "[4, 5, 3]\n"
     ]
    }
   ],
   "source": [
    "x = [1,2,6,4,5,3]\n",
    "print(x.index(max(x)))\n",
    "print(x[0:x.index(max(x))])\n",
    "print(x[x.index(max(x))+1:len(x)])"
   ]
  },
  {
   "cell_type": "code",
   "execution_count": 22,
   "metadata": {},
   "outputs": [],
   "source": [
    "class Solution:\n",
    "    def constructMaximumBinaryTree(nums):\n",
    "        if len(nums) == 0:\n",
    "            return None\n",
    "        else:\n",
    "            idx = nums.index(max(nums))\n",
    "            root = Tree(nums[idx])\n",
    "            root.left = Solution.constructMaximumBinaryTree(nums[0:idx])\n",
    "            root.right = Solution.constructMaximumBinaryTree(nums[idx+1:len(nums)])\n",
    "        return root\n",
    "    \n",
    "    def inorder(root):\n",
    "        if root.left:\n",
    "            Solution.inorder(root.left)\n",
    "        print(root.data)\n",
    "        if root.right:\n",
    "            Solution.inorder(root.right)\n",
    "        "
   ]
  },
  {
   "cell_type": "code",
   "execution_count": 23,
   "metadata": {},
   "outputs": [
    {
     "name": "stdout",
     "output_type": "stream",
     "text": [
      "3\n",
      "2\n",
      "1\n",
      "6\n",
      "0\n",
      "5\n"
     ]
    }
   ],
   "source": [
    "#if __name__ == '__main__':\n",
    "nums = [3,2,1,6,0,5]\n",
    "X = Solution.constructMaximumBinaryTree(nums)\n",
    "Solution.inorder(X)"
   ]
  }
 ],
 "metadata": {
  "kernelspec": {
   "display_name": "Python 3",
   "language": "python",
   "name": "python3"
  },
  "language_info": {
   "codemirror_mode": {
    "name": "ipython",
    "version": 3
   },
   "file_extension": ".py",
   "mimetype": "text/x-python",
   "name": "python",
   "nbconvert_exporter": "python",
   "pygments_lexer": "ipython3",
   "version": "3.6.8"
  }
 },
 "nbformat": 4,
 "nbformat_minor": 2
}

{
 "cells": [
  {
   "cell_type": "markdown",
   "metadata": {},
   "source": [
    "Add the numbers represented as a link list \n",
    "This question can be solved recursively or iteratively\n",
    "In case of solving it iteratively put every number in the linklist to a stack and perform <br>normal addition taking care of carry \n",
    "To solve it recursively, prefix zeros incase there is difference of length in the linklist and then<br>\n",
    "go until the endo of linklist the add from there\n"
   ]
  },
  {
   "cell_type": "code",
   "execution_count": null,
   "metadata": {},
   "outputs": [],
   "source": [
    "#Step 1 find the length of both the link list\n",
    "#Step 2 Prefix 0 if any of the lenght is lesser than other\n",
    "#Step 3 Call addition function\n",
    "    # step 4 if node 1 and node 2 is None:\n",
    "    #        return None, 0\n",
    "    # step 5 new, carry = call_addition(node1.next, node2.next)\n",
    "    # step 6 s = node1.val + node2.val+ carry\n",
    "    # step 7 ans = Node(s%10)\n",
    "    # step 8 ans.next = new\n",
    "    # step 9 return(ans,s//10)\n",
    "# Step 8 new, carry = addition func' result\n",
    "# if carry ! = 0\n",
    "    # head = Node(carry)\n",
    "    #head.next = new\n",
    "    #new = head\n",
    "#return new\n"
   ]
  },
  {
   "cell_type": "code",
   "execution_count": 54,
   "metadata": {},
   "outputs": [],
   "source": [
    "class Node:\n",
    "    \n",
    "    def __init__(self, data):\n",
    "        self.data = data\n",
    "        self.next = None"
   ]
  },
  {
   "cell_type": "code",
   "execution_count": 79,
   "metadata": {},
   "outputs": [],
   "source": [
    "class LinkList_Adder:\n",
    "    \n",
    "    def get_len_linklist(self, node1):\n",
    "        count = 0\n",
    "        temp = node1\n",
    "        while(temp):\n",
    "            count += 1\n",
    "            temp = temp.next\n",
    "        return count\n",
    "    \n",
    "    def add_zero(self, n, node1):\n",
    "        for i in range(n):\n",
    "            new_node = Node(0)\n",
    "            new_node.next = node1\n",
    "            node1 = new_node\n",
    "        return node1\n",
    "    \n",
    "    \n",
    "    def print_ll(self, node1):\n",
    "        temp = node1\n",
    "        while(temp):\n",
    "            print(temp.data)\n",
    "            temp = temp.next\n",
    "            \n",
    "    def add_two_numbers(self, node1, node2):\n",
    "        node1_len = self.get_len_linklist(node1)\n",
    "        node2_len = self.get_len_linklist(node2)\n",
    "        node1 = self.add_zero(node2_len - node1_len, node1)\n",
    "        node2 = self.add_zero(node1_len - node2_len, node2)\n",
    "        \n",
    "        c, ans = self.combine_ll(node1, node2)\n",
    "        if c > 0:\n",
    "            l3 = Node(c)\n",
    "            l3.next = ans\n",
    "            ans = l3\n",
    "        return ans\n",
    "        \n",
    "    \n",
    "    def combine_ll(self, node1, node2):\n",
    "        if(not node1 and not node2):\n",
    "            return(0, None)\n",
    "        carry, new = self.combine_ll(node1.next, node2.next)\n",
    "        s = node1.data + node2.data + carry\n",
    "        ans = Node(s % 10)\n",
    "        ans.next = new\n",
    "        return(s//10, ans)\n",
    "        "
   ]
  },
  {
   "cell_type": "code",
   "execution_count": 81,
   "metadata": {},
   "outputs": [
    {
     "name": "stdout",
     "output_type": "stream",
     "text": [
      "1\n",
      "6\n",
      "8\n"
     ]
    }
   ],
   "source": [
    "if __name__ == \"__main__\":\n",
    "    node1 = Node(1)\n",
    "    node2 = Node(2)\n",
    "    node3 = Node(3)\n",
    "    node1.next = node2\n",
    "    node2.next = node3\n",
    "    \n",
    "    \n",
    "    nodea = Node(4)\n",
    "    nodeb = Node(5)\n",
    "    nodec = Node(7)\n",
    "    nodea.next = nodeb\n",
    "    #nodeb.next = nodec\n",
    "    \n",
    "    \n",
    "    lla = LinkList_Adder()\n",
    "    sum_ll = lla.add_two_numbers(node1, nodea)\n",
    "    lla.print_ll(sum_ll)\n"
   ]
  }
 ],
 "metadata": {
  "kernelspec": {
   "display_name": "Python 3",
   "language": "python",
   "name": "python3"
  },
  "language_info": {
   "codemirror_mode": {
    "name": "ipython",
    "version": 3
   },
   "file_extension": ".py",
   "mimetype": "text/x-python",
   "name": "python",
   "nbconvert_exporter": "python",
   "pygments_lexer": "ipython3",
   "version": "3.6.8"
  }
 },
 "nbformat": 4,
 "nbformat_minor": 2
}

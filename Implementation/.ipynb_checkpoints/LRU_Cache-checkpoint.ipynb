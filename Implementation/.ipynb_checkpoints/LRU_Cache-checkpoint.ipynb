{
 "cells": [
  {
   "cell_type": "code",
   "execution_count": null,
   "metadata": {},
   "outputs": [],
   "source": [
    "\"\"\"146. LRU Cache\n",
    "\n",
    "Design and implement a data structure for Least Recently Used (LRU) cache. It should support the following operations: get and put.\n",
    "\n",
    "get(key) - Get the value (will always be positive) of the key if the key exists in the cache, otherwise return -1.\n",
    "put(key, value) - Set or insert the value if the key is not already present. When the cache reached its capacity, it should invalidate the least recently used item before inserting a new item.\n",
    "\n",
    "The cache is initialized with a positive capacity.\n",
    "\n",
    "Follow up:\n",
    "Could you do both operations in O(1) time complexity?\n",
    "\n",
    "Example:\n",
    "\n",
    "LRUCache cache = new LRUCache( 2 /* capacity */ );\n",
    "\n",
    "cache.put(1, 1);\n",
    "cache.put(2, 2);\n",
    "cache.get(1);       // returns 1\n",
    "cache.put(3, 3);    // evicts key 2\n",
    "cache.get(2);       // returns -1 (not found)\n",
    "cache.put(4, 4);    // evicts key 1\n",
    "cache.get(1);       // returns -1 (not found)\n",
    "cache.get(3);       // returns 3\n",
    "cache.get(4);       // returns 4\n",
    "\n",
    "\n",
    "\"\"\"\n",
    "\n",
    "\n",
    "# Algorithm\n",
    "# 1. The main Idea here is to use OrderedDictionary which can be used to move keys\n",
    "# 2. If search key is not in the orderedDictionary return -1\n",
    "# 3. else use move_to_end to move the key to end since we have used it recently"
   ]
  },
  {
   "cell_type": "code",
   "execution_count": 1,
   "metadata": {},
   "outputs": [],
   "source": [
    "from collections import OrderedDict\n",
    "class LRUCache:\n",
    "\n",
    "    def __init__(self, capacity: int):\n",
    "        self.capacity = capacity\n",
    "        self.dictCache = OrderedDict()\n",
    "\n",
    "    def get(self, key: int) -> int:\n",
    "        if(key not in self.dictCache.keys()):\n",
    "            return -1\n",
    "        self.dictCache.move_to_end(key)\n",
    "        return self.dictCache[key]\n",
    "        \n",
    "\n",
    "    def put(self, key: int, value: int) -> None:\n",
    "        if(key in self.dictCache.keys()):\n",
    "            self.dictCache.move_to_end(key)\n",
    "        self.dictCache[key] = value\n",
    "        if len(self.dictCache) > self.capacity:\n",
    "            self.dictCache.popitem(last= False)\n",
    "            "
   ]
  },
  {
   "cell_type": "code",
   "execution_count": 5,
   "metadata": {},
   "outputs": [
    {
     "name": "stdout",
     "output_type": "stream",
     "text": [
      "-1\n",
      "1\n"
     ]
    }
   ],
   "source": [
    "if __name__ == \"__main__\":\n",
    "    l = LRUCache(2)\n",
    "    print(l.get(1))\n",
    "    l.put(1,1)\n",
    "    l.put(2,2)\n",
    "    print(l.get(1))"
   ]
  }
 ],
 "metadata": {
  "kernelspec": {
   "display_name": "Python 3",
   "language": "python",
   "name": "python3"
  },
  "language_info": {
   "codemirror_mode": {
    "name": "ipython",
    "version": 3
   },
   "file_extension": ".py",
   "mimetype": "text/x-python",
   "name": "python",
   "nbconvert_exporter": "python",
   "pygments_lexer": "ipython3",
   "version": "3.6.8"
  }
 },
 "nbformat": 4,
 "nbformat_minor": 2
}
